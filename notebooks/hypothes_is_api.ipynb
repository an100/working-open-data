{
 "metadata": {
  "name": "",
  "signature": "sha256:b2e70bc49767e7be8594c1f5e220d7aa64fcd6d67f9ab04ff4b38eef2cdc6d4f"
 },
 "nbformat": 3,
 "nbformat_minor": 0,
 "worksheets": [
  {
   "cells": [
    {
     "cell_type": "code",
     "collapsed": false,
     "input": [
      "from hypothesis_settings import USERNAME, PASSWORD\n",
      "import requests\n",
      "import json\n",
      "\n",
      "# do get to get 2 tokens CSFR\n",
      "# https://www.owasp.org/index.php/Cross-Site_Request_Forgery_(CSRF)_Prevention_Cheat_Sheet\n",
      "# http://list.hypothes.is/archive/dev/2013-10/0000096.html\n",
      "# GET request /app and take the value of the beaker.session.id and XSRF-TOKEN Set-Cookie headers. \n",
      "# Pass these both back in the POST request in the Cookie header.\n",
      "\n",
      "# http://www.python-requests.org/en/v1.1.0/user/quickstart/#cookies\n",
      "\n",
      "# pick up some cookies\n",
      "url = \"https://hypothes.is/app\"\n",
      "r = requests.get(url)\n",
      "cookies = r.cookies\n",
      "\n",
      "\n",
      "payload = {\"username\":USERNAME,\"password\":PASSWORD}\n",
      "data = json.dumps(payload)\n",
      "headers = {'content-type':'application/json;charset=UTF-8', 'x-csrf-token': cookies['XSRF-TOKEN']}\n",
      "\n",
      "r = requests.post(url=\"https://hypothes.is/app?__formid__=login\", data=data, cookies=cookies, headers=headers)\n",
      "r = requests.get(url=\"https://hypothes.is/api/token\", cookies=cookies, headers=headers)\n",
      "\n",
      "token =  r.content\n",
      "token\n",
      "\n",
      "# if r.status_code == 200 and r.json()['flash'].get('success') == ['You are now logged in.']:\n",
      "#     token = r.json()['model']['csrf']\n",
      "#     print token\n",
      "# else:\n",
      "#     print r.status_code\n",
      "#     token = None\n",
      "    "
     ],
     "language": "python",
     "metadata": {},
     "outputs": []
    },
    {
     "cell_type": "code",
     "collapsed": false,
     "input": [
      "# https://hypothes.is/a/ByQV3a_4R9KNq8VfatbxFQ -- public\n",
      "# DtiypTBrTVSVAVmPNh7koQ -- private\n",
      "\n",
      "url = \"https://api.hypothes.is/annotations/{a_id}\".format(a_id='DtiypTBrTVSVAVmPNh7koQ')\n",
      "print url\n",
      "headers = {\"X-Annotator-Auth-Token\": token}\n",
      "\n",
      "r = requests.get(url, headers = headers)\n",
      "annotation = r.json()\n",
      "annotation\n",
      "#annotation[\"id\"], annotation[\"quote\"], annotation[\"text\"], annotation[\"uri\"]"
     ],
     "language": "python",
     "metadata": {},
     "outputs": []
    },
    {
     "cell_type": "heading",
     "level": 1,
     "metadata": {},
     "source": [
      "Read all annotations for given user"
     ]
    },
    {
     "cell_type": "markdown",
     "metadata": {},
     "source": [
      "paging?"
     ]
    },
    {
     "cell_type": "code",
     "collapsed": false,
     "input": [
      "# NOT https://hypothes.is/stream#?user=rdhyee\n",
      "# https://api.hypothes.is/search?user=acct:rdhyee@hypothes.is "
     ],
     "language": "python",
     "metadata": {},
     "outputs": []
    },
    {
     "cell_type": "code",
     "collapsed": false,
     "input": [
      "from itertools import islice\n",
      "from urllib import urlencode\n",
      "\n",
      "def search(user, offset=0):\n",
      "    \n",
      "    headers = {\"X-Annotator-Auth-Token\": token}\n",
      "    page_size = 10\n",
      "    user_acct = \"acct:{user}@hypothes.is\".format(user=user)\n",
      "    \n",
      "    limit=page_size\n",
      "    \n",
      "    more_results = True\n",
      "\n",
      "    while more_results:\n",
      "        search_dict = {'user':user_acct, 'limit':limit, 'offset':offset}\n",
      "        url = \"https://api.hypothes.is/search?{query}\".format(query=urlencode(search_dict))\n",
      "        \n",
      "        r = requests.get(url, headers=headers)\n",
      "        rows = r.json().get(\"rows\")\n",
      "        \n",
      "        if len(rows):\n",
      "            for row in rows:\n",
      "                yield row\n",
      "            offset += page_size\n",
      "        else:\n",
      "            more_results = False\n",
      "\n",
      "\n",
      "for (i,row) in enumerate(search(user='rdhyee', offset=0)):\n",
      "    print i, row\n"
     ],
     "language": "python",
     "metadata": {},
     "outputs": []
    },
    {
     "cell_type": "code",
     "collapsed": false,
     "input": [],
     "language": "python",
     "metadata": {},
     "outputs": []
    }
   ],
   "metadata": {}
  }
 ]
}