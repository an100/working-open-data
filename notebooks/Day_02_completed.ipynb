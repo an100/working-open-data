{
 "metadata": {
  "name": ""
 },
 "nbformat": 3,
 "nbformat_minor": 0,
 "worksheets": [
  {
   "cells": [
    {
     "cell_type": "markdown",
     "metadata": {},
     "source": [
      "# Assigned Readings for today\n",
      "\n",
      "   * read [`PfDA`, Chap 1  Preliminaries](http://proquest.safaribooksonline.com/book/programming/python/9781449323592/1dot-preliminaries/id2664030), especially the installation instructions for EPD Free for your computer platform.  I want you to try installing EPD Free (or EPD Academic) before class on Thursday.\n",
      "   * read [`PfDA`, Chap 3](http://proquest.safaribooksonline.com/book/programming/python/9781449323592/3dot-ipython-an-interactive-computing-and-development-environment/id2545624) \n",
      "   * skim [`PfDA`, Appendix: Python Language Essentials](http://proquest.safaribooksonline.com/book/programming/python/9781449323592/adot-python-language-essentials/id2819503) -- to help remind yourself of key elements of standard Python \n",
      "   * skim [`PfDA`, Chap 2 Introductory Examples](http://proquest.safaribooksonline.com/book/programming/python/9781449323592/2dot-introductory-examples/id423077) \n"
     ]
    },
    {
     "cell_type": "heading",
     "level": 1,
     "metadata": {},
     "source": [
      "Goals today"
     ]
    },
    {
     "cell_type": "markdown",
     "metadata": {},
     "source": [
      "\n",
      "* Get comfortable with [iPython Notebook](http://ipython.org/ipython-doc/dev/interactive/htmlnotebook.html). \n",
      "* Review basics of Python wit"
     ]
    },
    {
     "cell_type": "heading",
     "level": 1,
     "metadata": {},
     "source": [
      "Census QuickFacts Data Set"
     ]
    },
    {
     "cell_type": "markdown",
     "metadata": {},
     "source": [
      "On Tuesday, I asked you to discuss the population of California. If you do a Google search...you might end up at [California QuickFacts from the US Census Bureau](http://quickfacts.census.gov/qfd/states/06000.html). Compare to the [quickfacts about Alameda County](http://quickfacts.census.gov/qfd/states/06/06001.html).\n",
      "\n",
      "\n",
      "Today we [download the data for the USA, states, and counties](http://quickfacts.census.gov/qfd/download_data.html):\n",
      "\n",
      "> The entire State and County QuickFacts dataset, with U.S., state, and county data is available for download. Downloadable data files for cities may be issued later. The current downloadable data set may include items not displayed on QuickFacts tables.\n",
      "\n",
      "Download 3 files into a directory....perhaps where you launched iPython:\n",
      "\n",
      " 1. http://quickfacts.census.gov/qfd/download/DataSet.txt\n",
      " 2. http://quickfacts.census.gov/qfd/download/DataDict.txt\n",
      " 3. http://quickfacts.census.gov/qfd/download/FIPS_CountyName.txt\n",
      "\n"
     ]
    },
    {
     "cell_type": "code",
     "collapsed": false,
     "input": [
      "# YOU NEED TO FILL IN data_dir for your own directory path\n",
      "data_dir = \"/Users/raymondyee/D/Document/Working_with_Open_Data/day02/\"\n",
      "\n",
      "dataset_fname = data_dir + \"DataSet.txt\"\n",
      "datadict_fname = data_dir + \"DataDict.txt\"\n",
      "fips_fname = data_dir + \"FIPS_CountyName.txt\""
     ],
     "language": "python",
     "metadata": {},
     "outputs": [],
     "prompt_number": 1
    },
    {
     "cell_type": "code",
     "collapsed": false,
     "input": [
      "5+5"
     ],
     "language": "python",
     "metadata": {},
     "outputs": [
      {
       "metadata": {},
       "output_type": "pyout",
       "prompt_number": 2,
       "text": [
        "10"
       ]
      }
     ],
     "prompt_number": 2
    },
    {
     "cell_type": "heading",
     "level": 1,
     "metadata": {},
     "source": [
      "Start with FIPS_CountyName.txt"
     ]
    },
    {
     "cell_type": "code",
     "collapsed": false,
     "input": [
      "# on Mac, Linux system\n",
      "\n",
      "!head $fips_fname"
     ],
     "language": "python",
     "metadata": {},
     "outputs": [
      {
       "output_type": "stream",
       "stream": "stdout",
       "text": [
        "00000 UNITED STATES\r\n",
        "01000 ALABAMA\r\n",
        "01001 Autauga County, AL\r\n",
        "01003 Baldwin County, AL\r\n",
        "01005 Barbour County, AL\r\n",
        "01007 Bibb County, AL\r\n",
        "01009 Blount County, AL\r\n",
        "01011 Bullock County, AL\r\n",
        "01013 Butler County, AL\r\n",
        "01015 Calhoun County, AL\r\n"
       ]
      }
     ],
     "prompt_number": 3
    },
    {
     "cell_type": "code",
     "collapsed": false,
     "input": [
      "!grep -i California $fips_fname"
     ],
     "language": "python",
     "metadata": {},
     "outputs": [
      {
       "output_type": "stream",
       "stream": "stdout",
       "text": [
        "06000 CALIFORNIA\r\n"
       ]
      }
     ],
     "prompt_number": 4
    },
    {
     "cell_type": "code",
     "collapsed": false,
     "input": [
      "!grep Alameda $fips_fname"
     ],
     "language": "python",
     "metadata": {},
     "outputs": [
      {
       "output_type": "stream",
       "stream": "stdout",
       "text": [
        "06001 Alameda County, CA\r\n"
       ]
      }
     ],
     "prompt_number": 5
    },
    {
     "cell_type": "heading",
     "level": 2,
     "metadata": {},
     "source": [
      "Read in the FIPS_CountyName.txt file"
     ]
    },
    {
     "cell_type": "heading",
     "level": 3,
     "metadata": {},
     "source": [
      "without worrying about encoding"
     ]
    },
    {
     "cell_type": "code",
     "collapsed": true,
     "input": [
      "# You might do something like this....\n",
      "\n",
      "data_dir = \"/Users/raymondyee/D/Document/Working_with_Open_Data/day02/\"\n",
      "fips_fname = data_dir + \"FIPS_CountyName.txt\"\n",
      "\n",
      "# PfDA p. 430 for brief explanation of file open\n",
      "\n",
      "from itertools import islice\n",
      "f = open(fips_fname)\n",
      "for (i, row) in enumerate(islice(f,5)):\n",
      "    print i, row"
     ],
     "language": "python",
     "metadata": {},
     "outputs": [
      {
       "output_type": "stream",
       "stream": "stdout",
       "text": [
        "0 00000 UNITED STATES\n",
        "\n",
        "1 01000 ALABAMA\n",
        "\n",
        "2 01001 Autauga County, AL\n",
        "\n",
        "3 01003 Baldwin County, AL\n",
        "\n",
        "4 01005 Barbour County, AL\n",
        "\n"
       ]
      }
     ],
     "prompt_number": 6
    },
    {
     "cell_type": "heading",
     "level": 3,
     "metadata": {},
     "source": [
      "itertools, islice, enumerate"
     ]
    },
    {
     "cell_type": "markdown",
     "metadata": {},
     "source": [
      "[enumerate](http://docs.python.org/2/library/functions.html#enumerate)  -- p. 412\n",
      "[itertools](http://docs.python.org/2/library/itertools.html) ...[islice](http://docs.python.org/2/library/itertools.html#itertools.islice)\n",
      "\n",
      "[Markdown](http://en.wikipedia.org/wiki/Markdown)"
     ]
    },
    {
     "cell_type": "code",
     "collapsed": false,
     "input": [
      "\n",
      "data_dir = \"/Users/raymondyee/D/Document/Working_with_Open_Data/day02/\"\n",
      "fips_fname = data_dir + \"FIPS_CountyName.txt\"\n",
      "\n",
      "from itertools import islice\n",
      "\n",
      "# PfDA p. 430 for brief explanation of file open\n",
      "\n",
      "f = open(fips_fname)\n",
      "[row for row in islice(f,5)]"
     ],
     "language": "python",
     "metadata": {},
     "outputs": [
      {
       "metadata": {},
       "output_type": "pyout",
       "prompt_number": 7,
       "text": [
        "['00000 UNITED STATES\\n',\n",
        " '01000 ALABAMA\\n',\n",
        " '01001 Autauga County, AL\\n',\n",
        " '01003 Baldwin County, AL\\n',\n",
        " '01005 Barbour County, AL\\n']"
       ]
      }
     ],
     "prompt_number": 7
    },
    {
     "cell_type": "heading",
     "level": 3,
     "metadata": {},
     "source": [
      "checking for encoding issues"
     ]
    },
    {
     "cell_type": "code",
     "collapsed": false,
     "input": [
      "\n",
      "data_dir = \"/Users/raymondyee/D/Document/Working_with_Open_Data/day02/\"\n",
      "fips_fname = data_dir + \"FIPS_CountyName.txt\"\n",
      "\n",
      "f = open(fips_fname)\n",
      "for (i, row) in enumerate(f):\n",
      "    try:\n",
      "        a = row.decode('ascii')\n",
      "    except Exception as e:\n",
      "        print i, row, e"
     ],
     "language": "python",
     "metadata": {},
     "outputs": [
      {
       "output_type": "stream",
       "stream": "stdout",
       "text": [
        "1835 35013 Do\ufffda Ana County, NM\n",
        "'ascii' codec can't decode byte 0xb1 in position 8: ordinal not in range(128)\n"
       ]
      }
     ],
     "prompt_number": 8
    },
    {
     "cell_type": "heading",
     "level": 3,
     "metadata": {},
     "source": [
      "using codecs library"
     ]
    },
    {
     "cell_type": "markdown",
     "metadata": {},
     "source": [
      "http://www.doughellmann.com/PyMOTW/codecs/#working-with-files\n",
      "\n",
      "encodings: http://docs.python.org/2/library/codecs.html#standard-encodings\n",
      "\n",
      "'ascii' vs 'utf-8' vs 'iso-8859-1'\n",
      "\n"
     ]
    },
    {
     "cell_type": "code",
     "collapsed": false,
     "input": [
      "import codecs\n",
      "from itertools import islice\n",
      "\n",
      "# YOU NEED TO FILL IN data_dir for your own directory path\n",
      "data_dir = \"/Users/raymondyee/D/Document/Working_with_Open_Data/day02/\"\n",
      "fips_fname = data_dir + \"FIPS_CountyName.txt\"\n",
      "\n",
      "f = codecs.open(fips_fname, encoding='latin8')\n",
      "for (i, row) in enumerate(islice(f, None)):\n",
      "    pass\n"
     ],
     "language": "python",
     "metadata": {},
     "outputs": [],
     "prompt_number": 9
    },
    {
     "cell_type": "heading",
     "level": 3,
     "metadata": {},
     "source": [
      "Goal:  parse into fips dict, keyed on FIPS code"
     ]
    },
    {
     "cell_type": "heading",
     "level": 4,
     "metadata": {},
     "source": [
      "Using fact that 5 digits + space"
     ]
    },
    {
     "cell_type": "code",
     "collapsed": false,
     "input": [
      "import codecs\n",
      "from itertools import islice\n",
      "\n",
      "# YOU NEED TO FILL IN data_dir for your own directory path\n",
      "data_dir = \"/Users/raymondyee/D/Document/Working_with_Open_Data/day02/\"\n",
      "\n",
      "fips_fname = data_dir + \"FIPS_CountyName.txt\"\n",
      "f = codecs.open(fips_fname, encoding='iso-8859-1')\n",
      "\n",
      "fips = dict()\n",
      "\n",
      "for row in islice(f, 5):\n",
      "    print row[:5], row[6:-1]\n",
      "    fips[row[:5]] = row[6:-1]\n",
      "\n",
      "print fips\n"
     ],
     "language": "python",
     "metadata": {},
     "outputs": [
      {
       "output_type": "stream",
       "stream": "stdout",
       "text": [
        "00000 UNITED STATES\n",
        "01000 ALABAMA\n",
        "01001 Autauga County, AL\n",
        "01003 Baldwin County, AL\n",
        "01005 Barbour County, AL\n",
        "{u'01003': u'Baldwin County, AL', u'01005': u'Barbour County, AL', u'00000': u'UNITED STATES', u'01000': u'ALABAMA', u'01001': u'Autauga County, AL'}\n"
       ]
      }
     ],
     "prompt_number": 10
    },
    {
     "cell_type": "heading",
     "level": 4,
     "metadata": {},
     "source": [
      "compact way using re"
     ]
    },
    {
     "cell_type": "code",
     "collapsed": false,
     "input": [
      "import re\n",
      "import string\n",
      "import codecs\n",
      "\n",
      "data_dir = \"/Users/raymondyee/D/Document/Working_with_Open_Data/day02/\"\n",
      "fips_fname = data_dir + \"FIPS_CountyName.txt\"\n",
      "f = codecs.open(fips_fname, encoding='iso-8859-1')\n",
      "\n",
      "fips = dict(re.match(r\"([^ ]+)\\s(.*)$\", row).groups() for row in islice(f, None))\n",
      "print list(islice(fips.keys(),5))\n"
     ],
     "language": "python",
     "metadata": {},
     "outputs": [
      {
       "output_type": "stream",
       "stream": "stdout",
       "text": [
        "[u'16079', u'33017', u'16073', u'16071', u'16077']\n"
       ]
      }
     ],
     "prompt_number": 11
    },
    {
     "cell_type": "code",
     "collapsed": false,
     "input": [
      "len(fips)"
     ],
     "language": "python",
     "metadata": {},
     "outputs": [
      {
       "metadata": {},
       "output_type": "pyout",
       "prompt_number": 12,
       "text": [
        "3195"
       ]
      }
     ],
     "prompt_number": 12
    },
    {
     "cell_type": "code",
     "collapsed": false,
     "input": [
      "# check on CA and Alameda County\n",
      "\n",
      "print fips['06000'], fips['06001']"
     ],
     "language": "python",
     "metadata": {},
     "outputs": [
      {
       "output_type": "stream",
       "stream": "stdout",
       "text": [
        "CALIFORNIA Alameda County, CA\n"
       ]
      }
     ],
     "prompt_number": 13
    },
    {
     "cell_type": "heading",
     "level": 3,
     "metadata": {},
     "source": [
      "now calculate a states_fips"
     ]
    },
    {
     "cell_type": "markdown",
     "metadata": {},
     "source": [
      "give me a list of FIPS codes that correspond to states -- sorted by FIPS code"
     ]
    },
    {
     "cell_type": "code",
     "collapsed": false,
     "input": [
      "# work out hierarchy w/ FIPS \n",
      "# not CSV -- parse on first space\n",
      "\n",
      "import codecs\n",
      "from itertools import islice\n",
      "import re\n",
      "import string\n",
      "\n",
      "# YOU NEED TO FILL IN data_dir for your own directory path\n",
      "data_dir = \"/Users/raymondyee/D/Document/Working_with_Open_Data/day02/\"\n",
      "fips_fname = data_dir + \"FIPS_CountyName.txt\"\n",
      "f = codecs.open(fips_fname, encoding='iso-8859-1')\n",
      "\n",
      "fips = dict()\n",
      "\n",
      "fips = dict(re.match(r\"([^ ]+)\\s(.*)$\", row).groups() for row in islice(f, None))\n",
      "states_fips = sorted([k for k in fips.keys() if k[-3:] == '000' and k != '00000'])\n",
      "print states_fips"
     ],
     "language": "python",
     "metadata": {},
     "outputs": [
      {
       "output_type": "stream",
       "stream": "stdout",
       "text": [
        "[u'01000', u'02000', u'04000', u'05000', u'06000', u'08000', u'09000', u'10000', u'11000', u'12000', u'13000', u'15000', u'16000', u'17000', u'18000', u'19000', u'20000', u'21000', u'22000', u'23000', u'24000', u'25000', u'26000', u'27000', u'28000', u'29000', u'30000', u'31000', u'32000', u'33000', u'34000', u'35000', u'36000', u'37000', u'38000', u'39000', u'40000', u'41000', u'42000', u'44000', u'45000', u'46000', u'47000', u'48000', u'49000', u'50000', u'51000', u'53000', u'54000', u'55000', u'56000']\n"
       ]
      }
     ],
     "prompt_number": 14
    },
    {
     "cell_type": "code",
     "collapsed": false,
     "input": [
      "# work out hierarchy w/ FIPS \n",
      "# not CSV -- parse on first space\n",
      "\n",
      "import codecs\n",
      "from itertools import islice\n",
      "import re\n",
      "import string\n",
      "\n",
      "# YOU NEED TO FILL IN data_dir for your own directory path\n",
      "data_dir = \"/Users/raymondyee/D/Document/Working_with_Open_Data/day02/\"\n",
      "fips_fname = data_dir + \"FIPS_CountyName.txt\"\n",
      "\n",
      "f = codecs.open(fips_fname, encoding='iso-8859-1')\n",
      "\n",
      "fips = dict()\n",
      "\n",
      "for row in islice(f, None):\n",
      "    row = string.strip(row)\n",
      "    row = row.split(\" \",1)\n",
      "    fips.update({row[0]:row[1]})\n",
      "    \n",
      "    \n",
      "states_fips = sorted([k for k in fips.keys() if k[-3:] == '000' and k != '00000'])\n",
      "print states_fips\n"
     ],
     "language": "python",
     "metadata": {},
     "outputs": [
      {
       "output_type": "stream",
       "stream": "stdout",
       "text": [
        "[u'01000', u'02000', u'04000', u'05000', u'06000', u'08000', u'09000', u'10000', u'11000', u'12000', u'13000', u'15000', u'16000', u'17000', u'18000', u'19000', u'20000', u'21000', u'22000', u'23000', u'24000', u'25000', u'26000', u'27000', u'28000', u'29000', u'30000', u'31000', u'32000', u'33000', u'34000', u'35000', u'36000', u'37000', u'38000', u'39000', u'40000', u'41000', u'42000', u'44000', u'45000', u'46000', u'47000', u'48000', u'49000', u'50000', u'51000', u'53000', u'54000', u'55000', u'56000']\n"
       ]
      }
     ],
     "prompt_number": 15
    },
    {
     "cell_type": "code",
     "collapsed": false,
     "input": [
      "# to check\n",
      "\n",
      "states_fips == [u'01000', u'02000', u'04000', u'05000', u'06000', u'08000',\n",
      "u'09000', u'10000', u'11000', u'12000', u'13000', u'15000', u'16000', u'17000',\n",
      "u'18000', u'19000', u'20000', u'21000', u'22000', u'23000', u'24000', u'25000',\n",
      "u'26000', u'27000', u'28000', u'29000', u'30000', u'31000', u'32000', u'33000',\n",
      "u'34000', u'35000', u'36000', u'37000', u'38000', u'39000', u'40000', u'41000',\n",
      "u'42000', u'44000', u'45000', u'46000', u'47000', u'48000', u'49000', u'50000',\n",
      "u'51000', u'53000', u'54000', u'55000', u'56000']"
     ],
     "language": "python",
     "metadata": {},
     "outputs": [
      {
       "metadata": {},
       "output_type": "pyout",
       "prompt_number": 16,
       "text": [
        "True"
       ]
      }
     ],
     "prompt_number": 16
    },
    {
     "cell_type": "heading",
     "level": 3,
     "metadata": {},
     "source": [
      "Goal:  use collections.Counter to tally number of counties / state -- verify that CA has 58 counties"
     ]
    },
    {
     "cell_type": "markdown",
     "metadata": {},
     "source": [
      "http://en.wikipedia.org/wiki/List_of_counties_in_California\n",
      "\n",
      "http://docs.python.org/2/library/collections.html#collections.Counter"
     ]
    },
    {
     "cell_type": "code",
     "collapsed": false,
     "input": [
      "len(fips)"
     ],
     "language": "python",
     "metadata": {},
     "outputs": [
      {
       "metadata": {},
       "output_type": "pyout",
       "prompt_number": 17,
       "text": [
        "3195"
       ]
      }
     ],
     "prompt_number": 17
    },
    {
     "cell_type": "code",
     "collapsed": false,
     "input": [
      "from collections import Counter\n",
      "Counter([1,2,3,2])"
     ],
     "language": "python",
     "metadata": {},
     "outputs": [
      {
       "metadata": {},
       "output_type": "pyout",
       "prompt_number": 18,
       "text": [
        "Counter({2: 2, 1: 1, 3: 1})"
       ]
      }
     ],
     "prompt_number": 18
    },
    {
     "cell_type": "code",
     "collapsed": false,
     "input": [
      "from collections import Counter\n",
      "\n",
      "counties_count_by_state = Counter((k[:2] for k in fips.iterkeys() if k[-3:] != '000'))\n",
      "counties_count_by_state['06'] #CA\n"
     ],
     "language": "python",
     "metadata": {},
     "outputs": [
      {
       "metadata": {},
       "output_type": "pyout",
       "prompt_number": 19,
       "text": [
        "58"
       ]
      }
     ],
     "prompt_number": 19
    },
    {
     "cell_type": "code",
     "collapsed": false,
     "input": [
      "# check \n",
      "\n",
      "counties_count_by_state['06'] == 58 #CA"
     ],
     "language": "python",
     "metadata": {},
     "outputs": [
      {
       "metadata": {},
       "output_type": "pyout",
       "prompt_number": 20,
       "text": [
        "True"
       ]
      }
     ],
     "prompt_number": 20
    },
    {
     "cell_type": "heading",
     "level": 3,
     "metadata": {},
     "source": [
      "Goal:  write a function county_fips_for_state that return all county fips for that state fips"
     ]
    },
    {
     "cell_type": "code",
     "collapsed": false,
     "input": [
      "# return fips codes for county for given state prefix\n",
      "\n",
      "def county_fips_for_state(state):\n",
      "    # allow state to be of form '06000' or '06' -> look at first 2 digits only in state\n",
      "    for k in fips.iterkeys():\n",
      "        if k[:2] == state[:2] and k[-3:] != '000':\n",
      "            yield k\n",
      "            "
     ],
     "language": "python",
     "metadata": {},
     "outputs": [],
     "prompt_number": 21
    },
    {
     "cell_type": "code",
     "collapsed": false,
     "input": [
      "# check for CA\n",
      "print [(k, fips[k]) for k in list(county_fips_for_state('06000')) ]  "
     ],
     "language": "python",
     "metadata": {},
     "outputs": [
      {
       "output_type": "stream",
       "stream": "stdout",
       "text": [
        "[(u'06115', u'Yuba County, CA'), (u'06111', u'Ventura County, CA'), (u'06113', u'Yolo County, CA'), (u'06029', u'Kern County, CA'), (u'06021', u'Glenn County, CA'), (u'06023', u'Humboldt County, CA'), (u'06025', u'Imperial County, CA'), (u'06027', u'Inyo County, CA'), (u'06107', u'Tulare County, CA'), (u'06105', u'Trinity County, CA'), (u'06103', u'Tehama County, CA'), (u'06101', u'Sutter County, CA'), (u'06033', u'Lake County, CA'), (u'06007', u'Butte County, CA'), (u'06005', u'Amador County, CA'), (u'06003', u'Alpine County, CA'), (u'06001', u'Alameda County, CA'), (u'06009', u'Calaveras County, CA'), (u'06093', u'Siskiyou County, CA'), (u'06059', u'Orange County, CA'), (u'06095', u'Solano County, CA'), (u'06097', u'Sonoma County, CA'), (u'06011', u'Colusa County, CA'), (u'06013', u'Contra Costa County, CA'), (u'06015', u'Del Norte County, CA'), (u'06017', u'El Dorado County, CA'), (u'06019', u'Fresno County, CA'), (u'06043', u'Mariposa County, CA'), (u'06083', u'Santa Barbara County, CA'), (u'06045', u'Mendocino County, CA'), (u'06087', u'Santa Cruz County, CA'), (u'06085', u'Santa Clara County, CA'), (u'06081', u'San Mateo County, CA'), (u'06041', u'Marin County, CA'), (u'06109', u'Tuolumne County, CA'), (u'06039', u'Madera County, CA'), (u'06031', u'Kings County, CA'), (u'06037', u'Los Angeles County, CA'), (u'06035', u'Lassen County, CA'), (u'06091', u'Sierra County, CA'), (u'06089', u'Shasta County, CA'), (u'06065', u'Riverside County, CA'), (u'06067', u'Sacramento County, CA'), (u'06061', u'Placer County, CA'), (u'06063', u'Plumas County, CA'), (u'06069', u'San Benito County, CA'), (u'06099', u'Stanislaus County, CA'), (u'06077', u'San Joaquin County, CA'), (u'06075', u'San Francisco County, CA'), (u'06073', u'San Diego County, CA'), (u'06071', u'San Bernardino County, CA'), (u'06079', u'San Luis Obispo County, CA'), (u'06047', u'Merced County, CA'), (u'06049', u'Modoc County, CA'), (u'06055', u'Napa County, CA'), (u'06057', u'Nevada County, CA'), (u'06051', u'Mono County, CA'), (u'06053', u'Monterey County, CA')]\n"
       ]
      }
     ],
     "prompt_number": 22
    },
    {
     "cell_type": "code",
     "collapsed": false,
     "input": [
      "CA_county_fips = set([u'06099',\n",
      "     u'06057', u'06069', u'06093', u'06095', u'06097', u'06011', u'06013',\n",
      "     u'06015', u'06017', u'06115', u'06019', u'06079', u'06111', u'06047',\n",
      "     u'06113', u'06077', u'06039', u'06073', u'06071', u'06033', u'06031',\n",
      "     u'06037', u'06035', u'06091', u'06051', u'06065', u'06089', u'06087',\n",
      "     u'06085', u'06083', u'06041', u'06081', u'06007', u'06005', u'06075',\n",
      "     u'06003', u'06001', u'06109', u'06107', u'06105', u'06103', u'06009',\n",
      "     u'06101', u'06029', u'06067', u'06061', u'06045', u'06063', u'06021',\n",
      "     u'06059', u'06023', u'06025', u'06027', u'06043', u'06055', u'06053',\n",
      "     u'06049'])\n",
      "\n",
      "print set(county_fips_for_state('06000')) == CA_county_fips"
     ],
     "language": "python",
     "metadata": {},
     "outputs": [
      {
       "output_type": "stream",
       "stream": "stdout",
       "text": [
        "True\n"
       ]
      }
     ],
     "prompt_number": 23
    },
    {
     "cell_type": "heading",
     "level": 1,
     "metadata": {},
     "source": [
      "Load dataset file"
     ]
    },
    {
     "cell_type": "markdown",
     "metadata": {},
     "source": [
      "Suggestion:  use csv.DictReader to fread in file into dataset dict"
     ]
    },
    {
     "cell_type": "code",
     "collapsed": false,
     "input": [
      "# now load dataset\n",
      "\n",
      "import codecs\n",
      "import csv\n",
      "from itertools import islice\n",
      "\n",
      "# YOU NEED TO FILL IN data_dir for your own directory path\n",
      "data_dir = \"/Users/raymondyee/D/Document/Working_with_Open_Data/day02/\"\n",
      "\n",
      "dataset_fname = data_dir + \"DataSet.txt\"\n",
      "f = codecs.open(dataset_fname, encoding='utf-8')\n",
      "\n",
      "reader = csv.DictReader(f)\n",
      "dataset = dict([(row[\"fips\"], row) for row in islice(reader, None)])"
     ],
     "language": "python",
     "metadata": {},
     "outputs": [],
     "prompt_number": 24
    },
    {
     "cell_type": "code",
     "collapsed": false,
     "input": [
      "# check number of keys and population of US\n",
      "\n",
      "print len(dataset.keys()) == 3195\n",
      "print dataset['00000']['POP010210'] == '308745538'"
     ],
     "language": "python",
     "metadata": {},
     "outputs": [
      {
       "output_type": "stream",
       "stream": "stdout",
       "text": [
        "True\n",
        "True\n"
       ]
      }
     ],
     "prompt_number": 25
    },
    {
     "cell_type": "heading",
     "level": 2,
     "metadata": {},
     "source": [
      "Goal:  Show that the total of all state populations == that of US"
     ]
    },
    {
     "cell_type": "code",
     "collapsed": false,
     "input": [
      "sum([int(dataset[k]['POP010210']) for k in states_fips])"
     ],
     "language": "python",
     "metadata": {},
     "outputs": [
      {
       "metadata": {},
       "output_type": "pyout",
       "prompt_number": 26,
       "text": [
        "308745538"
       ]
      }
     ],
     "prompt_number": 26
    },
    {
     "cell_type": "heading",
     "level": 2,
     "metadata": {},
     "source": [
      "Goal:  Sum up population for all CA counties to make sure they equal CA population"
     ]
    },
    {
     "cell_type": "code",
     "collapsed": false,
     "input": [
      "int(dataset['06000']['POP010210'])  # total 2010 population of CA"
     ],
     "language": "python",
     "metadata": {},
     "outputs": [
      {
       "metadata": {},
       "output_type": "pyout",
       "prompt_number": 27,
       "text": [
        "37253956"
       ]
      }
     ],
     "prompt_number": 27
    },
    {
     "cell_type": "code",
     "collapsed": false,
     "input": [
      "# sum up all the counties too to confirm state totals\n",
      "\n",
      "# CA\n",
      "\n",
      "state = '06000'\n",
      "sum([int(dataset[cf]['POP010210']) for cf in county_fips_for_state(state)]) == int(dataset[state]['POP010210'])"
     ],
     "language": "python",
     "metadata": {},
     "outputs": [
      {
       "metadata": {},
       "output_type": "pyout",
       "prompt_number": 28,
       "text": [
        "True"
       ]
      }
     ],
     "prompt_number": 28
    },
    {
     "cell_type": "heading",
     "level": 2,
     "metadata": {},
     "source": [
      "Goal:  list FIPS, state name, population and whether county totals == state total for all states"
     ]
    },
    {
     "cell_type": "code",
     "collapsed": false,
     "input": [
      "for state in states_fips:\n",
      "    print state, fips[state], int(dataset[state]['POP010210']), sum([int(dataset[cf]['POP010210']) for cf in county_fips_for_state(state)]) == int(dataset[state]['POP010210'])"
     ],
     "language": "python",
     "metadata": {},
     "outputs": [
      {
       "output_type": "stream",
       "stream": "stdout",
       "text": [
        "01000 ALABAMA 4779736 True\n",
        "02000 ALASKA 710231 True\n",
        "04000 ARIZONA 6392017 True\n",
        "05000 ARKANSAS 2915918 True\n",
        "06000 CALIFORNIA 37253956 True\n",
        "08000 COLORADO 5029196 True\n",
        "09000 CONNECTICUT 3574097 True\n",
        "10000 DELAWARE 897934 True\n",
        "11000 DISTRICT OF COLUMBIA 601723 True\n",
        "12000 FLORIDA 18801310 True\n",
        "13000 GEORGIA 9687653 True\n",
        "15000 HAWAII 1360301 True\n",
        "16000 IDAHO 1567582 True\n",
        "17000 ILLINOIS 12830632 True\n",
        "18000 INDIANA 6483802 True\n",
        "19000 IOWA 3046355 True\n",
        "20000 KANSAS 2853118 True\n",
        "21000 KENTUCKY 4339367 True\n",
        "22000 LOUISIANA 4533372 True\n",
        "23000 MAINE 1328361 "
       ]
      },
      {
       "output_type": "stream",
       "stream": "stdout",
       "text": [
        "True\n",
        "24000 MARYLAND 5773552 True\n",
        "25000 MASSACHUSETTS 6547629 True\n",
        "26000 MICHIGAN 9883640 True\n",
        "27000 MINNESOTA 5303925 True\n",
        "28000 MISSISSIPPI 2967297 True\n",
        "29000 MISSOURI 5988927 True\n",
        "30000 MONTANA 989415 True\n",
        "31000 NEBRASKA 1826341 True\n",
        "32000 NEVADA 2700551 True\n",
        "33000 NEW HAMPSHIRE 1316470 True\n",
        "34000 NEW JERSEY 8791894 True\n",
        "35000 NEW MEXICO 2059179 True\n",
        "36000 NEW YORK 19378102 True\n",
        "37000 NORTH CAROLINA 9535483 True\n",
        "38000 NORTH DAKOTA 672591 True\n",
        "39000 OHIO 11536504 True\n",
        "40000 OKLAHOMA 3751351 True\n",
        "41000 OREGON 3831074 True\n",
        "42000 PENNSYLVANIA 12702379 True\n",
        "44000 RHODE ISLAND 1052567 True\n",
        "45000 SOUTH CAROLINA 4625364 True\n",
        "46000 SOUTH DAKOTA 814180 True\n",
        "47000 TENNESSEE 6346105 True\n",
        "48000 TEXAS 25145561 True\n",
        "49000 UTAH 2763885 True\n",
        "50000 VERMONT 625741 True\n",
        "51000 VIRGINIA 8001024 "
       ]
      },
      {
       "output_type": "stream",
       "stream": "stdout",
       "text": [
        "True\n",
        "53000 WASHINGTON 6724540 True\n",
        "54000 WEST VIRGINIA 1852994 True\n",
        "55000 WISCONSIN 5686986 True\n",
        "56000 WYOMING 563626 True\n"
       ]
      }
     ],
     "prompt_number": 29
    }
   ],
   "metadata": {}
  }
 ]
}