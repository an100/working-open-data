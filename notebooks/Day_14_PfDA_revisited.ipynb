{
 "metadata": {
  "name": "",
  "signature": "sha256:b8ab36d2cb01e108710f1905a7400d54452a98d59c64c0cb3f1b0462924ada18"
 },
 "nbformat": 3,
 "nbformat_minor": 0,
 "worksheets": [
  {
   "cells": [
    {
     "cell_type": "markdown",
     "metadata": {},
     "source": [
      "**Chapter 2, 3 of PDA**"
     ]
    },
    {
     "cell_type": "code",
     "collapsed": false,
     "input": [
      "import matplotlib.pyplot as plt\n",
      "import numpy as np\n",
      "\n",
      "from pylab import figure, show\n",
      "\n",
      "from pandas import DataFrame, Series\n",
      "import pandas as pd"
     ],
     "language": "python",
     "metadata": {},
     "outputs": []
    },
    {
     "cell_type": "heading",
     "level": 1,
     "metadata": {},
     "source": [
      "Preliminaries: Assumed location of pydata-book files"
     ]
    },
    {
     "cell_type": "markdown",
     "metadata": {},
     "source": [
      "To make it more practical for me to look at your homework, I'm again going to assume a relative placement of files.  I placed the files from \n",
      "\n",
      "https://github.com/pydata/pydata-book\n",
      "\n",
      "in a local directory, which in my case is \"/Users/raymondyee/D/Document/Working_with_Open_Data/pydata-book/\" \n",
      "\n",
      "and then symbolically linked (`ln -s`) to the the pydata-book from the root directory of the working-open-data folder.  i.e., on OS X\n",
      "\n",
      "    cd /Users/raymondyee/D/Document/Working_with_Open_Data/working-open-data\n",
      "    ln -s /Users/raymondyee/D/Document/Working_with_Open_Data/pydata-book/ pydata-book\n",
      "\n",
      "That way the files from the pydata-book repository look like they sit in the working-open-data directory -- without having to actually copy the files.\n",
      "\n",
      "With this arrangment, I should then be able to drop your notebook into my own notebooks directory and run them without having to mess around with paths."
     ]
    },
    {
     "cell_type": "code",
     "collapsed": false,
     "input": [
      "import os\n",
      "\n",
      "USAGOV_BITLY_PATH = os.path.join(os.pardir, \"pydata-book\", \"ch02\", \"usagov_bitly_data2012-03-16-1331923249.txt\")\n",
      "MOVIELENS_DIR = os.path.join(os.pardir, \"pydata-book\", \"ch02\", \"movielens\")\n",
      "NAMES_DIR = os.path.join(os.pardir, \"pydata-book\", \"ch02\", \"names\")\n",
      "\n",
      "assert os.path.exists(USAGOV_BITLY_PATH)\n",
      "assert os.path.exists(MOVIELENS_DIR)\n",
      "assert os.path.exists(NAMES_DIR)"
     ],
     "language": "python",
     "metadata": {},
     "outputs": []
    },
    {
     "cell_type": "markdown",
     "metadata": {},
     "source": [
      "**Please make sure the above assertions work**"
     ]
    },
    {
     "cell_type": "heading",
     "level": 1,
     "metadata": {},
     "source": [
      "usa.gov bit.ly example"
     ]
    },
    {
     "cell_type": "markdown",
     "metadata": {},
     "source": [
      "(`PfDA`, p. 18)\n",
      "\n",
      "*What's in the data file?*\n",
      "\n",
      "<http://my.safaribooksonline.com/book/programming/python/9781449323592/2dot-introductory-examples/id2802197> :\n",
      "    \n",
      "> In 2011, URL shortening service bit.ly partnered with the United States government website usa.gov to provide a feed of anonymous data gathered from users who shorten links ending with .gov or .mil.\n",
      "    \n",
      "Hourly archive of data: <http://bitly.measuredvoice.com/bitly_archive/?C=M;O=D>"
     ]
    },
    {
     "cell_type": "code",
     "collapsed": false,
     "input": [
      "open(USAGOV_BITLY_PATH).readline()"
     ],
     "language": "python",
     "metadata": {},
     "outputs": []
    },
    {
     "cell_type": "code",
     "collapsed": false,
     "input": [
      "import json\n",
      "records = [json.loads(line) for line in open(USAGOV_BITLY_PATH)]  # list comprehension"
     ],
     "language": "python",
     "metadata": {},
     "outputs": []
    },
    {
     "cell_type": "heading",
     "level": 2,
     "metadata": {},
     "source": [
      "Counting Time Zones with pandas"
     ]
    },
    {
     "cell_type": "markdown",
     "metadata": {},
     "source": [
      "Recall what `records` is"
     ]
    },
    {
     "cell_type": "code",
     "collapsed": false,
     "input": [
      "len(records)"
     ],
     "language": "python",
     "metadata": {},
     "outputs": []
    },
    {
     "cell_type": "code",
     "collapsed": false,
     "input": [
      "# list of dict -> DataFrame\n",
      "\n",
      "frame = DataFrame(records)"
     ],
     "language": "python",
     "metadata": {},
     "outputs": []
    },
    {
     "cell_type": "code",
     "collapsed": false,
     "input": [
      "frame"
     ],
     "language": "python",
     "metadata": {},
     "outputs": []
    },
    {
     "cell_type": "code",
     "collapsed": false,
     "input": [
      "tz_counts = frame['tz'].value_counts()"
     ],
     "language": "python",
     "metadata": {},
     "outputs": []
    },
    {
     "cell_type": "code",
     "collapsed": false,
     "input": [
      "tz_counts[:10]"
     ],
     "language": "python",
     "metadata": {},
     "outputs": []
    },
    {
     "cell_type": "code",
     "collapsed": false,
     "input": [
      "# fillna\n",
      "\n",
      "clean_tz = frame['tz'].fillna('Missing')\n",
      "tz_counts = clean_tz.value_counts()\n",
      "\n",
      "print tz_counts[:10]"
     ],
     "language": "python",
     "metadata": {},
     "outputs": []
    },
    {
     "cell_type": "code",
     "collapsed": false,
     "input": [
      "(clean_tz == '').value_counts()"
     ],
     "language": "python",
     "metadata": {},
     "outputs": []
    },
    {
     "cell_type": "code",
     "collapsed": false,
     "input": [
      "# '' -> 'Unknown'\n",
      "\n",
      "clean_tz[clean_tz == ''] = 'Unknown'"
     ],
     "language": "python",
     "metadata": {},
     "outputs": []
    },
    {
     "cell_type": "code",
     "collapsed": false,
     "input": [
      "tz_counts = clean_tz.value_counts()"
     ],
     "language": "python",
     "metadata": {},
     "outputs": []
    },
    {
     "cell_type": "code",
     "collapsed": false,
     "input": [
      "tz_counts[:10]"
     ],
     "language": "python",
     "metadata": {},
     "outputs": []
    },
    {
     "cell_type": "code",
     "collapsed": false,
     "input": [
      "frame['a'][1]\n",
      "frame['a'][50]\n",
      "frame['a'][51]"
     ],
     "language": "python",
     "metadata": {},
     "outputs": []
    },
    {
     "cell_type": "code",
     "collapsed": false,
     "input": [
      "tz_counts[:10].plot(kind='barh', rot=0)"
     ],
     "language": "python",
     "metadata": {},
     "outputs": []
    },
    {
     "cell_type": "code",
     "collapsed": false,
     "input": [
      "results = Series([x.split()[0] for x in frame.a.dropna()])"
     ],
     "language": "python",
     "metadata": {},
     "outputs": []
    },
    {
     "cell_type": "code",
     "collapsed": false,
     "input": [
      "results[:5]"
     ],
     "language": "python",
     "metadata": {},
     "outputs": []
    },
    {
     "cell_type": "code",
     "collapsed": false,
     "input": [
      "results.value_counts()[:8]"
     ],
     "language": "python",
     "metadata": {},
     "outputs": []
    },
    {
     "cell_type": "code",
     "collapsed": false,
     "input": [
      "frame.a.notnull()"
     ],
     "language": "python",
     "metadata": {},
     "outputs": []
    },
    {
     "cell_type": "code",
     "collapsed": false,
     "input": [
      "frame[frame.a.notnull()]"
     ],
     "language": "python",
     "metadata": {},
     "outputs": []
    },
    {
     "cell_type": "code",
     "collapsed": false,
     "input": [
      "cframe = frame[frame.a.notnull()]"
     ],
     "language": "python",
     "metadata": {},
     "outputs": []
    },
    {
     "cell_type": "heading",
     "level": 2,
     "metadata": {},
     "source": [
      "Let's look at the lat/long in the data"
     ]
    },
    {
     "cell_type": "markdown",
     "metadata": {},
     "source": [
      "meaning of other attributes?\n",
      "\n",
      "\n",
      "http://www.usa.gov/About/developer-resources/1usagov.shtml#data\n",
      "\n",
      "\n",
      "\n"
     ]
    },
    {
     "cell_type": "code",
     "collapsed": false,
     "input": [
      "frame.ll.notnull()"
     ],
     "language": "python",
     "metadata": {},
     "outputs": []
    },
    {
     "cell_type": "heading",
     "level": 2,
     "metadata": {},
     "source": [
      "EXERCISE: plot the points represented in frame.ll on a Mercator projected map"
     ]
    },
    {
     "cell_type": "markdown",
     "metadata": {},
     "source": [
      "Hints:\n",
      "\n",
      "* create a naive scatter plot first\n",
      "* might want to use `apply` on `Series`\n",
      "* look at the Mercator example for Boulder, CA (in Day_14_basemap_redux) -- do the mapping by a loop and then vectorize the operation"
     ]
    },
    {
     "cell_type": "code",
     "collapsed": false,
     "input": [
      "# Naive scatter plot\n",
      "\n",
      "scatter(frame[frame.ll.notnull()]['ll'].apply(lambda x: x[1]), frame[frame.ll.notnull()]['ll'].apply(lambda x: x[0]), 3, color=\"g\" )"
     ],
     "language": "python",
     "metadata": {},
     "outputs": []
    },
    {
     "cell_type": "code",
     "collapsed": false,
     "input": [
      "from itertools import izip\n",
      "\n",
      "dots = izip(frame[frame.ll.notnull()]['ll'].apply(lambda x: x[1]).values,\n",
      "            frame[frame.ll.notnull()]['ll'].apply(lambda x: x[0]))\n"
     ],
     "language": "python",
     "metadata": {},
     "outputs": []
    },
    {
     "cell_type": "code",
     "collapsed": false,
     "input": [
      "# http://matplotlib.org/basemap/users/mapcoords.html\n",
      "\n",
      "from mpl_toolkits.basemap import Basemap\n",
      "import matplotlib.pyplot as plt\n",
      "import numpy as np\n",
      "\n",
      "# setup Lambert Conformal basemap.\n",
      "m = Basemap(projection='merc',llcrnrlat=-80,urcrnrlat=80,\\\n",
      "            llcrnrlon=-180,urcrnrlon=180,lat_ts=20,resolution='c')\n",
      "\n",
      "# draw a boundary around the map, fill the background.\n",
      "# this background will end up being the ocean color, since\n",
      "# the continents will be drawn on top.\n",
      "m.drawmapboundary(fill_color='aqua')\n",
      "# fill continents, set lake color same as ocean color.\n",
      "m.fillcontinents(color='coral',lake_color='aqua')\n",
      "\n",
      "# draw state boundaries too\n",
      "# http://matplotlib.org/basemap/api/basemap_api.html#mpl_toolkits.basemap.Basemap.drawstates\n",
      "m.drawstates(linewidth=0.1)\n",
      "\n",
      "\n",
      "m.drawparallels(np.arange(-90.,91.,30.))\n",
      "m.drawmeridians(np.arange(-180.,181.,60.))\n",
      "\n",
      "\n",
      "# plot blue dot on Boulder, colorado and label it as such.\n",
      "lon, lat = -104.237, 40.125 # Location of Boulder\n",
      "# convert to map projection coords.\n",
      "# Note that lon,lat can be scalars, lists or numpy arrays.\n",
      "xpt,ypt = m(lon,lat)\n",
      "# convert back to lat/lon\n",
      "lonpt, latpt = m(xpt,ypt,inverse=True)\n",
      "m.plot(xpt,ypt,'bo',markersize=5)  # plot a blue dot there\n",
      "\n",
      "from itertools import izip\n",
      "\n",
      "dots = izip(frame[frame.ll.notnull()]['ll'].apply(lambda x: x[1]).values,\n",
      "            frame[frame.ll.notnull()]['ll'].apply(lambda x: x[0]))\n",
      "\n",
      "for dot in dots:\n",
      "    (xpt, ypt) = m(dot[0], dot[1])\n",
      "    m.plot(xpt, ypt, 'bo', markersize=2)\n",
      "    \n"
     ],
     "language": "python",
     "metadata": {},
     "outputs": []
    },
    {
     "cell_type": "code",
     "collapsed": false,
     "input": [
      "# http://matplotlib.org/basemap/users/mapcoords.html\n",
      "\n",
      "from mpl_toolkits.basemap import Basemap\n",
      "import matplotlib.pyplot as plt\n",
      "import numpy as np\n",
      "\n",
      "# setup Lambert Conformal basemap.\n",
      "m = Basemap(projection='merc',llcrnrlat=-80,urcrnrlat=80,\\\n",
      "            llcrnrlon=-180,urcrnrlon=180,lat_ts=20,resolution='c')\n",
      "\n",
      "# draw a boundary around the map, fill the background.\n",
      "# this background will end up being the ocean color, since\n",
      "# the continents will be drawn on top.\n",
      "m.drawmapboundary(fill_color='aqua')\n",
      "# fill continents, set lake color same as ocean color.\n",
      "m.fillcontinents(color='coral',lake_color='aqua')\n",
      "\n",
      "# draw state boundaries too\n",
      "# http://matplotlib.org/basemap/api/basemap_api.html#mpl_toolkits.basemap.Basemap.drawstates\n",
      "m.drawstates(linewidth=0.1)\n",
      "\n",
      "\n",
      "m.drawparallels(np.arange(-90.,91.,30.))\n",
      "m.drawmeridians(np.arange(-180.,181.,60.))\n",
      "\n",
      "\n",
      "# plot blue dot on Boulder, colorado and label it as such.\n",
      "lon, lat = -104.237, 40.125 # Location of Boulder\n",
      "# convert to map projection coords.\n",
      "# Note that lon,lat can be scalars, lists or numpy arrays.\n",
      "xpt,ypt = m(lon,lat)\n",
      "# convert back to lat/lon\n",
      "lonpt, latpt = m(xpt,ypt,inverse=True)\n",
      "m.plot(xpt,ypt,'bo',markersize=5)  # plot a blue dot there\n",
      "\n",
      "\n",
      "(xpt, ypt) = m(frame[frame.ll.notnull()]['ll'].apply(lambda x: x[1]), \n",
      "               frame[frame.ll.notnull()]['ll'].apply(lambda x: x[0]))\n",
      "m.plot(xpt, ypt, 'bo', markersize=2)\n",
      "    \n",
      "\n",
      "# the following doesn't work for some reason....\n",
      "#m.scatter(frame[frame.ll.notnull()]['ll'].apply(lambda x: x[1]), frame[frame.ll.notnull()]['ll'].apply(lambda x: x[0]), 3, color=\"g\" )\n",
      "# put some text next to the dot, offset a little bit\n",
      "# (the offset is in map projection coordinates)"
     ],
     "language": "python",
     "metadata": {},
     "outputs": []
    },
    {
     "cell_type": "markdown",
     "metadata": {},
     "source": [
      "timestamp -- range -- when exactly?  \n",
      "\n",
      "histogram?\n"
     ]
    },
    {
     "cell_type": "code",
     "collapsed": false,
     "input": [
      "frame.t.describe()"
     ],
     "language": "python",
     "metadata": {},
     "outputs": []
    },
    {
     "cell_type": "code",
     "collapsed": false,
     "input": [
      "frame.t.dropna().apply(datetime.datetime.fromtimestamp)"
     ],
     "language": "python",
     "metadata": {},
     "outputs": []
    },
    {
     "cell_type": "heading",
     "level": 2,
     "metadata": {},
     "source": [
      "Exercise:  confirm the value of the earliest and latest of the timestamps -- compute earliest_dt, latest_dt"
     ]
    },
    {
     "cell_type": "code",
     "collapsed": false,
     "input": [
      "# FILL IN \n",
      "\n",
      "earliest_dt = datetime.datetime.fromtimestamp(frame.t.min())\n",
      "assert earliest_dt == datetime.datetime(2012, 3, 16, 11, 40, 47)\n",
      "\n",
      "latest_dt = datetime.datetime.fromtimestamp(frame.t.max())\n",
      "assert latest_dt == datetime.datetime(2012, 3, 16, 12, 40, 49)"
     ],
     "language": "python",
     "metadata": {},
     "outputs": []
    },
    {
     "cell_type": "heading",
     "level": 2,
     "metadata": {},
     "source": [
      "Exercise: calculate how often a given net location appears in frame.u\n",
      "\n"
     ]
    },
    {
     "cell_type": "markdown",
     "metadata": {},
     "source": [
      "Hints:\n",
      "\n",
      "* compute `netlocs` as a Series, indexed by Network location part (<http://docs.python.org/2/library/urlparse.html>) of `frame.u`, and holding the number of times that netloc occurs in `frame.u`\n",
      "* for full marks, you must use a numpy based approach not a classic Python looping approach"
     ]
    },
    {
     "cell_type": "code",
     "collapsed": false,
     "input": [
      "frame.u"
     ],
     "language": "python",
     "metadata": {},
     "outputs": []
    },
    {
     "cell_type": "code",
     "collapsed": false,
     "input": [
      "# FILL IN\n",
      "\n",
      "#http://docs.python.org/2/library/urlparse.html\n",
      "from urlparse import urlparse\n",
      "\n",
      "s  = frame.u.dropna().apply(lambda u: urlparse(u)[1])\n",
      "netlocs = s.groupby(s).size().order()[::-1]\n",
      "\n",
      "# https://github.com/pydata/pandas/issues/240\n",
      "assert isinstance(netlocs, Series)\n",
      "assert set(list(netlocs[:5].iteritems())) == set([(u'www.whitehouse.gov', 169),\n",
      "     (u'www.monroecounty.gov', 121),\n",
      "     (u'www.fda.gov', 112),\n",
      "     (u'www.nasa.gov', 733),\n",
      "     (u'www.nysdot.gov', 836)])"
     ],
     "language": "python",
     "metadata": {},
     "outputs": []
    },
    {
     "cell_type": "heading",
     "level": 1,
     "metadata": {},
     "source": [
      "movielens dataset"
     ]
    },
    {
     "cell_type": "markdown",
     "metadata": {},
     "source": [
      "PDA p. 26 \n",
      "\n",
      "http://www.grouplens.org/node/73 --> there's also a 10 million ratings dataset -- would be interesting to try out to test scalability\n",
      "of running IPython notebook on laptop\n",
      "\n"
     ]
    },
    {
     "cell_type": "code",
     "collapsed": false,
     "input": [
      "# let's take a look at the data\n",
      "\n",
      "# my local dir: /Users/raymondyee/D/Document/Working_with_Open_Data/pydata-book/ch02/movielens\n",
      "\n",
      "!head $MOVIELENS_DIR/movies.dat"
     ],
     "language": "python",
     "metadata": {},
     "outputs": []
    },
    {
     "cell_type": "code",
     "collapsed": false,
     "input": [
      "# how many movies?\n",
      "!wc $MOVIELENS_DIR/movies.dat"
     ],
     "language": "python",
     "metadata": {},
     "outputs": []
    },
    {
     "cell_type": "code",
     "collapsed": false,
     "input": [
      "!head $MOVIELENS_DIR/users.dat"
     ],
     "language": "python",
     "metadata": {},
     "outputs": []
    },
    {
     "cell_type": "code",
     "collapsed": false,
     "input": [
      "!head $MOVIELENS_DIR/ratings.dat"
     ],
     "language": "python",
     "metadata": {},
     "outputs": []
    },
    {
     "cell_type": "code",
     "collapsed": false,
     "input": [
      "import pandas as pd\n",
      "import os\n",
      "\n",
      "unames = ['user_id', 'gender', 'age', 'occupation', 'zip']\n",
      "users = pd.read_table(os.path.join(MOVIELENS_DIR, 'users.dat'), sep='::', header=None,\n",
      "  names=unames)\n",
      "\n",
      "rnames = ['user_id', 'movie_id', 'rating', 'timestamp']\n",
      "ratings = pd.read_table(os.path.join(MOVIELENS_DIR, 'ratings.dat'), sep='::', header=None,\n",
      "  names=rnames)\n",
      "\n",
      "mnames = ['movie_id', 'title', 'genres']\n",
      "movies = pd.read_table(os.path.join(MOVIELENS_DIR, 'movies.dat'), sep='::', header=None,\n",
      "  names=mnames, encoding='iso-8859-1')\n"
     ],
     "language": "python",
     "metadata": {},
     "outputs": []
    },
    {
     "cell_type": "code",
     "collapsed": false,
     "input": [
      "movies[:100]"
     ],
     "language": "python",
     "metadata": {},
     "outputs": []
    },
    {
     "cell_type": "code",
     "collapsed": false,
     "input": [
      "import traceback\n",
      "\n",
      "try:\n",
      "    movies[:100]\n",
      "except:\n",
      "    traceback.print_exc()"
     ],
     "language": "python",
     "metadata": {},
     "outputs": []
    },
    {
     "cell_type": "code",
     "collapsed": false,
     "input": [
      "# explicit encoding of movies file\n",
      "\n",
      "import pandas as pd\n",
      "import codecs\n",
      "\n",
      "\n",
      "unames = ['user_id', 'gender', 'age', 'occupation', 'zip']\n",
      "users = pd.read_table(os.path.join(MOVIELENS_DIR, 'users.dat'), sep='::', header=None,\n",
      "  names=unames)\n",
      "\n",
      "rnames = ['user_id', 'movie_id', 'rating', 'timestamp']\n",
      "ratings = pd.read_table(os.path.join(MOVIELENS_DIR, 'ratings.dat'), sep='::', header=None,\n",
      "  names=rnames)\n",
      "\n",
      "\n",
      "movies_file = codecs.open(os.path.join(MOVIELENS_DIR, 'movies.dat'), encoding='iso-8859-1')\n",
      "\n",
      "mnames = ['movie_id', 'title', 'genres']\n",
      "movies = pd.read_table(movies_file, sep='::', header=None,\n",
      "  names=mnames)\n",
      "\n"
     ],
     "language": "python",
     "metadata": {},
     "outputs": []
    },
    {
     "cell_type": "code",
     "collapsed": false,
     "input": [
      "movies[:100]"
     ],
     "language": "python",
     "metadata": {},
     "outputs": []
    },
    {
     "cell_type": "code",
     "collapsed": false,
     "input": [
      "users[:5]"
     ],
     "language": "python",
     "metadata": {},
     "outputs": []
    },
    {
     "cell_type": "code",
     "collapsed": false,
     "input": [
      "movies[:100]"
     ],
     "language": "python",
     "metadata": {},
     "outputs": []
    },
    {
     "cell_type": "markdown",
     "metadata": {},
     "source": [
      "hmmm...age 1?  Where to learn about occupation types?  We have zip data...so it'd be fun to map.  Might be useful to look at\n",
      "distribution of age, gender, and zip."
     ]
    },
    {
     "cell_type": "code",
     "collapsed": false,
     "input": [
      "# confirm type of users as DataFram and list number of users\n",
      "\n",
      "type(users), len(users)"
     ],
     "language": "python",
     "metadata": {},
     "outputs": []
    },
    {
     "cell_type": "code",
     "collapsed": false,
     "input": [
      "users.index, users.columns"
     ],
     "language": "python",
     "metadata": {},
     "outputs": []
    },
    {
     "cell_type": "code",
     "collapsed": false,
     "input": [
      "# row 0\n",
      "\n",
      "users.ix[0]"
     ],
     "language": "python",
     "metadata": {},
     "outputs": []
    },
    {
     "cell_type": "code",
     "collapsed": false,
     "input": [
      "# a specific \"cell\" of users\n",
      "\n",
      "users.ix[0]['occupation']"
     ],
     "language": "python",
     "metadata": {},
     "outputs": []
    },
    {
     "cell_type": "code",
     "collapsed": false,
     "input": [
      "# how to get stats for a column?\n",
      "\n",
      "users['gender'].describe()"
     ],
     "language": "python",
     "metadata": {},
     "outputs": []
    },
    {
     "cell_type": "code",
     "collapsed": false,
     "input": [
      "from collections import Counter\n",
      "\n",
      "Counter(users['gender'])"
     ],
     "language": "python",
     "metadata": {},
     "outputs": []
    },
    {
     "cell_type": "code",
     "collapsed": false,
     "input": [
      "users['age'].describe()"
     ],
     "language": "python",
     "metadata": {},
     "outputs": []
    },
    {
     "cell_type": "code",
     "collapsed": false,
     "input": [
      "users['age'].hist()"
     ],
     "language": "python",
     "metadata": {},
     "outputs": []
    },
    {
     "cell_type": "code",
     "collapsed": false,
     "input": [
      "ratings['rating'].hist()"
     ],
     "language": "python",
     "metadata": {},
     "outputs": []
    },
    {
     "cell_type": "code",
     "collapsed": false,
     "input": [
      "ratings['timestamp'].hist()"
     ],
     "language": "python",
     "metadata": {},
     "outputs": []
    },
    {
     "cell_type": "markdown",
     "metadata": {},
     "source": [
      "how to convert to datetime.datetime and plot hist in those units?  **come back to this task**\n",
      "\n",
      "* convert units to datetime\n",
      "* plot timeseries"
     ]
    },
    {
     "cell_type": "code",
     "collapsed": false,
     "input": [
      "\n",
      "import datetime\n",
      "datetime.datetime.fromtimestamp(ratings['timestamp'][0])"
     ],
     "language": "python",
     "metadata": {},
     "outputs": []
    },
    {
     "cell_type": "code",
     "collapsed": false,
     "input": [
      "ratings['timestamp'].order().apply(datetime.datetime.fromtimestamp) #apply(datetime.datetime.fromtimestamp)"
     ],
     "language": "python",
     "metadata": {},
     "outputs": []
    },
    {
     "cell_type": "heading",
     "level": 2,
     "metadata": {},
     "source": [
      "merge datasets"
     ]
    },
    {
     "cell_type": "code",
     "collapsed": false,
     "input": [
      "data = pd.merge(pd.merge(ratings,users), movies)"
     ],
     "language": "python",
     "metadata": {},
     "outputs": []
    },
    {
     "cell_type": "code",
     "collapsed": false,
     "input": [
      "data"
     ],
     "language": "python",
     "metadata": {},
     "outputs": []
    },
    {
     "cell_type": "code",
     "collapsed": false,
     "input": [
      "data[:5]"
     ],
     "language": "python",
     "metadata": {},
     "outputs": []
    },
    {
     "cell_type": "markdown",
     "metadata": {},
     "source": [
      "http://www.grouplens.org/system/files/ml-1m-README.txt has the key for occupations and age ranges:\n",
      "\n",
      "*  0:  \"other\" or not specified\n",
      "*  1:  \"academic/educator\"\n",
      "*  2:  \"artist\"\n",
      "*  3:  \"clerical/admin\"\n",
      "*  4:  \"college/grad student\"\n",
      "*  5:  \"customer service\"\n",
      "*  6:  \"doctor/health care\"\n",
      "*  7:  \"executive/managerial\"\n",
      "*  8:  \"farmer\"\n",
      "*  9:  \"homemaker\"\n",
      "* 10:  \"K-12 student\"\n",
      "* 11:  \"lawyer\"\n",
      "* 12:  \"programmer\"\n",
      "* 13:  \"retired\"\n",
      "* 14:  \"sales/marketing\"\n",
      "* 15:  \"scientist\"\n",
      "* 16:  \"self-employed\"\n",
      "* 17:  \"technician/engineer\"\n",
      "* 18:  \"tradesman/craftsman\"\n",
      "* 19:  \"unemployed\"\n",
      "* 20:  \"writer\""
     ]
    },
    {
     "cell_type": "code",
     "collapsed": false,
     "input": [
      "from collections import Counter\n",
      "Counter(data['occupation'])"
     ],
     "language": "python",
     "metadata": {},
     "outputs": []
    },
    {
     "cell_type": "code",
     "collapsed": false,
     "input": [
      "data.occupation.groupby(data.occupation).size()"
     ],
     "language": "python",
     "metadata": {},
     "outputs": []
    },
    {
     "cell_type": "code",
     "collapsed": false,
     "input": [
      "mean_ratings = data.pivot_table('rating', rows='title', cols='gender', aggfunc='mean')"
     ],
     "language": "python",
     "metadata": {},
     "outputs": []
    },
    {
     "cell_type": "code",
     "collapsed": false,
     "input": [
      "mean_ratings"
     ],
     "language": "python",
     "metadata": {},
     "outputs": []
    },
    {
     "cell_type": "code",
     "collapsed": false,
     "input": [
      "mean_ratings[:5]"
     ],
     "language": "python",
     "metadata": {},
     "outputs": []
    },
    {
     "cell_type": "code",
     "collapsed": false,
     "input": [
      "# trying to pull together both male and female -- works\n",
      "\n",
      "data.pivot_table(values='rating', rows='title')"
     ],
     "language": "python",
     "metadata": {},
     "outputs": []
    },
    {
     "cell_type": "code",
     "collapsed": false,
     "input": [
      "data.groupby('title').size()"
     ],
     "language": "python",
     "metadata": {},
     "outputs": []
    },
    {
     "cell_type": "heading",
     "level": 2,
     "metadata": {},
     "source": [
      "check on encoding of the movie files"
     ]
    },
    {
     "cell_type": "code",
     "collapsed": false,
     "input": [
      "import codecs\n",
      "from itertools import islice\n",
      "\n",
      "fname = os.path.join(MOVIELENS_DIR, \"movies.dat\")\n",
      "\n",
      "f = codecs.open(fname, encoding='iso-8859-1')\n",
      "for line in islice(f,100):\n",
      "    print line"
     ],
     "language": "python",
     "metadata": {},
     "outputs": []
    },
    {
     "cell_type": "code",
     "collapsed": false,
     "input": [
      "import pandas as pd\n",
      "import codecs\n",
      "\n",
      "movies_file = codecs.open(os.path.join(MOVIELENS_DIR, 'movies.dat'), encoding='iso-8859-1')\n",
      "\n",
      "mnames = ['movie_id', 'title', 'genres']\n",
      "movies = pd.read_table(movies_file, sep='::', header=None,\n",
      "  names=mnames)\n",
      "\n",
      "print (movies.ix[72]['title'] == u'Mis\u00e9rables, Les (1995)')"
     ],
     "language": "python",
     "metadata": {},
     "outputs": []
    },
    {
     "cell_type": "heading",
     "level": 2,
     "metadata": {},
     "source": [
      "collapse to 250 most frequently rated movies (p. 29)  "
     ]
    },
    {
     "cell_type": "code",
     "collapsed": false,
     "input": [
      "ratings_by_title = data.groupby('title').size()"
     ],
     "language": "python",
     "metadata": {},
     "outputs": []
    },
    {
     "cell_type": "code",
     "collapsed": false,
     "input": [
      "ratings_by_title.order(ascending=False).plot()"
     ],
     "language": "python",
     "metadata": {},
     "outputs": []
    },
    {
     "cell_type": "code",
     "collapsed": false,
     "input": [
      "ratings_by_title >= 250"
     ],
     "language": "python",
     "metadata": {},
     "outputs": []
    },
    {
     "cell_type": "code",
     "collapsed": false,
     "input": [
      "active_titles = ratings_by_title.index[ratings_by_title >= 250]"
     ],
     "language": "python",
     "metadata": {},
     "outputs": []
    },
    {
     "cell_type": "code",
     "collapsed": false,
     "input": [
      "active_titles"
     ],
     "language": "python",
     "metadata": {},
     "outputs": []
    },
    {
     "cell_type": "code",
     "collapsed": false,
     "input": [
      "len(active_titles)"
     ],
     "language": "python",
     "metadata": {},
     "outputs": []
    },
    {
     "cell_type": "code",
     "collapsed": false,
     "input": [
      "# now subset\n",
      "\n",
      "mean_ratings = mean_ratings.ix[active_titles]"
     ],
     "language": "python",
     "metadata": {},
     "outputs": []
    },
    {
     "cell_type": "code",
     "collapsed": false,
     "input": [
      "mean_ratings"
     ],
     "language": "python",
     "metadata": {},
     "outputs": []
    },
    {
     "cell_type": "code",
     "collapsed": false,
     "input": [
      "# top films among female viewers\n",
      "\n",
      "mean_ratings.sort_index(by='F', ascending=False)[:10]"
     ],
     "language": "python",
     "metadata": {},
     "outputs": []
    },
    {
     "cell_type": "heading",
     "level": 1,
     "metadata": {},
     "source": [
      "Baby names dataset"
     ]
    },
    {
     "cell_type": "code",
     "collapsed": false,
     "input": [
      "import pandas as pd\n",
      "import codecs\n",
      "\n",
      "names1880_file = codecs.open(os.path.join(NAMES_DIR,'yob2010.txt'), encoding='iso-8859-1')\n",
      "names1880 = pd.read_csv(names1880_file, names=['name', 'sex', 'births'])\n",
      "\n",
      "names1880"
     ],
     "language": "python",
     "metadata": {},
     "outputs": []
    },
    {
     "cell_type": "code",
     "collapsed": false,
     "input": [
      "# sort by name\n",
      "\n",
      "names1880.sort('births', ascending=False)[:10]"
     ],
     "language": "python",
     "metadata": {},
     "outputs": []
    },
    {
     "cell_type": "code",
     "collapsed": false,
     "input": [
      "names1880[names1880.sex == 'F'].sort('births', ascending=False)[:10]"
     ],
     "language": "python",
     "metadata": {},
     "outputs": []
    },
    {
     "cell_type": "code",
     "collapsed": false,
     "input": [
      "names1880['births'].plot()"
     ],
     "language": "python",
     "metadata": {},
     "outputs": []
    },
    {
     "cell_type": "code",
     "collapsed": false,
     "input": [
      "names1880['births'].order(ascending=False).plot()\n"
     ],
     "language": "python",
     "metadata": {},
     "outputs": []
    },
    {
     "cell_type": "code",
     "collapsed": false,
     "input": [
      "names1880['births'].order(ascending=False).cumsum().plot()"
     ],
     "language": "python",
     "metadata": {},
     "outputs": []
    },
    {
     "cell_type": "code",
     "collapsed": false,
     "input": [
      "names1880['births'].count()"
     ],
     "language": "python",
     "metadata": {},
     "outputs": []
    },
    {
     "cell_type": "heading",
     "level": 1,
     "metadata": {},
     "source": [
      "baby db:  straight through working out"
     ]
    },
    {
     "cell_type": "code",
     "collapsed": false,
     "input": [
      "names1880.groupby('sex').births.sum()"
     ],
     "language": "python",
     "metadata": {},
     "outputs": []
    },
    {
     "cell_type": "code",
     "collapsed": false,
     "input": [
      "# which names that are in both sexes?  \n",
      "# let me do it with Python sets\n",
      "\n",
      "names1880[names1880.sex == 'M'], names1880[names1880.sex == 'F']"
     ],
     "language": "python",
     "metadata": {},
     "outputs": []
    },
    {
     "cell_type": "code",
     "collapsed": false,
     "input": [
      "m_names = set(names1880[names1880.sex == 'M']['name'])\n",
      "f_names = set(names1880[names1880.sex == 'F']['name'])\n",
      "\n",
      "len(m_names & f_names)"
     ],
     "language": "python",
     "metadata": {},
     "outputs": []
    },
    {
     "cell_type": "code",
     "collapsed": false,
     "input": [
      "# almost...\n",
      "\n",
      "try:\n",
      "    k = names1880.groupby('name').ix(names1880.groupby('name').size() == 2)\n",
      "except Exception as e:\n",
      "    print e\n",
      "else:\n",
      "    print k\n"
     ],
     "language": "python",
     "metadata": {},
     "outputs": []
    },
    {
     "cell_type": "code",
     "collapsed": false,
     "input": [
      "\n",
      "\n",
      "count_sex = names1880.groupby('name').size()\n",
      "mf_names = count_sex.index[count_sex == 2]\n",
      "\n",
      "names1880.ix[mf_names]\n"
     ],
     "language": "python",
     "metadata": {},
     "outputs": []
    },
    {
     "cell_type": "code",
     "collapsed": false,
     "input": [
      "from itertools import islice\n",
      "\n",
      "mf_names =(k for (k, g) in names1880.groupby('name') if len(g) == 2)\n",
      "\n",
      "list(islice(mf_names, 5))\n"
     ],
     "language": "python",
     "metadata": {},
     "outputs": []
    },
    {
     "cell_type": "code",
     "collapsed": false,
     "input": [
      "names1880.groupby('name')"
     ],
     "language": "python",
     "metadata": {},
     "outputs": []
    },
    {
     "cell_type": "code",
     "collapsed": false,
     "input": [
      "names1880.groupby('name').size().values"
     ],
     "language": "python",
     "metadata": {},
     "outputs": []
    },
    {
     "cell_type": "heading",
     "level": 2,
     "metadata": {},
     "source": [
      "loading all data into Pandas -- how well does this work?"
     ]
    },
    {
     "cell_type": "code",
     "collapsed": false,
     "input": [
      "!ls $NAMES_DIR"
     ],
     "language": "python",
     "metadata": {},
     "outputs": []
    },
    {
     "cell_type": "code",
     "collapsed": false,
     "input": [
      "# 2010 is the last available year right now\n",
      "import os\n",
      "\n",
      "years = range(1880, 2011)\n",
      "\n",
      "pieces = []\n",
      "columns = ['name', 'sex', 'births']\n",
      "\n",
      "for year in years:\n",
      "    path = os.path.join(NAMES_DIR, 'yob%d.txt' % year)\n",
      "    frame = pd.read_csv(path, names=columns)\n",
      "\n",
      "    frame['year'] = year\n",
      "    pieces.append(frame)\n",
      "\n",
      "# Concatenate everything into a single DataFrame\n",
      "names = pd.concat(pieces, ignore_index=True)"
     ],
     "language": "python",
     "metadata": {},
     "outputs": []
    },
    {
     "cell_type": "code",
     "collapsed": false,
     "input": [
      "names"
     ],
     "language": "python",
     "metadata": {},
     "outputs": []
    },
    {
     "cell_type": "code",
     "collapsed": false,
     "input": [
      "total_births = names.pivot_table('births', rows='year', cols='sex', aggfunc=sum)"
     ],
     "language": "python",
     "metadata": {},
     "outputs": []
    },
    {
     "cell_type": "code",
     "collapsed": false,
     "input": [
      "total_births[:5]"
     ],
     "language": "python",
     "metadata": {},
     "outputs": []
    },
    {
     "cell_type": "code",
     "collapsed": false,
     "input": [
      "# how to calculate the total births / year\n",
      "\n",
      "names.groupby('year').sum().plot(title=\"total births by year\")"
     ],
     "language": "python",
     "metadata": {},
     "outputs": []
    },
    {
     "cell_type": "code",
     "collapsed": false,
     "input": [
      "# add prop\n",
      "\n",
      "def add_prop(group):\n",
      "    # Integer division floors\n",
      "    births = group.births.astype(float)\n",
      "\n",
      "    group['prop'] = births / births.sum()\n",
      "    return group\n",
      "\n",
      "names = names.groupby(['year', 'sex']).apply(add_prop)\n"
     ],
     "language": "python",
     "metadata": {},
     "outputs": []
    },
    {
     "cell_type": "code",
     "collapsed": false,
     "input": [
      "# verify prop\n",
      "np.allclose(names.groupby(['year', 'sex']).prop.sum(), 1)"
     ],
     "language": "python",
     "metadata": {},
     "outputs": []
    },
    {
     "cell_type": "code",
     "collapsed": false,
     "input": [
      "# proportion for Raymond\n",
      "names.name"
     ],
     "language": "python",
     "metadata": {},
     "outputs": []
    },
    {
     "cell_type": "code",
     "collapsed": false,
     "input": [
      "# max / min totals and when? -- awkward -- must be a better way\n",
      "total_births_sum = names.groupby('year').sum()\n",
      "max_value = list(total_births_sum.max())[0]\n",
      "min_value = list(total_births_sum.min())[0]\n",
      "\n",
      "is_max = total_births_sum.births == max_value\n",
      "is_min = total_births_sum.births == min_value\n",
      "is_max[is_max], is_min[is_min]"
     ],
     "language": "python",
     "metadata": {},
     "outputs": []
    },
    {
     "cell_type": "code",
     "collapsed": false,
     "input": [
      "total_births_sum.diff().plot()"
     ],
     "language": "python",
     "metadata": {},
     "outputs": []
    },
    {
     "cell_type": "code",
     "collapsed": false,
     "input": [
      "total_births.sum().sum()"
     ],
     "language": "python",
     "metadata": {},
     "outputs": []
    },
    {
     "cell_type": "code",
     "collapsed": false,
     "input": [
      "names[(names.name=='Raymond') & (names.sex=='M')][['year', 'births']].set_index(keys='year').plot(title=\"Raymond\")"
     ],
     "language": "python",
     "metadata": {},
     "outputs": []
    },
    {
     "cell_type": "code",
     "collapsed": false,
     "input": [
      "# plot multiple names on same plot or as multiple axes"
     ],
     "language": "python",
     "metadata": {},
     "outputs": []
    },
    {
     "cell_type": "code",
     "collapsed": false,
     "input": [
      "def name_sex_count_in_year(name,sex):\n",
      "    return names[(names.name==name) & (names.sex==sex)][['year', 'births']].set_index(keys='year')\n",
      "\n",
      "def name_sex_prop_in_year(name,sex):\n",
      "    return names[(names.name==name) & (names.sex==sex)][['year', 'prop']].set_index(keys='year')\n",
      "\n",
      "name_df = DataFrame(index=arange(1880,2010))\n",
      "\n",
      "name_df['Raymond'] = name_sex_count_in_year('Raymond','M')\n",
      "name_df['Laura'] = name_sex_count_in_year('Laura','F')\n",
      "\n",
      "name_df.plot()\n"
     ],
     "language": "python",
     "metadata": {},
     "outputs": []
    },
    {
     "cell_type": "code",
     "collapsed": false,
     "input": [
      "name_df = DataFrame(index=arange(1880,2010))\n",
      "\n",
      "name_df['Raymond'] = name_sex_prop_in_year('Raymond','M')\n",
      "name_df['Laura'] = name_sex_prop_in_year('Laura','F')\n",
      "\n",
      "name_df.plot()"
     ],
     "language": "python",
     "metadata": {},
     "outputs": []
    },
    {
     "cell_type": "code",
     "collapsed": false,
     "input": [
      "total_births[:5]"
     ],
     "language": "python",
     "metadata": {},
     "outputs": []
    },
    {
     "cell_type": "code",
     "collapsed": false,
     "input": [
      "total_births.plot(title='Total births by sex and year')"
     ],
     "language": "python",
     "metadata": {},
     "outputs": []
    },
    {
     "cell_type": "code",
     "collapsed": false,
     "input": [
      "# http://en.wikipedia.org/wiki/Human_sex_ratio\n",
      "# make an agg figure\n",
      "fig = figure()\n",
      "\n",
      "# meaning of 111: http://stackoverflow.com/a/3584933/7782\n",
      "ax = fig.add_subplot(111)\n",
      "ax.set_title('Ratio of M to F births')\n",
      "\n",
      "cum_ratio_by_sex = total_births.M.cumsum() / total_births.F.cumsum()\n",
      "cum_ratio_by_sex.plot(ax=ax, label=\"cumulative\", color=\"red\")\n",
      "\n",
      "# add instantaneous ratio\n",
      "\n",
      "annual_ratio_by_sex = total_births.M / total_births.F\n",
      "annual_ratio_by_sex.plot(ax=ax, label=\"annual\", color=\"green\")\n",
      "\n",
      "ax.legend(loc='best')\n",
      "\n",
      "fig.canvas.draw()"
     ],
     "language": "python",
     "metadata": {},
     "outputs": []
    },
    {
     "cell_type": "code",
     "collapsed": false,
     "input": [
      "# number of names over time\n",
      "names.groupby('year').count()[['name']].plot()"
     ],
     "language": "python",
     "metadata": {},
     "outputs": []
    },
    {
     "cell_type": "code",
     "collapsed": false,
     "input": [
      "def get_top1000(group):\n",
      "    return group.sort_index(by='births', ascending=False)[:1000]\n",
      "grouped = names.groupby(['year', 'sex'])\n",
      "top1000 = grouped.apply(get_top1000)"
     ],
     "language": "python",
     "metadata": {},
     "outputs": []
    },
    {
     "cell_type": "code",
     "collapsed": false,
     "input": [
      "fig = figure()\n",
      "\n",
      "# meaning of 111: http://stackoverflow.com/a/3584933/7782\n",
      "ax = fig.add_subplot(111)\n",
      "ax.set_title('Entropy of names')\n",
      "\n",
      "S_male = names[names.sex=='M'].groupby('year').prop.agg(lambda x: sum([-j*log(j) for j in x])) # apply(lambda x: -x*log(x))\n",
      "S_male.plot(ax=ax, label=\"M\", color=\"blue\")\n",
      "\n",
      "S_female = names[names.sex=='F'].groupby('year').prop.agg(lambda x: sum([-j*log(j) for j in x])) # apply(lambda x: -x*log(x))\n",
      "S_female.plot(ax=ax, label=\"F\", color=\"red\")\n",
      "\n",
      "ax.legend(loc='best')\n",
      "ax.set_ylim(0)\n",
      "\n",
      "fig.canvas.draw()\n"
     ],
     "language": "python",
     "metadata": {},
     "outputs": []
    },
    {
     "cell_type": "heading",
     "level": 2,
     "metadata": {},
     "source": [
      "Names that are both M and F"
     ]
    },
    {
     "cell_type": "code",
     "collapsed": false,
     "input": [
      "names[names.sex=='M'].groupby('name').sum().births.order()[::-1]"
     ],
     "language": "python",
     "metadata": {},
     "outputs": []
    },
    {
     "cell_type": "code",
     "collapsed": false,
     "input": [
      "male_names = names[names.sex=='M'].groupby('name').sum().index\n",
      "female_names = names[names.sex=='F'].groupby('name').sum().index\n",
      "\n"
     ],
     "language": "python",
     "metadata": {},
     "outputs": []
    },
    {
     "cell_type": "heading",
     "level": 3,
     "metadata": {},
     "source": [
      "number of unique names in data set"
     ]
    },
    {
     "cell_type": "code",
     "collapsed": false,
     "input": [
      "len(male_names + female_names)"
     ],
     "language": "python",
     "metadata": {},
     "outputs": []
    },
    {
     "cell_type": "code",
     "collapsed": false,
     "input": [
      "len(np.unique(names.name.values))"
     ],
     "language": "python",
     "metadata": {},
     "outputs": []
    },
    {
     "cell_type": "code",
     "collapsed": false,
     "input": [
      "# average length of names in general \n",
      "\n",
      "names.name.str.len().mean()"
     ],
     "language": "python",
     "metadata": {},
     "outputs": []
    },
    {
     "cell_type": "code",
     "collapsed": false,
     "input": [
      "# average length of name by year\n",
      "\n",
      "names['name_len'] = names.name.str.len()\n",
      "names.groupby('year').name_len.mean().plot()\n",
      "del names['name_len']"
     ],
     "language": "python",
     "metadata": {},
     "outputs": []
    },
    {
     "cell_type": "code",
     "collapsed": false,
     "input": [
      "fig = figure()\n",
      "\n",
      "# meaning of 111: http://stackoverflow.com/a/3584933/7782\n",
      "ax = fig.add_subplot(111)\n",
      "ax.set_title('average length of name')\n",
      "\n",
      "names['name_len'] = names.name.str.len()\n",
      "\n",
      "names[names.sex=='M'].groupby('year').name_len.mean().plot(ax=ax, label=\"M\", color=\"blue\")\n",
      "names[names.sex=='F'].groupby('year').name_len.mean().plot(ax=ax, label=\"F\", color=\"red\")\n",
      "\n",
      "#del names['name_len']\n",
      "\n",
      "ax.legend(loc='best')\n",
      "\n",
      "\n",
      "fig.canvas.draw()"
     ],
     "language": "python",
     "metadata": {},
     "outputs": []
    },
    {
     "cell_type": "code",
     "collapsed": false,
     "input": [
      "# calculate number of M, F, M/F names in aggregate and then over time\n",
      "\n",
      "names[names.year==2010].groupby(['name', 'year']).sex.count().value_counts()"
     ],
     "language": "python",
     "metadata": {},
     "outputs": []
    }
   ],
   "metadata": {}
  }
 ]
}