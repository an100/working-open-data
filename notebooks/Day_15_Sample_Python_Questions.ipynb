{
 "metadata": {
  "name": "",
  "signature": "sha256:2aba5796b4ff2e9529f83cb3e1a415b0e3f2efdd8bbc84abf47d5c7a7797aa2e"
 },
 "nbformat": 3,
 "nbformat_minor": 0,
 "worksheets": [
  {
   "cells": [
    {
     "cell_type": "code",
     "collapsed": false,
     "input": [
      "import pandas as pd\n",
      "from pandas import Series, DataFrame\n",
      "\n",
      "from itertools import islice\n",
      "\n",
      "import datetime\n",
      "import time\n",
      "import pytz"
     ],
     "language": "python",
     "metadata": {},
     "outputs": []
    },
    {
     "cell_type": "code",
     "collapsed": false,
     "input": [
      "s0 = \"Open Data\"\n",
      "len(s0), s0[::-1], s0[2]"
     ],
     "language": "python",
     "metadata": {},
     "outputs": []
    },
    {
     "cell_type": "code",
     "collapsed": false,
     "input": [
      "# something simple to start\n",
      "datetime.datetime.now().month"
     ],
     "language": "python",
     "metadata": {},
     "outputs": []
    },
    {
     "cell_type": "code",
     "collapsed": false,
     "input": [
      "# tests whether you know the basics of datetime, what fromtimestap does, and notion of timedelta\n",
      "\n",
      "dt = datetime.datetime.fromtimestamp(86400) - datetime.datetime.fromtimestamp(0)\n",
      "dt.total_seconds(), dt.days"
     ],
     "language": "python",
     "metadata": {},
     "outputs": []
    },
    {
     "cell_type": "code",
     "collapsed": false,
     "input": [
      "pytz.timezone('US/Pacific').localize(datetime.datetime.fromtimestamp(0)).astimezone(pytz.utc)"
     ],
     "language": "python",
     "metadata": {},
     "outputs": []
    },
    {
     "cell_type": "code",
     "collapsed": false,
     "input": [
      "def triangle():\n",
      "    f = 0\n",
      "    n = 1\n",
      "    while True:\n",
      "        f += n\n",
      "        yield f\n",
      "        n += 1"
     ],
     "language": "python",
     "metadata": {},
     "outputs": [],
     "prompt_number": 1
    },
    {
     "cell_type": "code",
     "collapsed": false,
     "input": [
      "# hint list(islice([0,1,2,3,4], 2))  is [0,1]\n",
      "\n",
      "from itertools import islice\n",
      "f = triangle()\n",
      "list(islice(f,4))"
     ],
     "language": "python",
     "metadata": {},
     "outputs": [
      {
       "metadata": {},
       "output_type": "pyout",
       "prompt_number": 7,
       "text": [
        "[1, 3, 6, 10]"
       ]
      }
     ],
     "prompt_number": 7
    },
    {
     "cell_type": "code",
     "collapsed": false,
     "input": [
      "s  = Series(arange(3), index = ['a','b','c'])\n",
      "s['b']"
     ],
     "language": "python",
     "metadata": {},
     "outputs": []
    },
    {
     "cell_type": "code",
     "collapsed": false,
     "input": [
      "s.order()[::-1][0]"
     ],
     "language": "python",
     "metadata": {},
     "outputs": []
    },
    {
     "cell_type": "code",
     "collapsed": false,
     "input": [
      "df = DataFrame([{'name':'UC Berkeley', 'city':'Berkeley', 'state':'CA'}, {'name':'MIT', 'city':'Cambridge', 'state':'MA'},\n",
      "                {'name':'Stanford', 'city':'Stanford', 'state':'CA'}, {'name':'Harvard', 'city':'Cambridge', 'state':'MA'}])\n",
      "sum(df[df.state == 'CA'].name.str.len())\n",
      "\n",
      "# put into words what we're trying to calculate and give  the answer"
     ],
     "language": "python",
     "metadata": {},
     "outputs": []
    }
   ],
   "metadata": {}
  }
 ]
}