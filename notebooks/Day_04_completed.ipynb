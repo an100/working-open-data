{
 "metadata": {
  "name": ""
 },
 "nbformat": 3,
 "nbformat_minor": 0,
 "worksheets": [
  {
   "cells": [
    {
     "cell_type": "heading",
     "level": 1,
     "metadata": {},
     "source": [
      "Warm up with sequences, lists"
     ]
    },
    {
     "cell_type": "heading",
     "level": 2,
     "metadata": {},
     "source": [
      "Warm-up exercise I:  verifying sum of integers calculated by (young) Gauss"
     ]
    },
    {
     "cell_type": "markdown",
     "metadata": {},
     "source": [
      "![C. F. Gauss](http://upload.wikimedia.org/wikipedia/commons/thumb/9/9b/Carl_Friedrich_Gauss.jpg/220px-Carl_Friedrich_Gauss.jpg)\n",
      "\n",
      "http://mathandmultimedia.com/2010/09/15/sum-first-n-positive-integers/\n",
      "\n",
      ">  Gauss displayed his genius at an early age. According to anecdotes, when he was in primary school, he was punished by his teacher due to misbehavior.  He was told to add the numbers from 1 to 100. He was able to compute its sum, which is 5050, in a matter of seconds.\n",
      "\n",
      ">  Now, how on earth did he do it?\n",
      "\n",
      "See also:\n",
      "\n",
      "* http://en.wikipedia.org/wiki/Carl_Friedrich_Gauss#Anecdotes\n",
      "* [The Gauss Christmath Special](http://youtu.be/sxnX5_LbBDU?t=4m52s) by [Vi Hart](http://en.wikipedia.org/wiki/Vi_Hart)\n",
      "\n",
      "**Let's verify this result in a number of ways.  Take some time now to write some code to add up 1 to 100.**\n",
      "\n",
      "Specifically:\n",
      "\n",
      "* make use of [range](http://docs.python.org/2/library/functions.html#range)\n",
      "* try [xrange](http://docs.python.org/2/library/functions.html#xrange)\n",
      "* try an explicit loop vs `sum`\n",
      "* bonus:  try [itertool.count](http://docs.python.org/2/library/itertools.html#itertools.count) and [itertool.islice](http://docs.python.org/2/library/itertools.html#itertools.islice) -- these functions are Python *iterators*. \n",
      "* See [Build a Basic Python Iterator](http://stackoverflow.com/a/24377/7782) and \n",
      "[The Python yield keyword explained](http://stackoverflow.com/questions/231767/the-python-yield-keyword-explained)\n",
      "\n",
      "\n",
      "**Beware:  in ipython w/ pylab mode, `sum` might be overwritten by numpy's sum -- use `__builtin__.sum` if you want http://docs.python.org/2/library/functions.html#sum as opposed to http://docs.scipy.org/doc/numpy/reference/generated/numpy.sum.html** \n"
     ]
    },
    {
     "cell_type": "code",
     "collapsed": false,
     "input": [
      "%pylab inline"
     ],
     "language": "python",
     "metadata": {},
     "outputs": [
      {
       "output_type": "stream",
       "stream": "stdout",
       "text": [
        "Populating the interactive namespace from numpy and matplotlib\n"
       ]
      },
      {
       "output_type": "stream",
       "stream": "stderr",
       "text": [
        "WARNING: pylab import has clobbered these variables: ['triangular']\n",
        "`%pylab --no-import-all` prevents importing * from pylab and numpy\n"
       ]
      }
     ],
     "prompt_number": 35
    },
    {
     "cell_type": "code",
     "collapsed": false,
     "input": [
      "# using loop\n",
      "\n",
      "n = 100\n",
      "\n",
      "s = 0L\n",
      "for i in xrange(n+1):\n",
      "    s += i\n",
      "print s"
     ],
     "language": "python",
     "metadata": {},
     "outputs": [
      {
       "output_type": "stream",
       "stream": "stdout",
       "text": [
        "5050\n"
       ]
      }
     ],
     "prompt_number": 36
    },
    {
     "cell_type": "code",
     "collapsed": false,
     "input": [
      "# range\n",
      "print range(101)\n",
      "sum(range(101))"
     ],
     "language": "python",
     "metadata": {},
     "outputs": [
      {
       "output_type": "stream",
       "stream": "stdout",
       "text": [
        "[0, 1, 2, 3, 4, 5, 6, 7, 8, 9, 10, 11, 12, 13, 14, 15, 16, 17, 18, 19, 20, 21, 22, 23, 24, 25, 26, 27, 28, 29, 30, 31, 32, 33, 34, 35, 36, 37, 38, 39, 40, 41, 42, 43, 44, 45, 46, 47, 48, 49, 50, 51, 52, 53, 54, 55, 56, 57, 58, 59, 60, 61, 62, 63, 64, 65, 66, 67, 68, 69, 70, 71, 72, 73, 74, 75, 76, 77, 78, 79, 80, 81, 82, 83, 84, 85, 86, 87, 88, 89, 90, 91, 92, 93, 94, 95, 96, 97, 98, 99, 100]\n"
       ]
      },
      {
       "metadata": {},
       "output_type": "pyout",
       "prompt_number": 37,
       "text": [
        "5050"
       ]
      }
     ],
     "prompt_number": 37
    },
    {
     "cell_type": "code",
     "collapsed": false,
     "input": [
      "# xrange\n",
      "sum(xrange(101))"
     ],
     "language": "python",
     "metadata": {},
     "outputs": [
      {
       "metadata": {},
       "output_type": "pyout",
       "prompt_number": 38,
       "text": [
        "5050"
       ]
      }
     ],
     "prompt_number": 38
    },
    {
     "cell_type": "code",
     "collapsed": false,
     "input": [
      "from itertools import islice, count\n",
      "\n",
      "c = count(0, 1)"
     ],
     "language": "python",
     "metadata": {},
     "outputs": [],
     "prompt_number": 39
    },
    {
     "cell_type": "code",
     "collapsed": false,
     "input": [
      "# look at how count() works by repetively calling c.next()\n",
      "print c.next()\n",
      "print c.next()"
     ],
     "language": "python",
     "metadata": {},
     "outputs": [
      {
       "output_type": "stream",
       "stream": "stdout",
       "text": [
        "0\n",
        "1\n"
       ]
      }
     ],
     "prompt_number": 40
    },
    {
     "cell_type": "code",
     "collapsed": false,
     "input": [
      "# count\n",
      "__builtin__.sum(islice(count(0,1), 101L))"
     ],
     "language": "python",
     "metadata": {},
     "outputs": [
      {
       "metadata": {},
       "output_type": "pyout",
       "prompt_number": 41,
       "text": [
        "5050"
       ]
      }
     ],
     "prompt_number": 41
    },
    {
     "cell_type": "code",
     "collapsed": false,
     "input": [
      "import string\n",
      "\n",
      "def alpha1():\n",
      "    m = list(string.lowercase)\n",
      "    while m:\n",
      "        yield m.pop(0)\n",
      "    "
     ],
     "language": "python",
     "metadata": {},
     "outputs": [],
     "prompt_number": 42
    },
    {
     "cell_type": "code",
     "collapsed": false,
     "input": [
      "import string\n",
      "k = (s for s in list(string.lowercase))\n",
      "list(k)"
     ],
     "language": "python",
     "metadata": {},
     "outputs": [
      {
       "metadata": {},
       "output_type": "pyout",
       "prompt_number": 43,
       "text": [
        "['a',\n",
        " 'b',\n",
        " 'c',\n",
        " 'd',\n",
        " 'e',\n",
        " 'f',\n",
        " 'g',\n",
        " 'h',\n",
        " 'i',\n",
        " 'j',\n",
        " 'k',\n",
        " 'l',\n",
        " 'm',\n",
        " 'n',\n",
        " 'o',\n",
        " 'p',\n",
        " 'q',\n",
        " 'r',\n",
        " 's',\n",
        " 't',\n",
        " 'u',\n",
        " 'v',\n",
        " 'w',\n",
        " 'x',\n",
        " 'y',\n",
        " 'z']"
       ]
      }
     ],
     "prompt_number": 43
    },
    {
     "cell_type": "code",
     "collapsed": false,
     "input": [
      "def my_count(start, step):\n",
      "    n = start\n",
      "    while True:\n",
      "        yield n\n",
      "        n += step\n",
      "        \n",
      "__builtin__.sum(islice(my_count(0,1), 101L))"
     ],
     "language": "python",
     "metadata": {},
     "outputs": [
      {
       "metadata": {},
       "output_type": "pyout",
       "prompt_number": 44,
       "text": [
        "5050"
       ]
      }
     ],
     "prompt_number": 44
    },
    {
     "cell_type": "markdown",
     "metadata": {},
     "source": [
      "$T_n= \\sum_{k=1}^n k = 1+2+3+ \\dotsb +n = \\frac{n(n+1)}{2} = {n+1 \\choose 2}$"
     ]
    },
    {
     "cell_type": "code",
     "collapsed": false,
     "input": [
      "from itertools import islice\n",
      "\n",
      "def triangular():\n",
      "    n = 1\n",
      "    i = 1\n",
      "    while True:\n",
      "        yield n\n",
      "        i +=1\n",
      "        n += i\n"
     ],
     "language": "python",
     "metadata": {},
     "outputs": [],
     "prompt_number": 45
    },
    {
     "cell_type": "code",
     "collapsed": false,
     "input": [
      "for i, n in enumerate(islice(triangular(), 10)):\n",
      "    print i+1, n"
     ],
     "language": "python",
     "metadata": {},
     "outputs": [
      {
       "output_type": "stream",
       "stream": "stdout",
       "text": [
        "1 1\n",
        "2 3\n",
        "3 6\n",
        "4 10\n",
        "5 15\n",
        "6 21\n",
        "7 28\n",
        "8 36\n",
        "9 45\n",
        "10 55\n"
       ]
      }
     ],
     "prompt_number": 46
    },
    {
     "cell_type": "code",
     "collapsed": false,
     "input": [
      "list(islice(triangular(), 100))[-1]"
     ],
     "language": "python",
     "metadata": {},
     "outputs": [
      {
       "metadata": {},
       "output_type": "pyout",
       "prompt_number": 47,
       "text": [
        "5050"
       ]
      }
     ],
     "prompt_number": 47
    },
    {
     "cell_type": "code",
     "collapsed": false,
     "input": [
      "list(islice(triangular(),99,100))[0]"
     ],
     "language": "python",
     "metadata": {},
     "outputs": [
      {
       "metadata": {},
       "output_type": "pyout",
       "prompt_number": 48,
       "text": [
        "5050"
       ]
      }
     ],
     "prompt_number": 48
    },
    {
     "cell_type": "heading",
     "level": 2,
     "metadata": {},
     "source": [
      "Warm Up Exercise II: Wheat and chessboard problem"
     ]
    },
    {
     "cell_type": "markdown",
     "metadata": {},
     "source": [
      "http://en.wikipedia.org/wiki/Wheat_and_chessboard_problem :\n",
      "\n",
      "> If a chessboard were to have wheat placed upon each square such that one grain were placed on the first square, two on the second, four on the third, and so on (doubling the number of grains on each subsequent square), how many grains of wheat would be on the chessboard at the finish?\n",
      "\n",
      "> The total number of grains equals 18,446,744,073,709,551,615, which is a much higher number than most people intuitively expect.\n",
      "\n",
      "* try using [pow](http://docs.python.org/2/library/functions.html#pow)"
     ]
    },
    {
     "cell_type": "code",
     "collapsed": false,
     "input": [
      "# Legend of the Chessboard YouTube video\n",
      "\n",
      "from IPython.display import YouTubeVideo\n",
      "YouTubeVideo('t3d0Y-JpRRg')"
     ],
     "language": "python",
     "metadata": {},
     "outputs": [
      {
       "html": [
        "\n",
        "        <iframe\n",
        "            width=\"400\"\n",
        "            height=300\"\n",
        "            src=\"http://www.youtube.com/embed/t3d0Y-JpRRg\"\n",
        "            frameborder=\"0\"\n",
        "            allowfullscreen\n",
        "        ></iframe>\n",
        "        "
       ],
       "metadata": {},
       "output_type": "pyout",
       "prompt_number": 49,
       "text": [
        "<IPython.lib.display.YouTubeVideo at 0xb487a70>"
       ]
      }
     ],
     "prompt_number": 49
    },
    {
     "cell_type": "code",
     "collapsed": false,
     "input": [
      "# generator comprehension\n",
      "\n",
      "k  = (pow(2,n) for n in xrange(64))\n",
      "k.next()"
     ],
     "language": "python",
     "metadata": {},
     "outputs": [
      {
       "metadata": {},
       "output_type": "pyout",
       "prompt_number": 50,
       "text": [
        "1"
       ]
      }
     ],
     "prompt_number": 50
    },
    {
     "cell_type": "code",
     "collapsed": false,
     "input": [
      "__builtin__.sum((pow(2,n) for n in xrange(64)))"
     ],
     "language": "python",
     "metadata": {},
     "outputs": [
      {
       "metadata": {},
       "output_type": "pyout",
       "prompt_number": 51,
       "text": [
        "18446744073709551615L"
       ]
      }
     ],
     "prompt_number": 51
    },
    {
     "cell_type": "code",
     "collapsed": false,
     "input": [
      "pow(2,64) -1"
     ],
     "language": "python",
     "metadata": {},
     "outputs": [
      {
       "metadata": {},
       "output_type": "pyout",
       "prompt_number": 52,
       "text": [
        "18446744073709551615L"
       ]
      }
     ],
     "prompt_number": 52
    },
    {
     "cell_type": "heading",
     "level": 1,
     "metadata": {},
     "source": [
      "Slicing/Indexing Review"
     ]
    },
    {
     "cell_type": "markdown",
     "metadata": {},
     "source": [
      "http://stackoverflow.com/a/509295/7782\n",
      "\n",
      "Use on any of the **sequence** types ([python docs on sequence types](http://docs.python.org/2/library/stdtypes.html#sequence-types-str-unicode-list-tuple-bytearray-buffer-xrange)):\n",
      "\n",
      "> There are seven sequence types: strings, Unicode strings, lists, tuples, bytearrays, buffers, and xrange objects.\n",
      "\n",
      "The use of square brackets are for accessing *slices* of sequence."
     ]
    },
    {
     "cell_type": "markdown",
     "metadata": {},
     "source": [
      "Let's remind ourselves of how to use slices\n",
      "\n",
      "* `s[i]`\n",
      "* `s[i:j]`\n",
      "* `s[i:j:k]`\n",
      "* meaning of negative indices\n",
      "* 0-base counting\n",
      "\n"
     ]
    },
    {
     "cell_type": "code",
     "collapsed": false,
     "input": [
      "m = range(10)\n",
      "m"
     ],
     "language": "python",
     "metadata": {},
     "outputs": [
      {
       "metadata": {},
       "output_type": "pyout",
       "prompt_number": 53,
       "text": [
        "[0, 1, 2, 3, 4, 5, 6, 7, 8, 9]"
       ]
      }
     ],
     "prompt_number": 53
    },
    {
     "cell_type": "code",
     "collapsed": false,
     "input": [
      "m[0]"
     ],
     "language": "python",
     "metadata": {},
     "outputs": [
      {
       "metadata": {},
       "output_type": "pyout",
       "prompt_number": 54,
       "text": [
        "0"
       ]
      }
     ],
     "prompt_number": 54
    },
    {
     "cell_type": "code",
     "collapsed": false,
     "input": [
      "m[-1]"
     ],
     "language": "python",
     "metadata": {},
     "outputs": [
      {
       "metadata": {},
       "output_type": "pyout",
       "prompt_number": 55,
       "text": [
        "9"
       ]
      }
     ],
     "prompt_number": 55
    },
    {
     "cell_type": "code",
     "collapsed": false,
     "input": [
      "m[::-1]"
     ],
     "language": "python",
     "metadata": {},
     "outputs": [
      {
       "metadata": {},
       "output_type": "pyout",
       "prompt_number": 56,
       "text": [
        "[9, 8, 7, 6, 5, 4, 3, 2, 1, 0]"
       ]
      }
     ],
     "prompt_number": 56
    },
    {
     "cell_type": "code",
     "collapsed": false,
     "input": [
      "m[2:3]"
     ],
     "language": "python",
     "metadata": {},
     "outputs": [
      {
       "metadata": {},
       "output_type": "pyout",
       "prompt_number": 57,
       "text": [
        "[2]"
       ]
      }
     ],
     "prompt_number": 57
    },
    {
     "cell_type": "code",
     "collapsed": false,
     "input": [
      "import string\n",
      "alphabet = string.lowercase\n",
      "\n",
      "alphabet"
     ],
     "language": "python",
     "metadata": {},
     "outputs": [
      {
       "metadata": {},
       "output_type": "pyout",
       "prompt_number": 58,
       "text": [
        "'abcdefghijklmnopqrstuvwxyz'"
       ]
      }
     ],
     "prompt_number": 58
    },
    {
     "cell_type": "code",
     "collapsed": false,
     "input": [
      "# 13 letter of the alphabet\n",
      "alphabet[12]"
     ],
     "language": "python",
     "metadata": {},
     "outputs": [
      {
       "metadata": {},
       "output_type": "pyout",
       "prompt_number": 59,
       "text": [
        "'m'"
       ]
      }
     ],
     "prompt_number": 59
    },
    {
     "cell_type": "markdown",
     "metadata": {},
     "source": [
      "**We will revisit generalized slicing in NumPy.**"
     ]
    },
    {
     "cell_type": "heading",
     "level": 1,
     "metadata": {},
     "source": [
      " Import/naming conventions and pylab mode"
     ]
    },
    {
     "cell_type": "markdown",
     "metadata": {},
     "source": [
      "<http://my.safaribooksonline.com/book/programming/python/9781449323592/1dot-preliminaries/id2699702>\n",
      "\n",
      "    import numpy as np\n",
      "    import pandas as pd\n",
      "    import matplotlib.pyplot as plt\n",
      "    from pandas import Series, DataFrame\n",
      "    \n",
      "These imports done for you in `pylab` mode.\n",
      "\n",
      "## pylab mode\n",
      "\n",
      "    ipython --help\n",
      "    \n",
      "yields\n",
      "\n",
      "    --pylab=<CaselessStrEnum> (InteractiveShellApp.pylab)\n",
      "        Default: None\n",
      "        Choices: ['tk', 'qt', 'wx', 'gtk', 'osx', 'inline', 'auto']\n",
      "        Pre-load matplotlib and numpy for interactive use, selecting a particular\n",
      "        matplotlib backend and loop integration."
     ]
    },
    {
     "cell_type": "code",
     "collapsed": false,
     "input": [
      "import numpy as np\n",
      "import pandas as pd\n",
      "import matplotlib.pyplot as plt\n",
      "from pandas import Series, DataFrame"
     ],
     "language": "python",
     "metadata": {},
     "outputs": [],
     "prompt_number": 60
    },
    {
     "cell_type": "heading",
     "level": 1,
     "metadata": {},
     "source": [
      "NumPy"
     ]
    },
    {
     "cell_type": "markdown",
     "metadata": {},
     "source": [
      "<http://www.numpy.org/>:\n",
      "\n",
      "NumPy is the **fundamental package for scientific computing with Python**. It contains among other things:\n",
      "\n",
      "* a powerful N-dimensional array object [let's start with 1 and 2 dimensions]\n",
      "* sophisticated (**broadcasting**) functions [what is *broadcasting*?]\n",
      "* tools for integrating C/C++ and Fortran code [why useful?]\n",
      "* useful linear algebra, Fourier transform, and random number capabilities\n",
      "\n",
      "Besides its obvious scientific uses, NumPy can also be used as an efficient\n",
      "multi-dimensional container of **generic data**. **Arbitrary data-types** can be\n",
      "defined. This allows NumPy to seamlessly and speedily integrate with a wide\n",
      "variety of databases.\n",
      "\n",
      "See `PfDA`, Chapter 4\n"
     ]
    },
    {
     "cell_type": "heading",
     "level": 2,
     "metadata": {},
     "source": [
      "ndarray.ndim, ndarray.shape"
     ]
    },
    {
     "cell_type": "code",
     "collapsed": false,
     "input": [
      "# zero-dimensions\n",
      "\n",
      "a0 = np.array(5)\n",
      "a0"
     ],
     "language": "python",
     "metadata": {},
     "outputs": [
      {
       "metadata": {},
       "output_type": "pyout",
       "prompt_number": 61,
       "text": [
        "array(5)"
       ]
      }
     ],
     "prompt_number": 61
    },
    {
     "cell_type": "markdown",
     "metadata": {},
     "source": [
      "use [shape](http://docs.scipy.org/doc/numpy/reference/generated/numpy.ndarray.shape.html) to get a tuple of array dimensions"
     ]
    },
    {
     "cell_type": "code",
     "collapsed": false,
     "input": [
      "a0.ndim, a0.shape"
     ],
     "language": "python",
     "metadata": {},
     "outputs": [
      {
       "metadata": {},
       "output_type": "pyout",
       "prompt_number": 62,
       "text": [
        "(0, ())"
       ]
      }
     ],
     "prompt_number": 62
    },
    {
     "cell_type": "code",
     "collapsed": false,
     "input": [
      "# 1-d array\n",
      "a1 = np.array([1,2])\n",
      "a1.ndim, a1.shape"
     ],
     "language": "python",
     "metadata": {},
     "outputs": [
      {
       "metadata": {},
       "output_type": "pyout",
       "prompt_number": 63,
       "text": [
        "(1, (2,))"
       ]
      }
     ],
     "prompt_number": 63
    },
    {
     "cell_type": "code",
     "collapsed": false,
     "input": [
      "# 2-d array\n",
      "\n",
      "a2 = np.array(([1,2], [3,4]))\n",
      "a2.ndim, a2.shape"
     ],
     "language": "python",
     "metadata": {},
     "outputs": [
      {
       "metadata": {},
       "output_type": "pyout",
       "prompt_number": 64,
       "text": [
        "(2, (2, 2))"
       ]
      }
     ],
     "prompt_number": 64
    },
    {
     "cell_type": "heading",
     "level": 2,
     "metadata": {},
     "source": [
      "dtype:  type of given ndarray"
     ]
    },
    {
     "cell_type": "code",
     "collapsed": false,
     "input": [
      "a2.dtype"
     ],
     "language": "python",
     "metadata": {},
     "outputs": [
      {
       "metadata": {},
       "output_type": "pyout",
       "prompt_number": 65,
       "text": [
        "dtype('int32')"
       ]
      }
     ],
     "prompt_number": 65
    },
    {
     "cell_type": "heading",
     "level": 2,
     "metadata": {},
     "source": [
      "np.arange"
     ]
    },
    {
     "cell_type": "markdown",
     "metadata": {},
     "source": [
      "[arange](http://docs.scipy.org/doc/numpy/reference/generated/numpy.arange.html#numpy.arange) is one instance of [`ndarray` creating function in NumPy](http://docs.scipy.org/doc/numpy/reference/routines.array-creation.html)\n",
      "\n",
      "Compare to `xrange`."
     ]
    },
    {
     "cell_type": "code",
     "collapsed": false,
     "input": [
      "type(arange(10))"
     ],
     "language": "python",
     "metadata": {},
     "outputs": [
      {
       "metadata": {},
       "output_type": "pyout",
       "prompt_number": 66,
       "text": [
        "numpy.ndarray"
       ]
      }
     ],
     "prompt_number": 66
    },
    {
     "cell_type": "code",
     "collapsed": false,
     "input": [
      "for k in arange(10):\n",
      "    print k"
     ],
     "language": "python",
     "metadata": {},
     "outputs": [
      {
       "output_type": "stream",
       "stream": "stdout",
       "text": [
        "0\n",
        "1\n",
        "2\n",
        "3\n",
        "4\n",
        "5\n",
        "6\n",
        "7\n",
        "8\n",
        "9\n"
       ]
      }
     ],
     "prompt_number": 67
    },
    {
     "cell_type": "code",
     "collapsed": false,
     "input": [
      "list(arange(10)) == list(xrange(10))"
     ],
     "language": "python",
     "metadata": {},
     "outputs": [
      {
       "metadata": {},
       "output_type": "pyout",
       "prompt_number": 68,
       "text": [
        "True"
       ]
      }
     ],
     "prompt_number": 68
    },
    {
     "cell_type": "heading",
     "level": 2,
     "metadata": {},
     "source": [
      "NumPy.ndarray.reshape"
     ]
    },
    {
     "cell_type": "code",
     "collapsed": false,
     "input": [
      "#how to map 0..63 -> 2x2 array\n",
      "a3 = np.arange(64).reshape(8,8)\n",
      "a3"
     ],
     "language": "python",
     "metadata": {},
     "outputs": [
      {
       "metadata": {},
       "output_type": "pyout",
       "prompt_number": 69,
       "text": [
        "array([[ 0,  1,  2,  3,  4,  5,  6,  7],\n",
        "       [ 8,  9, 10, 11, 12, 13, 14, 15],\n",
        "       [16, 17, 18, 19, 20, 21, 22, 23],\n",
        "       [24, 25, 26, 27, 28, 29, 30, 31],\n",
        "       [32, 33, 34, 35, 36, 37, 38, 39],\n",
        "       [40, 41, 42, 43, 44, 45, 46, 47],\n",
        "       [48, 49, 50, 51, 52, 53, 54, 55],\n",
        "       [56, 57, 58, 59, 60, 61, 62, 63]])"
       ]
      }
     ],
     "prompt_number": 69
    },
    {
     "cell_type": "code",
     "collapsed": false,
     "input": [
      "a3[1,2]"
     ],
     "language": "python",
     "metadata": {},
     "outputs": [
      {
       "metadata": {},
       "output_type": "pyout",
       "prompt_number": 70,
       "text": [
        "10"
       ]
      }
     ],
     "prompt_number": 70
    },
    {
     "cell_type": "code",
     "collapsed": false,
     "input": [
      "for i in range(8):\n",
      "    for j in range(8):\n",
      "        if a3[i,j] != i*8 + j:\n",
      "            print i, j"
     ],
     "language": "python",
     "metadata": {},
     "outputs": [],
     "prompt_number": 71
    },
    {
     "cell_type": "markdown",
     "metadata": {},
     "source": [
      "##scalar multiplication\n",
      "\n",
      "example of [broadcasting](http://docs.scipy.org/doc/numpy/user/basics.broadcasting.html):\n",
      "\n",
      "> The term broadcasting describes how numpy treats arrays with different shapes during arithmetic operations. Subject to certain constraints, the smaller array is \u201cbroadcast\u201d across the larger array so that they have compatible shapes. Broadcasting provides a means of vectorizing array operations so that looping occurs in C instead of Python. It does this without making needless copies of data and usually leads to efficient algorithm implementations. There are, however, cases where broadcasting is a bad idea because it leads to inefficient use of memory that slows computation."
     ]
    },
    {
     "cell_type": "code",
     "collapsed": false,
     "input": [
      "2*a3"
     ],
     "language": "python",
     "metadata": {},
     "outputs": [
      {
       "metadata": {},
       "output_type": "pyout",
       "prompt_number": 72,
       "text": [
        "array([[  0,   2,   4,   6,   8,  10,  12,  14],\n",
        "       [ 16,  18,  20,  22,  24,  26,  28,  30],\n",
        "       [ 32,  34,  36,  38,  40,  42,  44,  46],\n",
        "       [ 48,  50,  52,  54,  56,  58,  60,  62],\n",
        "       [ 64,  66,  68,  70,  72,  74,  76,  78],\n",
        "       [ 80,  82,  84,  86,  88,  90,  92,  94],\n",
        "       [ 96,  98, 100, 102, 104, 106, 108, 110],\n",
        "       [112, 114, 116, 118, 120, 122, 124, 126]])"
       ]
      }
     ],
     "prompt_number": 72
    },
    {
     "cell_type": "heading",
     "level": 2,
     "metadata": {},
     "source": [
      "add 2 to all elements in a3"
     ]
    },
    {
     "cell_type": "code",
     "collapsed": false,
     "input": [
      "a3+2"
     ],
     "language": "python",
     "metadata": {},
     "outputs": [
      {
       "metadata": {},
       "output_type": "pyout",
       "prompt_number": 73,
       "text": [
        "array([[ 2,  3,  4,  5,  6,  7,  8,  9],\n",
        "       [10, 11, 12, 13, 14, 15, 16, 17],\n",
        "       [18, 19, 20, 21, 22, 23, 24, 25],\n",
        "       [26, 27, 28, 29, 30, 31, 32, 33],\n",
        "       [34, 35, 36, 37, 38, 39, 40, 41],\n",
        "       [42, 43, 44, 45, 46, 47, 48, 49],\n",
        "       [50, 51, 52, 53, 54, 55, 56, 57],\n",
        "       [58, 59, 60, 61, 62, 63, 64, 65]])"
       ]
      }
     ],
     "prompt_number": 73
    },
    {
     "cell_type": "heading",
     "level": 2,
     "metadata": {},
     "source": [
      "sorting"
     ]
    },
    {
     "cell_type": "code",
     "collapsed": false,
     "input": [
      "# reverse sort -- best way?\n",
      "#http://stackoverflow.com/a/6771620/7782\n",
      "\n",
      "np.sort(arange(100))[::-1]"
     ],
     "language": "python",
     "metadata": {},
     "outputs": [
      {
       "metadata": {},
       "output_type": "pyout",
       "prompt_number": 74,
       "text": [
        "array([99, 98, 97, 96, 95, 94, 93, 92, 91, 90, 89, 88, 87, 86, 85, 84, 83,\n",
        "       82, 81, 80, 79, 78, 77, 76, 75, 74, 73, 72, 71, 70, 69, 68, 67, 66,\n",
        "       65, 64, 63, 62, 61, 60, 59, 58, 57, 56, 55, 54, 53, 52, 51, 50, 49,\n",
        "       48, 47, 46, 45, 44, 43, 42, 41, 40, 39, 38, 37, 36, 35, 34, 33, 32,\n",
        "       31, 30, 29, 28, 27, 26, 25, 24, 23, 22, 21, 20, 19, 18, 17, 16, 15,\n",
        "       14, 13, 12, 11, 10,  9,  8,  7,  6,  5,  4,  3,  2,  1,  0])"
       ]
      }
     ],
     "prompt_number": 74
    },
    {
     "cell_type": "heading",
     "level": 2,
     "metadata": {},
     "source": [
      "Boolean slice:  important novel type of slicing"
     ]
    },
    {
     "cell_type": "markdown",
     "metadata": {},
     "source": [
      "**This stuff is a bit tricky** (see PfDA, pp. 89-92)\n",
      "\n",
      "Consider example of picking out whole numbers less than 20 that are evenly divisible by 3.  Generate a list of such numbers"
     ]
    },
    {
     "cell_type": "code",
     "collapsed": false,
     "input": [
      "# list comprehension\n",
      "\n",
      "[i for i in xrange(20) if i % 3 == 0]"
     ],
     "language": "python",
     "metadata": {},
     "outputs": [
      {
       "metadata": {},
       "output_type": "pyout",
       "prompt_number": 75,
       "text": [
        "[0, 3, 6, 9, 12, 15, 18]"
       ]
      }
     ],
     "prompt_number": 75
    },
    {
     "cell_type": "code",
     "collapsed": false,
     "input": [
      "a3 = arange(20) \n",
      "a3"
     ],
     "language": "python",
     "metadata": {},
     "outputs": [
      {
       "metadata": {},
       "output_type": "pyout",
       "prompt_number": 76,
       "text": [
        "array([ 0,  1,  2,  3,  4,  5,  6,  7,  8,  9, 10, 11, 12, 13, 14, 15, 16,\n",
        "       17, 18, 19])"
       ]
      }
     ],
     "prompt_number": 76
    },
    {
     "cell_type": "code",
     "collapsed": false,
     "input": [
      "# basic indexing\n",
      "\n",
      "print a3[0]\n",
      "print a3[::-1]\n",
      "print a3[2:5]"
     ],
     "language": "python",
     "metadata": {},
     "outputs": [
      {
       "output_type": "stream",
       "stream": "stdout",
       "text": [
        "0\n",
        "[19 18 17 16 15 14 13 12 11 10  9  8  7  6  5  4  3  2  1  0]\n",
        "[2 3 4]\n"
       ]
      }
     ],
     "prompt_number": 77
    },
    {
     "cell_type": "code",
     "collapsed": false,
     "input": [
      "np.mod(a3, 3)"
     ],
     "language": "python",
     "metadata": {},
     "outputs": [
      {
       "metadata": {},
       "output_type": "pyout",
       "prompt_number": 78,
       "text": [
        "array([0, 1, 2, 0, 1, 2, 0, 1, 2, 0, 1, 2, 0, 1, 2, 0, 1, 2, 0, 1])"
       ]
      }
     ],
     "prompt_number": 78
    },
    {
     "cell_type": "code",
     "collapsed": false,
     "input": [
      "np.mod(a3, 3) == 0"
     ],
     "language": "python",
     "metadata": {},
     "outputs": [
      {
       "metadata": {},
       "output_type": "pyout",
       "prompt_number": 79,
       "text": [
        "array([ True, False, False,  True, False, False,  True, False, False,\n",
        "        True, False, False,  True, False, False,  True, False, False,\n",
        "        True, False], dtype=bool)"
       ]
      }
     ],
     "prompt_number": 79
    },
    {
     "cell_type": "code",
     "collapsed": false,
     "input": [
      "divisible_by_3 = np.mod(a3, 3) == 0"
     ],
     "language": "python",
     "metadata": {},
     "outputs": [],
     "prompt_number": 80
    },
    {
     "cell_type": "code",
     "collapsed": false,
     "input": [
      "a3[divisible_by_3]"
     ],
     "language": "python",
     "metadata": {},
     "outputs": [
      {
       "metadata": {},
       "output_type": "pyout",
       "prompt_number": 81,
       "text": [
        "array([ 0,  3,  6,  9, 12, 15, 18])"
       ]
      }
     ],
     "prompt_number": 81
    },
    {
     "cell_type": "code",
     "collapsed": false,
     "input": [
      "# if you want to understand this in terms of the overloaded operators -- don't worry if you don't get this.\n",
      "a3.__getitem__(np.mod(a3,3).__eq__(0))"
     ],
     "language": "python",
     "metadata": {},
     "outputs": [
      {
       "metadata": {},
       "output_type": "pyout",
       "prompt_number": 82,
       "text": [
        "array([ 0,  3,  6,  9, 12, 15, 18])"
       ]
      }
     ],
     "prompt_number": 82
    },
    {
     "cell_type": "heading",
     "level": 2,
     "metadata": {},
     "source": [
      "Exercise:  Calculate a series that holds all the squares less than 100"
     ]
    },
    {
     "cell_type": "markdown",
     "metadata": {},
     "source": [
      "Use arange, np.sqrt, [astype](http://docs.scipy.org/doc/numpy/reference/generated/numpy.ndarray.astype.html)"
     ]
    },
    {
     "cell_type": "code",
     "collapsed": false,
     "input": [
      "a4 = arange(100)\n",
      "a4sqrt = np.sqrt(a4)\n",
      "a4[a4sqrt == a4sqrt.astype(np.int)]"
     ],
     "language": "python",
     "metadata": {},
     "outputs": [
      {
       "metadata": {},
       "output_type": "pyout",
       "prompt_number": 83,
       "text": [
        "array([ 0,  1,  4,  9, 16, 25, 36, 49, 64, 81])"
       ]
      }
     ],
     "prompt_number": 83
    },
    {
     "cell_type": "heading",
     "level": 2,
     "metadata": {},
     "source": [
      "We will come back to indexing later."
     ]
    },
    {
     "cell_type": "markdown",
     "metadata": {},
     "source": [
      "http://docs.scipy.org/doc/numpy/reference/arrays.indexing.html"
     ]
    },
    {
     "cell_type": "heading",
     "level": 1,
     "metadata": {},
     "source": [
      "Pandas"
     ]
    },
    {
     "cell_type": "heading",
     "level": 2,
     "metadata": {},
     "source": [
      "pandas.Series"
     ]
    },
    {
     "cell_type": "markdown",
     "metadata": {},
     "source": [
      "Make a series out of an array"
     ]
    },
    {
     "cell_type": "code",
     "collapsed": false,
     "input": [
      "s1 = Series(arange(5))"
     ],
     "language": "python",
     "metadata": {},
     "outputs": [],
     "prompt_number": 84
    },
    {
     "cell_type": "markdown",
     "metadata": {},
     "source": [
      "  confirm that the type of s1 is  what you would expect"
     ]
    },
    {
     "cell_type": "code",
     "collapsed": false,
     "input": [
      "type(s1)"
     ],
     "language": "python",
     "metadata": {},
     "outputs": [
      {
       "metadata": {},
       "output_type": "pyout",
       "prompt_number": 85,
       "text": [
        "pandas.core.series.Series"
       ]
      }
     ],
     "prompt_number": 85
    },
    {
     "cell_type": "markdown",
     "metadata": {},
     "source": [
      "show that the series is also an array"
     ]
    },
    {
     "cell_type": "code",
     "collapsed": false,
     "input": [
      "s1.ndim, isinstance(s1, np.ndarray)"
     ],
     "language": "python",
     "metadata": {},
     "outputs": [
      {
       "metadata": {},
       "output_type": "pyout",
       "prompt_number": 86,
       "text": [
        "(1, True)"
       ]
      }
     ],
     "prompt_number": 86
    },
    {
     "cell_type": "code",
     "collapsed": false,
     "input": [
      "s1.index"
     ],
     "language": "python",
     "metadata": {},
     "outputs": [
      {
       "metadata": {},
       "output_type": "pyout",
       "prompt_number": 87,
       "text": [
        "Int64Index([0, 1, 2, 3, 4], dtype=int64)"
       ]
      }
     ],
     "prompt_number": 87
    },
    {
     "cell_type": "code",
     "collapsed": false,
     "input": [
      "import string\n",
      "allTheLetters = string.lowercase\n",
      "allTheLetters"
     ],
     "language": "python",
     "metadata": {},
     "outputs": [
      {
       "metadata": {},
       "output_type": "pyout",
       "prompt_number": 88,
       "text": [
        "'abcdefghijklmnopqrstuvwxyz'"
       ]
      }
     ],
     "prompt_number": 88
    },
    {
     "cell_type": "code",
     "collapsed": false,
     "input": [
      "s2 = Series(data=arange(5), index=list(allTheLetters)[:5])\n",
      "s2"
     ],
     "language": "python",
     "metadata": {},
     "outputs": [
      {
       "metadata": {},
       "output_type": "pyout",
       "prompt_number": 91,
       "text": [
        "a    0\n",
        "b    1\n",
        "c    2\n",
        "d    3\n",
        "e    4\n",
        "dtype: int32"
       ]
      }
     ],
     "prompt_number": 91
    },
    {
     "cell_type": "code",
     "collapsed": false,
     "input": [
      "s2.index"
     ],
     "language": "python",
     "metadata": {},
     "outputs": [
      {
       "metadata": {},
       "output_type": "pyout",
       "prompt_number": 92,
       "text": [
        "Index([u'a', u'b', u'c', u'd', u'e'], dtype=object)"
       ]
      }
     ],
     "prompt_number": 92
    },
    {
     "cell_type": "markdown",
     "metadata": {},
     "source": [
      "http://my.safaribooksonline.com/book/programming/python/9781449323592/5dot-getting-started-with-pandas/id2828378 :\n",
      "\n",
      "> Compared with a regular NumPy array, you can use values in the index when selecting single values or a set of values"
     ]
    },
    {
     "cell_type": "code",
     "collapsed": false,
     "input": [
      "# can use both numeric indexing and the labels\n",
      "s2[0], s2['a']"
     ],
     "language": "python",
     "metadata": {},
     "outputs": [
      {
       "metadata": {},
       "output_type": "pyout",
       "prompt_number": 93,
       "text": [
        "(0, 0)"
       ]
      }
     ],
     "prompt_number": 93
    },
    {
     "cell_type": "code",
     "collapsed": false,
     "input": [
      "for i in range(len(s2)):\n",
      "    print i, s2[i]"
     ],
     "language": "python",
     "metadata": {},
     "outputs": [
      {
       "output_type": "stream",
       "stream": "stdout",
       "text": [
        "0 0\n",
        "1 1\n",
        "2 2\n",
        "3 3\n",
        "4 4\n"
       ]
      }
     ],
     "prompt_number": 94
    },
    {
     "cell_type": "markdown",
     "metadata": {},
     "source": [
      "it is possible conflict in indexing -- consider"
     ]
    },
    {
     "cell_type": "code",
     "collapsed": false,
     "input": [
      "s3 = Series(data=['albert', 'betty', 'cathy'], index=[3,1, 0])\n",
      "s3"
     ],
     "language": "python",
     "metadata": {},
     "outputs": [
      {
       "metadata": {},
       "output_type": "pyout",
       "prompt_number": 95,
       "text": [
        "3    albert\n",
        "1     betty\n",
        "0     cathy\n",
        "dtype: object"
       ]
      }
     ],
     "prompt_number": 95
    },
    {
     "cell_type": "code",
     "collapsed": false,
     "input": [
      "s3[0], list(s3)[0]"
     ],
     "language": "python",
     "metadata": {},
     "outputs": [
      {
       "metadata": {},
       "output_type": "pyout",
       "prompt_number": 96,
       "text": [
        "('cathy', 'albert')"
       ]
      }
     ],
     "prompt_number": 96
    },
    {
     "cell_type": "markdown",
     "metadata": {},
     "source": [
      "but slicing works to return specific numeric index"
     ]
    },
    {
     "cell_type": "code",
     "collapsed": false,
     "input": [
      "s3[::-1]"
     ],
     "language": "python",
     "metadata": {},
     "outputs": [
      {
       "metadata": {},
       "output_type": "pyout",
       "prompt_number": 97,
       "text": [
        "0     cathy\n",
        "1     betty\n",
        "3    albert\n",
        "dtype: object"
       ]
      }
     ],
     "prompt_number": 97
    },
    {
     "cell_type": "code",
     "collapsed": false,
     "input": [
      "for i in range(len(s3)):\n",
      "    print i, s3[i:i+1]"
     ],
     "language": "python",
     "metadata": {},
     "outputs": [
      {
       "output_type": "stream",
       "stream": "stdout",
       "text": [
        "0 3    albert\n",
        "dtype: object\n",
        "1 1    betty\n",
        "dtype: object\n",
        "2 0    cathy\n",
        "dtype: object\n"
       ]
      }
     ],
     "prompt_number": 98
    },
    {
     "cell_type": "code",
     "collapsed": false,
     "input": [
      "s3.name = 'person names'\n",
      "s3.name"
     ],
     "language": "python",
     "metadata": {},
     "outputs": [
      {
       "metadata": {},
       "output_type": "pyout",
       "prompt_number": 99,
       "text": [
        "'person names'"
       ]
      }
     ],
     "prompt_number": 99
    },
    {
     "cell_type": "code",
     "collapsed": false,
     "input": [
      "s3.index.name = 'confounding label'\n",
      "s3.index.name"
     ],
     "language": "python",
     "metadata": {},
     "outputs": [
      {
       "metadata": {},
       "output_type": "pyout",
       "prompt_number": 100,
       "text": [
        "'confounding label'"
       ]
      }
     ],
     "prompt_number": 100
    },
    {
     "cell_type": "code",
     "collapsed": false,
     "input": [
      "s3"
     ],
     "language": "python",
     "metadata": {},
     "outputs": [
      {
       "metadata": {},
       "output_type": "pyout",
       "prompt_number": 101,
       "text": [
        "confounding label\n",
        "3                    albert\n",
        "1                     betty\n",
        "0                     cathy\n",
        "Name: person names, dtype: object"
       ]
      }
     ],
     "prompt_number": 101
    },
    {
     "cell_type": "markdown",
     "metadata": {},
     "source": [
      "Important points remaining:\n",
      "\n",
      "* \"NumPy array operations, such as filtering with a boolean array, scalar multiplication, or applying math functions, will preserve the index-value link\"\n",
      "* \"Another way to think about a Series is as a fixed-length, ordered dict, as it is a mapping of index values to data values. It can be substituted into many functions that expect a dict\""
     ]
    },
    {
     "cell_type": "heading",
     "level": 2,
     "metadata": {},
     "source": [
      "Gauss & Chess revisited, using Series"
     ]
    },
    {
     "cell_type": "markdown",
     "metadata": {},
     "source": [
      "You get some nice `matplotlib` integration via pandas"
     ]
    },
    {
     "cell_type": "code",
     "collapsed": false,
     "input": [
      "# Gauss addition using np.arange, Series \n",
      "\n",
      "from pandas import Series\n",
      "Series(arange(101).cumsum()).plot()"
     ],
     "language": "python",
     "metadata": {},
     "outputs": [
      {
       "metadata": {},
       "output_type": "pyout",
       "prompt_number": 102,
       "text": [
        "<matplotlib.axes.AxesSubplot at 0x16d0690>"
       ]
      },
      {
       "metadata": {},
       "output_type": "display_data",
       "png": "[encoded data removed]",
       "text": [
        "<matplotlib.figure.Figure at 0xb484b30>"
       ]
      }
     ],
     "prompt_number": 102
    },
    {
     "cell_type": "code",
     "collapsed": false,
     "input": [
      "from pandas import Series\n",
      "Series((pow(2,k) for k in xrange(64)), dtype=np.float64).cumsum().plot()"
     ],
     "language": "python",
     "metadata": {},
     "outputs": [
      {
       "metadata": {},
       "output_type": "pyout",
       "prompt_number": 103,
       "text": [
        "<matplotlib.axes.AxesSubplot at 0xb4c7870>"
       ]
      },
      {
       "metadata": {},
       "output_type": "display_data",
       "png": "[encoded data removed]",
       "text": [
        "<matplotlib.figure.Figure at 0xb4c39b0>"
       ]
      }
     ],
     "prompt_number": 103
    },
    {
     "cell_type": "heading",
     "level": 2,
     "metadata": {},
     "source": [
      "Wheat and Chessboard w/ NumPy"
     ]
    },
    {
     "cell_type": "markdown",
     "metadata": {},
     "source": [
      "http://docs.scipy.org/doc/numpy/reference/ufuncs.html"
     ]
    },
    {
     "cell_type": "code",
     "collapsed": false,
     "input": [
      "2*ones(64, dtype=np.int)"
     ],
     "language": "python",
     "metadata": {},
     "outputs": [
      {
       "metadata": {},
       "output_type": "pyout",
       "prompt_number": 104,
       "text": [
        "array([2, 2, 2, 2, 2, 2, 2, 2, 2, 2, 2, 2, 2, 2, 2, 2, 2, 2, 2, 2, 2, 2, 2,\n",
        "       2, 2, 2, 2, 2, 2, 2, 2, 2, 2, 2, 2, 2, 2, 2, 2, 2, 2, 2, 2, 2, 2, 2,\n",
        "       2, 2, 2, 2, 2, 2, 2, 2, 2, 2, 2, 2, 2, 2, 2, 2, 2, 2])"
       ]
      }
     ],
     "prompt_number": 104
    },
    {
     "cell_type": "code",
     "collapsed": false,
     "input": [
      "arange(64)"
     ],
     "language": "python",
     "metadata": {},
     "outputs": [
      {
       "metadata": {},
       "output_type": "pyout",
       "prompt_number": 105,
       "text": [
        "array([ 0,  1,  2,  3,  4,  5,  6,  7,  8,  9, 10, 11, 12, 13, 14, 15, 16,\n",
        "       17, 18, 19, 20, 21, 22, 23, 24, 25, 26, 27, 28, 29, 30, 31, 32, 33,\n",
        "       34, 35, 36, 37, 38, 39, 40, 41, 42, 43, 44, 45, 46, 47, 48, 49, 50,\n",
        "       51, 52, 53, 54, 55, 56, 57, 58, 59, 60, 61, 62, 63])"
       ]
      }
     ],
     "prompt_number": 105
    },
    {
     "cell_type": "code",
     "collapsed": false,
     "input": [
      "sum(np.power(2, arange(64, dtype=np.uint64)))"
     ],
     "language": "python",
     "metadata": {},
     "outputs": [
      {
       "metadata": {},
       "output_type": "pyout",
       "prompt_number": 106,
       "text": [
        "18446744073709551615"
       ]
      }
     ],
     "prompt_number": 106
    },
    {
     "cell_type": "code",
     "collapsed": false,
     "input": [
      "sum(np.power(2*ones(64, dtype=np.uint64), arange(64))) "
     ],
     "language": "python",
     "metadata": {},
     "outputs": [
      {
       "metadata": {},
       "output_type": "pyout",
       "prompt_number": 107,
       "text": [
        "1.8446744073709552e+19"
       ]
      }
     ],
     "prompt_number": 107
    },
    {
     "cell_type": "code",
     "collapsed": false,
     "input": [
      "precise_ans = sum([pow(2,n) for n in xrange(64)])\n",
      "np_ans = sum(np.power(2*ones(64, dtype=np.uint64), arange(64)))\n",
      "\n",
      "precise_ans, np_ans\n",
      "\n"
     ],
     "language": "python",
     "metadata": {},
     "outputs": [
      {
       "metadata": {},
       "output_type": "pyout",
       "prompt_number": 108,
       "text": [
        "(1.8446744073709552e+19, 1.8446744073709552e+19)"
       ]
      }
     ],
     "prompt_number": 108
    },
    {
     "cell_type": "code",
     "collapsed": false,
     "input": [
      "# Raise an assertion if two items are not equal up to desired precision.\n",
      "np.testing.assert_almost_equal(precise_ans, np_ans) is None"
     ],
     "language": "python",
     "metadata": {},
     "outputs": [
      {
       "output_type": "pyout",
       "prompt_number": 72,
       "text": [
        "True"
       ]
      }
     ],
     "prompt_number": 72
    },
    {
     "cell_type": "heading",
     "level": 1,
     "metadata": {},
     "source": [
      "File Dependency Check for Census calculation"
     ]
    },
    {
     "cell_type": "markdown",
     "metadata": {},
     "source": [
      "Here we check to make sure that the expected files are in place.\n",
      "\n",
      "This notebook assumes relative location of files as laid out in https://github.com/rdhyee/working-open-data\n",
      "\n"
     ]
    },
    {
     "cell_type": "code",
     "collapsed": false,
     "input": [
      "import os\n",
      "\n",
      "# relative to parent dir\n",
      "DATA_FILES = {\"datadict\":\"data/census/DataDict.txt\",\n",
      "               \"dataset\":\"data/census/DataSet.txt\",\n",
      "               \"fips\": \"data/census/FIPS_CountyName.txt\"}\n",
      "\n",
      "def file_path(key):\n",
      "    return os.path.join(os.pardir, DATA_FILES[key])\n",
      "\n",
      "for file_key in DATA_FILES.keys():\n",
      "    abs_fname = file_path(file_key)\n",
      "    print abs_fname, os.path.exists(abs_fname)\n",
      "    "
     ],
     "language": "python",
     "metadata": {},
     "outputs": [
      {
       "output_type": "stream",
       "stream": "stdout",
       "text": [
        "../data/census/DataDict.txt "
       ]
      },
      {
       "output_type": "stream",
       "stream": "stdout",
       "text": [
        "True\n",
        "../data/census/FIPS_CountyName.txt True\n",
        "../data/census/DataSet.txt True\n"
       ]
      }
     ],
     "prompt_number": 109
    },
    {
     "cell_type": "markdown",
     "metadata": {},
     "source": [
      " You can download git repo as zip file if you are having problems with github\n",
      "\n",
      "<img src=\"https://raw.github.com/rdhyee/working-open-data/master/lectures/images/download_repo_as_zip.jpg\" />"
     ]
    },
    {
     "cell_type": "heading",
     "level": 1,
     "metadata": {},
     "source": [
      "Let's do the pandas related imports"
     ]
    },
    {
     "cell_type": "code",
     "collapsed": false,
     "input": [
      "import pandas as pd\n",
      "from pandas import Series, DataFrame"
     ],
     "language": "python",
     "metadata": {},
     "outputs": [],
     "prompt_number": 110
    },
    {
     "cell_type": "heading",
     "level": 1,
     "metadata": {},
     "source": [
      "Getting more out of iPython notebook"
     ]
    },
    {
     "cell_type": "markdown",
     "metadata": {},
     "source": [
      "*PfDA*, p. 55 -- Table 3-2\n",
      "\n",
      "http://my.safaribooksonline.com/book/programming/python/9781449323592/3dot-ipython-an-interactive-computing-and-development-environment/id2774782#ipython_magic_table"
     ]
    },
    {
     "cell_type": "heading",
     "level": 1,
     "metadata": {},
     "source": [
      "Census Quickfacts"
     ]
    },
    {
     "cell_type": "code",
     "collapsed": false,
     "input": [
      "# use head on Mac/linuc to look at file\n",
      "\n",
      "fips_path = file_path(\"fips\")\n",
      "!head $fips_path"
     ],
     "language": "python",
     "metadata": {},
     "outputs": [
      {
       "output_type": "stream",
       "stream": "stdout",
       "text": [
        "00000 UNITED STATES\r\n",
        "01000 ALABAMA\r\n",
        "01001 Autauga County, AL\r\n",
        "01003 Baldwin County, AL\r\n",
        "01005 Barbour County, AL\r\n",
        "01007 Bibb County, AL\r\n",
        "01009 Blount County, AL\r\n",
        "01011 Bullock County, AL\r\n",
        "01013 Butler County, AL\r\n",
        "01015 Calhoun County, AL\r\n"
       ]
      }
     ],
     "prompt_number": 111
    },
    {
     "cell_type": "heading",
     "level": 2,
     "metadata": {},
     "source": [
      "trying out by hand the construction of a simple DataFrame to see what loading a list of dict into DataFrame gets us"
     ]
    },
    {
     "cell_type": "code",
     "collapsed": false,
     "input": [
      "df1 = DataFrame([{'fips':'00000', 'geog_entity':'UNITED STATES'}, \n",
      "              {'fips':'01000', 'geog_entity':'ALABAMA'},\n",
      "              ])\n",
      "df1"
     ],
     "language": "python",
     "metadata": {},
     "outputs": [
      {
       "html": [
        "<div style=\"max-height:1000px;max-width:1500px;overflow:auto;\">\n",
        "<table border=\"1\" class=\"dataframe\">\n",
        "  <thead>\n",
        "    <tr style=\"text-align: right;\">\n",
        "      <th></th>\n",
        "      <th>fips</th>\n",
        "      <th>geog_entity</th>\n",
        "    </tr>\n",
        "  </thead>\n",
        "  <tbody>\n",
        "    <tr>\n",
        "      <th>0</th>\n",
        "      <td> 00000</td>\n",
        "      <td> UNITED STATES</td>\n",
        "    </tr>\n",
        "    <tr>\n",
        "      <th>1</th>\n",
        "      <td> 01000</td>\n",
        "      <td>       ALABAMA</td>\n",
        "    </tr>\n",
        "  </tbody>\n",
        "</table>\n",
        "</div>"
       ],
       "metadata": {},
       "output_type": "pyout",
       "prompt_number": 120,
       "text": [
        "    fips    geog_entity\n",
        "0  00000  UNITED STATES\n",
        "1  01000        ALABAMA"
       ]
      }
     ],
     "prompt_number": 120
    },
    {
     "cell_type": "code",
     "collapsed": false,
     "input": [
      "# check type of df1\n",
      "type(df1)"
     ],
     "language": "python",
     "metadata": {},
     "outputs": [
      {
       "output_type": "stream",
       "stream": "stderr",
       "text": [
        "WARNING: Exception in text/html formatter: unbound method _repr_html_() must be called with DataFrame instance as first argument (got nothing instead)\n"
       ]
      },
      {
       "metadata": {},
       "output_type": "pyout",
       "prompt_number": 121,
       "text": [
        "pandas.core.frame.DataFrame"
       ]
      }
     ],
     "prompt_number": 121
    },
    {
     "cell_type": "code",
     "collapsed": false,
     "input": [
      "# column headings\n",
      "\n",
      "df1.columns"
     ],
     "language": "python",
     "metadata": {},
     "outputs": [
      {
       "metadata": {},
       "output_type": "pyout",
       "prompt_number": 122,
       "text": [
        "Index([u'fips', u'geog_entity'], dtype=object)"
       ]
      }
     ],
     "prompt_number": 122
    },
    {
     "cell_type": "code",
     "collapsed": false,
     "input": [
      "# index -- ascribed automatically since we didn't explicitly specify labels\n",
      "df1.index"
     ],
     "language": "python",
     "metadata": {},
     "outputs": [
      {
       "metadata": {},
       "output_type": "pyout",
       "prompt_number": 123,
       "text": [
        "Int64Index([0, 1], dtype=int64)"
       ]
      }
     ],
     "prompt_number": 123
    },
    {
     "cell_type": "markdown",
     "metadata": {},
     "source": [
      "We can use [`set_index`](http://pandas.pydata.org/pandas-docs/stable/generated/pandas.DataFrame.set_index.html#pandas.DataFrame.set_index) to makes fips the index"
     ]
    },
    {
     "cell_type": "code",
     "collapsed": false,
     "input": [
      "# http://pandas.pydata.org/pandas-docs/stable/generated/pandas.DataFrame.set_index.html#pandas.DataFrame.set_index\n",
      "# p. 150\n",
      "df1.set_index('fips', inplace=True, drop=True)"
     ],
     "language": "python",
     "metadata": {},
     "outputs": [],
     "prompt_number": 124
    },
    {
     "cell_type": "code",
     "collapsed": false,
     "input": [
      "# now check the index\n",
      "df1.index"
     ],
     "language": "python",
     "metadata": {},
     "outputs": [
      {
       "metadata": {},
       "output_type": "pyout",
       "prompt_number": 125,
       "text": [
        "Index([u'00000', u'01000'], dtype=object)"
       ]
      }
     ],
     "prompt_number": 125
    },
    {
     "cell_type": "code",
     "collapsed": false,
     "input": [
      "# to access row with index of 01000\n",
      "df1.ix['01000'] "
     ],
     "language": "python",
     "metadata": {},
     "outputs": [
      {
       "metadata": {},
       "output_type": "pyout",
       "prompt_number": 126,
       "text": [
        "geog_entity    ALABAMA\n",
        "Name: 01000, dtype: object"
       ]
      }
     ],
     "prompt_number": 126
    },
    {
     "cell_type": "code",
     "collapsed": false,
     "input": [
      "# to read off the geog_entity column\n",
      "df1['geog_entity']"
     ],
     "language": "python",
     "metadata": {},
     "outputs": [
      {
       "metadata": {},
       "output_type": "pyout",
       "prompt_number": 127,
       "text": [
        "fips\n",
        "00000    UNITED STATES\n",
        "01000          ALABAMA\n",
        "Name: geog_entity, dtype: object"
       ]
      }
     ],
     "prompt_number": 127
    },
    {
     "cell_type": "code",
     "collapsed": false,
     "input": [
      "# look at how we can do row slices\n",
      "df1.ix[0:1]"
     ],
     "language": "python",
     "metadata": {},
     "outputs": [
      {
       "html": [
        "<div style=\"max-height:1000px;max-width:1500px;overflow:auto;\">\n",
        "<table border=\"1\" class=\"dataframe\">\n",
        "  <thead>\n",
        "    <tr style=\"text-align: right;\">\n",
        "      <th></th>\n",
        "      <th>geog_entity</th>\n",
        "    </tr>\n",
        "    <tr>\n",
        "      <th>fips</th>\n",
        "      <th></th>\n",
        "    </tr>\n",
        "  </thead>\n",
        "  <tbody>\n",
        "    <tr>\n",
        "      <th>00000</th>\n",
        "      <td> UNITED STATES</td>\n",
        "    </tr>\n",
        "  </tbody>\n",
        "</table>\n",
        "</div>"
       ],
       "metadata": {},
       "output_type": "pyout",
       "prompt_number": 128,
       "text": [
        "         geog_entity\n",
        "fips                \n",
        "00000  UNITED STATES"
       ]
      }
     ],
     "prompt_number": 128
    },
    {
     "cell_type": "code",
     "collapsed": false,
     "input": [
      "# get rows in reverse order\n",
      "df1.ix[::-1]"
     ],
     "language": "python",
     "metadata": {},
     "outputs": [
      {
       "html": [
        "<div style=\"max-height:1000px;max-width:1500px;overflow:auto;\">\n",
        "<table border=\"1\" class=\"dataframe\">\n",
        "  <thead>\n",
        "    <tr style=\"text-align: right;\">\n",
        "      <th></th>\n",
        "      <th>geog_entity</th>\n",
        "    </tr>\n",
        "    <tr>\n",
        "      <th>fips</th>\n",
        "      <th></th>\n",
        "    </tr>\n",
        "  </thead>\n",
        "  <tbody>\n",
        "    <tr>\n",
        "      <th>01000</th>\n",
        "      <td>       ALABAMA</td>\n",
        "    </tr>\n",
        "    <tr>\n",
        "      <th>00000</th>\n",
        "      <td> UNITED STATES</td>\n",
        "    </tr>\n",
        "  </tbody>\n",
        "</table>\n",
        "</div>"
       ],
       "metadata": {},
       "output_type": "pyout",
       "prompt_number": 129,
       "text": [
        "         geog_entity\n",
        "fips                \n",
        "01000        ALABAMA\n",
        "00000  UNITED STATES"
       ]
      }
     ],
     "prompt_number": 129
    },
    {
     "cell_type": "markdown",
     "metadata": {},
     "source": [
      "Create the index explicitly in instantiation of the simple DataFrame"
     ]
    },
    {
     "cell_type": "code",
     "collapsed": false,
     "input": [
      "df2 = DataFrame(data = [{'geog_entity':'UNITED STATES'}, \n",
      "                {'geog_entity':'ALABAMA'},\n",
      "                ], index = ['00000','01000'])\n",
      "df2"
     ],
     "language": "python",
     "metadata": {},
     "outputs": [
      {
       "html": [
        "<div style=\"max-height:1000px;max-width:1500px;overflow:auto;\">\n",
        "<table border=\"1\" class=\"dataframe\">\n",
        "  <thead>\n",
        "    <tr style=\"text-align: right;\">\n",
        "      <th></th>\n",
        "      <th>geog_entity</th>\n",
        "    </tr>\n",
        "  </thead>\n",
        "  <tbody>\n",
        "    <tr>\n",
        "      <th>00000</th>\n",
        "      <td> UNITED STATES</td>\n",
        "    </tr>\n",
        "    <tr>\n",
        "      <th>01000</th>\n",
        "      <td>       ALABAMA</td>\n",
        "    </tr>\n",
        "  </tbody>\n",
        "</table>\n",
        "</div>"
       ],
       "metadata": {},
       "output_type": "pyout",
       "prompt_number": 130,
       "text": [
        "         geog_entity\n",
        "00000  UNITED STATES\n",
        "01000        ALABAMA"
       ]
      }
     ],
     "prompt_number": 130
    },
    {
     "cell_type": "code",
     "collapsed": false,
     "input": [
      "# note index name is empty\n",
      "df2.index.name is None"
     ],
     "language": "python",
     "metadata": {},
     "outputs": [
      {
       "metadata": {},
       "output_type": "pyout",
       "prompt_number": 131,
       "text": [
        "True"
       ]
      }
     ],
     "prompt_number": 131
    },
    {
     "cell_type": "code",
     "collapsed": false,
     "input": [
      "# set index name\n",
      "df2.index.name = 'fips'\n",
      "df2"
     ],
     "language": "python",
     "metadata": {},
     "outputs": [
      {
       "html": [
        "<div style=\"max-height:1000px;max-width:1500px;overflow:auto;\">\n",
        "<table border=\"1\" class=\"dataframe\">\n",
        "  <thead>\n",
        "    <tr style=\"text-align: right;\">\n",
        "      <th></th>\n",
        "      <th>geog_entity</th>\n",
        "    </tr>\n",
        "    <tr>\n",
        "      <th>fips</th>\n",
        "      <th></th>\n",
        "    </tr>\n",
        "  </thead>\n",
        "  <tbody>\n",
        "    <tr>\n",
        "      <th>00000</th>\n",
        "      <td> UNITED STATES</td>\n",
        "    </tr>\n",
        "    <tr>\n",
        "      <th>01000</th>\n",
        "      <td>       ALABAMA</td>\n",
        "    </tr>\n",
        "  </tbody>\n",
        "</table>\n",
        "</div>"
       ],
       "metadata": {},
       "output_type": "pyout",
       "prompt_number": 132,
       "text": [
        "         geog_entity\n",
        "fips                \n",
        "00000  UNITED STATES\n",
        "01000        ALABAMA"
       ]
      }
     ],
     "prompt_number": 132
    },
    {
     "cell_type": "heading",
     "level": 2,
     "metadata": {},
     "source": [
      "Exercise:  Complete this code to create fips_df from the fips file"
     ]
    },
    {
     "cell_type": "code",
     "collapsed": false,
     "input": [
      "import codecs\n",
      "from itertools import islice\n",
      "\n",
      "from pandas import Series, DataFrame\n",
      "\n",
      "f = codecs.open(file_path(\"fips\"), encoding='iso-8859-1')\n",
      "\n",
      "fips_list = list()\n",
      "\n",
      "for row in islice(f, None):\n",
      "    fips_list.append({'fips': row[:5], 'geog_entity': row[6:-1]})\n",
      "    \n",
      "fips_df = DataFrame(fips_list)\n",
      "fips_df"
     ],
     "language": "python",
     "metadata": {},
     "outputs": [
      {
       "html": [
        "<pre>\n",
        "&lt;class 'pandas.core.frame.DataFrame'&gt;\n",
        "Int64Index: 3195 entries, 0 to 3194\n",
        "Data columns (total 2 columns):\n",
        "fips           3195  non-null values\n",
        "geog_entity    3195  non-null values\n",
        "dtypes: object(2)\n",
        "</pre>"
       ],
       "metadata": {},
       "output_type": "pyout",
       "prompt_number": 133,
       "text": [
        "<class 'pandas.core.frame.DataFrame'>\n",
        "Int64Index: 3195 entries, 0 to 3194\n",
        "Data columns (total 2 columns):\n",
        "fips           3195  non-null values\n",
        "geog_entity    3195  non-null values\n",
        "dtypes: object(2)"
       ]
      }
     ],
     "prompt_number": 133
    },
    {
     "cell_type": "code",
     "collapsed": false,
     "input": [
      "# display the first 5 rows\n",
      "fips_df[:5]"
     ],
     "language": "python",
     "metadata": {},
     "outputs": [
      {
       "html": [
        "<div style=\"max-height:1000px;max-width:1500px;overflow:auto;\">\n",
        "<table border=\"1\" class=\"dataframe\">\n",
        "  <thead>\n",
        "    <tr style=\"text-align: right;\">\n",
        "      <th></th>\n",
        "      <th>fips</th>\n",
        "      <th>geog_entity</th>\n",
        "    </tr>\n",
        "  </thead>\n",
        "  <tbody>\n",
        "    <tr>\n",
        "      <th>0</th>\n",
        "      <td> 00000</td>\n",
        "      <td>      UNITED STATES</td>\n",
        "    </tr>\n",
        "    <tr>\n",
        "      <th>1</th>\n",
        "      <td> 01000</td>\n",
        "      <td>            ALABAMA</td>\n",
        "    </tr>\n",
        "    <tr>\n",
        "      <th>2</th>\n",
        "      <td> 01001</td>\n",
        "      <td> Autauga County, AL</td>\n",
        "    </tr>\n",
        "    <tr>\n",
        "      <th>3</th>\n",
        "      <td> 01003</td>\n",
        "      <td> Baldwin County, AL</td>\n",
        "    </tr>\n",
        "    <tr>\n",
        "      <th>4</th>\n",
        "      <td> 01005</td>\n",
        "      <td> Barbour County, AL</td>\n",
        "    </tr>\n",
        "  </tbody>\n",
        "</table>\n",
        "</div>"
       ],
       "metadata": {},
       "output_type": "pyout",
       "prompt_number": 134,
       "text": [
        "    fips         geog_entity\n",
        "0  00000       UNITED STATES\n",
        "1  01000             ALABAMA\n",
        "2  01001  Autauga County, AL\n",
        "3  01003  Baldwin County, AL\n",
        "4  01005  Barbour County, AL"
       ]
      }
     ],
     "prompt_number": 134
    },
    {
     "cell_type": "heading",
     "level": 2,
     "metadata": {},
     "source": [
      "let's try using read_table directly to read in fips code"
     ]
    },
    {
     "cell_type": "code",
     "collapsed": false,
     "input": [
      "import codecs\n",
      "from itertools import islice\n",
      "\n",
      "import pandas as pd\n",
      "from pandas import Series, DataFrame\n",
      "\n",
      "f = codecs.open(file_path(\"fips\"), encoding='iso-8859-1')\n",
      "\n",
      "fips_df2 = pd.read_table(f, header=None,names=['row'])\n",
      "\n",
      "# show first five rows\n",
      "fips_df2[:5]\n",
      "\n"
     ],
     "language": "python",
     "metadata": {},
     "outputs": [
      {
       "html": [
        "<div style=\"max-height:1000px;max-width:1500px;overflow:auto;\">\n",
        "<table border=\"1\" class=\"dataframe\">\n",
        "  <thead>\n",
        "    <tr style=\"text-align: right;\">\n",
        "      <th></th>\n",
        "      <th>row</th>\n",
        "    </tr>\n",
        "  </thead>\n",
        "  <tbody>\n",
        "    <tr>\n",
        "      <th>0</th>\n",
        "      <td>      00000 UNITED STATES</td>\n",
        "    </tr>\n",
        "    <tr>\n",
        "      <th>1</th>\n",
        "      <td>            01000 ALABAMA</td>\n",
        "    </tr>\n",
        "    <tr>\n",
        "      <th>2</th>\n",
        "      <td> 01001 Autauga County, AL</td>\n",
        "    </tr>\n",
        "    <tr>\n",
        "      <th>3</th>\n",
        "      <td> 01003 Baldwin County, AL</td>\n",
        "    </tr>\n",
        "    <tr>\n",
        "      <th>4</th>\n",
        "      <td> 01005 Barbour County, AL</td>\n",
        "    </tr>\n",
        "  </tbody>\n",
        "</table>\n",
        "</div>"
       ],
       "metadata": {},
       "output_type": "pyout",
       "prompt_number": 135,
       "text": [
        "                        row\n",
        "0       00000 UNITED STATES\n",
        "1             01000 ALABAMA\n",
        "2  01001 Autauga County, AL\n",
        "3  01003 Baldwin County, AL\n",
        "4  01005 Barbour County, AL"
       ]
      }
     ],
     "prompt_number": 135
    },
    {
     "cell_type": "heading",
     "level": 3,
     "metadata": {},
     "source": [
      "Exercise: create a fips column"
     ]
    },
    {
     "cell_type": "markdown",
     "metadata": {},
     "source": [
      "hint:  consider using `fips_df2.row.str[:]` and see what happens if you use\n",
      "\n",
      "    fips_df2[\"junk\"] = 'hello'\n",
      "\n",
      "BTW, you can delete columns  -- e.g.,\n",
      "\n",
      "    del fips_df2[\"junk\"] "
     ]
    },
    {
     "cell_type": "code",
     "collapsed": false,
     "input": [
      "fips_df2[\"fips\"] = fips_df2.row.str[:5]"
     ],
     "language": "python",
     "metadata": {},
     "outputs": [],
     "prompt_number": 136
    },
    {
     "cell_type": "code",
     "collapsed": false,
     "input": [
      "# show first five rows\n",
      "fips_df2[:5]"
     ],
     "language": "python",
     "metadata": {},
     "outputs": [
      {
       "html": [
        "<div style=\"max-height:1000px;max-width:1500px;overflow:auto;\">\n",
        "<table border=\"1\" class=\"dataframe\">\n",
        "  <thead>\n",
        "    <tr style=\"text-align: right;\">\n",
        "      <th></th>\n",
        "      <th>row</th>\n",
        "      <th>fips</th>\n",
        "    </tr>\n",
        "  </thead>\n",
        "  <tbody>\n",
        "    <tr>\n",
        "      <th>0</th>\n",
        "      <td>      00000 UNITED STATES</td>\n",
        "      <td> 00000</td>\n",
        "    </tr>\n",
        "    <tr>\n",
        "      <th>1</th>\n",
        "      <td>            01000 ALABAMA</td>\n",
        "      <td> 01000</td>\n",
        "    </tr>\n",
        "    <tr>\n",
        "      <th>2</th>\n",
        "      <td> 01001 Autauga County, AL</td>\n",
        "      <td> 01001</td>\n",
        "    </tr>\n",
        "    <tr>\n",
        "      <th>3</th>\n",
        "      <td> 01003 Baldwin County, AL</td>\n",
        "      <td> 01003</td>\n",
        "    </tr>\n",
        "    <tr>\n",
        "      <th>4</th>\n",
        "      <td> 01005 Barbour County, AL</td>\n",
        "      <td> 01005</td>\n",
        "    </tr>\n",
        "  </tbody>\n",
        "</table>\n",
        "</div>"
       ],
       "metadata": {},
       "output_type": "pyout",
       "prompt_number": 137,
       "text": [
        "                        row   fips\n",
        "0       00000 UNITED STATES  00000\n",
        "1             01000 ALABAMA  01000\n",
        "2  01001 Autauga County, AL  01001\n",
        "3  01003 Baldwin County, AL  01003\n",
        "4  01005 Barbour County, AL  01005"
       ]
      }
     ],
     "prompt_number": 137
    },
    {
     "cell_type": "heading",
     "level": 3,
     "metadata": {},
     "source": [
      "Exercise: Likewise, create the geog_entity column and get rid of row column"
     ]
    },
    {
     "cell_type": "code",
     "collapsed": false,
     "input": [
      "fips_df2[\"geog_entity\"] = fips_df2.row.str[6:]\n",
      "fips_df2[:5]"
     ],
     "language": "python",
     "metadata": {},
     "outputs": [
      {
       "html": [
        "<div style=\"max-height:1000px;max-width:1500px;overflow:auto;\">\n",
        "<table border=\"1\" class=\"dataframe\">\n",
        "  <thead>\n",
        "    <tr style=\"text-align: right;\">\n",
        "      <th></th>\n",
        "      <th>row</th>\n",
        "      <th>fips</th>\n",
        "      <th>geog_entity</th>\n",
        "    </tr>\n",
        "  </thead>\n",
        "  <tbody>\n",
        "    <tr>\n",
        "      <th>0</th>\n",
        "      <td>      00000 UNITED STATES</td>\n",
        "      <td> 00000</td>\n",
        "      <td>      UNITED STATES</td>\n",
        "    </tr>\n",
        "    <tr>\n",
        "      <th>1</th>\n",
        "      <td>            01000 ALABAMA</td>\n",
        "      <td> 01000</td>\n",
        "      <td>            ALABAMA</td>\n",
        "    </tr>\n",
        "    <tr>\n",
        "      <th>2</th>\n",
        "      <td> 01001 Autauga County, AL</td>\n",
        "      <td> 01001</td>\n",
        "      <td> Autauga County, AL</td>\n",
        "    </tr>\n",
        "    <tr>\n",
        "      <th>3</th>\n",
        "      <td> 01003 Baldwin County, AL</td>\n",
        "      <td> 01003</td>\n",
        "      <td> Baldwin County, AL</td>\n",
        "    </tr>\n",
        "    <tr>\n",
        "      <th>4</th>\n",
        "      <td> 01005 Barbour County, AL</td>\n",
        "      <td> 01005</td>\n",
        "      <td> Barbour County, AL</td>\n",
        "    </tr>\n",
        "  </tbody>\n",
        "</table>\n",
        "</div>"
       ],
       "metadata": {},
       "output_type": "pyout",
       "prompt_number": 138,
       "text": [
        "                        row   fips         geog_entity\n",
        "0       00000 UNITED STATES  00000       UNITED STATES\n",
        "1             01000 ALABAMA  01000             ALABAMA\n",
        "2  01001 Autauga County, AL  01001  Autauga County, AL\n",
        "3  01003 Baldwin County, AL  01003  Baldwin County, AL\n",
        "4  01005 Barbour County, AL  01005  Barbour County, AL"
       ]
      }
     ],
     "prompt_number": 138
    },
    {
     "cell_type": "code",
     "collapsed": false,
     "input": [
      "del fips_df2[\"row\"]"
     ],
     "language": "python",
     "metadata": {},
     "outputs": [],
     "prompt_number": 139
    },
    {
     "cell_type": "code",
     "collapsed": false,
     "input": [
      "fips_df2[:5]"
     ],
     "language": "python",
     "metadata": {},
     "outputs": [
      {
       "html": [
        "<div style=\"max-height:1000px;max-width:1500px;overflow:auto;\">\n",
        "<table border=\"1\" class=\"dataframe\">\n",
        "  <thead>\n",
        "    <tr style=\"text-align: right;\">\n",
        "      <th></th>\n",
        "      <th>fips</th>\n",
        "      <th>geog_entity</th>\n",
        "    </tr>\n",
        "  </thead>\n",
        "  <tbody>\n",
        "    <tr>\n",
        "      <th>0</th>\n",
        "      <td> 00000</td>\n",
        "      <td>      UNITED STATES</td>\n",
        "    </tr>\n",
        "    <tr>\n",
        "      <th>1</th>\n",
        "      <td> 01000</td>\n",
        "      <td>            ALABAMA</td>\n",
        "    </tr>\n",
        "    <tr>\n",
        "      <th>2</th>\n",
        "      <td> 01001</td>\n",
        "      <td> Autauga County, AL</td>\n",
        "    </tr>\n",
        "    <tr>\n",
        "      <th>3</th>\n",
        "      <td> 01003</td>\n",
        "      <td> Baldwin County, AL</td>\n",
        "    </tr>\n",
        "    <tr>\n",
        "      <th>4</th>\n",
        "      <td> 01005</td>\n",
        "      <td> Barbour County, AL</td>\n",
        "    </tr>\n",
        "  </tbody>\n",
        "</table>\n",
        "</div>"
       ],
       "metadata": {},
       "output_type": "pyout",
       "prompt_number": 140,
       "text": [
        "    fips         geog_entity\n",
        "0  00000       UNITED STATES\n",
        "1  01000             ALABAMA\n",
        "2  01001  Autauga County, AL\n",
        "3  01003  Baldwin County, AL\n",
        "4  01005  Barbour County, AL"
       ]
      }
     ],
     "prompt_number": 140
    },
    {
     "cell_type": "code",
     "collapsed": false,
     "input": [
      "# this is a check that you have the right columns\n",
      "\n",
      "assert set(fips_df2.columns) == set(['fips', 'geog_entity'])\n",
      "assert len(fips_df2) == 3195"
     ],
     "language": "python",
     "metadata": {},
     "outputs": [],
     "prompt_number": 141
    },
    {
     "cell_type": "heading",
     "level": 3,
     "metadata": {},
     "source": [
      "Now set the fips to be the index"
     ]
    },
    {
     "cell_type": "code",
     "collapsed": false,
     "input": [
      "fips_df2.set_index('fips', inplace=True, drop=True)"
     ],
     "language": "python",
     "metadata": {},
     "outputs": [],
     "prompt_number": 142
    },
    {
     "cell_type": "code",
     "collapsed": false,
     "input": [
      "# print out first five rows\n",
      "fips_df2[:5]"
     ],
     "language": "python",
     "metadata": {},
     "outputs": [
      {
       "html": [
        "<div style=\"max-height:1000px;max-width:1500px;overflow:auto;\">\n",
        "<table border=\"1\" class=\"dataframe\">\n",
        "  <thead>\n",
        "    <tr style=\"text-align: right;\">\n",
        "      <th></th>\n",
        "      <th>geog_entity</th>\n",
        "    </tr>\n",
        "    <tr>\n",
        "      <th>fips</th>\n",
        "      <th></th>\n",
        "    </tr>\n",
        "  </thead>\n",
        "  <tbody>\n",
        "    <tr>\n",
        "      <th>00000</th>\n",
        "      <td>      UNITED STATES</td>\n",
        "    </tr>\n",
        "    <tr>\n",
        "      <th>01000</th>\n",
        "      <td>            ALABAMA</td>\n",
        "    </tr>\n",
        "    <tr>\n",
        "      <th>01001</th>\n",
        "      <td> Autauga County, AL</td>\n",
        "    </tr>\n",
        "    <tr>\n",
        "      <th>01003</th>\n",
        "      <td> Baldwin County, AL</td>\n",
        "    </tr>\n",
        "    <tr>\n",
        "      <th>01005</th>\n",
        "      <td> Barbour County, AL</td>\n",
        "    </tr>\n",
        "  </tbody>\n",
        "</table>\n",
        "</div>"
       ],
       "metadata": {},
       "output_type": "pyout",
       "prompt_number": 147,
       "text": [
        "              geog_entity\n",
        "fips                     \n",
        "00000       UNITED STATES\n",
        "01000             ALABAMA\n",
        "01001  Autauga County, AL\n",
        "01003  Baldwin County, AL\n",
        "01005  Barbour County, AL"
       ]
      }
     ],
     "prompt_number": 147
    },
    {
     "cell_type": "code",
     "collapsed": false,
     "input": [
      "fips_df2.ix['00000']"
     ],
     "language": "python",
     "metadata": {},
     "outputs": [
      {
       "metadata": {},
       "output_type": "pyout",
       "prompt_number": 148,
       "text": [
        "geog_entity    UNITED STATES\n",
        "Name: 00000, dtype: object"
       ]
      }
     ],
     "prompt_number": 148
    },
    {
     "cell_type": "heading",
     "level": 3,
     "metadata": {},
     "source": [
      "Note:  see how to pull out country + states"
     ]
    },
    {
     "cell_type": "code",
     "collapsed": false,
     "input": [
      "bool_index = Series(fips_df2.index).str[-3:] == '000'"
     ],
     "language": "python",
     "metadata": {},
     "outputs": [],
     "prompt_number": 154
    },
    {
     "cell_type": "code",
     "collapsed": false,
     "input": [
      "Series(fips_df2.index,index=fips_df2.index).str[-3:] == '000'"
     ],
     "language": "python",
     "metadata": {},
     "outputs": [
      {
       "metadata": {},
       "output_type": "pyout",
       "prompt_number": 160,
       "text": [
        "fips\n",
        "00000     True\n",
        "01000     True\n",
        "01001    False\n",
        "01003    False\n",
        "01005    False\n",
        "01007    False\n",
        "01009    False\n",
        "01011    False\n",
        "01013    False\n",
        "01015    False\n",
        "01017    False\n",
        "01019    False\n",
        "01021    False\n",
        "01023    False\n",
        "01025    False\n",
        "...\n",
        "56017    False\n",
        "56019    False\n",
        "56021    False\n",
        "56023    False\n",
        "56025    False\n",
        "56027    False\n",
        "56029    False\n",
        "56031    False\n",
        "56033    False\n",
        "56035    False\n",
        "56037    False\n",
        "56039    False\n",
        "56041    False\n",
        "56043    False\n",
        "56045    False\n",
        "Length: 3195, dtype: bool"
       ]
      }
     ],
     "prompt_number": 160
    },
    {
     "cell_type": "code",
     "collapsed": false,
     "input": [
      "bool_index.index"
     ],
     "language": "python",
     "metadata": {},
     "outputs": [
      {
       "metadata": {},
       "output_type": "pyout",
       "prompt_number": 155,
       "text": [
        "Int64Index([0, 1, 2, 3, 4, 5, 6, 7, 8, 9, 10, 11, 12, 13, 14, 15, 16, 17, 18, 19, 20, 21, 22, 23, 24, 25, 26, 27, 28, 29, 30, 31, 32, 33, 34, 35, 36, 37, 38, 39, 40, 41, 42, 43, 44, 45, 46, 47, 48, 49, 50, 51, 52, 53, 54, 55, 56, 57, 58, 59, 60, 61, 62, 63, 64, 65, 66, 67, 68, 69, 70, 71, 72, 73, 74, 75, 76, 77, 78, 79, 80, 81, 82, 83, 84, 85, 86, 87, 88, 89, 90, 91, 92, 93, 94, 95, 96, 97, 98, 99, 100, 101, 102, 103, 104, 105, 106, 107, 108, 109, 110, 111, 112, 113, 114, 115, 116, 117, 118, 119, 120, 121, 122, 123, 124, 125, 126, 127, 128, 129, 130, 131, 132, 133, 134, 135, 136, 137, 138, 139, 140, 141, 142, 143, 144, 145, 146, 147, 148, 149, 150, 151, 152, 153, 154, 155, 156, 157, 158, 159, 160, 161, 162, 163, 164, 165, 166, 167, 168, 169, 170, 171, 172, 173, 174, 175, 176, 177, 178, 179, 180, 181, 182, 183, 184, 185, 186, 187, 188, 189, 190, 191, 192, 193, 194, 195, 196, 197, 198, 199, 200, 201, 202, 203, 204, 205, 206, 207, 208, 209, 210, 211, 212, 213, 214, 215, 216, 217, 218, 219, 220, 221, 222, 223, 224, 225, 226, 227, 228, 229, 230, 231, 232, 233, 234, 235, 236, 237, 238, 239, 240, 241, 242, 243, 244, 245, 246, 247, 248, 249, 250, 251, 252, 253, 254, 255, 256, 257, 258, 259, 260, 261, 262, 263, 264, 265, 266, 267, 268, 269, 270, 271, 272, 273, 274, 275, 276, 277, 278, 279, 280, 281, 282, 283, 284, 285, 286, 287, 288, 289, 290, 291, 292, 293, 294, 295, 296, 297, 298, 299, 300, 301, 302, 303, 304, 305, 306, 307, 308, 309, 310, 311, 312, 313, 314, 315, 316, 317, 318, 319, 320, 321, 322, 323, 324, 325, 326, 327, 328, 329, 330, 331, 332, 333, 334, 335, 336, 337, 338, 339, 340, 341, 342, 343, 344, 345, 346, 347, 348, 349, 350, 351, 352, 353, 354, 355, 356, 357, 358, 359, 360, 361, 362, 363, 364, 365, 366, 367, 368, 369, 370, 371, 372, 373, 374, 375, 376, 377, 378, 379, 380, 381, 382, 383, 384, 385, 386, 387, 388, 389, 390, 391, 392, 393, 394, 395, 396, 397, 398, 399, 400, 401, 402, 403, 404, 405, 406, 407, 408, 409, 410, 411, 412, 413, 414, 415, 416, 417, 418, 419, 420, 421, 422, 423, 424, 425, 426, 427, 428, 429, 430, 431, 432, 433, 434, 435, 436, 437, 438, 439, 440, 441, 442, 443, 444, 445, 446, 447, 448, 449, 450, 451, 452, 453, 454, 455, 456, 457, 458, 459, 460, 461, 462, 463, 464, 465, 466, 467, 468, 469, 470, 471, 472, 473, 474, 475, 476, 477, 478, 479, 480, 481, 482, 483, 484, 485, 486, 487, 488, 489, 490, 491, 492, 493, 494, 495, 496, 497, 498, 499, 500, 501, 502, 503, 504, 505, 506, 507, 508, 509, 510, 511, 512, 513, 514, 515, 516, 517, 518, 519, 520, 521, 522, 523, 524, 525, 526, 527, 528, 529, 530, 531, 532, 533, 534, 535, 536, 537, 538, 539, 540, 541, 542, 543, 544, 545, 546, 547, 548, 549, 550, 551, 552, 553, 554, 555, 556, 557, 558, 559, 560, 561, 562, 563, 564, 565, 566, 567, 568, 569, 570, 571, 572, 573, 574, 575, 576, 577, 578, 579, 580, 581, 582, 583, 584, 585, 586, 587, 588, 589, 590, 591, 592, 593, 594, 595, 596, 597, 598, 599, 600, 601, 602, 603, 604, 605, 606, 607, 608, 609, 610, 611, 612, 613, 614, 615, 616, 617, 618, 619, 620, 621, 622, 623, 624, 625, 626, 627, 628, 629, 630, 631, 632, 633, 634, 635, 636, 637, 638, 639, 640, 641, 642, 643, 644, 645, 646, 647, 648, 649, 650, 651, 652, 653, 654, 655, 656, 657, 658, 659, 660, 661, 662, 663, 664, 665, 666, 667, 668, 669, 670, 671, 672, 673, 674, 675, 676, 677, 678, 679, 680, 681, 682, 683, 684, 685, 686, 687, 688, 689, 690, 691, 692, 693, 694, 695, 696, 697, 698, 699, 700, 701, 702, 703, 704, 705, 706, 707, 708, 709, 710, 711, 712, 713, 714, 715, 716, 717, 718, 719, 720, 721, 722, 723, 724, 725, 726, 727, 728, 729, 730, 731, 732, 733, 734, 735, 736, 737, 738, 739, 740, 741, 742, 743, 744, 745, 746, 747, 748, 749, 750, 751, 752, 753, 754, 755, 756, 757, 758, 759, 760, 761, 762, 763, 764, 765, 766, 767, 768, 769, 770, 771, 772, 773, 774, 775, 776, 777, 778, 779, 780, 781, 782, 783, 784, 785, 786, 787, 788, 789, 790, 791, 792, 793, 794, 795, 796, 797, 798, 799, 800, 801, 802, 803, 804, 805, 806, 807, 808, 809, 810, 811, 812, 813, 814, 815, 816, 817, 818, 819, 820, 821, 822, 823, 824, 825, 826, 827, 828, 829, 830, 831, 832, 833, 834, 835, 836, 837, 838, 839, 840, 841, 842, 843, 844, 845, 846, 847, 848, 849, 850, 851, 852, 853, 854, 855, 856, 857, 858, 859, 860, 861, 862, 863, 864, 865, 866, 867, 868, 869, 870, 871, 872, 873, 874, 875, 876, 877, 878, 879, 880, 881, 882, 883, 884, 885, 886, 887, 888, 889, 890, 891, 892, 893, 894, 895, 896, 897, 898, 899, 900, 901, 902, 903, 904, 905, 906, 907, 908, 909, 910, 911, 912, 913, 914, 915, 916, 917, 918, 919, 920, 921, 922, 923, 924, 925, 926, 927, 928, 929, 930, 931, 932, 933, 934, 935, 936, 937, 938, 939, 940, 941, 942, 943, 944, 945, 946, 947, 948, 949, 950, 951, 952, 953, 954, 955, 956, 957, 958, 959, 960, 961, 962, 963, 964, 965, 966, 967, 968, 969, 970, 971, 972, 973, 974, 975, 976, 977, 978, 979, 980, 981, 982, 983, 984, 985, 986, 987, 988, 989, 990, 991, 992, 993, 994, 995, 996, 997, 998, 999, 1000, 1001, 1002, 1003, 1004, 1005, 1006, 1007, 1008, 1009, 1010, 1011, 1012, 1013, 1014, 1015, 1016, 1017, 1018, 1019, 1020, 1021, 1022, 1023, 1024, 1025, 1026, 1027, 1028, 1029, 1030, 1031, 1032, 1033, 1034, 1035, 1036, 1037, 1038, 1039, 1040, 1041, 1042, 1043, 1044, 1045, 1046, 1047, 1048, 1049, 1050, 1051, 1052, 1053, 1054, 1055, 1056, 1057, 1058, 1059, 1060, 1061, 1062, 1063, 1064, 1065, 1066, 1067, 1068, 1069, 1070, 1071, 1072, 1073, 1074, 1075, 1076, 1077, 1078, 1079, 1080, 1081, 1082, 1083, 1084, 1085, 1086, 1087, 1088, 1089, 1090, 1091, 1092, 1093, 1094, 1095, 1096, 1097, 1098, 1099, 1100, 1101, 1102, 1103, 1104, 1105, 1106, 1107, 1108, 1109, 1110, 1111, 1112, 1113, 1114, 1115, 1116, 1117, 1118, 1119, 1120, 1121, 1122, 1123, 1124, 1125, 1126, 1127, 1128, 1129, 1130, 1131, 1132, 1133, 1134, 1135, 1136, 1137, 1138, 1139, 1140, 1141, 1142, 1143, 1144, 1145, 1146, 1147, 1148, 1149, 1150, 1151, 1152, 1153, 1154, 1155, 1156, 1157, 1158, 1159, 1160, 1161, 1162, 1163, 1164, 1165, 1166, 1167, 1168, 1169, 1170, 1171, 1172, 1173, 1174, 1175, 1176, 1177, 1178, 1179, 1180, 1181, 1182, 1183, 1184, 1185, 1186, 1187, 1188, 1189, 1190, 1191, 1192, 1193, 1194, 1195, 1196, 1197, 1198, 1199, 1200, 1201, 1202, 1203, 1204, 1205, 1206, 1207, 1208, 1209, 1210, 1211, 1212, 1213, 1214, 1215, 1216, 1217, 1218, 1219, 1220, 1221, 1222, 1223, 1224, 1225, 1226, 1227, 1228, 1229, 1230, 1231, 1232, 1233, 1234, 1235, 1236, 1237, 1238, 1239, 1240, 1241, 1242, 1243, 1244, 1245, 1246, 1247, 1248, 1249, 1250, 1251, 1252, 1253, 1254, 1255, 1256, 1257, 1258, 1259, 1260, 1261, 1262, 1263, 1264, 1265, 1266, 1267, 1268, 1269, 1270, 1271, 1272, 1273, 1274, 1275, 1276, 1277, 1278, 1279, 1280, 1281, 1282, 1283, 1284, 1285, 1286, 1287, 1288, 1289, 1290, 1291, 1292, 1293, 1294, 1295, 1296, 1297, 1298, 1299, 1300, 1301, 1302, 1303, 1304, 1305, 1306, 1307, 1308, 1309, 1310, 1311, 1312, 1313, 1314, 1315, 1316, 1317, 1318, 1319, 1320, 1321, 1322, 1323, 1324, 1325, 1326, 1327, 1328, 1329, 1330, 1331, 1332, 1333, 1334, 1335, 1336, 1337, 1338, 1339, 1340, 1341, 1342, 1343, 1344, 1345, 1346, 1347, 1348, 1349, 1350, 1351, 1352, 1353, 1354, 1355, 1356, 1357, 1358, 1359, 1360, 1361, 1362, 1363, 1364, 1365, 1366, 1367, 1368, 1369, 1370, 1371, 1372, 1373, 1374, 1375, 1376, 1377, 1378, 1379, 1380, 1381, 1382, 1383, 1384, 1385, 1386, 1387, 1388, 1389, 1390, 1391, 1392, 1393, 1394, 1395, 1396, 1397, 1398, 1399, 1400, 1401, 1402, 1403, 1404, 1405, 1406, 1407, 1408, 1409, 1410, 1411, 1412, 1413, 1414, 1415, 1416, 1417, 1418, 1419, 1420, 1421, 1422, 1423, 1424, 1425, 1426, 1427, 1428, 1429, 1430, 1431, 1432, 1433, 1434, 1435, 1436, 1437, 1438, 1439, 1440, 1441, 1442, 1443, 1444, 1445, 1446, 1447, 1448, 1449, 1450, 1451, 1452, 1453, 1454, 1455, 1456, 1457, 1458, 1459, 1460, 1461, 1462, 1463, 1464, 1465, 1466, 1467, 1468, 1469, 1470, 1471, 1472, 1473, 1474, 1475, 1476, 1477, 1478, 1479, 1480, 1481, 1482, 1483, 1484, 1485, 1486, 1487, 1488, 1489, 1490, 1491, 1492, 1493, 1494, 1495, 1496, 1497, 1498, 1499, 1500, 1501, 1502, 1503, 1504, 1505, 1506, 1507, 1508, 1509, 1510, 1511, 1512, 1513, 1514, 1515, 1516, 1517, 1518, 1519, 1520, 1521, 1522, 1523, 1524, 1525, 1526, 1527, 1528, 1529, 1530, 1531, 1532, 1533, 1534, 1535, 1536, 1537, 1538, 1539, 1540, 1541, 1542, 1543, 1544, 1545, 1546, 1547, 1548, 1549, 1550, 1551, 1552, 1553, 1554, 1555, 1556, 1557, 1558, 1559, 1560, 1561, 1562, 1563, 1564, 1565, 1566, 1567, 1568, 1569, 1570, 1571, 1572, 1573, 1574, 1575, 1576, 1577, 1578, 1579, 1580, 1581, 1582, 1583, 1584, 1585, 1586, 1587, 1588, 1589, 1590, 1591, 1592, 1593, 1594, 1595, 1596, 1597, 1598, 1599, 1600, 1601, 1602, 1603, 1604, 1605, 1606, 1607, 1608, 1609, 1610, 1611, 1612, 1613, 1614, 1615, 1616, 1617, 1618, 1619, 1620, 1621, 1622, 1623, 1624, 1625, 1626, 1627, 1628, 1629, 1630, 1631, 1632, 1633, 1634, 1635, 1636, 1637, 1638, 1639, 1640, 1641, 1642, 1643, 1644, 1645, 1646, 1647, 1648, 1649, 1650, 1651, 1652, 1653, 1654, 1655, 1656, 1657, 1658, 1659, 1660, 1661, 1662, 1663, 1664, 1665, 1666, 1667, 1668, 1669, 1670, 1671, 1672, 1673, 1674, 1675, 1676, 1677, 1678, 1679, 1680, 1681, 1682, 1683, 1684, 1685, 1686, 1687, 1688, 1689, 1690, 1691, 1692, 1693, 1694, 1695, 1696, 1697, 1698, 1699, 1700, 1701, 1702, 1703, 1704, 1705, 1706, 1707, 1708, 1709, 1710, 1711, 1712, 1713, 1714, 1715, 1716, 1717, 1718, 1719, 1720, 1721, 1722, 1723, 1724, 1725, 1726, 1727, 1728, 1729, 1730, 1731, 1732, 1733, 1734, 1735, 1736, 1737, 1738, 1739, 1740, 1741, 1742, 1743, 1744, 1745, 1746, 1747, 1748, 1749, 1750, 1751, 1752, 1753, 1754, 1755, 1756, 1757, 1758, 1759, 1760, 1761, 1762, 1763, 1764, 1765, 1766, 1767, 1768, 1769, 1770, 1771, 1772, 1773, 1774, 1775, 1776, 1777, 1778, 1779, 1780, 1781, 1782, 1783, 1784, 1785, 1786, 1787, 1788, 1789, 1790, 1791, 1792, 1793, 1794, 1795, 1796, 1797, 1798, 1799, 1800, 1801, 1802, 1803, 1804, 1805, 1806, 1807, 1808, 1809, 1810, 1811, 1812, 1813, 1814, 1815, 1816, 1817, 1818, 1819, 1820, 1821, 1822, 1823, 1824, 1825, 1826, 1827, 1828, 1829, 1830, 1831, 1832, 1833, 1834, 1835, 1836, 1837, 1838, 1839, 1840, 1841, 1842, 1843, 1844, 1845, 1846, 1847, 1848, 1849, 1850, 1851, 1852, 1853, 1854, 1855, 1856, 1857, 1858, 1859, 1860, 1861, 1862, 1863, 1864, 1865, 1866, 1867, 1868, 1869, 1870, 1871, 1872, 1873, 1874, 1875, 1876, 1877, 1878, 1879, 1880, 1881, 1882, 1883, 1884, 1885, 1886, 1887, 1888, 1889, 1890, 1891, 1892, 1893, 1894, 1895, 1896, 1897, 1898, 1899, 1900, 1901, 1902, 1903, 1904, 1905, 1906, 1907, 1908, 1909, 1910, 1911, 1912, 1913, 1914, 1915, 1916, 1917, 1918, 1919, 1920, 1921, 1922, 1923, 1924, 1925, 1926, 1927, 1928, 1929, 1930, 1931, 1932, 1933, 1934, 1935, 1936, 1937, 1938, 1939, 1940, 1941, 1942, 1943, 1944, 1945, 1946, 1947, 1948, 1949, 1950, 1951, 1952, 1953, 1954, 1955, 1956, 1957, 1958, 1959, 1960, 1961, 1962, 1963, 1964, 1965, 1966, 1967, 1968, 1969, 1970, 1971, 1972, 1973, 1974, 1975, 1976, 1977, 1978, 1979, 1980, 1981, 1982, 1983, 1984, 1985, 1986, 1987, 1988, 1989, 1990, 1991, 1992, 1993, 1994, 1995, 1996, 1997, 1998, 1999, 2000, 2001, 2002, 2003, 2004, 2005, 2006, 2007, 2008, 2009, 2010, 2011, 2012, 2013, 2014, 2015, 2016, 2017, 2018, 2019, 2020, 2021, 2022, 2023, 2024, 2025, 2026, 2027, 2028, 2029, 2030, 2031, 2032, 2033, 2034, 2035, 2036, 2037, 2038, 2039, 2040, 2041, 2042, 2043, 2044, 2045, 2046, 2047, 2048, 2049, 2050, 2051, 2052, 2053, 2054, 2055, 2056, 2057, 2058, 2059, 2060, 2061, 2062, 2063, 2064, 2065, 2066, 2067, 2068, 2069, 2070, 2071, 2072, 2073, 2074, 2075, 2076, 2077, 2078, 2079, 2080, 2081, 2082, 2083, 2084, 2085, 2086, 2087, 2088, 2089, 2090, 2091, 2092, 2093, 2094, 2095, 2096, 2097, 2098, 2099, 2100, 2101, 2102, 2103, 2104, 2105, 2106, 2107, 2108, 2109, 2110, 2111, 2112, 2113, 2114, 2115, 2116, 2117, 2118, 2119, 2120, 2121, 2122, 2123, 2124, 2125, 2126, 2127, 2128, 2129, 2130, 2131, 2132, 2133, 2134, 2135, 2136, 2137, 2138, 2139, 2140, 2141, 2142, 2143, 2144, 2145, 2146, 2147, 2148, 2149, 2150, 2151, 2152, 2153, 2154, 2155, 2156, 2157, 2158, 2159, 2160, 2161, 2162, 2163, 2164, 2165, 2166, 2167, 2168, 2169, 2170, 2171, 2172, 2173, 2174, 2175, 2176, 2177, 2178, 2179, 2180, 2181, 2182, 2183, 2184, 2185, 2186, 2187, 2188, 2189, 2190, 2191, 2192, 2193, 2194, 2195, 2196, 2197, 2198, 2199, 2200, 2201, 2202, 2203, 2204, 2205, 2206, 2207, 2208, 2209, 2210, 2211, 2212, 2213, 2214, 2215, 2216, 2217, 2218, 2219, 2220, 2221, 2222, 2223, 2224, 2225, 2226, 2227, 2228, 2229, 2230, 2231, 2232, 2233, 2234, 2235, 2236, 2237, 2238, 2239, 2240, 2241, 2242, 2243, 2244, 2245, 2246, 2247, 2248, 2249, 2250, 2251, 2252, 2253, 2254, 2255, 2256, 2257, 2258, 2259, 2260, 2261, 2262, 2263, 2264, 2265, 2266, 2267, 2268, 2269, 2270, 2271, 2272, 2273, 2274, 2275, 2276, 2277, 2278, 2279, 2280, 2281, 2282, 2283, 2284, 2285, 2286, 2287, 2288, 2289, 2290, 2291, 2292, 2293, 2294, 2295, 2296, 2297, 2298, 2299, 2300, 2301, 2302, 2303, 2304, 2305, 2306, 2307, 2308, 2309, 2310, 2311, 2312, 2313, 2314, 2315, 2316, 2317, 2318, 2319, 2320, 2321, 2322, 2323, 2324, 2325, 2326, 2327, 2328, 2329, 2330, 2331, 2332, 2333, 2334, 2335, 2336, 2337, 2338, 2339, 2340, 2341, 2342, 2343, 2344, 2345, 2346, 2347, 2348, 2349, 2350, 2351, 2352, 2353, 2354, 2355, 2356, 2357, 2358, 2359, 2360, 2361, 2362, 2363, 2364, 2365, 2366, 2367, 2368, 2369, 2370, 2371, 2372, 2373, 2374, 2375, 2376, 2377, 2378, 2379, 2380, 2381, 2382, 2383, 2384, 2385, 2386, 2387, 2388, 2389, 2390, 2391, 2392, 2393, 2394, 2395, 2396, 2397, 2398, 2399, 2400, 2401, 2402, 2403, 2404, 2405, 2406, 2407, 2408, 2409, 2410, 2411, 2412, 2413, 2414, 2415, 2416, 2417, 2418, 2419, 2420, 2421, 2422, 2423, 2424, 2425, 2426, 2427, 2428, 2429, 2430, 2431, 2432, 2433, 2434, 2435, 2436, 2437, 2438, 2439, 2440, 2441, 2442, 2443, 2444, 2445, 2446, 2447, 2448, 2449, 2450, 2451, 2452, 2453, 2454, 2455, 2456, 2457, 2458, 2459, 2460, 2461, 2462, 2463, 2464, 2465, 2466, 2467, 2468, 2469, 2470, 2471, 2472, 2473, 2474, 2475, 2476, 2477, 2478, 2479, 2480, 2481, 2482, 2483, 2484, 2485, 2486, 2487, 2488, 2489, 2490, 2491, 2492, 2493, 2494, 2495, 2496, 2497, 2498, 2499, 2500, 2501, 2502, 2503, 2504, 2505, 2506, 2507, 2508, 2509, 2510, 2511, 2512, 2513, 2514, 2515, 2516, 2517, 2518, 2519, 2520, 2521, 2522, 2523, 2524, 2525, 2526, 2527, 2528, 2529, 2530, 2531, 2532, 2533, 2534, 2535, 2536, 2537, 2538, 2539, 2540, 2541, 2542, 2543, 2544, 2545, 2546, 2547, 2548, 2549, 2550, 2551, 2552, 2553, 2554, 2555, 2556, 2557, 2558, 2559, 2560, 2561, 2562, 2563, 2564, 2565, 2566, 2567, 2568, 2569, 2570, 2571, 2572, 2573, 2574, 2575, 2576, 2577, 2578, 2579, 2580, 2581, 2582, 2583, 2584, 2585, 2586, 2587, 2588, 2589, 2590, 2591, 2592, 2593, 2594, 2595, 2596, 2597, 2598, 2599, 2600, 2601, 2602, 2603, 2604, 2605, 2606, 2607, 2608, 2609, 2610, 2611, 2612, 2613, 2614, 2615, 2616, 2617, 2618, 2619, 2620, 2621, 2622, 2623, 2624, 2625, 2626, 2627, 2628, 2629, 2630, 2631, 2632, 2633, 2634, 2635, 2636, 2637, 2638, 2639, 2640, 2641, 2642, 2643, 2644, 2645, 2646, 2647, 2648, 2649, 2650, 2651, 2652, 2653, 2654, 2655, 2656, 2657, 2658, 2659, 2660, 2661, 2662, 2663, 2664, 2665, 2666, 2667, 2668, 2669, 2670, 2671, 2672, 2673, 2674, 2675, 2676, 2677, 2678, 2679, 2680, 2681, 2682, 2683, 2684, 2685, 2686, 2687, 2688, 2689, 2690, 2691, 2692, 2693, 2694, 2695, 2696, 2697, 2698, 2699, 2700, 2701, 2702, 2703, 2704, 2705, 2706, 2707, 2708, 2709, 2710, 2711, 2712, 2713, 2714, 2715, 2716, 2717, 2718, 2719, 2720, 2721, 2722, 2723, 2724, 2725, 2726, 2727, 2728, 2729, 2730, 2731, 2732, 2733, 2734, 2735, 2736, 2737, 2738, 2739, 2740, 2741, 2742, 2743, 2744, 2745, 2746, 2747, 2748, 2749, 2750, 2751, 2752, 2753, 2754, 2755, 2756, 2757, 2758, 2759, 2760, 2761, 2762, 2763, 2764, 2765, 2766, 2767, 2768, 2769, 2770, 2771, 2772, 2773, 2774, 2775, 2776, 2777, 2778, 2779, 2780, 2781, 2782, 2783, 2784, 2785, 2786, 2787, 2788, 2789, 2790, 2791, 2792, 2793, 2794, 2795, 2796, 2797, 2798, 2799, 2800, 2801, 2802, 2803, 2804, 2805, 2806, 2807, 2808, 2809, 2810, 2811, 2812, 2813, 2814, 2815, 2816, 2817, 2818, 2819, 2820, 2821, 2822, 2823, 2824, 2825, 2826, 2827, 2828, 2829, 2830, 2831, 2832, 2833, 2834, 2835, 2836, 2837, 2838, 2839, 2840, 2841, 2842, 2843, 2844, 2845, 2846, 2847, 2848, 2849, 2850, 2851, 2852, 2853, 2854, 2855, 2856, 2857, 2858, 2859, 2860, 2861, 2862, 2863, 2864, 2865, 2866, 2867, 2868, 2869, 2870, 2871, 2872, 2873, 2874, 2875, 2876, 2877, 2878, 2879, 2880, 2881, 2882, 2883, 2884, 2885, 2886, 2887, 2888, 2889, 2890, 2891, 2892, 2893, 2894, 2895, 2896, 2897, 2898, 2899, 2900, 2901, 2902, 2903, 2904, 2905, 2906, 2907, 2908, 2909, 2910, 2911, 2912, 2913, 2914, 2915, 2916, 2917, 2918, 2919, 2920, 2921, 2922, 2923, 2924, 2925, 2926, 2927, 2928, 2929, 2930, 2931, 2932, 2933, 2934, 2935, 2936, 2937, 2938, 2939, 2940, 2941, 2942, 2943, 2944, 2945, 2946, 2947, 2948, 2949, 2950, 2951, 2952, 2953, 2954, 2955, 2956, 2957, 2958, 2959, 2960, 2961, 2962, 2963, 2964, 2965, 2966, 2967, 2968, 2969, 2970, 2971, 2972, 2973, 2974, 2975, 2976, 2977, 2978, 2979, 2980, 2981, 2982, 2983, 2984, 2985, 2986, 2987, 2988, 2989, 2990, 2991, 2992, 2993, 2994, 2995, 2996, 2997, 2998, 2999, 3000, 3001, 3002, 3003, 3004, 3005, 3006, 3007, 3008, 3009, 3010, 3011, 3012, 3013, 3014, 3015, 3016, 3017, 3018, 3019, 3020, 3021, 3022, 3023, 3024, 3025, 3026, 3027, 3028, 3029, 3030, 3031, 3032, 3033, 3034, 3035, 3036, 3037, 3038, 3039, 3040, 3041, 3042, 3043, 3044, 3045, 3046, 3047, 3048, 3049, 3050, 3051, 3052, 3053, 3054, 3055, 3056, 3057, 3058, 3059, 3060, 3061, 3062, 3063, 3064, 3065, 3066, 3067, 3068, 3069, 3070, 3071, 3072, 3073, 3074, 3075, 3076, 3077, 3078, 3079, 3080, 3081, 3082, 3083, 3084, 3085, 3086, 3087, 3088, 3089, 3090, 3091, 3092, 3093, 3094, 3095, 3096, 3097, 3098, 3099, 3100, 3101, 3102, 3103, 3104, 3105, 3106, 3107, 3108, 3109, 3110, 3111, 3112, 3113, 3114, 3115, 3116, 3117, 3118, 3119, 3120, 3121, 3122, 3123, 3124, 3125, 3126, 3127, 3128, 3129, 3130, 3131, 3132, 3133, 3134, 3135, 3136, 3137, 3138, 3139, 3140, 3141, 3142, 3143, 3144, 3145, 3146, 3147, 3148, 3149, 3150, 3151, 3152, 3153, 3154, 3155, 3156, 3157, 3158, 3159, 3160, 3161, 3162, 3163, 3164, 3165, 3166, 3167, 3168, 3169, 3170, 3171, 3172, 3173, 3174, 3175, 3176, 3177, 3178, 3179, 3180, 3181, 3182, 3183, 3184, 3185, 3186, 3187, 3188, 3189, 3190, 3191, 3192, 3193, 3194], dtype=int64)"
       ]
      }
     ],
     "prompt_number": 155
    },
    {
     "cell_type": "code",
     "collapsed": false,
     "input": [
      "fips_df2.index"
     ],
     "language": "python",
     "metadata": {},
     "outputs": [
      {
       "metadata": {},
       "output_type": "pyout",
       "prompt_number": 156,
       "text": [
        "Index([u'00000', u'01000', u'01001', u'01003', u'01005', u'01007', u'01009', u'01011', u'01013', u'01015', u'01017', u'01019', u'01021', u'01023', u'01025', u'01027', u'01029', u'01031', u'01033', u'01035', u'01037', u'01039', u'01041', u'01043', u'01045', u'01047', u'01049', u'01051', u'01053', u'01055', u'01057', u'01059', u'01061', u'01063', u'01065', u'01067', u'01069', u'01071', u'01073', u'01075', u'01077', u'01079', u'01081', u'01083', u'01085', u'01087', u'01089', u'01091', u'01093', u'01095', u'01097', u'01099', u'01101', u'01103', u'01105', u'01107', u'01109', u'01111', u'01113', u'01115', u'01117', u'01119', u'01121', u'01123', u'01125', u'01127', u'01129', u'01131', u'01133', u'02000', u'02013', u'02016', u'02020', u'02050', u'02060', u'02068', u'02070', u'02090', u'02100', u'02105', u'02110', u'02122', u'02130', u'02150', u'02164', u'02170', u'02180', u'02185', u'02188', u'02195', u'02198', u'02220', u'02230', u'02240', u'02261', u'02270', u'02275', u'02282', u'02290', u'04000', u'04001', u'04003', u'04005', u'04007', u'04009', u'04011', u'04012', u'04013', u'04015', u'04017', u'04019', u'04021', u'04023', u'04025', u'04027', u'05000', u'05001', u'05003', u'05005', u'05007', u'05009', u'05011', u'05013', u'05015', u'05017', u'05019', u'05021', u'05023', u'05025', u'05027', u'05029', u'05031', u'05033', u'05035', u'05037', u'05039', u'05041', u'05043', u'05045', u'05047', u'05049', u'05051', u'05053', u'05055', u'05057', u'05059', u'05061', u'05063', u'05065', u'05067', u'05069', u'05071', u'05073', u'05075', u'05077', u'05079', u'05081', u'05083', u'05085', u'05087', u'05089', u'05091', u'05093', u'05095', u'05097', u'05099', u'05101', u'05103', u'05105', u'05107', u'05109', u'05111', u'05113', u'05115', u'05117', u'05119', u'05121', u'05123', u'05125', u'05127', u'05129', u'05131', u'05133', u'05135', u'05137', u'05139', u'05141', u'05143', u'05145', u'05147', u'05149', u'06000', u'06001', u'06003', u'06005', u'06007', u'06009', u'06011', u'06013', u'06015', u'06017', u'06019', u'06021', u'06023', u'06025', u'06027', u'06029', u'06031', u'06033', u'06035', u'06037', u'06039', u'06041', u'06043', u'06045', u'06047', u'06049', u'06051', u'06053', u'06055', u'06057', u'06059', u'06061', u'06063', u'06065', u'06067', u'06069', u'06071', u'06073', u'06075', u'06077', u'06079', u'06081', u'06083', u'06085', u'06087', u'06089', u'06091', u'06093', u'06095', u'06097', u'06099', u'06101', u'06103', u'06105', u'06107', u'06109', u'06111', u'06113', u'06115', u'08000', u'08001', u'08003', u'08005', u'08007', u'08009', u'08011', u'08013', u'08014', u'08015', u'08017', u'08019', u'08021', u'08023', u'08025', u'08027', u'08029', u'08031', u'08033', u'08035', u'08037', u'08039', u'08041', u'08043', u'08045', u'08047', u'08049', u'08051', u'08053', u'08055', u'08057', u'08059', u'08061', u'08063', u'08065', u'08067', u'08069', u'08071', u'08073', u'08075', u'08077', u'08079', u'08081', u'08083', u'08085', u'08087', u'08089', u'08091', u'08093', u'08095', u'08097', u'08099', u'08101', u'08103', u'08105', u'08107', u'08109', u'08111', u'08113', u'08115', u'08117', u'08119', u'08121', u'08123', u'08125', u'09000', u'09001', u'09003', u'09005', u'09007', u'09009', u'09011', u'09013', u'09015', u'10000', u'10001', u'10003', u'10005', u'11000', u'11001', u'12000', u'12001', u'12003', u'12005', u'12007', u'12009', u'12011', u'12013', u'12015', u'12017', u'12019', u'12021', u'12023', u'12027', u'12029', u'12031', u'12033', u'12035', u'12037', u'12039', u'12041', u'12043', u'12045', u'12047', u'12049', u'12051', u'12053', u'12055', u'12057', u'12059', u'12061', u'12063', u'12065', u'12067', u'12069', u'12071', u'12073', u'12075', u'12077', u'12079', u'12081', u'12083', u'12085', u'12086', u'12087', u'12089', u'12091', u'12093', u'12095', u'12097', u'12099', u'12101', u'12103', u'12105', u'12107', u'12109', u'12111', u'12113', u'12115', u'12117', u'12119', u'12121', u'12123', u'12125', u'12127', u'12129', u'12131', u'12133', u'13000', u'13001', u'13003', u'13005', u'13007', u'13009', u'13011', u'13013', u'13015', u'13017', u'13019', u'13021', u'13023', u'13025', u'13027', u'13029', u'13031', u'13033', u'13035', u'13037', u'13039', u'13043', u'13045', u'13047', u'13049', u'13051', u'13053', u'13055', u'13057', u'13059', u'13061', u'13063', u'13065', u'13067', u'13069', u'13071', u'13073', u'13075', u'13077', u'13079', u'13081', u'13083', u'13085', u'13087', u'13089', u'13091', u'13093', u'13095', u'13097', u'13099', u'13101', u'13103', u'13105', u'13107', u'13109', u'13111', u'13113', u'13115', u'13117', u'13119', u'13121', u'13123', u'13125', u'13127', u'13129', u'13131', u'13133', u'13135', u'13137', u'13139', u'13141', u'13143', u'13145', u'13147', u'13149', u'13151', u'13153', u'13155', u'13157', u'13159', u'13161', u'13163', u'13165', u'13167', u'13169', u'13171', u'13173', u'13175', u'13177', u'13179', u'13181', u'13183', u'13185', u'13187', u'13189', u'13191', u'13193', u'13195', u'13197', u'13199', u'13201', u'13205', u'13207', u'13209', u'13211', u'13213', u'13215', u'13217', u'13219', u'13221', u'13223', u'13225', u'13227', u'13229', u'13231', u'13233', u'13235', u'13237', u'13239', u'13241', u'13243', u'13245', u'13247', u'13249', u'13251', u'13253', u'13255', u'13257', u'13259', u'13261', u'13263', u'13265', u'13267', u'13269', u'13271', u'13273', u'13275', u'13277', u'13279', u'13281', u'13283', u'13285', u'13287', u'13289', u'13291', u'13293', u'13295', u'13297', u'13299', u'13301', u'13303', u'13305', u'13307', u'13309', u'13311', u'13313', u'13315', u'13317', u'13319', u'13321', u'15000', u'15001', u'15003', u'15005', u'15007', u'15009', u'16000', u'16001', u'16003', u'16005', u'16007', u'16009', u'16011', u'16013', u'16015', u'16017', u'16019', u'16021', u'16023', u'16025', u'16027', u'16029', u'16031', u'16033', u'16035', u'16037', u'16039', u'16041', u'16043', u'16045', u'16047', u'16049', u'16051', u'16053', u'16055', u'16057', u'16059', u'16061', u'16063', u'16065', u'16067', u'16069', u'16071', u'16073', u'16075', u'16077', u'16079', u'16081', u'16083', u'16085', u'16087', u'17000', u'17001', u'17003', u'17005', u'17007', u'17009', u'17011', u'17013', u'17015', u'17017', u'17019', u'17021', u'17023', u'17025', u'17027', u'17029', u'17031', u'17033', u'17035', u'17037', u'17039', u'17041', u'17043', u'17045', u'17047', u'17049', u'17051', u'17053', u'17055', u'17057', u'17059', u'17061', u'17063', u'17065', u'17067', u'17069', u'17071', u'17073', u'17075', u'17077', u'17079', u'17081', u'17083', u'17085', u'17087', u'17089', u'17091', u'17093', u'17095', u'17097', u'17099', u'17101', u'17103', u'17105', u'17107', u'17109', u'17111', u'17113', u'17115', u'17117', u'17119', u'17121', u'17123', u'17125', u'17127', u'17129', u'17131', u'17133', u'17135', u'17137', u'17139', u'17141', u'17143', u'17145', u'17147', u'17149', u'17151', u'17153', u'17155', u'17157', u'17159', u'17161', u'17163', u'17165', u'17167', u'17169', u'17171', u'17173', u'17175', u'17177', u'17179', u'17181', u'17183', u'17185', u'17187', u'17189', u'17191', u'17193', u'17195', u'17197', u'17199', u'17201', u'17203', u'18000', u'18001', u'18003', u'18005', u'18007', u'18009', u'18011', u'18013', u'18015', u'18017', u'18019', u'18021', u'18023', u'18025', u'18027', u'18029', u'18031', u'18033', u'18035', u'18037', u'18039', u'18041', u'18043', u'18045', u'18047', u'18049', u'18051', u'18053', u'18055', u'18057', u'18059', u'18061', u'18063', u'18065', u'18067', u'18069', u'18071', u'18073', u'18075', u'18077', u'18079', u'18081', u'18083', u'18085', u'18087', u'18089', u'18091', u'18093', u'18095', u'18097', u'18099', u'18101', u'18103', u'18105', u'18107', u'18109', u'18111', u'18113', u'18115', u'18117', u'18119', u'18121', u'18123', u'18125', u'18127', u'18129', u'18131', u'18133', u'18135', u'18137', u'18139', u'18141', u'18143', u'18145', u'18147', u'18149', u'18151', u'18153', u'18155', u'18157', u'18159', u'18161', u'18163', u'18165', u'18167', u'18169', u'18171', u'18173', u'18175', u'18177', u'18179', u'18181', u'18183', u'19000', u'19001', u'19003', u'19005', u'19007', u'19009', u'19011', u'19013', u'19015', u'19017', u'19019', u'19021', u'19023', u'19025', u'19027', u'19029', u'19031', u'19033', u'19035', u'19037', u'19039', u'19041', u'19043', u'19045', u'19047', u'19049', u'19051', u'19053', u'19055', u'19057', u'19059', u'19061', u'19063', u'19065', u'19067', u'19069', u'19071', u'19073', u'19075', u'19077', u'19079', u'19081', u'19083', u'19085', u'19087', u'19089', u'19091', u'19093', u'19095', u'19097', u'19099', u'19101', u'19103', u'19105', u'19107', u'19109', u'19111', u'19113', u'19115', u'19117', u'19119', u'19121', u'19123', u'19125', u'19127', u'19129', u'19131', u'19133', u'19135', u'19137', u'19139', u'19141', u'19143', u'19145', u'19147', u'19149', u'19151', u'19153', u'19155', u'19157', u'19159', u'19161', u'19163', u'19165', u'19167', u'19169', u'19171', u'19173', u'19175', u'19177', u'19179', u'19181', u'19183', u'19185', u'19187', u'19189', u'19191', u'19193', u'19195', u'19197', u'20000', u'20001', u'20003', u'20005', u'20007', u'20009', u'20011', u'20013', u'20015', u'20017', u'20019', u'20021', u'20023', u'20025', u'20027', u'20029', u'20031', u'20033', u'20035', u'20037', u'20039', u'20041', u'20043', u'20045', u'20047', u'20049', u'20051', u'20053', u'20055', u'20057', u'20059', u'20061', u'20063', u'20065', u'20067', u'20069', u'20071', u'20073', u'20075', u'20077', u'20079', u'20081', u'20083', u'20085', u'20087', u'20089', u'20091', u'20093', u'20095', u'20097', u'20099', u'20101', u'20103', u'20105', u'20107', u'20109', u'20111', u'20113', u'20115', u'20117', u'20119', u'20121', u'20123', u'20125', u'20127', u'20129', u'20131', u'20133', u'20135', u'20137', u'20139', u'20141', u'20143', u'20145', u'20147', u'20149', u'20151', u'20153', u'20155', u'20157', u'20159', u'20161', u'20163', u'20165', u'20167', u'20169', u'20171', u'20173', u'20175', u'20177', u'20179', u'20181', u'20183', u'20185', u'20187', u'20189', u'20191', u'20193', u'20195', u'20197', u'20199', u'20201', u'20203', u'20205', u'20207', u'20209', u'21000', u'21001', u'21003', u'21005', u'21007', u'21009', u'21011', u'21013', u'21015', u'21017', u'21019', u'21021', u'21023', u'21025', u'21027', u'21029', u'21031', u'21033', u'21035', u'21037', u'21039', u'21041', u'21043', u'21045', u'21047', u'21049', u'21051', u'21053', u'21055', u'21057', u'21059', u'21061', u'21063', u'21065', u'21067', u'21069', u'21071', u'21073', u'21075', u'21077', u'21079', u'21081', u'21083', u'21085', u'21087', u'21089', u'21091', u'21093', u'21095', u'21097', u'21099', u'21101', u'21103', u'21105', u'21107', u'21109', u'21111', u'21113', u'21115', u'21117', u'21119', u'21121', u'21123', u'21125', u'21127', u'21129', u'21131', u'21133', u'21135', u'21137', u'21139', u'21141', u'21143', u'21145', u'21147', u'21149', u'21151', u'21153', u'21155', u'21157', u'21159', u'21161', u'21163', u'21165', u'21167', u'21169', u'21171', u'21173', u'21175', u'21177', u'21179', u'21181', u'21183', u'21185', u'21187', u'21189', u'21191', u'21193', u'21195', u'21197', u'21199', u'21201', u'21203', u'21205', u'21207', u'21209', u'21211', u'21213', u'21215', u'21217', u'21219', u'21221', u'21223', u'21225', u'21227', u'21229', u'21231', u'21233', u'21235', u'21237', u'21239', u'22000', u'22001', u'22003', u'22005', u'22007', u'22009', u'22011', u'22013', u'22015', u'22017', u'22019', u'22021', u'22023', u'22025', u'22027', u'22029', u'22031', u'22033', u'22035', u'22037', u'22039', u'22041', u'22043', u'22045', u'22047', u'22049', u'22051', u'22053', u'22055', u'22057', u'22059', u'22061', u'22063', u'22065', u'22067', u'22069', u'22071', u'22073', u'22075', u'22077', u'22079', u'22081', u'22083', u'22085', u'22087', u'22089', u'22091', u'22093', u'22095', u'22097', u'22099', u'22101', u'22103', u'22105', u'22107', u'22109', u'22111', u'22113', u'22115', u'22117', u'22119', u'22121', u'22123', u'22125', u'22127', u'23000', u'23001', u'23003', u'23005', u'23007', u'23009', u'23011', u'23013', u'23015', u'23017', u'23019', u'23021', u'23023', u'23025', u'23027', u'23029', u'23031', u'24000', u'24001', u'24003', u'24005', u'24009', u'24011', u'24013', u'24015', u'24017', u'24019', u'24021', u'24023', u'24025', u'24027', u'24029', u'24031', u'24033', u'24035', u'24037', u'24039', u'24041', u'24043', u'24045', u'24047', u'24510', u'25000', u'25001', u'25003', u'25005', u'25007', u'25009', u'25011', u'25013', u'25015', u'25017', u'25019', u'25021', u'25023', u'25025', u'25027', u'26000', u'26001', u'26003', u'26005', u'26007', u'26009', u'26011', u'26013', u'26015', u'26017', u'26019', u'26021', u'26023', u'26025', u'26027', u'26029', u'26031', u'26033', u'26035', u'26037', u'26039', u'26041', u'26043', u'26045', u'26047', u'26049', u'26051', u'26053', u'26055', u'26057', u'26059', u'26061', u'26063', u'26065', u'26067', u'26069', u'26071', u'26073', u'26075', u'26077', u'26079', u'26081', u'26083', u'26085', u'26087', u'26089', u'26091', u'26093', u'26095', u'26097', u'26099', u'26101', u'26103', u'26105', u'26107', u'26109', u'26111', u'26113', u'26115', u'26117', u'26119', u'26121', u'26123', u'26125', u'26127', u'26129', u'26131', u'26133', u'26135', u'26137', u'26139', u'26141', u'26143', u'26145', u'26147', u'26149', u'26151', u'26153', u'26155', u'26157', u'26159', u'26161', u'26163', u'26165', u'27000', u'27001', u'27003', u'27005', u'27007', u'27009', u'27011', u'27013', u'27015', u'27017', u'27019', u'27021', u'27023', u'27025', u'27027', u'27029', u'27031', u'27033', u'27035', u'27037', u'27039', u'27041', u'27043', u'27045', u'27047', u'27049', u'27051', u'27053', u'27055', u'27057', u'27059', u'27061', u'27063', u'27065', u'27067', u'27069', u'27071', u'27073', u'27075', u'27077', u'27079', u'27081', u'27083', u'27085', u'27087', u'27089', u'27091', u'27093', u'27095', u'27097', u'27099', u'27101', u'27103', u'27105', u'27107', u'27109', u'27111', u'27113', u'27115', u'27117', u'27119', u'27121', u'27123', u'27125', u'27127', u'27129', u'27131', u'27133', u'27135', u'27137', u'27139', u'27141', u'27143', u'27145', u'27147', u'27149', u'27151', u'27153', u'27155', u'27157', u'27159', u'27161', u'27163', u'27165', u'27167', u'27169', u'27171', u'27173', u'28000', u'28001', u'28003', u'28005', u'28007', u'28009', u'28011', u'28013', u'28015', u'28017', u'28019', u'28021', u'28023', u'28025', u'28027', u'28029', u'28031', u'28033', u'28035', u'28037', u'28039', u'28041', u'28043', u'28045', u'28047', u'28049', u'28051', u'28053', u'28055', u'28057', u'28059', u'28061', u'28063', u'28065', u'28067', u'28069', u'28071', u'28073', u'28075', u'28077', u'28079', u'28081', u'28083', u'28085', u'28087', u'28089', u'28091', u'28093', u'28095', u'28097', u'28099', u'28101', u'28103', u'28105', u'28107', u'28109', u'28111', u'28113', u'28115', u'28117', u'28119', u'28121', u'28123', u'28125', u'28127', u'28129', u'28131', u'28133', u'28135', u'28137', u'28139', u'28141', u'28143', u'28145', u'28147', u'28149', u'28151', u'28153', u'28155', u'28157', u'28159', u'28161', u'28163', u'29000', u'29001', u'29003', u'29005', u'29007', u'29009', u'29011', u'29013', u'29015', u'29017', u'29019', u'29021', u'29023', u'29025', u'29027', u'29029', u'29031', u'29033', u'29035', u'29037', u'29039', u'29041', u'29043', u'29045', u'29047', u'29049', u'29051', u'29053', u'29055', u'29057', u'29059', u'29061', u'29063', u'29065', u'29067', u'29069', u'29071', u'29073', u'29075', u'29077', u'29079', u'29081', u'29083', u'29085', u'29087', u'29089', u'29091', u'29093', u'29095', u'29097', u'29099', u'29101', u'29103', u'29105', u'29107', u'29109', u'29111', u'29113', u'29115', u'29117', u'29119', u'29121', u'29123', u'29125', u'29127', u'29129', u'29131', u'29133', u'29135', u'29137', u'29139', u'29141', u'29143', u'29145', u'29147', u'29149', u'29151', u'29153', u'29155', u'29157', u'29159', u'29161', u'29163', u'29165', u'29167', u'29169', u'29171', u'29173', u'29175', u'29177', u'29179', u'29181', u'29183', u'29185', u'29186', u'29187', u'29189', u'29195', u'29197', u'29199', u'29201', u'29203', u'29205', u'29207', u'29209', u'29211', u'29213', u'29215', u'29217', u'29219', u'29221', u'29223', u'29225', u'29227', u'29229', u'29510', u'30000', u'30001', u'30003', u'30005', u'30007', u'30009', u'30011', u'30013', u'30015', u'30017', u'30019', u'30021', u'30023', u'30025', u'30027', u'30029', u'30031', u'30033', u'30035', u'30037', u'30039', u'30041', u'30043', u'30045', u'30047', u'30049', u'30051', u'30053', u'30055', u'30057', u'30059', u'30061', u'30063', u'30065', u'30067', u'30069', u'30071', u'30073', u'30075', u'30077', u'30079', u'30081', u'30083', u'30085', u'30087', u'30089', u'30091', u'30093', u'30095', u'30097', u'30099', u'30101', u'30103', u'30105', u'30107', u'30109', u'30111', u'31000', u'31001', u'31003', u'31005', u'31007', u'31009', u'31011', u'31013', u'31015', u'31017', u'31019', u'31021', u'31023', u'31025', u'31027', u'31029', u'31031', u'31033', u'31035', u'31037', u'31039', u'31041', u'31043', u'31045', u'31047', u'31049', u'31051', u'31053', u'31055', u'31057', u'31059', u'31061', u'31063', u'31065', u'31067', u'31069', u'31071', u'31073', u'31075', u'31077', u'31079', u'31081', u'31083', u'31085', u'31087', u'31089', u'31091', u'31093', u'31095', u'31097', u'31099', u'31101', u'31103', u'31105', u'31107', u'31109', u'31111', u'31113', u'31115', u'31117', u'31119', u'31121', u'31123', u'31125', u'31127', u'31129', u'31131', u'31133', u'31135', u'31137', u'31139', u'31141', u'31143', u'31145', u'31147', u'31149', u'31151', u'31153', u'31155', u'31157', u'31159', u'31161', u'31163', u'31165', u'31167', u'31169', u'31171', u'31173', u'31175', u'31177', u'31179', u'31181', u'31183', u'31185', u'32000', u'32001', u'32003', u'32005', u'32007', u'32009', u'32011', u'32013', u'32015', u'32017', u'32019', u'32021', u'32023', u'32027', u'32029', u'32031', u'32033', u'32510', u'33000', u'33001', u'33003', u'33005', u'33007', u'33009', u'33011', u'33013', u'33015', u'33017', u'33019', u'34000', u'34001', u'34003', u'34005', u'34007', u'34009', u'34011', u'34013', u'34015', u'34017', u'34019', u'34021', u'34023', u'34025', u'34027', u'34029', u'34031', u'34033', u'34035', u'34037', u'34039', u'34041', u'35000', u'35001', u'35003', u'35005', u'35006', u'35007', u'35009', u'35011', u'35013', u'35015', u'35017', u'35019', u'35021', u'35023', u'35025', u'35027', u'35028', u'35029', u'35031', u'35033', u'35035', u'35037', u'35039', u'35041', u'35043', u'35045', u'35047', u'35049', u'35051', u'35053', u'35055', u'35057', u'35059', u'35061', u'36000', u'36001', u'36003', u'36005', u'36007', u'36009', u'36011', u'36013', u'36015', u'36017', u'36019', u'36021', u'36023', u'36025', u'36027', u'36029', u'36031', u'36033', u'36035', u'36037', u'36039', u'36041', u'36043', u'36045', u'36047', u'36049', u'36051', u'36053', u'36055', u'36057', u'36059', u'36061', u'36063', u'36065', u'36067', u'36069', u'36071', u'36073', u'36075', u'36077', u'36079', u'36081', u'36083', u'36085', u'36087', u'36089', u'36091', u'36093', u'36095', u'36097', u'36099', u'36101', u'36103', u'36105', u'36107', u'36109', u'36111', u'36113', u'36115', u'36117', u'36119', u'36121', u'36123', u'37000', u'37001', u'37003', u'37005', u'37007', u'37009', u'37011', u'37013', u'37015', u'37017', u'37019', u'37021', u'37023', u'37025', u'37027', u'37029', u'37031', u'37033', u'37035', u'37037', u'37039', u'37041', u'37043', u'37045', u'37047', u'37049', u'37051', u'37053', u'37055', u'37057', u'37059', u'37061', u'37063', u'37065', u'37067', u'37069', u'37071', u'37073', u'37075', u'37077', u'37079', u'37081', u'37083', u'37085', u'37087', u'37089', u'37091', u'37093', u'37095', u'37097', u'37099', u'37101', u'37103', u'37105', u'37107', u'37109', u'37111', u'37113', u'37115', u'37117', u'37119', u'37121', u'37123', u'37125', u'37127', u'37129', u'37131', u'37133', u'37135', u'37137', u'37139', u'37141', u'37143', u'37145', u'37147', u'37149', u'37151', u'37153', u'37155', u'37157', u'37159', u'37161', u'37163', u'37165', u'37167', u'37169', u'37171', u'37173', u'37175', u'37177', u'37179', u'37181', u'37183', u'37185', u'37187', u'37189', u'37191', u'37193', u'37195', u'37197', u'37199', u'38000', u'38001', u'38003', u'38005', u'38007', u'38009', u'38011', u'38013', u'38015', u'38017', u'38019', u'38021', u'38023', u'38025', u'38027', u'38029', u'38031', u'38033', u'38035', u'38037', u'38039', u'38041', u'38043', u'38045', u'38047', u'38049', u'38051', u'38053', u'38055', u'38057', u'38059', u'38061', u'38063', u'38065', u'38067', u'38069', u'38071', u'38073', u'38075', u'38077', u'38079', u'38081', u'38083', u'38085', u'38087', u'38089', u'38091', u'38093', u'38095', u'38097', u'38099', u'38101', u'38103', u'38105', u'39000', u'39001', u'39003', u'39005', u'39007', u'39009', u'39011', u'39013', u'39015', u'39017', u'39019', u'39021', u'39023', u'39025', u'39027', u'39029', u'39031', u'39033', u'39035', u'39037', u'39039', u'39041', u'39043', u'39045', u'39047', u'39049', u'39051', u'39053', u'39055', u'39057', u'39059', u'39061', u'39063', u'39065', u'39067', u'39069', u'39071', u'39073', u'39075', u'39077', u'39079', u'39081', u'39083', u'39085', u'39087', u'39089', u'39091', u'39093', u'39095', u'39097', u'39099', u'39101', u'39103', u'39105', u'39107', u'39109', u'39111', u'39113', u'39115', u'39117', u'39119', u'39121', u'39123', u'39125', u'39127', u'39129', u'39131', u'39133', u'39135', u'39137', u'39139', u'39141', u'39143', u'39145', u'39147', u'39149', u'39151', u'39153', u'39155', u'39157', u'39159', u'39161', u'39163', u'39165', u'39167', u'39169', u'39171', u'39173', u'39175', u'40000', u'40001', u'40003', u'40005', u'40007', u'40009', u'40011', u'40013', u'40015', u'40017', u'40019', u'40021', u'40023', u'40025', u'40027', u'40029', u'40031', u'40033', u'40035', u'40037', u'40039', u'40041', u'40043', u'40045', u'40047', u'40049', u'40051', u'40053', u'40055', u'40057', u'40059', u'40061', u'40063', u'40065', u'40067', u'40069', u'40071', u'40073', u'40075', u'40077', u'40079', u'40081', u'40083', u'40085', u'40087', u'40089', u'40091', u'40093', u'40095', u'40097', u'40099', u'40101', u'40103', u'40105', u'40107', u'40109', u'40111', u'40113', u'40115', u'40117', u'40119', u'40121', u'40123', u'40125', u'40127', u'40129', u'40131', u'40133', u'40135', u'40137', u'40139', u'40141', u'40143', u'40145', u'40147', u'40149', u'40151', u'40153', u'41000', u'41001', u'41003', u'41005', u'41007', u'41009', u'41011', u'41013', u'41015', u'41017', u'41019', u'41021', u'41023', u'41025', u'41027', u'41029', u'41031', u'41033', u'41035', u'41037', u'41039', u'41041', u'41043', u'41045', u'41047', u'41049', u'41051', u'41053', u'41055', u'41057', u'41059', u'41061', u'41063', u'41065', u'41067', u'41069', u'41071', u'42000', u'42001', u'42003', u'42005', u'42007', u'42009', u'42011', u'42013', u'42015', u'42017', u'42019', u'42021', u'42023', u'42025', u'42027', u'42029', u'42031', u'42033', u'42035', u'42037', u'42039', u'42041', u'42043', u'42045', u'42047', u'42049', u'42051', u'42053', u'42055', u'42057', u'42059', u'42061', u'42063', u'42065', u'42067', u'42069', u'42071', u'42073', u'42075', u'42077', u'42079', u'42081', u'42083', u'42085', u'42087', u'42089', u'42091', u'42093', u'42095', u'42097', u'42099', u'42101', u'42103', u'42105', u'42107', u'42109', u'42111', u'42113', u'42115', u'42117', u'42119', u'42121', u'42123', u'42125', u'42127', u'42129', u'42131', u'42133', u'44000', u'44001', u'44003', u'44005', u'44007', u'44009', u'45000', u'45001', u'45003', u'45005', u'45007', u'45009', u'45011', u'45013', u'45015', u'45017', u'45019', u'45021', u'45023', u'45025', u'45027', u'45029', u'45031', u'45033', u'45035', u'45037', u'45039', u'45041', u'45043', u'45045', u'45047', u'45049', u'45051', u'45053', u'45055', u'45057', u'45059', u'45061', u'45063', u'45065', u'45067', u'45069', u'45071', u'45073', u'45075', u'45077', u'45079', u'45081', u'45083', u'45085', u'45087', u'45089', u'45091', u'46000', u'46003', u'46005', u'46007', u'46009', u'46011', u'46013', u'46015', u'46017', u'46019', u'46021', u'46023', u'46025', u'46027', u'46029', u'46031', u'46033', u'46035', u'46037', u'46039', u'46041', u'46043', u'46045', u'46047', u'46049', u'46051', u'46053', u'46055', u'46057', u'46059', u'46061', u'46063', u'46065', u'46067', u'46069', u'46071', u'46073', u'46075', u'46077', u'46079', u'46081', u'46083', u'46085', u'46087', u'46089', u'46091', u'46093', u'46095', u'46097', u'46099', u'46101', u'46103', u'46105', u'46107', u'46109', u'46111', u'46113', u'46115', u'46117', u'46119', u'46121', u'46123', u'46125', u'46127', u'46129', u'46135', u'46137', u'47000', u'47001', u'47003', u'47005', u'47007', u'47009', u'47011', u'47013', u'47015', u'47017', u'47019', u'47021', u'47023', u'47025', u'47027', u'47029', u'47031', u'47033', u'47035', u'47037', u'47039', u'47041', u'47043', u'47045', u'47047', u'47049', u'47051', u'47053', u'47055', u'47057', u'47059', u'47061', u'47063', u'47065', u'47067', u'47069', u'47071', u'47073', u'47075', u'47077', u'47079', u'47081', u'47083', u'47085', u'47087', u'47089', u'47091', u'47093', u'47095', u'47097', u'47099', u'47101', u'47103', u'47105', u'47107', u'47109', u'47111', u'47113', u'47115', u'47117', u'47119', u'47121', u'47123', u'47125', u'47127', u'47129', u'47131', u'47133', u'47135', u'47137', u'47139', u'47141', u'47143', u'47145', u'47147', u'47149', u'47151', u'47153', u'47155', u'47157', u'47159', u'47161', u'47163', u'47165', u'47167', u'47169', u'47171', u'47173', u'47175', u'47177', u'47179', u'47181', u'47183', u'47185', u'47187', u'47189', u'48000', u'48001', u'48003', u'48005', u'48007', u'48009', u'48011', u'48013', u'48015', u'48017', u'48019', u'48021', u'48023', u'48025', u'48027', u'48029', u'48031', u'48033', u'48035', u'48037', u'48039', u'48041', u'48043', u'48045', u'48047', u'48049', u'48051', u'48053', u'48055', u'48057', u'48059', u'48061', u'48063', u'48065', u'48067', u'48069', u'48071', u'48073', u'48075', u'48077', u'48079', u'48081', u'48083', u'48085', u'48087', u'48089', u'48091', u'48093', u'48095', u'48097', u'48099', u'48101', u'48103', u'48105', u'48107', u'48109', u'48111', u'48113', u'48115', u'48117', u'48119', u'48121', u'48123', u'48125', u'48127', u'48129', u'48131', u'48133', u'48135', u'48137', u'48139', u'48141', u'48143', u'48145', u'48147', u'48149', u'48151', u'48153', u'48155', u'48157', u'48159', u'48161', u'48163', u'48165', u'48167', u'48169', u'48171', u'48173', u'48175', u'48177', u'48179', u'48181', u'48183', u'48185', u'48187', u'48189', u'48191', u'48193', u'48195', u'48197', u'48199', u'48201', u'48203', u'48205', u'48207', u'48209', u'48211', u'48213', u'48215', u'48217', u'48219', u'48221', u'48223', u'48225', u'48227', u'48229', u'48231', u'48233', u'48235', u'48237', u'48239', u'48241', u'48243', u'48245', u'48247', u'48249', u'48251', u'48253', u'48255', u'48257', u'48259', u'48261', u'48263', u'48265', u'48267', u'48269', u'48271', u'48273', u'48275', u'48277', u'48279', u'48281', u'48283', u'48285', u'48287', u'48289', u'48291', u'48293', u'48295', u'48297', u'48299', u'48301', u'48303', u'48305', u'48307', u'48309', u'48311', u'48313', u'48315', u'48317', u'48319', u'48321', u'48323', u'48325', u'48327', u'48329', u'48331', u'48333', u'48335', u'48337', u'48339', u'48341', u'48343', u'48345', u'48347', u'48349', u'48351', u'48353', u'48355', u'48357', u'48359', u'48361', u'48363', u'48365', u'48367', u'48369', u'48371', u'48373', u'48375', u'48377', u'48379', u'48381', u'48383', u'48385', u'48387', u'48389', u'48391', u'48393', u'48395', u'48397', u'48399', u'48401', u'48403', u'48405', u'48407', u'48409', u'48411', u'48413', u'48415', u'48417', u'48419', u'48421', u'48423', u'48425', u'48427', u'48429', u'48431', u'48433', u'48435', u'48437', u'48439', u'48441', u'48443', u'48445', u'48447', u'48449', u'48451', u'48453', u'48455', u'48457', u'48459', u'48461', u'48463', u'48465', u'48467', u'48469', u'48471', u'48473', u'48475', u'48477', u'48479', u'48481', u'48483', u'48485', u'48487', u'48489', u'48491', u'48493', u'48495', u'48497', u'48499', u'48501', u'48503', u'48505', u'48507', u'49000', u'49001', u'49003', u'49005', u'49007', u'49009', u'49011', u'49013', u'49015', u'49017', u'49019', u'49021', u'49023', u'49025', u'49027', u'49029', u'49031', u'49033', u'49035', u'49037', u'49039', u'49041', u'49043', u'49045', u'49047', u'49049', u'49051', u'49053', u'49055', u'49057', u'50000', u'50001', u'50003', u'50005', u'50007', u'50009', u'50011', u'50013', u'50015', u'50017', u'50019', u'50021', u'50023', u'50025', u'50027', u'51000', u'51001', u'51003', u'51005', u'51007', u'51009', u'51011', u'51013', u'51015', u'51017', u'51019', u'51021', u'51023', u'51025', u'51027', u'51029', u'51031', u'51033', u'51035', u'51036', u'51037', u'51041', u'51043', u'51045', u'51047', u'51049', u'51051', u'51053', u'51057', u'51059', u'51061', u'51063', u'51065', u'51067', u'51069', u'51071', u'51073', u'51075', u'51077', u'51079', u'51081', u'51083', u'51085', u'51087', u'51089', u'51091', u'51093', u'51095', u'51097', u'51099', u'51101', u'51103', u'51105', u'51107', u'51109', u'51111', u'51113', u'51115', u'51117', u'51119', u'51121', u'51125', u'51127', u'51131', u'51133', u'51135', u'51137', u'51139', u'51141', u'51143', u'51145', u'51147', u'51149', u'51153', u'51155', u'51157', u'51159', u'51161', u'51163', u'51165', u'51167', u'51169', u'51171', u'51173', u'51175', u'51177', u'51179', u'51181', u'51183', u'51185', u'51187', u'51191', u'51193', u'51195', u'51197', u'51199', u'51510', u'51515', u'51520', u'51530', u'51540', u'51550', u'51570', u'51580', u'51590', u'51595', u'51600', u'51610', u'51620', u'51630', u'51640', u'51650', u'51660', u'51670', u'51678', u'51680', u'51683', u'51685', u'51690', u'51700', u'51710', u'51720', u'51730', u'51735', u'51740', u'51750', u'51760', u'51770', u'51775', u'51790', u'51800', u'51810', u'51820', u'51830', u'51840', u'53000', u'53001', u'53003', u'53005', u'53007', u'53009', u'53011', u'53013', u'53015', u'53017', u'53019', u'53021', u'53023', u'53025', u'53027', u'53029', u'53031', u'53033', u'53035', u'53037', u'53039', u'53041', u'53043', u'53045', u'53047', u'53049', u'53051', u'53053', u'53055', u'53057', u'53059', u'53061', u'53063', u'53065', u'53067', u'53069', u'53071', u'53073', u'53075', u'53077', u'54000', u'54001', u'54003', u'54005', u'54007', u'54009', u'54011', u'54013', u'54015', u'54017', u'54019', u'54021', u'54023', u'54025', u'54027', u'54029', u'54031', u'54033', u'54035', u'54037', u'54039', u'54041', u'54043', u'54045', u'54047', u'54049', u'54051', u'54053', u'54055', u'54057', u'54059', u'54061', u'54063', u'54065', u'54067', u'54069', u'54071', u'54073', u'54075', u'54077', u'54079', u'54081', u'54083', u'54085', u'54087', u'54089', u'54091', u'54093', u'54095', u'54097', u'54099', u'54101', u'54103', u'54105', u'54107', u'54109', u'55000', u'55001', u'55003', u'55005', u'55007', u'55009', u'55011', u'55013', u'55015', u'55017', u'55019', u'55021', u'55023', u'55025', u'55027', u'55029', u'55031', u'55033', u'55035', u'55037', u'55039', u'55041', u'55043', u'55045', u'55047', u'55049', u'55051', u'55053', u'55055', u'55057', u'55059', u'55061', u'55063', u'55065', u'55067', u'55069', u'55071', u'55073', u'55075', u'55077', u'55078', u'55079', u'55081', u'55083', u'55085', u'55087', u'55089', u'55091', u'55093', u'55095', u'55097', u'55099', u'55101', u'55103', u'55105', u'55107', u'55109', u'55111', u'55113', u'55115', u'55117', u'55119', u'55121', u'55123', u'55125', u'55127', u'55129', u'55131', u'55133', u'55135', u'55137', u'55139', u'55141', u'56000', u'56001', u'56003', u'56005', u'56007', u'56009', u'56011', u'56013', u'56015', u'56017', u'56019', u'56021', u'56023', u'56025', u'56027', u'56029', u'56031', u'56033', u'56035', u'56037', u'56039', u'56041', u'56043', u'56045'], dtype=object)"
       ]
      }
     ],
     "prompt_number": 156
    },
    {
     "cell_type": "code",
     "collapsed": false,
     "input": [
      "Series(fips_df2.index).str[-3:] == '000'"
     ],
     "language": "python",
     "metadata": {},
     "outputs": [
      {
       "metadata": {},
       "output_type": "pyout",
       "prompt_number": 153,
       "text": [
        "0      True\n",
        "1      True\n",
        "2     False\n",
        "3     False\n",
        "4     False\n",
        "5     False\n",
        "6     False\n",
        "7     False\n",
        "8     False\n",
        "9     False\n",
        "10    False\n",
        "11    False\n",
        "12    False\n",
        "13    False\n",
        "14    False\n",
        "...\n",
        "3180    False\n",
        "3181    False\n",
        "3182    False\n",
        "3183    False\n",
        "3184    False\n",
        "3185    False\n",
        "3186    False\n",
        "3187    False\n",
        "3188    False\n",
        "3189    False\n",
        "3190    False\n",
        "3191    False\n",
        "3192    False\n",
        "3193    False\n",
        "3194    False\n",
        "Length: 3195, dtype: bool"
       ]
      }
     ],
     "prompt_number": 153
    },
    {
     "cell_type": "code",
     "collapsed": false,
     "input": [
      "# first 5 rows\n",
      "fips_df2[Series(fips_df2.index, index=fips_df2.index).str[-3:] == '000'][:5]"
     ],
     "language": "python",
     "metadata": {},
     "outputs": [
      {
       "html": [
        "<div style=\"max-height:1000px;max-width:1500px;overflow:auto;\">\n",
        "<table border=\"1\" class=\"dataframe\">\n",
        "  <thead>\n",
        "    <tr style=\"text-align: right;\">\n",
        "      <th></th>\n",
        "      <th>geog_entity</th>\n",
        "    </tr>\n",
        "    <tr>\n",
        "      <th>fips</th>\n",
        "      <th></th>\n",
        "    </tr>\n",
        "  </thead>\n",
        "  <tbody>\n",
        "    <tr>\n",
        "      <th>00000</th>\n",
        "      <td> UNITED STATES</td>\n",
        "    </tr>\n",
        "    <tr>\n",
        "      <th>01000</th>\n",
        "      <td>       ALABAMA</td>\n",
        "    </tr>\n",
        "    <tr>\n",
        "      <th>02000</th>\n",
        "      <td>        ALASKA</td>\n",
        "    </tr>\n",
        "    <tr>\n",
        "      <th>04000</th>\n",
        "      <td>       ARIZONA</td>\n",
        "    </tr>\n",
        "    <tr>\n",
        "      <th>05000</th>\n",
        "      <td>      ARKANSAS</td>\n",
        "    </tr>\n",
        "  </tbody>\n",
        "</table>\n",
        "</div>"
       ],
       "metadata": {},
       "output_type": "pyout",
       "prompt_number": 161,
       "text": [
        "         geog_entity\n",
        "fips                \n",
        "00000  UNITED STATES\n",
        "01000        ALABAMA\n",
        "02000         ALASKA\n",
        "04000        ARIZONA\n",
        "05000       ARKANSAS"
       ]
      }
     ],
     "prompt_number": 161
    },
    {
     "cell_type": "code",
     "collapsed": false,
     "input": [
      "len(fips_df2[Series(fips_df2.index, index=fips_df2.index).str[-3:] == '000'])"
     ],
     "language": "python",
     "metadata": {},
     "outputs": [
      {
       "metadata": {},
       "output_type": "pyout",
       "prompt_number": 165,
       "text": [
        "52"
       ]
      }
     ],
     "prompt_number": 165
    },
    {
     "cell_type": "code",
     "collapsed": false,
     "input": [
      "# check type\n",
      "isinstance(fips_df2.index, pd.Index)"
     ],
     "language": "python",
     "metadata": {},
     "outputs": [
      {
       "metadata": {},
       "output_type": "pyout",
       "prompt_number": 166,
       "text": [
        "True"
       ]
      }
     ],
     "prompt_number": 166
    },
    {
     "cell_type": "code",
     "collapsed": false,
     "input": [
      "# can create a Boolean slice to pull out a country\n",
      "is_country = fips_df.fips.str[:] == '00000'"
     ],
     "language": "python",
     "metadata": {},
     "outputs": [],
     "prompt_number": 178
    },
    {
     "cell_type": "code",
     "collapsed": false,
     "input": [
      "fips_df[is_country]"
     ],
     "language": "python",
     "metadata": {},
     "outputs": [
      {
       "html": [
        "<div style=\"max-height:1000px;max-width:1500px;overflow:auto;\">\n",
        "<table border=\"1\" class=\"dataframe\">\n",
        "  <thead>\n",
        "    <tr style=\"text-align: right;\">\n",
        "      <th></th>\n",
        "      <th>fips</th>\n",
        "      <th>geog_entity</th>\n",
        "    </tr>\n",
        "  </thead>\n",
        "  <tbody>\n",
        "    <tr>\n",
        "      <th>0</th>\n",
        "      <td> 00000</td>\n",
        "      <td> UNITED STATES</td>\n",
        "    </tr>\n",
        "  </tbody>\n",
        "</table>\n",
        "</div>"
       ],
       "metadata": {},
       "output_type": "pyout",
       "prompt_number": 168,
       "text": [
        "    fips    geog_entity\n",
        "0  00000  UNITED STATES"
       ]
      }
     ],
     "prompt_number": 168
    },
    {
     "cell_type": "heading",
     "level": 3,
     "metadata": {},
     "source": [
      "Exercise:  create a Boolean index `is_state` to pull out states and a DataFrame `states_df` to hold the states + DC; also write `is_county` to pull out counties"
     ]
    },
    {
     "cell_type": "markdown",
     "metadata": {},
     "source": [
      "Hints:\n",
      "\n",
      "* Recall how to distinguish states fips -- end in '000' but is not '00000' (which is the US code)\n",
      "* use can use `&` to do a boolean `and` on Boolean indices -- (see `PfDA`, p. 91)"
     ]
    },
    {
     "cell_type": "code",
     "collapsed": false,
     "input": [
      "# how about states?\n",
      "# make use of \n",
      "# http://proquest.safaribooksonline.com/book/programming/python/9781449323592/7dot-data-wrangling-clean-transform-merge-reshape/id2801165\n",
      "\n",
      "is_state = (fips_df.fips.str[-3:] == '000') & (fips_df.fips.str[:] != '00000')\n",
      "is_county = fips_df.fips.str[-3:] != '000'\n",
      "\n",
      "states_df = fips_df[is_state]\n",
      "print len(states_df)\n",
      "states_df[:5]"
     ],
     "language": "python",
     "metadata": {},
     "outputs": [
      {
       "output_type": "stream",
       "stream": "stdout",
       "text": [
        "51\n"
       ]
      },
      {
       "html": [
        "<div style=\"max-height:1000px;max-width:1500px;overflow:auto;\">\n",
        "<table border=\"1\" class=\"dataframe\">\n",
        "  <thead>\n",
        "    <tr style=\"text-align: right;\">\n",
        "      <th></th>\n",
        "      <th>fips</th>\n",
        "      <th>geog_entity</th>\n",
        "    </tr>\n",
        "  </thead>\n",
        "  <tbody>\n",
        "    <tr>\n",
        "      <th>1  </th>\n",
        "      <td> 01000</td>\n",
        "      <td>    ALABAMA</td>\n",
        "    </tr>\n",
        "    <tr>\n",
        "      <th>69 </th>\n",
        "      <td> 02000</td>\n",
        "      <td>     ALASKA</td>\n",
        "    </tr>\n",
        "    <tr>\n",
        "      <th>99 </th>\n",
        "      <td> 04000</td>\n",
        "      <td>    ARIZONA</td>\n",
        "    </tr>\n",
        "    <tr>\n",
        "      <th>115</th>\n",
        "      <td> 05000</td>\n",
        "      <td>   ARKANSAS</td>\n",
        "    </tr>\n",
        "    <tr>\n",
        "      <th>191</th>\n",
        "      <td> 06000</td>\n",
        "      <td> CALIFORNIA</td>\n",
        "    </tr>\n",
        "  </tbody>\n",
        "</table>\n",
        "</div>"
       ],
       "metadata": {},
       "output_type": "pyout",
       "prompt_number": 169,
       "text": [
        "      fips geog_entity\n",
        "1    01000     ALABAMA\n",
        "69   02000      ALASKA\n",
        "99   04000     ARIZONA\n",
        "115  05000    ARKANSAS\n",
        "191  06000  CALIFORNIA"
       ]
      }
     ],
     "prompt_number": 169
    },
    {
     "cell_type": "heading",
     "level": 3,
     "metadata": {},
     "source": [
      "Check whether is_state and states_df look correct"
     ]
    },
    {
     "cell_type": "code",
     "collapsed": false,
     "input": [
      "assert set(is_state.value_counts().iteritems()) == set([(True, 51), (False, 3144)])"
     ],
     "language": "python",
     "metadata": {},
     "outputs": [],
     "prompt_number": 170
    },
    {
     "cell_type": "code",
     "collapsed": false,
     "input": [
      "assert set(states_df[\"geog_entity\"]) == set([u'VERMONT',\n",
      "     u'GEORGIA', u'IOWA', u'KANSAS', u'FLORIDA', u'VIRGINIA', u'NORTH CAROLINA',\n",
      "     u'HAWAII', u'NEW YORK', u'CALIFORNIA', u'ALABAMA', u'IDAHO', u'DELAWARE',\n",
      "     u'ALASKA', u'ILLINOIS', u'SOUTH DAKOTA', u'CONNECTICUT', u'MONTANA',\n",
      "     u'MASSACHUSETTS', u'NEW HAMPSHIRE', u'MARYLAND', u'NEW MEXICO',\n",
      "     u'MISSISSIPPI', u'TENNESSEE', u'COLORADO', u'NEW JERSEY', u'UTAH',\n",
      "     u'MICHIGAN', u'WEST VIRGINIA', u'WASHINGTON', u'MINNESOTA', u'OREGON',\n",
      "     u'WYOMING', u'OHIO', u'SOUTH CAROLINA', u'INDIANA', u'NEVADA',\n",
      "     u'LOUISIANA', u'NEBRASKA', u'ARIZONA', u'WISCONSIN', u'NORTH DAKOTA',\n",
      "     u'PENNSYLVANIA', u'OKLAHOMA', u'KENTUCKY', u'RHODE ISLAND', u'DISTRICT OF COLUMBIA',\n",
      "     u'ARKANSAS', u'MISSOURI', u'TEXAS', u'MAINE'])"
     ],
     "language": "python",
     "metadata": {},
     "outputs": [],
     "prompt_number": 171
    },
    {
     "cell_type": "code",
     "collapsed": false,
     "input": [
      "assert set(is_county.value_counts().iteritems()) == set([(False, 52), (True, 3143)])"
     ],
     "language": "python",
     "metadata": {},
     "outputs": [],
     "prompt_number": 172
    },
    {
     "cell_type": "heading",
     "level": 2,
     "metadata": {},
     "source": [
      "Now it's time to work with the population dataset"
     ]
    },
    {
     "cell_type": "heading",
     "level": 3,
     "metadata": {},
     "source": [
      "remind ourselves of what's in the dataset by reading it into a dict"
     ]
    },
    {
     "cell_type": "code",
     "collapsed": false,
     "input": [
      "import csv\n",
      "import codecs\n",
      "import pandas as pd\n",
      "from pandas import DataFrame, Series\n",
      "from itertools import islice\n",
      "\n",
      "f = codecs.open(file_path(\"dataset\"), encoding='iso-8859-1')\n",
      "\n",
      "reader = csv.DictReader(f)\n",
      "dataset = dict([(row[\"fips\"], row) for row in islice(reader, None)])\n",
      "\n",
      "f.close()"
     ],
     "language": "python",
     "metadata": {},
     "outputs": [],
     "prompt_number": 179
    },
    {
     "cell_type": "code",
     "collapsed": false,
     "input": [
      "# print out entry for USA\n",
      "\n",
      "print dataset['00000']"
     ],
     "language": "python",
     "metadata": {},
     "outputs": [
      {
       "output_type": "stream",
       "stream": "stdout",
       "text": [
        "{'RHI125211': '78.1', 'SBO415207': '8.3', 'VET605211': '22215303', 'RHI225211': '13.1', 'PVY020211': '14.3', 'HSD310211': '2.60', 'POP645211': '12.8', 'AGE135211': '6.5', 'EDU685211': '28.2', 'RHI625211': '2.3', 'SBO215207': '5.7', 'PST045212': '313914040', 'SBO015207': '28.8', 'POP715211': '84.6', 'PST120211': '0.9', 'PST120212': '1.7', 'POP010210': '308745538', 'PST045211': '311587816', 'SBO315207': '7.1', 'POP060210': '87.4', 'RHI425211': '5.0', 'POP815211': '20.3', 'HSD410211': '114761359', 'HSG495211': '186200', 'BZA010210': '7396628', 'LFE305211': '25.4', 'BZA110210': '111970095', 'AGE775211': '13.3', 'HSG096211': '25.9', 'RHI525211': '0.2', 'LND110210': '3531905.43', 'PST040210': '308747508', 'RHI825211': '63.4', 'BZA115210': '-1.8', 'NES010210': '22110628', 'fips': '00000', 'MAN450207': '5338306501', 'EDU635211': '85.4', 'RTN131207': '12990', 'RHI725211': '16.7', 'BPS030211': '624061', 'INC110211': '52762', 'AGE295211': '23.7', 'SBO115207': '0.9', 'INC910211': '27915', 'RHI325211': '1.2', 'WTN220207': '4174286516', 'HSG445211': '66.1', 'SBO515207': '0.1', 'AFN120207': '613795732', 'RTN130207': '3917663456', 'HSG010211': '132312404', 'SEX255211': '50.8', 'SBO001207': '27092908'}\n"
       ]
      }
     ],
     "prompt_number": 180
    },
    {
     "cell_type": "code",
     "collapsed": false,
     "input": [
      "# make sure we have the right 2010 census population for the USA\n",
      "\n",
      "assert dataset['00000']['POP010210'] == '308745538'"
     ],
     "language": "python",
     "metadata": {},
     "outputs": [],
     "prompt_number": 181
    },
    {
     "cell_type": "heading",
     "level": 3,
     "metadata": {},
     "source": [
      "let's use pd.read_csv to read in file -- there's a bit of tricky type conversion issues here."
     ]
    },
    {
     "cell_type": "code",
     "collapsed": false,
     "input": [
      "# let's try pd.read_csv \n",
      "# how to give hints about data type to pd.read_csv?\n",
      "\n",
      "import codecs\n",
      "\n",
      "# read data in and merge with fips_df\n",
      "\n",
      "#dtype = [('fips', 'S'), ('POP010210', 'i')]\n",
      "# problems with string conversion when I try to explicitly parse fips as a np.string_\n",
      "# dtype = {'fips':np.string_}\n",
      "# possibly relevant sections of the code:\n",
      "\n",
      "# v0.10.1: https://github.com/pydata/pandas/tree/v0.10.1\n",
      "# https://github.com/pydata/pandas/blob/v0.10.1/pandas/io/parsers.py\n",
      "# https://github.com/pydata/pandas/blob/v0.10.1/pandas/src/parser.pyx#L897 -> _convert_with_dtype\n",
      "\n",
      "# let's try object for fips and int for POP010210\n",
      "dtype = {'fips':np.object, 'POP010210':np.int}\n",
      "\n",
      "f = codecs.open(file_path(\"dataset\"), encoding='iso-8859-1')\n",
      "dataset_df = pd.read_csv(f, dtype=dtype)"
     ],
     "language": "python",
     "metadata": {},
     "outputs": [],
     "prompt_number": 182
    },
    {
     "cell_type": "code",
     "collapsed": false,
     "input": [
      "# confirm data types for fips, which should not be convered to int\n",
      "dataset_df.fips.dtype, dataset_df.POP010210.dtype"
     ],
     "language": "python",
     "metadata": {},
     "outputs": [
      {
       "metadata": {},
       "output_type": "pyout",
       "prompt_number": 183,
       "text": [
        "(dtype('O'), dtype('int32'))"
       ]
      }
     ],
     "prompt_number": 183
    },
    {
     "cell_type": "code",
     "collapsed": false,
     "input": [
      "# read off US population\n",
      "dataset_df[is_country].ix[0]['POP010210']"
     ],
     "language": "python",
     "metadata": {},
     "outputs": [
      {
       "metadata": {},
       "output_type": "pyout",
       "prompt_number": 184,
       "text": [
        "308745538"
       ]
      }
     ],
     "prompt_number": 184
    },
    {
     "cell_type": "code",
     "collapsed": false,
     "input": [
      "# 3 most populous entities \n",
      "# http://pandas.pydata.org/pandas-docs/dev/generated/pandas.DataFrame.sort_index.html\n",
      "dataset_df.sort_index(by='POP010210')[-1:-4:-1][[\"fips\", \"POP010210\"]]"
     ],
     "language": "python",
     "metadata": {},
     "outputs": [
      {
       "html": [
        "<div style=\"max-height:1000px;max-width:1500px;overflow:auto;\">\n",
        "<table border=\"1\" class=\"dataframe\">\n",
        "  <thead>\n",
        "    <tr style=\"text-align: right;\">\n",
        "      <th></th>\n",
        "      <th>fips</th>\n",
        "      <th>POP010210</th>\n",
        "    </tr>\n",
        "  </thead>\n",
        "  <tbody>\n",
        "    <tr>\n",
        "      <th>0   </th>\n",
        "      <td> 00000</td>\n",
        "      <td> 308745538</td>\n",
        "    </tr>\n",
        "    <tr>\n",
        "      <th>191 </th>\n",
        "      <td> 06000</td>\n",
        "      <td>  37253956</td>\n",
        "    </tr>\n",
        "    <tr>\n",
        "      <th>2567</th>\n",
        "      <td> 48000</td>\n",
        "      <td>  25145561</td>\n",
        "    </tr>\n",
        "  </tbody>\n",
        "</table>\n",
        "</div>"
       ],
       "metadata": {},
       "output_type": "pyout",
       "prompt_number": 185,
       "text": [
        "       fips  POP010210\n",
        "0     00000  308745538\n",
        "191   06000   37253956\n",
        "2567  48000   25145561"
       ]
      }
     ],
     "prompt_number": 185
    },
    {
     "cell_type": "heading",
     "level": 2,
     "metadata": {},
     "source": [
      "Merge fips w/ dataset"
     ]
    },
    {
     "cell_type": "code",
     "collapsed": false,
     "input": [
      "# before doing merge,list expected columns\n",
      "\n",
      "'fips' in fips_df.columns, 'fips' in dataset_df.columns"
     ],
     "language": "python",
     "metadata": {},
     "outputs": [
      {
       "output_type": "pyout",
       "prompt_number": 117,
       "text": [
        "(True, True)"
       ]
      }
     ],
     "prompt_number": 117
    },
    {
     "cell_type": "code",
     "collapsed": false,
     "input": [
      "# PfDA, p. 28\n",
      "df = pd.merge(fips_df, dataset_df)"
     ],
     "language": "python",
     "metadata": {},
     "outputs": [],
     "prompt_number": 118
    },
    {
     "cell_type": "code",
     "collapsed": false,
     "input": [
      "df.sort_index(by='POP010210')[-1:-5:-1][[\"fips\", \"geog_entity\", \"POP010210\"]]"
     ],
     "language": "python",
     "metadata": {},
     "outputs": [
      {
       "html": [
        "<div style=\"max-height:1000px;max-width:1500px;overflow:auto;\">\n",
        "<table border=\"1\" class=\"dataframe\">\n",
        "  <thead>\n",
        "    <tr style=\"text-align: right;\">\n",
        "      <th></th>\n",
        "      <th>fips</th>\n",
        "      <th>geog_entity</th>\n",
        "      <th>POP010210</th>\n",
        "    </tr>\n",
        "  </thead>\n",
        "  <tbody>\n",
        "    <tr>\n",
        "      <th>0   </th>\n",
        "      <td> 00000</td>\n",
        "      <td> UNITED STATES</td>\n",
        "      <td> 308745538</td>\n",
        "    </tr>\n",
        "    <tr>\n",
        "      <th>191 </th>\n",
        "      <td> 06000</td>\n",
        "      <td>    CALIFORNIA</td>\n",
        "      <td>  37253956</td>\n",
        "    </tr>\n",
        "    <tr>\n",
        "      <th>2567</th>\n",
        "      <td> 48000</td>\n",
        "      <td>         TEXAS</td>\n",
        "      <td>  25145561</td>\n",
        "    </tr>\n",
        "    <tr>\n",
        "      <th>1861</th>\n",
        "      <td> 36000</td>\n",
        "      <td>      NEW YORK</td>\n",
        "      <td>  19378102</td>\n",
        "    </tr>\n",
        "  </tbody>\n",
        "</table>\n",
        "</div>"
       ],
       "output_type": "pyout",
       "prompt_number": 119,
       "text": [
        "       fips    geog_entity  POP010210\n",
        "0     00000  UNITED STATES  308745538\n",
        "191   06000     CALIFORNIA   37253956\n",
        "2567  48000          TEXAS   25145561\n",
        "1861  36000       NEW YORK   19378102"
       ]
      }
     ],
     "prompt_number": 119
    },
    {
     "cell_type": "heading",
     "level": 3,
     "metadata": {},
     "source": [
      "Exercise: make a DataFrame called state_pop of 51 state-like entities that has fips, geog_entity, POP010210 columns, sorted by 2010 census in descending pop"
     ]
    },
    {
     "cell_type": "code",
     "collapsed": false,
     "input": [
      "state_pop = df[is_state][[\"fips\", \"geog_entity\", \"POP010210\"]].sort_index(by='POP010210')[::-1]\n",
      "state_pop[:5]"
     ],
     "language": "python",
     "metadata": {},
     "outputs": [
      {
       "html": [
        "<div style=\"max-height:1000px;max-width:1500px;overflow:auto;\">\n",
        "<table border=\"1\" class=\"dataframe\">\n",
        "  <thead>\n",
        "    <tr style=\"text-align: right;\">\n",
        "      <th></th>\n",
        "      <th>fips</th>\n",
        "      <th>geog_entity</th>\n",
        "      <th>POP010210</th>\n",
        "    </tr>\n",
        "  </thead>\n",
        "  <tbody>\n",
        "    <tr>\n",
        "      <th>191 </th>\n",
        "      <td> 06000</td>\n",
        "      <td> CALIFORNIA</td>\n",
        "      <td> 37253956</td>\n",
        "    </tr>\n",
        "    <tr>\n",
        "      <th>2567</th>\n",
        "      <td> 48000</td>\n",
        "      <td>      TEXAS</td>\n",
        "      <td> 25145561</td>\n",
        "    </tr>\n",
        "    <tr>\n",
        "      <th>1861</th>\n",
        "      <td> 36000</td>\n",
        "      <td>   NEW YORK</td>\n",
        "      <td> 19378102</td>\n",
        "    </tr>\n",
        "    <tr>\n",
        "      <th>330 </th>\n",
        "      <td> 12000</td>\n",
        "      <td>    FLORIDA</td>\n",
        "      <td> 18801310</td>\n",
        "    </tr>\n",
        "    <tr>\n",
        "      <th>609 </th>\n",
        "      <td> 17000</td>\n",
        "      <td>   ILLINOIS</td>\n",
        "      <td> 12830632</td>\n",
        "    </tr>\n",
        "  </tbody>\n",
        "</table>\n",
        "</div>"
       ],
       "output_type": "pyout",
       "prompt_number": 120,
       "text": [
        "       fips geog_entity  POP010210\n",
        "191   06000  CALIFORNIA   37253956\n",
        "2567  48000       TEXAS   25145561\n",
        "1861  36000    NEW YORK   19378102\n",
        "330   12000     FLORIDA   18801310\n",
        "609   17000    ILLINOIS   12830632"
       ]
      }
     ],
     "prompt_number": 120
    },
    {
     "cell_type": "code",
     "collapsed": false,
     "input": [
      "# check state_pop behavior\n",
      "\n",
      "assert state_pop.shape  == (51, 3)\n",
      "assert set(state_pop.columns) == set(['POP010210', 'fips', 'geog_entity'])\n",
      "assert list(state_pop[:5][\"geog_entity\"]) == [u'CALIFORNIA', u'TEXAS', u'NEW YORK', u'FLORIDA', u'ILLINOIS']\n",
      "assert state_pop[:5][\"POP010210\"].sum() == 113409561"
     ],
     "language": "python",
     "metadata": {},
     "outputs": [],
     "prompt_number": 121
    },
    {
     "cell_type": "code",
     "collapsed": false,
     "input": [
      "# add up all the states to match US population\n",
      "\n",
      "assert state_pop[\"POP010210\"].sum() == df[is_country][\"POP010210\"].sum()"
     ],
     "language": "python",
     "metadata": {},
     "outputs": [],
     "prompt_number": 122
    },
    {
     "cell_type": "code",
     "collapsed": false,
     "input": [
      "sum(df[is_country]['POP010210']), sum(df[is_state]['POP010210']), sum(df[is_county]['POP010210'])\n"
     ],
     "language": "python",
     "metadata": {},
     "outputs": [
      {
       "output_type": "pyout",
       "prompt_number": 123,
       "text": [
        "(308745538, 308745538, 308745538)"
       ]
      }
     ],
     "prompt_number": 123
    },
    {
     "cell_type": "heading",
     "level": 2,
     "metadata": {},
     "source": [
      "Exercise:  write function counties_for_state to return a Boolean index for a fiven state prefix or fips code"
     ]
    },
    {
     "cell_type": "markdown",
     "metadata": {},
     "source": [
      "e.g \n",
      "\n",
      "    df[counties_for_state('06')]\n",
      "\n",
      "should be a DataFrame with CA counties"
     ]
    },
    {
     "cell_type": "code",
     "collapsed": false,
     "input": [
      "def counties_for_state(state):\n",
      "    return (df.fips.str[:2] == state[:2]) & (df.fips.str[-3:] != '000') "
     ],
     "language": "python",
     "metadata": {},
     "outputs": [],
     "prompt_number": 124
    },
    {
     "cell_type": "code",
     "collapsed": false,
     "input": [
      "assert set(df[counties_for_state('06')][\"geog_entity\"]) == set([u'Nevada County, CA',\n",
      "     u'Alameda County, CA', u'Kings County, CA', u'Ventura County, CA',\n",
      "     u'El Dorado County, CA', u'San Joaquin County, CA', u'Alpine County, CA',\n",
      "     u'San Luis Obispo County, CA', u'Modoc County, CA', u'Colusa County, CA',\n",
      "     u'Stanislaus County, CA', u'Sonoma County, CA', u'Tulare County, CA',\n",
      "     u'Shasta County, CA', u'Yolo County, CA', u'Placer County, CA', u'Glenn County, CA',\n",
      "     u'Sacramento County, CA', u'San Francisco County, CA',\n",
      "     u'Madera County, CA', u'Imperial County, CA', u'Plumas County, CA',\n",
      "     u'San Mateo County, CA', u'Riverside County, CA', u'Calaveras County, CA',\n",
      "     u'Napa County, CA', u'Mendocino County, CA', u'Mariposa County, CA',\n",
      "     u'Santa Barbara County, CA', u'Inyo County, CA', u'Butte County, CA',\n",
      "     u'Trinity County, CA', u'Los Angeles County, CA', u'Lassen County, CA',\n",
      "     u'Yuba County, CA', u'Amador County, CA', u'Marin County, CA', u'Humboldt County, CA', \n",
      "     u'Merced County, CA', u'Lake County, CA', u'San Diego County, CA',\n",
      "     u'Monterey County, CA', u'Sutter County, CA', u'Solano County, CA',\n",
      "     u'Tuolumne County, CA', u'San Bernardino County, CA', u'Fresno County, CA',\n",
      "     u'Santa Cruz County, CA', u'San Benito County, CA', u'Contra Costa County, CA', \n",
      "     u'Orange County, CA', u'Del Norte County, CA', u'Mono County, CA',\n",
      "     u'Siskiyou County, CA', u'Kern County, CA', u'Sierra County, CA', u'Tehama County, CA',\n",
      "     u'Santa Clara County, CA'])"
     ],
     "language": "python",
     "metadata": {},
     "outputs": [],
     "prompt_number": 125
    },
    {
     "cell_type": "heading",
     "level": 1,
     "metadata": {},
     "source": [
      "Now we are ready to tally up all states w/ their counties"
     ]
    },
    {
     "cell_type": "code",
     "collapsed": false,
     "input": [
      "for (k, s) in df[is_state][['fips', 'geog_entity', 'POP010210']].iterrows():\n",
      "    print s[\"fips\"], s[\"geog_entity\"], s[\"POP010210\"] == df[counties_for_state(s[\"fips\"])]['POP010210'].sum()"
     ],
     "language": "python",
     "metadata": {},
     "outputs": [
      {
       "output_type": "stream",
       "stream": "stdout",
       "text": [
        "01000 ALABAMA True\n",
        "02000 ALASKA "
       ]
      },
      {
       "output_type": "stream",
       "stream": "stdout",
       "text": [
        "True\n",
        "04000 ARIZONA True\n",
        "05000 ARKANSAS "
       ]
      },
      {
       "output_type": "stream",
       "stream": "stdout",
       "text": [
        "True\n",
        "06000 CALIFORNIA True\n",
        "08000 COLORADO "
       ]
      },
      {
       "output_type": "stream",
       "stream": "stdout",
       "text": [
        "True\n",
        "09000 CONNECTICUT True\n",
        "10000 DELAWARE "
       ]
      },
      {
       "output_type": "stream",
       "stream": "stdout",
       "text": [
        "True\n",
        "11000 DISTRICT OF COLUMBIA True\n",
        "12000 FLORIDA "
       ]
      },
      {
       "output_type": "stream",
       "stream": "stdout",
       "text": [
        "True\n",
        "13000 GEORGIA True\n",
        "15000 HAWAII "
       ]
      },
      {
       "output_type": "stream",
       "stream": "stdout",
       "text": [
        "True\n",
        "16000 IDAHO True\n",
        "17000 ILLINOIS "
       ]
      },
      {
       "output_type": "stream",
       "stream": "stdout",
       "text": [
        "True\n",
        "18000 INDIANA True\n",
        "19000 IOWA "
       ]
      },
      {
       "output_type": "stream",
       "stream": "stdout",
       "text": [
        "True\n",
        "20000 KANSAS True\n",
        "21000 KENTUCKY "
       ]
      },
      {
       "output_type": "stream",
       "stream": "stdout",
       "text": [
        "True\n",
        "22000 LOUISIANA True\n",
        "23000 MAINE "
       ]
      },
      {
       "output_type": "stream",
       "stream": "stdout",
       "text": [
        "True\n",
        "24000 MARYLAND True\n",
        "25000 MASSACHUSETTS "
       ]
      },
      {
       "output_type": "stream",
       "stream": "stdout",
       "text": [
        "True\n",
        "26000 MICHIGAN True\n",
        "27000 MINNESOTA "
       ]
      },
      {
       "output_type": "stream",
       "stream": "stdout",
       "text": [
        "True\n",
        "28000 MISSISSIPPI True\n",
        "29000 MISSOURI "
       ]
      },
      {
       "output_type": "stream",
       "stream": "stdout",
       "text": [
        "True\n",
        "30000 MONTANA True\n",
        "31000 NEBRASKA "
       ]
      },
      {
       "output_type": "stream",
       "stream": "stdout",
       "text": [
        "True\n",
        "32000 NEVADA True\n",
        "33000 NEW HAMPSHIRE "
       ]
      },
      {
       "output_type": "stream",
       "stream": "stdout",
       "text": [
        "True\n",
        "34000 NEW JERSEY True\n",
        "35000 NEW MEXICO "
       ]
      },
      {
       "output_type": "stream",
       "stream": "stdout",
       "text": [
        "True\n",
        "36000 NEW YORK True\n",
        "37000 NORTH CAROLINA "
       ]
      },
      {
       "output_type": "stream",
       "stream": "stdout",
       "text": [
        "True\n",
        "38000 NORTH DAKOTA True\n",
        "39000 OHIO "
       ]
      },
      {
       "output_type": "stream",
       "stream": "stdout",
       "text": [
        "True\n",
        "40000 OKLAHOMA True\n",
        "41000 OREGON "
       ]
      },
      {
       "output_type": "stream",
       "stream": "stdout",
       "text": [
        "True\n",
        "42000 PENNSYLVANIA True\n",
        "44000 RHODE ISLAND "
       ]
      },
      {
       "output_type": "stream",
       "stream": "stdout",
       "text": [
        "True\n",
        "45000 SOUTH CAROLINA True\n",
        "46000 SOUTH DAKOTA "
       ]
      },
      {
       "output_type": "stream",
       "stream": "stdout",
       "text": [
        "True\n",
        "47000 TENNESSEE True\n",
        "48000 TEXAS "
       ]
      },
      {
       "output_type": "stream",
       "stream": "stdout",
       "text": [
        "True\n",
        "49000 UTAH True\n",
        "50000 VERMONT "
       ]
      },
      {
       "output_type": "stream",
       "stream": "stdout",
       "text": [
        "True\n",
        "51000 VIRGINIA True\n",
        "53000 WASHINGTON "
       ]
      },
      {
       "output_type": "stream",
       "stream": "stdout",
       "text": [
        "True\n",
        "54000 WEST VIRGINIA True\n",
        "55000 WISCONSIN "
       ]
      },
      {
       "output_type": "stream",
       "stream": "stdout",
       "text": [
        "True\n",
        "56000 WYOMING True\n"
       ]
      }
     ],
     "prompt_number": 126
    },
    {
     "cell_type": "heading",
     "level": 2,
     "metadata": {},
     "source": [
      "Do this tally in a slightly different way"
     ]
    },
    {
     "cell_type": "code",
     "collapsed": false,
     "input": [
      "# http://pandas.pydata.org/pandas-docs/stable/generated/pandas.DataFrame.set_index.html#pandas.DataFrame.set_index\n",
      "# p. 150\n",
      "df.set_index('fips', inplace=True, drop=False)"
     ],
     "language": "python",
     "metadata": {},
     "outputs": [
      {
       "output_type": "pyout",
       "prompt_number": 127,
       "text": [
        "<class 'pandas.core.frame.DataFrame'>\n",
        "Index: 3195 entries, 00000 to 56045\n",
        "Data columns:\n",
        "fips           3195  non-null values\n",
        "geog_entity    3195  non-null values\n",
        "PST045212      3195  non-null values\n",
        "PST045211      3195  non-null values\n",
        "PST040210      3195  non-null values\n",
        "PST120212      3195  non-null values\n",
        "PST120211      3195  non-null values\n",
        "POP010210      3195  non-null values\n",
        "AGE135211      3195  non-null values\n",
        "AGE295211      3195  non-null values\n",
        "AGE775211      3195  non-null values\n",
        "SEX255211      3195  non-null values\n",
        "RHI125211      3195  non-null values\n",
        "RHI225211      3195  non-null values\n",
        "RHI325211      3195  non-null values\n",
        "RHI425211      3195  non-null values\n",
        "RHI525211      3195  non-null values\n",
        "RHI625211      3195  non-null values\n",
        "RHI725211      3195  non-null values\n",
        "RHI825211      3195  non-null values\n",
        "POP715211      3195  non-null values\n",
        "POP645211      3195  non-null values\n",
        "POP815211      3195  non-null values\n",
        "EDU635211      3195  non-null values\n",
        "EDU685211      3195  non-null values\n",
        "VET605211      3195  non-null values\n",
        "LFE305211      3195  non-null values\n",
        "HSG010211      3195  non-null values\n",
        "HSG445211      3195  non-null values\n",
        "HSG096211      3195  non-null values\n",
        "HSG495211      3195  non-null values\n",
        "HSD410211      3195  non-null values\n",
        "HSD310211      3195  non-null values\n",
        "INC910211      3195  non-null values\n",
        "INC110211      3195  non-null values\n",
        "PVY020211      3195  non-null values\n",
        "BZA010210      3195  non-null values\n",
        "BZA110210      3195  non-null values\n",
        "BZA115210      3195  non-null values\n",
        "NES010210      3195  non-null values\n",
        "SBO001207      3195  non-null values\n",
        "SBO315207      3195  non-null values\n",
        "SBO115207      3195  non-null values\n",
        "SBO215207      3195  non-null values\n",
        "SBO515207      3195  non-null values\n",
        "SBO415207      3195  non-null values\n",
        "SBO015207      3195  non-null values\n",
        "MAN450207      3195  non-null values\n",
        "WTN220207      3195  non-null values\n",
        "RTN130207      3195  non-null values\n",
        "RTN131207      3195  non-null values\n",
        "AFN120207      3195  non-null values\n",
        "BPS030211      3195  non-null values\n",
        "LND110210      3195  non-null values\n",
        "POP060210      3195  non-null values\n",
        "dtypes: float64(33), int64(20), object(2)"
       ]
      }
     ],
     "prompt_number": 127
    },
    {
     "cell_type": "code",
     "collapsed": false,
     "input": [
      "for k in df[is_state]['fips']:\n",
      "    print k, df.ix[k][\"geog_entity\"], df.ix[k][\"POP010210\"] == sum(df[counties_for_state(k)]['POP010210'])"
     ],
     "language": "python",
     "metadata": {},
     "outputs": [
      {
       "output_type": "stream",
       "stream": "stdout",
       "text": [
        "01000 ALABAMA True\n",
        "02000 ALASKA "
       ]
      },
      {
       "output_type": "stream",
       "stream": "stdout",
       "text": [
        "True\n",
        "04000 ARIZONA True\n",
        "05000 ARKANSAS "
       ]
      },
      {
       "output_type": "stream",
       "stream": "stdout",
       "text": [
        "True\n",
        "06000 CALIFORNIA True\n",
        "08000 COLORADO "
       ]
      },
      {
       "output_type": "stream",
       "stream": "stdout",
       "text": [
        "True\n",
        "09000 CONNECTICUT True\n",
        "10000 DELAWARE "
       ]
      },
      {
       "output_type": "stream",
       "stream": "stdout",
       "text": [
        "True\n",
        "11000 DISTRICT OF COLUMBIA True\n",
        "12000 FLORIDA "
       ]
      },
      {
       "output_type": "stream",
       "stream": "stdout",
       "text": [
        "True\n",
        "13000 GEORGIA True\n",
        "15000 HAWAII "
       ]
      },
      {
       "output_type": "stream",
       "stream": "stdout",
       "text": [
        "True\n",
        "16000 IDAHO True\n",
        "17000 ILLINOIS "
       ]
      },
      {
       "output_type": "stream",
       "stream": "stdout",
       "text": [
        "True\n",
        "18000 INDIANA True\n",
        "19000 IOWA "
       ]
      },
      {
       "output_type": "stream",
       "stream": "stdout",
       "text": [
        "True\n",
        "20000 KANSAS True\n",
        "21000 KENTUCKY "
       ]
      },
      {
       "output_type": "stream",
       "stream": "stdout",
       "text": [
        "True\n",
        "22000 LOUISIANA True\n",
        "23000 MAINE "
       ]
      },
      {
       "output_type": "stream",
       "stream": "stdout",
       "text": [
        "True\n",
        "24000 MARYLAND True\n",
        "25000 MASSACHUSETTS "
       ]
      },
      {
       "output_type": "stream",
       "stream": "stdout",
       "text": [
        "True\n",
        "26000 MICHIGAN True\n",
        "27000 MINNESOTA "
       ]
      },
      {
       "output_type": "stream",
       "stream": "stdout",
       "text": [
        "True\n",
        "28000 MISSISSIPPI True\n",
        "29000 MISSOURI "
       ]
      },
      {
       "output_type": "stream",
       "stream": "stdout",
       "text": [
        "True\n",
        "30000 MONTANA True\n",
        "31000 NEBRASKA "
       ]
      },
      {
       "output_type": "stream",
       "stream": "stdout",
       "text": [
        "True\n",
        "32000 NEVADA True\n",
        "33000 NEW HAMPSHIRE "
       ]
      },
      {
       "output_type": "stream",
       "stream": "stdout",
       "text": [
        "True\n",
        "34000 NEW JERSEY True\n",
        "35000 NEW MEXICO "
       ]
      },
      {
       "output_type": "stream",
       "stream": "stdout",
       "text": [
        "True\n",
        "36000 NEW YORK True\n",
        "37000 NORTH CAROLINA "
       ]
      },
      {
       "output_type": "stream",
       "stream": "stdout",
       "text": [
        "True\n",
        "38000 NORTH DAKOTA True\n",
        "39000 OHIO "
       ]
      },
      {
       "output_type": "stream",
       "stream": "stdout",
       "text": [
        "True\n",
        "40000 OKLAHOMA True\n",
        "41000 OREGON "
       ]
      },
      {
       "output_type": "stream",
       "stream": "stdout",
       "text": [
        "True\n",
        "42000 PENNSYLVANIA True\n",
        "44000 RHODE ISLAND "
       ]
      },
      {
       "output_type": "stream",
       "stream": "stdout",
       "text": [
        "True\n",
        "45000 SOUTH CAROLINA True\n",
        "46000 SOUTH DAKOTA True\n",
        "47000 "
       ]
      },
      {
       "output_type": "stream",
       "stream": "stdout",
       "text": [
        "TENNESSEE True\n",
        "48000 TEXAS True\n",
        "49000 UTAH "
       ]
      },
      {
       "output_type": "stream",
       "stream": "stdout",
       "text": [
        "True\n",
        "50000 VERMONT True\n",
        "51000 VIRGINIA "
       ]
      },
      {
       "output_type": "stream",
       "stream": "stdout",
       "text": [
        "True\n",
        "53000 WASHINGTON True\n",
        "54000 WEST VIRGINIA "
       ]
      },
      {
       "output_type": "stream",
       "stream": "stdout",
       "text": [
        "True\n",
        "55000 WISCONSIN True\n",
        "56000 WYOMING "
       ]
      },
      {
       "output_type": "stream",
       "stream": "stdout",
       "text": [
        "True\n"
       ]
      }
     ],
     "prompt_number": 128
    },
    {
     "cell_type": "code",
     "collapsed": false,
     "input": [
      "# does order of A== B vs B== A matter -- shouldn't\n",
      "\n",
      "state = '06000'\n",
      "k0 = df.fips.str[:2] == state[:2]\n",
      "type(k0)\n",
      "k1 = state[:2] == df.fips.str[:2]\n",
      "print type(k0), type(k1)\n",
      "print k0.value_counts()\n",
      "print k1.value_counts()\n",
      "print np.all(k0 == k1)"
     ],
     "language": "python",
     "metadata": {},
     "outputs": [
      {
       "output_type": "stream",
       "stream": "stdout",
       "text": [
        "<class 'pandas.core.series.Series'> <class 'pandas.core.series.Series'>\n",
        "False    3136\n",
        "True       59\n",
        "False    3136\n",
        "True       59\n",
        "True\n"
       ]
      }
     ],
     "prompt_number": 129
    },
    {
     "cell_type": "heading",
     "level": 1,
     "metadata": {},
     "source": [
      "Addendum: ties to operator overloading in Python -- read beyond this point only if really interested!"
     ]
    },
    {
     "cell_type": "code",
     "collapsed": false,
     "input": [
      "n0 = 5\n",
      "n0 == 5"
     ],
     "language": "python",
     "metadata": {},
     "outputs": [
      {
       "output_type": "pyout",
       "prompt_number": 130,
       "text": [
        "True"
       ]
      }
     ],
     "prompt_number": 130
    },
    {
     "cell_type": "markdown",
     "metadata": {},
     "source": [
      "Now I thought I'd be able to use a `n0.__eq__(5)` but nope -- it's complicated -- see http://stackoverflow.com/questions/2281222/why-when-in-python-does-x-y-call-y-eq-x#comment2254663_2282795"
     ]
    },
    {
     "cell_type": "code",
     "collapsed": false,
     "input": [
      "try:\n",
      "    n0.__eq__(5)\n",
      "except Exception as e:\n",
      "    print e"
     ],
     "language": "python",
     "metadata": {},
     "outputs": [
      {
       "output_type": "stream",
       "stream": "stdout",
       "text": [
        "'int' object has no attribute '__eq__'\n"
       ]
      }
     ],
     "prompt_number": 131
    },
    {
     "cell_type": "markdown",
     "metadata": {},
     "source": [
      "can do: `int.__cmp__(x)`"
     ]
    },
    {
     "cell_type": "code",
     "collapsed": false,
     "input": [
      "(n0.__cmp__(4), n0.__cmp__(5), n0.__cmp__(6))"
     ],
     "language": "python",
     "metadata": {},
     "outputs": [
      {
       "output_type": "pyout",
       "prompt_number": 132,
       "text": [
        "(1, 0, -1)"
       ]
      }
     ],
     "prompt_number": 132
    },
    {
     "cell_type": "markdown",
     "metadata": {},
     "source": [
      "how about ndarray?"
     ]
    },
    {
     "cell_type": "code",
     "collapsed": false,
     "input": [
      "arange(5) == 2 "
     ],
     "language": "python",
     "metadata": {},
     "outputs": [
      {
       "output_type": "pyout",
       "prompt_number": 133,
       "text": [
        "array([False, False,  True, False, False], dtype=bool)"
       ]
      }
     ],
     "prompt_number": 133
    },
    {
     "cell_type": "code",
     "collapsed": false,
     "input": [
      "# \n",
      "# http://docs.scipy.org/doc/numpy/reference/generated/numpy.array_equal.html\n",
      "np.array_equal(arange(5) == 2 , arange(5).__eq__(2))"
     ],
     "language": "python",
     "metadata": {},
     "outputs": [
      {
       "output_type": "pyout",
       "prompt_number": 134,
       "text": [
        "True"
       ]
      }
     ],
     "prompt_number": 134
    },
    {
     "cell_type": "heading",
     "level": 2,
     "metadata": {},
     "source": [
      "Appendix: underlying mechanics of slicing"
     ]
    },
    {
     "cell_type": "markdown",
     "metadata": {},
     "source": [
      "Useful if you want to understand how the slicing syntax really works."
     ]
    },
    {
     "cell_type": "code",
     "collapsed": false,
     "input": [
      "isinstance([1,2], list)"
     ],
     "language": "python",
     "metadata": {},
     "outputs": [
      {
       "output_type": "pyout",
       "prompt_number": 135,
       "text": [
        "True"
       ]
      }
     ],
     "prompt_number": 135
    },
    {
     "cell_type": "code",
     "collapsed": false,
     "input": [
      "isinstance(arange(5), list) # what does that mean -- could still be list-like"
     ],
     "language": "python",
     "metadata": {},
     "outputs": [
      {
       "output_type": "pyout",
       "prompt_number": 136,
       "text": [
        "False"
       ]
      }
     ],
     "prompt_number": 136
    },
    {
     "cell_type": "code",
     "collapsed": false,
     "input": [
      "l1 = range(5)"
     ],
     "language": "python",
     "metadata": {},
     "outputs": [],
     "prompt_number": 137
    },
    {
     "cell_type": "code",
     "collapsed": false,
     "input": [
      "type(l1)"
     ],
     "language": "python",
     "metadata": {},
     "outputs": [
      {
       "output_type": "pyout",
       "prompt_number": 138,
       "text": [
        "list"
       ]
      }
     ],
     "prompt_number": 138
    },
    {
     "cell_type": "code",
     "collapsed": false,
     "input": [
      "l1[0], l1.__getitem__(0), l1[0] == l1.__getitem__(0)"
     ],
     "language": "python",
     "metadata": {},
     "outputs": [
      {
       "output_type": "pyout",
       "prompt_number": 139,
       "text": [
        "(0, 0, True)"
       ]
      }
     ],
     "prompt_number": 139
    },
    {
     "cell_type": "code",
     "collapsed": false,
     "input": [
      "l1[::-1], l1.__getitem__(slice(None, None, -1))"
     ],
     "language": "python",
     "metadata": {},
     "outputs": [
      {
       "output_type": "pyout",
       "prompt_number": 140,
       "text": [
        "([4, 3, 2, 1, 0], [4, 3, 2, 1, 0])"
       ]
      }
     ],
     "prompt_number": 140
    },
    {
     "cell_type": "code",
     "collapsed": false,
     "input": [
      "ar1 = arange(5)\n",
      "ar1[3], ar1.__getitem__(3)\n",
      "\n"
     ],
     "language": "python",
     "metadata": {},
     "outputs": [
      {
       "output_type": "pyout",
       "prompt_number": 141,
       "text": [
        "(3, 3)"
       ]
      }
     ],
     "prompt_number": 141
    },
    {
     "cell_type": "code",
     "collapsed": false,
     "input": [
      "ar1 == 2"
     ],
     "language": "python",
     "metadata": {},
     "outputs": [
      {
       "output_type": "pyout",
       "prompt_number": 142,
       "text": [
        "array([False, False,  True, False, False], dtype=bool)"
       ]
      }
     ],
     "prompt_number": 142
    },
    {
     "cell_type": "code",
     "collapsed": false,
     "input": [
      "ar1[ar1 == 2].shape"
     ],
     "language": "python",
     "metadata": {},
     "outputs": [
      {
       "output_type": "pyout",
       "prompt_number": 143,
       "text": [
        "(1,)"
       ]
      }
     ],
     "prompt_number": 143
    },
    {
     "cell_type": "code",
     "collapsed": false,
     "input": [
      "ar1.__eq__(2)"
     ],
     "language": "python",
     "metadata": {},
     "outputs": [
      {
       "output_type": "pyout",
       "prompt_number": 144,
       "text": [
        "array([False, False,  True, False, False], dtype=bool)"
       ]
      }
     ],
     "prompt_number": 144
    },
    {
     "cell_type": "code",
     "collapsed": false,
     "input": [
      "ar1.__getitem__(slice(2, 4, None))"
     ],
     "language": "python",
     "metadata": {},
     "outputs": [
      {
       "output_type": "pyout",
       "prompt_number": 145,
       "text": [
        "array([2, 3])"
       ]
      }
     ],
     "prompt_number": 145
    },
    {
     "cell_type": "code",
     "collapsed": false,
     "input": [
      "slice(ar1.__eq__(2), None, None)"
     ],
     "language": "python",
     "metadata": {},
     "outputs": [
      {
       "output_type": "pyout",
       "prompt_number": 146,
       "text": [
        "slice(array([False, False,  True, False, False], dtype=bool), None, None)"
       ]
      }
     ],
     "prompt_number": 146
    },
    {
     "cell_type": "code",
     "collapsed": false,
     "input": [
      "ar1.__getitem__(ar1.__eq__(2))"
     ],
     "language": "python",
     "metadata": {},
     "outputs": [
      {
       "output_type": "pyout",
       "prompt_number": 147,
       "text": [
        "array([2])"
       ]
      }
     ],
     "prompt_number": 147
    },
    {
     "cell_type": "code",
     "collapsed": false,
     "input": [
      "ar1[:2], ar1.__getitem__(slice(2))"
     ],
     "language": "python",
     "metadata": {},
     "outputs": [
      {
       "output_type": "pyout",
       "prompt_number": 148,
       "text": [
        "(array([0, 1]), array([0, 1]))"
       ]
      }
     ],
     "prompt_number": 148
    },
    {
     "cell_type": "code",
     "collapsed": false,
     "input": [
      "ar1 + 7"
     ],
     "language": "python",
     "metadata": {},
     "outputs": [
      {
       "output_type": "pyout",
       "prompt_number": 149,
       "text": [
        "array([ 7,  8,  9, 10, 11])"
       ]
      }
     ],
     "prompt_number": 149
    },
    {
     "cell_type": "code",
     "collapsed": false,
     "input": [
      "ar1.__add__(7)"
     ],
     "language": "python",
     "metadata": {},
     "outputs": [
      {
       "output_type": "pyout",
       "prompt_number": 150,
       "text": [
        "array([ 7,  8,  9, 10, 11])"
       ]
      }
     ],
     "prompt_number": 150
    },
    {
     "cell_type": "code",
     "collapsed": false,
     "input": [
      "min(ar1 + 7)"
     ],
     "language": "python",
     "metadata": {},
     "outputs": [
      {
       "output_type": "pyout",
       "prompt_number": 151,
       "text": [
        "7"
       ]
      }
     ],
     "prompt_number": 151
    },
    {
     "cell_type": "code",
     "collapsed": false,
     "input": [
      "alphabet[:]"
     ],
     "language": "python",
     "metadata": {},
     "outputs": [
      {
       "output_type": "pyout",
       "prompt_number": 152,
       "text": [
        "'abcdefghijklmnopqrstuvwxyz'"
       ]
      }
     ],
     "prompt_number": 152
    }
   ],
   "metadata": {}
  }
 ]
}