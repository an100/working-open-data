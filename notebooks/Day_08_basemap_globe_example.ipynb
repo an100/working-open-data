{
 "metadata": {
  "name": ""
 },
 "nbformat": 3,
 "nbformat_minor": 0,
 "worksheets": [
  {
   "cells": [
    {
     "cell_type": "code",
     "collapsed": false,
     "input": [
      "# http://matplotlib.org/basemap/users/examples.html\n",
      "\n",
      "from mpl_toolkits.basemap import Basemap\n",
      "import matplotlib.pyplot as plt\n",
      "import numpy as np\n",
      "# set up orthographic map projection with\n",
      "# perspective of satellite looking down at 50N, 100W.\n",
      "# use low resolution coastlines.\n",
      "map = Basemap(projection='ortho',lat_0=45,lon_0=-100,resolution='l')\n",
      "# draw coastlines, country boundaries, fill continents.\n",
      "map.drawcoastlines(linewidth=0.25)\n",
      "map.drawcountries(linewidth=0.25)\n",
      "map.fillcontinents(color='coral',lake_color='aqua')\n",
      "# draw the edge of the map projection region (the projection limb)\n",
      "map.drawmapboundary(fill_color='aqua')\n",
      "# draw lat/lon grid lines every 30 degrees.\n",
      "map.drawmeridians(np.arange(0,360,30))\n",
      "map.drawparallels(np.arange(-90,90,30))\n",
      "# make up some data on a regular lat/lon grid.\n",
      "nlats = 73; nlons = 145; delta = 2.*np.pi/(nlons-1)\n",
      "lats = (0.5*np.pi-delta*np.indices((nlats,nlons))[0,:,:])\n",
      "lons = (delta*np.indices((nlats,nlons))[1,:,:])\n",
      "wave = 0.75*(np.sin(2.*lats)**8*np.cos(4.*lons))\n",
      "mean = 0.5*np.cos(2.*lats)*((np.sin(2.*lats))**2 + 2.)\n",
      "# compute native map projection coordinates of lat/lon grid.\n",
      "x, y = map(lons*180./np.pi, lats*180./np.pi)\n",
      "# contour data over the map.\n",
      "cs = map.contour(x,y,wave+mean,15,linewidths=1.5)\n",
      "plt.title('contour lines over filled continent background')\n",
      "plt.show()"
     ],
     "language": "python",
     "metadata": {},
     "outputs": []
    },
    {
     "cell_type": "code",
     "collapsed": false,
     "input": [
      "print 2"
     ],
     "language": "python",
     "metadata": {},
     "outputs": [
      {
       "output_type": "stream",
       "stream": "stdout",
       "text": [
        "2\n"
       ]
      }
     ],
     "prompt_number": 1
    }
   ],
   "metadata": {}
  }
 ]
}