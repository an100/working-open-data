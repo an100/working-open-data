{
 "metadata": {
  "name": ""
 },
 "nbformat": 3,
 "nbformat_minor": 0,
 "worksheets": [
  {
   "cells": [
    {
     "cell_type": "heading",
     "level": 1,
     "metadata": {},
     "source": [
      "Goals"
     ]
    },
    {
     "cell_type": "markdown",
     "metadata": {},
     "source": [
      "To accomplish in this problem set\n",
      "\n",
      "* more elegant operations with Pandas\n",
      "* get a start at plotting with matplotlib\n",
      "* learning how to use groupby to compare aggregates with stated totals\n"
     ]
    },
    {
     "cell_type": "heading",
     "level": 1,
     "metadata": {},
     "source": [
      "Preliminaries"
     ]
    },
    {
     "cell_type": "markdown",
     "metadata": {},
     "source": [
      "Do pandas imports and set up variables for accessing census data sets"
     ]
    },
    {
     "cell_type": "code",
     "collapsed": false,
     "input": [
      "import pandas as pd\n",
      "from pandas import Series, DataFrame"
     ],
     "language": "python",
     "metadata": {},
     "outputs": [],
     "prompt_number": 2
    },
    {
     "cell_type": "code",
     "collapsed": false,
     "input": [
      "import os\n",
      "\n",
      "DATA_DIR = os.path.join(os.pardir, \"data\")"
     ],
     "language": "python",
     "metadata": {},
     "outputs": [],
     "prompt_number": 6
    },
    {
     "cell_type": "code",
     "collapsed": false,
     "input": [
      "# see what's in the directory using os.walk\n",
      "\n",
      "list(os.walk(os.path.join(DATA_DIR, \"census\")))"
     ],
     "language": "python",
     "metadata": {},
     "outputs": [
      {
       "metadata": {},
       "output_type": "pyout",
       "prompt_number": 7,
       "text": [
        "[('../data/census',\n",
        "  [],\n",
        "  ['.DS_Store',\n",
        "   'DataDict.txt',\n",
        "   'DataSet.txt',\n",
        "   'FIPS_CountyName.txt',\n",
        "   'README.txt',\n",
        "   'st99_d00.dbf',\n",
        "   'st99_d00.shp',\n",
        "   'st99_d00.shx'])]"
       ]
      }
     ],
     "prompt_number": 7
    },
    {
     "cell_type": "code",
     "collapsed": false,
     "input": [
      "# do shell command for linux/mac -- sorry windows\n",
      "\n",
      "!ls $DATA_DIR/census/*"
     ],
     "language": "python",
     "metadata": {},
     "outputs": [
      {
       "output_type": "stream",
       "stream": "stdout",
       "text": [
        "../data/census/DataDict.txt        ../data/census/FIPS_CountyName.txt ../data/census/st99_d00.dbf        ../data/census/st99_d00.shx\r\n",
        "../data/census/DataSet.txt         ../data/census/README.txt          ../data/census/st99_d00.shp\r\n"
       ]
      }
     ],
     "prompt_number": 8
    },
    {
     "cell_type": "heading",
     "level": 1,
     "metadata": {},
     "source": [
      "More elegant manipulation of census DataFrame"
     ]
    },
    {
     "cell_type": "heading",
     "level": 2,
     "metadata": {},
     "source": [
      "Confirm again the assumed relative placement of files"
     ]
    },
    {
     "cell_type": "code",
     "collapsed": false,
     "input": [
      "import os\n",
      "\n",
      "# relative to parent dir\n",
      "DATA_FILES = {\"datadict\":\"data/census/DataDict.txt\",\n",
      "               \"dataset\":\"data/census/DataSet.txt\",\n",
      "               \"fips\": \"data/census/FIPS_CountyName.txt\"}\n",
      "\n",
      "def file_path(key):\n",
      "    return os.path.join(os.pardir, DATA_FILES[key])\n",
      "\n",
      "for file_key in DATA_FILES.keys():\n",
      "    abs_fname = file_path(file_key)\n",
      "    assert os.path.exists(abs_fname) is True"
     ],
     "language": "python",
     "metadata": {},
     "outputs": [],
     "prompt_number": 9
    },
    {
     "cell_type": "heading",
     "level": 2,
     "metadata": {},
     "source": [
      "Construct fips_df"
     ]
    },
    {
     "cell_type": "code",
     "collapsed": false,
     "input": [
      "import codecs\n",
      "from itertools import islice\n",
      "\n",
      "from pandas import Series, DataFrame\n",
      "\n",
      "f = codecs.open(file_path(\"fips\"), encoding='iso-8859-1')\n",
      "\n",
      "fips_list = list()\n",
      "\n",
      "for row in islice(f, None):\n",
      "    fips_list.append({'fips': row[:5], 'geog_entity': row[6:-1]})\n",
      "    \n",
      "fips_df = DataFrame(fips_list)\n",
      "\n",
      "# print out first 5 rows\n",
      "fips_df[:5]"
     ],
     "language": "python",
     "metadata": {},
     "outputs": [
      {
       "html": [
        "<div style=\"max-height:1000px;max-width:1500px;overflow:auto;\">\n",
        "<table border=\"1\" class=\"dataframe\">\n",
        "  <thead>\n",
        "    <tr style=\"text-align: right;\">\n",
        "      <th></th>\n",
        "      <th>fips</th>\n",
        "      <th>geog_entity</th>\n",
        "    </tr>\n",
        "  </thead>\n",
        "  <tbody>\n",
        "    <tr>\n",
        "      <th>0</th>\n",
        "      <td> 00000</td>\n",
        "      <td>      UNITED STATES</td>\n",
        "    </tr>\n",
        "    <tr>\n",
        "      <th>1</th>\n",
        "      <td> 01000</td>\n",
        "      <td>            ALABAMA</td>\n",
        "    </tr>\n",
        "    <tr>\n",
        "      <th>2</th>\n",
        "      <td> 01001</td>\n",
        "      <td> Autauga County, AL</td>\n",
        "    </tr>\n",
        "    <tr>\n",
        "      <th>3</th>\n",
        "      <td> 01003</td>\n",
        "      <td> Baldwin County, AL</td>\n",
        "    </tr>\n",
        "    <tr>\n",
        "      <th>4</th>\n",
        "      <td> 01005</td>\n",
        "      <td> Barbour County, AL</td>\n",
        "    </tr>\n",
        "  </tbody>\n",
        "</table>\n",
        "<p>5 rows \u00d7 2 columns</p>\n",
        "</div>"
       ],
       "metadata": {},
       "output_type": "pyout",
       "prompt_number": 10,
       "text": [
        "    fips         geog_entity\n",
        "0  00000       UNITED STATES\n",
        "1  01000             ALABAMA\n",
        "2  01001  Autauga County, AL\n",
        "3  01003  Baldwin County, AL\n",
        "4  01005  Barbour County, AL\n",
        "\n",
        "[5 rows x 2 columns]"
       ]
      }
     ],
     "prompt_number": 10
    },
    {
     "cell_type": "heading",
     "level": 2,
     "metadata": {},
     "source": [
      "EXERCISE: add to fips_df a fips_prefix column, which is the first 2 digits in fips"
     ]
    },
    {
     "cell_type": "markdown",
     "metadata": {},
     "source": [
      "e.g., 06 fo California"
     ]
    },
    {
     "cell_type": "code",
     "collapsed": false,
     "input": [
      "# FILL IN YOUR CODE\n",
      "\n",
      "fips_df[\"fips_prefix\"] = fips_df.fips.str[:2]"
     ],
     "language": "python",
     "metadata": {},
     "outputs": [],
     "prompt_number": 11
    },
    {
     "cell_type": "code",
     "collapsed": false,
     "input": [
      "# TEST\n",
      "import numpy as np\n",
      "assert np.all(fips_df[fips_df.fips == '00000']['fips_prefix'] == '00')\n",
      "assert np.all(fips_df[fips_df.fips == '06000']['fips_prefix'] == '06')\n",
      "assert np.all(fips_df[fips_df.fips == '06001']['fips_prefix'] == '06')"
     ],
     "language": "python",
     "metadata": {},
     "outputs": [],
     "prompt_number": 13
    },
    {
     "cell_type": "heading",
     "level": 2,
     "metadata": {},
     "source": [
      "EXERCISE: add to fips_df a geog_type column ('country', 'state', or 'county')"
     ]
    },
    {
     "cell_type": "markdown",
     "metadata": {},
     "source": [
      "### Hints\n",
      "\n",
      "Consider using [np.where](http://docs.scipy.org/doc/numpy/reference/generated/numpy.where.html)\n",
      "\n",
      "and look at *PfDA*, pp. 98-100\n",
      "\n",
      "How to take\n",
      "\n",
      "> `np.where(fips_df.fips.str[-3:] != '000', 'county', 'is_not_county')`\n",
      "\n",
      "and add one more np.where to differentiate between US and states?"
     ]
    },
    {
     "cell_type": "code",
     "collapsed": false,
     "input": [
      "# FILL IN YOUR CODE\n",
      "\n",
      "fips_df[\"geog_type\"] = np.where(fips_df.fips.str[-3:] != '000', 'county', np.where(fips_df.fips.str[:2] == '00', 'country', 'state'))"
     ],
     "language": "python",
     "metadata": {},
     "outputs": [],
     "prompt_number": 9
    },
    {
     "cell_type": "code",
     "collapsed": false,
     "input": [
      "# TEST\n",
      "\n",
      "# check specific values\n",
      "\n",
      "assert fips_df[fips_df.fips == '00000']['geog_type'] == 'country'\n",
      "assert fips_df[fips_df.fips == '06000']['geog_type'] == 'state'\n",
      "assert fips_df[fips_df.fips == '06001']['geog_type'] == 'county'\n",
      "\n",
      "\n",
      "# check the numbers of various geog_type\n",
      "\n",
      "assert set(fips_df.geog_type.value_counts().iteritems()) == set([('state', 51), ('country', 1), ('county', 3143)])"
     ],
     "language": "python",
     "metadata": {},
     "outputs": [],
     "prompt_number": 10
    },
    {
     "cell_type": "heading",
     "level": 2,
     "metadata": {},
     "source": [
      "Let's load the dataset and construct df -- should be familiar stuff by now"
     ]
    },
    {
     "cell_type": "code",
     "collapsed": false,
     "input": [
      "# let's try pd.read_csv \n",
      "# how to give hints about data type to pd.read_csv?\n",
      "\n",
      "import codecs\n",
      "\n",
      "# let's try object for fips and int for POP010210\n",
      "dtype = {'fips':'S5', 'POP010210':np.int}\n",
      "\n",
      "f = codecs.open(file_path(\"dataset\"), encoding='iso-8859-1')\n",
      "dataset_df = pd.read_csv(f, dtype=dtype)\n",
      "df = pd.merge(fips_df, dataset_df)"
     ],
     "language": "python",
     "metadata": {},
     "outputs": [],
     "prompt_number": 11
    },
    {
     "cell_type": "code",
     "collapsed": false,
     "input": [
      "df[['fips', 'geog_entity', 'geog_type', 'POP010210']][:5]"
     ],
     "language": "python",
     "metadata": {},
     "outputs": [
      {
       "html": [
        "<div style=\"max-height:1000px;max-width:1500px;overflow:auto;\">\n",
        "<table border=\"1\" class=\"dataframe\">\n",
        "  <thead>\n",
        "    <tr style=\"text-align: right;\">\n",
        "      <th></th>\n",
        "      <th>fips</th>\n",
        "      <th>geog_entity</th>\n",
        "      <th>geog_type</th>\n",
        "      <th>POP010210</th>\n",
        "    </tr>\n",
        "  </thead>\n",
        "  <tbody>\n",
        "    <tr>\n",
        "      <th>0</th>\n",
        "      <td> 00000</td>\n",
        "      <td>      UNITED STATES</td>\n",
        "      <td> country</td>\n",
        "      <td> 308745538</td>\n",
        "    </tr>\n",
        "    <tr>\n",
        "      <th>1</th>\n",
        "      <td> 01000</td>\n",
        "      <td>            ALABAMA</td>\n",
        "      <td>   state</td>\n",
        "      <td>   4779736</td>\n",
        "    </tr>\n",
        "    <tr>\n",
        "      <th>2</th>\n",
        "      <td> 01001</td>\n",
        "      <td> Autauga County, AL</td>\n",
        "      <td>  county</td>\n",
        "      <td>     54571</td>\n",
        "    </tr>\n",
        "    <tr>\n",
        "      <th>3</th>\n",
        "      <td> 01003</td>\n",
        "      <td> Baldwin County, AL</td>\n",
        "      <td>  county</td>\n",
        "      <td>    182265</td>\n",
        "    </tr>\n",
        "    <tr>\n",
        "      <th>4</th>\n",
        "      <td> 01005</td>\n",
        "      <td> Barbour County, AL</td>\n",
        "      <td>  county</td>\n",
        "      <td>     27457</td>\n",
        "    </tr>\n",
        "  </tbody>\n",
        "</table>\n",
        "</div>"
       ],
       "metadata": {},
       "output_type": "pyout",
       "prompt_number": 12,
       "text": [
        "    fips         geog_entity geog_type  POP010210\n",
        "0  00000       UNITED STATES   country  308745538\n",
        "1  01000             ALABAMA     state    4779736\n",
        "2  01001  Autauga County, AL    county      54571\n",
        "3  01003  Baldwin County, AL    county     182265\n",
        "4  01005  Barbour County, AL    county      27457"
       ]
      }
     ],
     "prompt_number": 12
    },
    {
     "cell_type": "heading",
     "level": 1,
     "metadata": {},
     "source": [
      "Working with state populations"
     ]
    },
    {
     "cell_type": "heading",
     "level": 2,
     "metadata": {},
     "source": [
      "EXERCISE:  calculate a DataFrame called top_five_states_by_pop w/ 5 most populous states"
     ]
    },
    {
     "cell_type": "markdown",
     "metadata": {},
     "source": [
      "Requirement for `top_five_states_by_pop` DataFrame:\n",
      "\n",
      "* has only 5 rows\n",
      "* has two columns:  `geog_entity`, `POP010210`\n",
      "\n",
      "Hints:\n",
      "\n",
      "* you might want to make use of [`sort_index`](http://pandas.pydata.org/pandas-docs/dev/generated/pandas.DataFrame.sort_index.html)"
     ]
    },
    {
     "cell_type": "code",
     "collapsed": false,
     "input": [
      "# FILL IN YOUR CODE \n",
      "\n",
      "top_five_states_by_pop = df[df.geog_type=='state'][['geog_entity', 'POP010210']].sort_index(by='POP010210')[::-1][:5].copy()\n",
      "top_five_states_by_pop"
     ],
     "language": "python",
     "metadata": {},
     "outputs": [
      {
       "html": [
        "<div style=\"max-height:1000px;max-width:1500px;overflow:auto;\">\n",
        "<table border=\"1\" class=\"dataframe\">\n",
        "  <thead>\n",
        "    <tr style=\"text-align: right;\">\n",
        "      <th></th>\n",
        "      <th>geog_entity</th>\n",
        "      <th>POP010210</th>\n",
        "    </tr>\n",
        "  </thead>\n",
        "  <tbody>\n",
        "    <tr>\n",
        "      <th>191 </th>\n",
        "      <td> CALIFORNIA</td>\n",
        "      <td> 37253956</td>\n",
        "    </tr>\n",
        "    <tr>\n",
        "      <th>2567</th>\n",
        "      <td>      TEXAS</td>\n",
        "      <td> 25145561</td>\n",
        "    </tr>\n",
        "    <tr>\n",
        "      <th>1861</th>\n",
        "      <td>   NEW YORK</td>\n",
        "      <td> 19378102</td>\n",
        "    </tr>\n",
        "    <tr>\n",
        "      <th>330 </th>\n",
        "      <td>    FLORIDA</td>\n",
        "      <td> 18801310</td>\n",
        "    </tr>\n",
        "    <tr>\n",
        "      <th>609 </th>\n",
        "      <td>   ILLINOIS</td>\n",
        "      <td> 12830632</td>\n",
        "    </tr>\n",
        "  </tbody>\n",
        "</table>\n",
        "</div>"
       ],
       "metadata": {},
       "output_type": "pyout",
       "prompt_number": 13,
       "text": [
        "     geog_entity  POP010210\n",
        "191   CALIFORNIA   37253956\n",
        "2567       TEXAS   25145561\n",
        "1861    NEW YORK   19378102\n",
        "330      FLORIDA   18801310\n",
        "609     ILLINOIS   12830632"
       ]
      }
     ],
     "prompt_number": 13
    },
    {
     "cell_type": "code",
     "collapsed": false,
     "input": [
      "# TEST\n",
      "# 5 rows, column values, and specific values\n",
      "\n",
      "assert len(top_five_states_by_pop) == 5\n",
      "assert set(top_five_states_by_pop.columns) == set(['POP010210', 'geog_entity'])\n",
      "assert list(top_five_states_by_pop[['geog_entity', 'POP010210']].values.flatten()) == [u'CALIFORNIA',\n",
      " 37253956L,\n",
      " u'TEXAS',\n",
      " 25145561L,\n",
      " u'NEW YORK',\n",
      " 19378102L,\n",
      " u'FLORIDA',\n",
      " 18801310L,\n",
      " u'ILLINOIS',\n",
      " 12830632L]"
     ],
     "language": "python",
     "metadata": {},
     "outputs": [],
     "prompt_number": 14
    },
    {
     "cell_type": "heading",
     "level": 2,
     "metadata": {},
     "source": [
      "Plotting state population as a scatter graph in descending order by population"
     ]
    },
    {
     "cell_type": "markdown",
     "metadata": {},
     "source": [
      "Purpose:  construct state_pop DataFrame to use for plotting"
     ]
    },
    {
     "cell_type": "code",
     "collapsed": false,
     "input": [
      "state_pop = df[df.geog_type=='state']['POP010210'].copy()\n",
      "\n",
      "# use sort to do in-place sort\n",
      "state_pop.sort()\n",
      "state_pop[:5]"
     ],
     "language": "python",
     "metadata": {},
     "outputs": [
      {
       "metadata": {},
       "output_type": "pyout",
       "prompt_number": 15,
       "text": [
        "3171    563626\n",
        "328     601723\n",
        "2852    625741\n",
        "2025    672591\n",
        "69      710231\n",
        "Name: POP010210"
       ]
      }
     ],
     "prompt_number": 15
    },
    {
     "cell_type": "code",
     "collapsed": false,
     "input": [
      "state_pop.order()[::-1]\n",
      "state_pop.sum()"
     ],
     "language": "python",
     "metadata": {},
     "outputs": [
      {
       "metadata": {},
       "output_type": "pyout",
       "prompt_number": 16,
       "text": [
        "308745538"
       ]
      }
     ],
     "prompt_number": 16
    },
    {
     "cell_type": "heading",
     "level": 2,
     "metadata": {},
     "source": [
      "Exercise:  Produce a cumulative population graph of states"
     ]
    },
    {
     "cell_type": "markdown",
     "metadata": {},
     "source": [
      "\n",
      "* x value is the rank (starting with 0)\n",
      "* y value is the normalized cumulative population\n",
      "\n",
      "Some specific values to be plotted:\n",
      "\n",
      "    0     0.120662\n",
      "    1     0.202107\n",
      "    2     0.264871\n",
      "    3     0.325766\n",
      "    ....\n",
      "    ....\n",
      "    47    0.994199\n",
      "    48    0.996226\n",
      "    49    0.998174\n",
      "    50    1.000000\n",
      "\n",
      "Consider using [cumsum](http://pandas.pydata.org/pandas-docs/dev/generated/pandas.Series.cumsum.html) in relation to `state_pop`.\n",
      "\n",
      "Your graph should look something like the following:\n",
      "\n",
      "<a href=\"http://www.flickr.com/photos/raymondyee/8471907573/\" title=\"day_08_state_cumulative_normalized by Raymond Yee, on Flickr\"><img src=\"http://farm9.staticflickr.com/8524/8471907573_5b1f7b4df5.jpg\" width=\"367\" height=\"249\" alt=\"day_08_state_cumulative_normalized\"></a>"
     ]
    },
    {
     "cell_type": "code",
     "collapsed": false,
     "input": [
      "# some verification of the numbers\n",
      "\n",
      "from pandas import Series\n",
      "k = Series(state_pop[::-1].cumsum().div(float(state_pop.sum())).values, index= arange(51))\n",
      "k"
     ],
     "language": "python",
     "metadata": {},
     "outputs": [
      {
       "metadata": {},
       "output_type": "pyout",
       "prompt_number": 17,
       "text": [
        "0     0.120662\n",
        "1     0.202107\n",
        "2     0.264871\n",
        "3     0.325766\n",
        "4     0.367324\n",
        "5     0.408466\n",
        "6     0.445831\n",
        "7     0.477844\n",
        "8     0.509221\n",
        "9     0.540106\n",
        "10    0.568582\n",
        "11    0.594496\n",
        "12    0.616277\n",
        "13    0.637484\n",
        "14    0.658484\n",
        "15    0.679188\n",
        "16    0.699742\n",
        "17    0.719140\n",
        "18    0.737840\n",
        "19    0.756259\n",
        "20    0.773438\n",
        "21    0.789727\n",
        "22    0.805209\n",
        "23    0.820190\n",
        "24    0.834873\n",
        "25    0.848928\n",
        "26    0.861336\n",
        "27    0.873487\n",
        "28    0.885063\n",
        "29    0.894930\n",
        "30    0.904540\n",
        "31    0.913985\n",
        "32    0.923226\n",
        "33    0.932178\n",
        "34    0.940925\n",
        "35    0.947594\n",
        "36    0.953596\n",
        "37    0.959511\n",
        "38    0.964589\n",
        "39    0.968994\n",
        "40    0.973297\n",
        "41    0.977561\n",
        "42    0.980970\n",
        "43    0.984175\n",
        "44    0.987083\n",
        "45    0.989720\n",
        "46    0.992020\n",
        "47    0.994199\n",
        "48    0.996226\n",
        "49    0.998174\n",
        "50    1.000000\n",
        "Length: 51"
       ]
      }
     ],
     "prompt_number": 17
    },
    {
     "cell_type": "code",
     "collapsed": false,
     "input": [
      "# FILL IN WITH YOUR CODE TO GENERATE PLOT\n",
      "\n",
      "state_pop[::-1].cumsum().div(float(state_pop.sum())).plot(use_index=False, style=\"o\")"
     ],
     "language": "python",
     "metadata": {},
     "outputs": [
      {
       "metadata": {},
       "output_type": "pyout",
       "prompt_number": 18,
       "text": [
        "<matplotlib.axes.AxesSubplot at 0x4f05910>"
       ]
      },
      {
       "metadata": {},
       "output_type": "display_data",
       "png": "[encoded data removed]"
      }
     ],
     "prompt_number": 18
    },
    {
     "cell_type": "heading",
     "level": 1,
     "metadata": {},
     "source": [
      "Let's make a simple bar graph"
     ]
    },
    {
     "cell_type": "markdown",
     "metadata": {},
     "source": [
      "First, consider a simple example bar graph to learn from"
     ]
    },
    {
     "cell_type": "code",
     "collapsed": false,
     "input": [
      "import string\n",
      "num_letter_series = Series(arange(10), index=list(string.lowercase[:10]))\n",
      "num_letter_series "
     ],
     "language": "python",
     "metadata": {},
     "outputs": [
      {
       "metadata": {},
       "output_type": "pyout",
       "prompt_number": 19,
       "text": [
        "a    0\n",
        "b    1\n",
        "c    2\n",
        "d    3\n",
        "e    4\n",
        "f    5\n",
        "g    6\n",
        "h    7\n",
        "i    8\n",
        "j    9"
       ]
      }
     ],
     "prompt_number": 19
    },
    {
     "cell_type": "code",
     "collapsed": false,
     "input": [
      "num_letter_series.plot(kind=\"bar\")"
     ],
     "language": "python",
     "metadata": {},
     "outputs": [
      {
       "metadata": {},
       "output_type": "pyout",
       "prompt_number": 20,
       "text": [
        "<matplotlib.axes.AxesSubplot at 0x56c5f50>"
       ]
      },
      {
       "metadata": {},
       "output_type": "display_data",
       "png": "[encoded data removed]"
      }
     ],
     "prompt_number": 20
    },
    {
     "cell_type": "heading",
     "level": 2,
     "metadata": {},
     "source": [
      "Exercise: Make a bar chart of state population"
     ]
    },
    {
     "cell_type": "markdown",
     "metadata": {},
     "source": [
      "Requirement:\n",
      "\n",
      "* states listed in descending order by population on x-axis\n",
      "* population on the y-axis\n",
      "\n",
      "Your plot should look something like the following:\n",
      "\n",
      "<a href=\"http://www.flickr.com/photos/raymondyee/8473055924/\" title=\"day_08_state_pop_bar by Raymond Yee, on Flickr\"><img src=\"http://farm9.staticflickr.com/8239/8473055924_02422854b9.jpg\" width=\"368\" height=\"369\" alt=\"day_08_state_pop_bar\"></a>"
     ]
    },
    {
     "cell_type": "code",
     "collapsed": false,
     "input": [
      "# FILL IN WITH YOUR CODE TO GENERATE BAR PLOT\n",
      "\n",
      "Series(df[df.geog_type=='state']['POP010210'].values, index= df[df.geog_type=='state']['geog_entity'].values).order()[::-1].plot(kind=\"bar\")"
     ],
     "language": "python",
     "metadata": {},
     "outputs": [
      {
       "metadata": {},
       "output_type": "pyout",
       "prompt_number": 21,
       "text": [
        "<matplotlib.axes.AxesSubplot at 0x4f0d9f0>"
       ]
      },
      {
       "metadata": {},
       "output_type": "display_data",
       "png": "[encoded data removed]"
      }
     ],
     "prompt_number": 21
    },
    {
     "cell_type": "code",
     "collapsed": false,
     "input": [
      "state_pop2 = df[df.geog_type=='state'][['geog_entity', 'POP010210']].sort_index(by='POP010210')[::-1]"
     ],
     "language": "python",
     "metadata": {},
     "outputs": [],
     "prompt_number": 22
    },
    {
     "cell_type": "code",
     "collapsed": false,
     "input": [
      "state_pop2.set_index('geog_entity', inplace=True, drop=True)"
     ],
     "language": "python",
     "metadata": {},
     "outputs": [
      {
       "output_type": "stream",
       "stream": "stderr",
       "text": [
        "/Users/raymondyee/.virtualenvs/epd1/lib/python2.7/site-packages/pandas/core/frame.py:2762: FutureWarning: set_index with inplace=True  will return None from pandas 0.11 onward\n",
        "  \" from pandas 0.11 onward\", FutureWarning)\n"
       ]
      },
      {
       "html": [
        "<div style=\"max-height:1000px;max-width:1500px;overflow:auto;\">\n",
        "<table border=\"1\" class=\"dataframe\">\n",
        "  <thead>\n",
        "    <tr style=\"text-align: right;\">\n",
        "      <th></th>\n",
        "      <th>POP010210</th>\n",
        "    </tr>\n",
        "    <tr>\n",
        "      <th>geog_entity</th>\n",
        "      <th></th>\n",
        "    </tr>\n",
        "  </thead>\n",
        "  <tbody>\n",
        "    <tr>\n",
        "      <th>CALIFORNIA</th>\n",
        "      <td> 37253956</td>\n",
        "    </tr>\n",
        "    <tr>\n",
        "      <th>TEXAS</th>\n",
        "      <td> 25145561</td>\n",
        "    </tr>\n",
        "    <tr>\n",
        "      <th>NEW YORK</th>\n",
        "      <td> 19378102</td>\n",
        "    </tr>\n",
        "    <tr>\n",
        "      <th>FLORIDA</th>\n",
        "      <td> 18801310</td>\n",
        "    </tr>\n",
        "    <tr>\n",
        "      <th>ILLINOIS</th>\n",
        "      <td> 12830632</td>\n",
        "    </tr>\n",
        "    <tr>\n",
        "      <th>PENNSYLVANIA</th>\n",
        "      <td> 12702379</td>\n",
        "    </tr>\n",
        "    <tr>\n",
        "      <th>OHIO</th>\n",
        "      <td> 11536504</td>\n",
        "    </tr>\n",
        "    <tr>\n",
        "      <th>MICHIGAN</th>\n",
        "      <td>  9883640</td>\n",
        "    </tr>\n",
        "    <tr>\n",
        "      <th>GEORGIA</th>\n",
        "      <td>  9687653</td>\n",
        "    </tr>\n",
        "    <tr>\n",
        "      <th>NORTH CAROLINA</th>\n",
        "      <td>  9535483</td>\n",
        "    </tr>\n",
        "    <tr>\n",
        "      <th>NEW JERSEY</th>\n",
        "      <td>  8791894</td>\n",
        "    </tr>\n",
        "    <tr>\n",
        "      <th>VIRGINIA</th>\n",
        "      <td>  8001024</td>\n",
        "    </tr>\n",
        "    <tr>\n",
        "      <th>WASHINGTON</th>\n",
        "      <td>  6724540</td>\n",
        "    </tr>\n",
        "    <tr>\n",
        "      <th>MASSACHUSETTS</th>\n",
        "      <td>  6547629</td>\n",
        "    </tr>\n",
        "    <tr>\n",
        "      <th>INDIANA</th>\n",
        "      <td>  6483802</td>\n",
        "    </tr>\n",
        "    <tr>\n",
        "      <th>ARIZONA</th>\n",
        "      <td>  6392017</td>\n",
        "    </tr>\n",
        "    <tr>\n",
        "      <th>TENNESSEE</th>\n",
        "      <td>  6346105</td>\n",
        "    </tr>\n",
        "    <tr>\n",
        "      <th>MISSOURI</th>\n",
        "      <td>  5988927</td>\n",
        "    </tr>\n",
        "    <tr>\n",
        "      <th>MARYLAND</th>\n",
        "      <td>  5773552</td>\n",
        "    </tr>\n",
        "    <tr>\n",
        "      <th>WISCONSIN</th>\n",
        "      <td>  5686986</td>\n",
        "    </tr>\n",
        "    <tr>\n",
        "      <th>MINNESOTA</th>\n",
        "      <td>  5303925</td>\n",
        "    </tr>\n",
        "    <tr>\n",
        "      <th>COLORADO</th>\n",
        "      <td>  5029196</td>\n",
        "    </tr>\n",
        "    <tr>\n",
        "      <th>ALABAMA</th>\n",
        "      <td>  4779736</td>\n",
        "    </tr>\n",
        "    <tr>\n",
        "      <th>SOUTH CAROLINA</th>\n",
        "      <td>  4625364</td>\n",
        "    </tr>\n",
        "    <tr>\n",
        "      <th>LOUISIANA</th>\n",
        "      <td>  4533372</td>\n",
        "    </tr>\n",
        "    <tr>\n",
        "      <th>KENTUCKY</th>\n",
        "      <td>  4339367</td>\n",
        "    </tr>\n",
        "    <tr>\n",
        "      <th>OREGON</th>\n",
        "      <td>  3831074</td>\n",
        "    </tr>\n",
        "    <tr>\n",
        "      <th>OKLAHOMA</th>\n",
        "      <td>  3751351</td>\n",
        "    </tr>\n",
        "    <tr>\n",
        "      <th>CONNECTICUT</th>\n",
        "      <td>  3574097</td>\n",
        "    </tr>\n",
        "    <tr>\n",
        "      <th>IOWA</th>\n",
        "      <td>  3046355</td>\n",
        "    </tr>\n",
        "    <tr>\n",
        "      <th>MISSISSIPPI</th>\n",
        "      <td>  2967297</td>\n",
        "    </tr>\n",
        "    <tr>\n",
        "      <th>ARKANSAS</th>\n",
        "      <td>  2915918</td>\n",
        "    </tr>\n",
        "    <tr>\n",
        "      <th>KANSAS</th>\n",
        "      <td>  2853118</td>\n",
        "    </tr>\n",
        "    <tr>\n",
        "      <th>UTAH</th>\n",
        "      <td>  2763885</td>\n",
        "    </tr>\n",
        "    <tr>\n",
        "      <th>NEVADA</th>\n",
        "      <td>  2700551</td>\n",
        "    </tr>\n",
        "    <tr>\n",
        "      <th>NEW MEXICO</th>\n",
        "      <td>  2059179</td>\n",
        "    </tr>\n",
        "    <tr>\n",
        "      <th>WEST VIRGINIA</th>\n",
        "      <td>  1852994</td>\n",
        "    </tr>\n",
        "    <tr>\n",
        "      <th>NEBRASKA</th>\n",
        "      <td>  1826341</td>\n",
        "    </tr>\n",
        "    <tr>\n",
        "      <th>IDAHO</th>\n",
        "      <td>  1567582</td>\n",
        "    </tr>\n",
        "    <tr>\n",
        "      <th>HAWAII</th>\n",
        "      <td>  1360301</td>\n",
        "    </tr>\n",
        "    <tr>\n",
        "      <th>MAINE</th>\n",
        "      <td>  1328361</td>\n",
        "    </tr>\n",
        "    <tr>\n",
        "      <th>NEW HAMPSHIRE</th>\n",
        "      <td>  1316470</td>\n",
        "    </tr>\n",
        "    <tr>\n",
        "      <th>RHODE ISLAND</th>\n",
        "      <td>  1052567</td>\n",
        "    </tr>\n",
        "    <tr>\n",
        "      <th>MONTANA</th>\n",
        "      <td>   989415</td>\n",
        "    </tr>\n",
        "    <tr>\n",
        "      <th>DELAWARE</th>\n",
        "      <td>   897934</td>\n",
        "    </tr>\n",
        "    <tr>\n",
        "      <th>SOUTH DAKOTA</th>\n",
        "      <td>   814180</td>\n",
        "    </tr>\n",
        "    <tr>\n",
        "      <th>ALASKA</th>\n",
        "      <td>   710231</td>\n",
        "    </tr>\n",
        "    <tr>\n",
        "      <th>NORTH DAKOTA</th>\n",
        "      <td>   672591</td>\n",
        "    </tr>\n",
        "    <tr>\n",
        "      <th>VERMONT</th>\n",
        "      <td>   625741</td>\n",
        "    </tr>\n",
        "    <tr>\n",
        "      <th>DISTRICT OF COLUMBIA</th>\n",
        "      <td>   601723</td>\n",
        "    </tr>\n",
        "    <tr>\n",
        "      <th>WYOMING</th>\n",
        "      <td>   563626</td>\n",
        "    </tr>\n",
        "  </tbody>\n",
        "</table>\n",
        "</div>"
       ],
       "metadata": {},
       "output_type": "pyout",
       "prompt_number": 23,
       "text": [
        "                      POP010210\n",
        "geog_entity                    \n",
        "CALIFORNIA             37253956\n",
        "TEXAS                  25145561\n",
        "NEW YORK               19378102\n",
        "FLORIDA                18801310\n",
        "ILLINOIS               12830632\n",
        "PENNSYLVANIA           12702379\n",
        "OHIO                   11536504\n",
        "MICHIGAN                9883640\n",
        "GEORGIA                 9687653\n",
        "NORTH CAROLINA          9535483\n",
        "NEW JERSEY              8791894\n",
        "VIRGINIA                8001024\n",
        "WASHINGTON              6724540\n",
        "MASSACHUSETTS           6547629\n",
        "INDIANA                 6483802\n",
        "ARIZONA                 6392017\n",
        "TENNESSEE               6346105\n",
        "MISSOURI                5988927\n",
        "MARYLAND                5773552\n",
        "WISCONSIN               5686986\n",
        "MINNESOTA               5303925\n",
        "COLORADO                5029196\n",
        "ALABAMA                 4779736\n",
        "SOUTH CAROLINA          4625364\n",
        "LOUISIANA               4533372\n",
        "KENTUCKY                4339367\n",
        "OREGON                  3831074\n",
        "OKLAHOMA                3751351\n",
        "CONNECTICUT             3574097\n",
        "IOWA                    3046355\n",
        "MISSISSIPPI             2967297\n",
        "ARKANSAS                2915918\n",
        "KANSAS                  2853118\n",
        "UTAH                    2763885\n",
        "NEVADA                  2700551\n",
        "NEW MEXICO              2059179\n",
        "WEST VIRGINIA           1852994\n",
        "NEBRASKA                1826341\n",
        "IDAHO                   1567582\n",
        "HAWAII                  1360301\n",
        "MAINE                   1328361\n",
        "NEW HAMPSHIRE           1316470\n",
        "RHODE ISLAND            1052567\n",
        "MONTANA                  989415\n",
        "DELAWARE                 897934\n",
        "SOUTH DAKOTA             814180\n",
        "ALASKA                   710231\n",
        "NORTH DAKOTA             672591\n",
        "VERMONT                  625741\n",
        "DISTRICT OF COLUMBIA     601723\n",
        "WYOMING                  563626"
       ]
      }
     ],
     "prompt_number": 23
    },
    {
     "cell_type": "code",
     "collapsed": false,
     "input": [
      "font = {'family' : 'normal',\n",
      "        'weight' : 'normal',\n",
      "        'size'   : 7}\n",
      "\n",
      "plt.rc('font', **font)\n"
     ],
     "language": "python",
     "metadata": {},
     "outputs": [],
     "prompt_number": 24
    },
    {
     "cell_type": "heading",
     "level": 1,
     "metadata": {},
     "source": [
      "Exercise: Using groupby to compare aggregate populations with stated totals"
     ]
    },
    {
     "cell_type": "markdown",
     "metadata": {},
     "source": [
      "1. Calculate a DataFrame named `state_pop_total` that sums up the populations for all counties in the state. `state_pop_total` must be indexed on `fips_prefix`.  Hint: do a `group_by` operation on `df` and then sort by\n",
      "descending population.\n",
      "\n",
      "1. Calculate a DataFrame named `extracted_state_pops` that is indexed by `fips_prefix` and holds the total population\n",
      "as stated for given state in `df`.  Make `extracted_state_pops` sorted by descending population also"
     ]
    },
    {
     "cell_type": "code",
     "collapsed": false,
     "input": [
      "# FILL IN WITH YOUR CODE for state_pop_total and extracted_state_pops\n",
      "state_pop_total = df[df.geog_type == 'county'][['fips_prefix', 'POP010210']].groupby('fips_prefix').sum().sort_index(by='POP010210')[::-1]\n",
      "\n",
      "extracted_state_pops = df[df.geog_type == 'state'][['fips_prefix', 'POP010210']].set_index('fips_prefix').sort_index(by='POP010210')[::-1]"
     ],
     "language": "python",
     "metadata": {},
     "outputs": [],
     "prompt_number": 25
    },
    {
     "cell_type": "code",
     "collapsed": false,
     "input": [
      "# TEST\n",
      "\n",
      "\n",
      "assert isinstance(state_pop_total, DataFrame)\n",
      "assert map(unicode, list(state_pop_total.index)) == [u'06', u'48', u'36', u'12', u'17', u'42', u'39', u'26',\n",
      " u'13', u'37', u'34', u'51', u'53', u'25', u'18', u'04', u'47', u'29', u'24', u'55', \n",
      " u'27', u'08', u'01', u'45', u'22', u'21', u'41', u'40', u'09', u'19', u'28', \n",
      " u'05', u'20', u'49', u'32', u'35', u'54', u'31', u'16', u'15', u'23', u'33', u'44', \n",
      " u'30', u'10', u'46', u'02', u'38', u'50', u'11', u'56']\n",
      "assert set(state_pop_total.columns) == set(['POP010210'])\n",
      "assert state_pop_total[:5].sum() == 113409561\n",
      "\n",
      "# compare all the state totals\n",
      "assert np.all(state_pop_total['POP010210'] == extracted_state_pops['POP010210'])\n"
     ],
     "language": "python",
     "metadata": {},
     "outputs": [],
     "prompt_number": 26
    },
    {
     "cell_type": "code",
     "collapsed": false,
     "input": [
      "# Series must be sorted in same order for comparison to work -- the following is False\n",
      "\n",
      "np.all(state_pop_total['POP010210'].order() == extracted_state_pops['POP010210'])\n"
     ],
     "language": "python",
     "metadata": {},
     "outputs": [
      {
       "metadata": {},
       "output_type": "pyout",
       "prompt_number": 27,
       "text": [
        "False"
       ]
      }
     ],
     "prompt_number": 27
    },
    {
     "cell_type": "heading",
     "level": 2,
     "metadata": {},
     "source": [
      "Note:  You can use a DataFrame to align indexes"
     ]
    },
    {
     "cell_type": "code",
     "collapsed": false,
     "input": [
      "# let's shuffle the index\n",
      "\n",
      "import random \n",
      "\n",
      "shuffle_index = list(state_pop_total.index)\n",
      "random.shuffle(shuffle_index)\n",
      "print shuffle_index"
     ],
     "language": "python",
     "metadata": {},
     "outputs": [
      {
       "output_type": "stream",
       "stream": "stdout",
       "text": [
        "[u'41', u'02', u'25', u'06', u'30', u'47', u'53', u'54', u'17', u'38', u'40', u'21', u'50', u'28', u'12', u'44', u'01', u'46', u'04', u'24', u'18', u'16', u'20', u'22', u'49', u'32', u'51', u'56', u'13', u'10', u'09', u'37', u'23', u'29', u'48', u'08', u'35', u'39', u'36', u'26', u'42', u'33', u'15', u'19', u'34', u'05', u'45', u'27', u'31', u'55', u'11']\n"
       ]
      }
     ],
     "prompt_number": 28
    },
    {
     "cell_type": "code",
     "collapsed": false,
     "input": [
      "# use reindex to create a shuffled Series\n",
      "\n",
      "shuffled_series = state_pop_total['POP010210'].reindex(index=shuffle_index)\n",
      "shuffled_series[:5]"
     ],
     "language": "python",
     "metadata": {},
     "outputs": [
      {
       "metadata": {},
       "output_type": "pyout",
       "prompt_number": 29,
       "text": [
        "41     3831074\n",
        "02      710231\n",
        "25     6547629\n",
        "06    37253956\n",
        "30      989415\n",
        "Name: POP010210"
       ]
      }
     ],
     "prompt_number": 29
    },
    {
     "cell_type": "code",
     "collapsed": false,
     "input": [
      "#  When you insert these three Series into a common DataFrame, you can do comparisons across the columns\n",
      "\n",
      "comp = DataFrame(index=extracted_state_pops.index)\n",
      "comp['extracted'] = extracted_state_pops['POP010210']\n",
      "comp['total'] = state_pop_total['POP010210']\n",
      "comp['shuffle'] = shuffled_series"
     ],
     "language": "python",
     "metadata": {},
     "outputs": [],
     "prompt_number": 30
    },
    {
     "cell_type": "code",
     "collapsed": false,
     "input": [
      "np.all(comp['extracted'] == comp['total'])"
     ],
     "language": "python",
     "metadata": {},
     "outputs": [
      {
       "metadata": {},
       "output_type": "pyout",
       "prompt_number": 31,
       "text": [
        "True"
       ]
      }
     ],
     "prompt_number": 31
    },
    {
     "cell_type": "code",
     "collapsed": false,
     "input": [
      "np.all(comp['shuffle'] == comp['total'])"
     ],
     "language": "python",
     "metadata": {},
     "outputs": [
      {
       "metadata": {},
       "output_type": "pyout",
       "prompt_number": 32,
       "text": [
        "True"
       ]
      }
     ],
     "prompt_number": 32
    }
   ],
   "metadata": {}
  }
 ]
}