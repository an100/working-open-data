{
 "metadata": {
  "name": "Day_25_Prompting_User_For_Input"
 },
 "nbformat": 3,
 "nbformat_minor": 0,
 "worksheets": [
  {
   "cells": [
    {
     "cell_type": "markdown",
     "metadata": {},
     "source": [
      "code that might be executing with `IPython.notebook.kernel.execute`: https://github.com/ipython/ipython/blob/3c2f44d25fbed7a76ea15988b195439b9ccac288/IPython/frontend/html/notebook/static/services/kernels/js/kernel.js#L291\n",
      "\n",
      "A great elaboration on 2-way communication between Python and JavaScript in the notebook: http://jakevdp.github.io/blog/2013/06/01/ipython-notebook-javascript-python-communication/"
     ]
    },
    {
     "cell_type": "code",
     "collapsed": false,
     "input": [
      "# https://plus.google.com/115875830338788300419/posts/cJFqX2Rpvzn\n",
      "\n",
      "import IPython.core.display\n",
      "\n",
      "def ipynb_input(varname, prompt=''):\n",
      "    \"\"\"Prompt user for input and assign string val to given variable name.\"\"\"\n",
      "    js_code = (\"\"\"\n",
      "        var value = prompt(\"{prompt}\",\"\");\n",
      "        var py_code = \"{varname} = '\" + value + \"'\";\n",
      "        IPython.notebook.kernel.execute(py_code);\n",
      "    \"\"\").format(prompt=prompt, varname=varname)\n",
      "    return IPython.core.display.Javascript(js_code)"
     ],
     "language": "python",
     "metadata": {},
     "outputs": [],
     "prompt_number": 1
    },
    {
     "cell_type": "code",
     "collapsed": false,
     "input": [
      "ipynb_input(\"name\", prompt='Enter your name: ')"
     ],
     "language": "python",
     "metadata": {},
     "outputs": [
      {
       "javascript": [
        "\n",
        "        var value = prompt(\"Enter your name: \",\"\");\n",
        "        var py_code = \"name = '\" + value + \"'\";\n",
        "        IPython.notebook.kernel.execute(py_code);\n",
        "    "
       ],
       "output_type": "pyout",
       "prompt_number": 2,
       "text": [
        "<IPython.core.display.Javascript at 0x46785b0>"
       ]
      }
     ],
     "prompt_number": 2
    },
    {
     "cell_type": "code",
     "collapsed": false,
     "input": [
      "print name"
     ],
     "language": "python",
     "metadata": {},
     "outputs": [
      {
       "output_type": "stream",
       "stream": "stdout",
       "text": [
        "hello\n"
       ]
      }
     ],
     "prompt_number": 3
    }
   ],
   "metadata": {}
  }
 ]
}