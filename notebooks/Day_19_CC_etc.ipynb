{
 "metadata": {
  "name": "",
  "signature": "sha256:06e8621e711c0d8281042356cce1af185f534882810322adc5a481ab8d675597"
 },
 "nbformat": 3,
 "nbformat_minor": 0,
 "worksheets": [
  {
   "cells": [
    {
     "cell_type": "heading",
     "level": 1,
     "metadata": {},
     "source": [
      "Optional:  get s3cmd, boto set up locally"
     ]
    },
    {
     "cell_type": "markdown",
     "metadata": {},
     "source": [
      "I have `s3cmd` and `boto` set up on PiCloud's `/rdhyee/Working_with_Open_Data` environment set up.  \n"
     ]
    },
    {
     "cell_type": "heading",
     "level": 2,
     "metadata": {},
     "source": [
      "You might be having pip problems -- if so...."
     ]
    },
    {
     "cell_type": "markdown",
     "metadata": {},
     "source": [
      "consult http://stackoverflow.com/questions/15441224/can-i-relink-enthought-python-to-new-version-of-openssl-on-mac-os-x"
     ]
    },
    {
     "cell_type": "heading",
     "level": 2,
     "metadata": {},
     "source": [
      "s3cmd:  how I installed it"
     ]
    },
    {
     "cell_type": "markdown",
     "metadata": {},
     "source": [
      "\n",
      "I used\n",
      "https://github.com/s3tools/s3cmd\n",
      "\n",
      "how I installed on my notebook:\n",
      "\n",
      "    cd ~/C/src/\n",
      "    git clone git://github.com/s3tools/s3cmd.git\n",
      "\n",
      "    cd s3cmd/\n",
      "\n",
      "    python setup.py install\n",
      "    s3cmd --configure\n"
     ]
    },
    {
     "cell_type": "heading",
     "level": 1,
     "metadata": {},
     "source": [
      "Learning about Common Crawl structure"
     ]
    },
    {
     "cell_type": "code",
     "collapsed": false,
     "input": [
      "# s3cmd installed in custom PiCloud environment -- and maybe in your local environment too\n",
      "\n",
      "!s3cmd ls s3://aws-publicdatasets/common-crawl/parse-output/valid_segments.txt"
     ],
     "language": "python",
     "metadata": {},
     "outputs": []
    },
    {
     "cell_type": "heading",
     "level": 2,
     "metadata": {},
     "source": [
      "Reading keys hanging off of s3://aws-publicdatasets/common-crawl/parse-output/"
     ]
    },
    {
     "cell_type": "code",
     "collapsed": false,
     "input": [
      "# http://boto.s3.amazonaws.com/s3_tut.html\n",
      "\n",
      "import boto\n",
      "from boto.s3.connection import S3Connection\n",
      "\n",
      "from itertools import islice\n",
      "\n",
      "conn = S3Connection()\n",
      "bucket = conn.get_bucket('aws-publicdatasets')\n",
      "for key in islice(bucket.list(prefix=\"common-crawl/parse-output/\", delimiter=\"/\"),None):\n",
      "    print key.name.encode('utf-8')"
     ],
     "language": "python",
     "metadata": {},
     "outputs": []
    },
    {
     "cell_type": "code",
     "collapsed": false,
     "input": [
      "# get valid_segments\n",
      "# https://commoncrawl.atlassian.net/wiki/display/CRWL/About+the+Data+Set\n",
      "\n",
      "import boto\n",
      "from boto.s3.connection import S3Connection\n",
      "\n",
      "conn = S3Connection()\n",
      "bucket = conn.get_bucket('aws-publicdatasets')\n",
      "\n",
      "k = bucket.get_key(\"common-crawl/parse-output/valid_segments.txt\")\n",
      "s = k.get_contents_as_string()"
     ],
     "language": "python",
     "metadata": {},
     "outputs": []
    },
    {
     "cell_type": "code",
     "collapsed": false,
     "input": [
      "# how many valid segments in current crawl\n",
      "len(s.split(\"\\n\"))"
     ],
     "language": "python",
     "metadata": {},
     "outputs": []
    },
    {
     "cell_type": "code",
     "collapsed": false,
     "input": [
      "valid_segments = s.split(\"\\n\")"
     ],
     "language": "python",
     "metadata": {},
     "outputs": []
    },
    {
     "cell_type": "code",
     "collapsed": false,
     "input": [
      "# get sample valid segment\n",
      "valid_segments[0]"
     ],
     "language": "python",
     "metadata": {},
     "outputs": []
    },
    {
     "cell_type": "code",
     "collapsed": false,
     "input": [
      "# what to do with a valid segment instance?\n",
      "# https://groups.google.com/forum/#!msg/common-crawl/QYTmnttZZyo/NPiXvK8ZeiMJ"
     ],
     "language": "python",
     "metadata": {},
     "outputs": []
    },
    {
     "cell_type": "code",
     "collapsed": false,
     "input": [
      "# \"s3n://aws-publicdatasets/common-crawl/parse-output/segment/\"+segmentId+\"/*.arc.gz\";\n",
      "!s3cmd ls s3://aws-publicdatasets/common-crawl/parse-output/segment/1346823845675 "
     ],
     "language": "python",
     "metadata": {},
     "outputs": []
    },
    {
     "cell_type": "code",
     "collapsed": false,
     "input": [
      "from itertools import islice\n",
      "\n",
      "conn = S3Connection()\n",
      "bucket = conn.get_bucket('aws-publicdatasets')\n",
      "for key in islice(bucket.list(prefix=\"common-crawl/parse-output/segment/1346823845675/\", delimiter=\"/\"),10):\n",
      "    print key.name.encode('utf-8')"
     ],
     "language": "python",
     "metadata": {},
     "outputs": []
    },
    {
     "cell_type": "code",
     "collapsed": false,
     "input": [
      "# WARNING -- this might take a bit of time to run\n",
      "\n",
      "%time all_files = list(islice(bucket.list(prefix=\"common-crawl/parse-output/segment/1346823845675/\", delimiter=\"/\"),None))"
     ],
     "language": "python",
     "metadata": {},
     "outputs": []
    },
    {
     "cell_type": "code",
     "collapsed": false,
     "input": [
      "len(all_files), all_files[0]"
     ],
     "language": "python",
     "metadata": {},
     "outputs": []
    },
    {
     "cell_type": "code",
     "collapsed": false,
     "input": [
      "!s3cmd ls s3://aws-publicdatasets/common-crawl/parse-output/segment/1346823845675/1346864466526_10.arc.gz "
     ],
     "language": "python",
     "metadata": {},
     "outputs": []
    },
    {
     "cell_type": "code",
     "collapsed": false,
     "input": [
      "file0 = all_files[0]"
     ],
     "language": "python",
     "metadata": {},
     "outputs": []
    },
    {
     "cell_type": "code",
     "collapsed": false,
     "input": [
      "# http://boto.readthedocs.org/en/latest/ref/s3.html#module-boto.s3.key\n",
      "\n",
      "type(file0), file0.size, file0.content_type"
     ],
     "language": "python",
     "metadata": {},
     "outputs": []
    },
    {
     "cell_type": "code",
     "collapsed": false,
     "input": [
      "sum([f.size for f in all_files])"
     ],
     "language": "python",
     "metadata": {},
     "outputs": []
    },
    {
     "cell_type": "code",
     "collapsed": false,
     "input": [
      "# estimate of size\n",
      "len(valid_segments)*__builtin__.sum([f.size for f in all_files])"
     ],
     "language": "python",
     "metadata": {},
     "outputs": []
    },
    {
     "cell_type": "code",
     "collapsed": false,
     "input": [
      "all_files[-10:]"
     ],
     "language": "python",
     "metadata": {},
     "outputs": []
    },
    {
     "cell_type": "markdown",
     "metadata": {},
     "source": [
      "types of files\n",
      "\n",
      "* *.arc.gz\n",
      "* textData-*\n",
      "* metadata-*\n",
      "\n",
      "everything belongs into one of those classes?\n"
     ]
    },
    {
     "cell_type": "code",
     "collapsed": false,
     "input": [
      "from collections import Counter\n",
      "\n",
      "def cc_file_type(path):\n",
      "\n",
      "    fname = path.split(\"/\")[-1]\n",
      "    \n",
      "    if fname[-7:] == '.arc.gz':\n",
      "        return 'arc.gz'\n",
      "    elif fname[:9] == 'textData-':\n",
      "        return 'textData'\n",
      "    elif fname[:9] == 'metadata-':\n",
      "        return 'metadata'\n",
      "    elif fname == '_SUCCESS':\n",
      "        return 'success'\n",
      "    else:\n",
      "        print path\n",
      "        return 'other'\n",
      "    "
     ],
     "language": "python",
     "metadata": {},
     "outputs": []
    },
    {
     "cell_type": "code",
     "collapsed": false,
     "input": [
      "Counter([cc_file_type(f.name) for f in all_files])"
     ],
     "language": "python",
     "metadata": {},
     "outputs": []
    },
    {
     "cell_type": "code",
     "collapsed": false,
     "input": [
      "all_files[0]"
     ],
     "language": "python",
     "metadata": {},
     "outputs": []
    },
    {
     "cell_type": "heading",
     "level": 1,
     "metadata": {},
     "source": [
      "Integration with url index"
     ]
    },
    {
     "cell_type": "markdown",
     "metadata": {},
     "source": [
      "http://urlsearch.commoncrawl.org/download?q=edu.berkeley.ischool"
     ]
    },
    {
     "cell_type": "code",
     "collapsed": false,
     "input": [
      "import requests\n",
      "import json\n",
      "s = requests.get(\"http://urlsearch.commoncrawl.org/download?q=edu.berkeley.ischool\")\n",
      "data = [json.loads(row) for row in s.content.split(\"\\n\") if row]\n"
     ],
     "language": "python",
     "metadata": {},
     "outputs": []
    },
    {
     "cell_type": "code",
     "collapsed": false,
     "input": [
      "u = data[0]"
     ],
     "language": "python",
     "metadata": {},
     "outputs": []
    },
    {
     "cell_type": "code",
     "collapsed": false,
     "input": [
      "# http://urlsearch.commoncrawl.org/page/1346876860493/1346901517112/422/320051/596"
     ],
     "language": "python",
     "metadata": {},
     "outputs": []
    },
    {
     "cell_type": "code",
     "collapsed": false,
     "input": [
      "u"
     ],
     "language": "python",
     "metadata": {},
     "outputs": []
    },
    {
     "cell_type": "code",
     "collapsed": false,
     "input": [
      "urlsearch_url = \"http://urlsearch.commoncrawl.org/page/{arcSourceSegmentId}/{arcFileDate}/{arcFileParition}/{arcFileOffset}/{compressedSize}\".format(**u)\n",
      "urlsearch_url"
     ],
     "language": "python",
     "metadata": {},
     "outputs": []
    },
    {
     "cell_type": "code",
     "collapsed": false,
     "input": [
      "!s3cmd ls s3://aws-publicdatasets/common-crawl/parse-output/segment/1346876860493/1346901517112_422.arc.gz "
     ],
     "language": "python",
     "metadata": {},
     "outputs": []
    },
    {
     "cell_type": "code",
     "collapsed": false,
     "input": [
      "# how to grab 320051/596 out of that file?\n",
      "# hints at https://github.com/trivio/common_crawl_index"
     ],
     "language": "python",
     "metadata": {},
     "outputs": []
    }
   ],
   "metadata": {}
  }
 ]
}