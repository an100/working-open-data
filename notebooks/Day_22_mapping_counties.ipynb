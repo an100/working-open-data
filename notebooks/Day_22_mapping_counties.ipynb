{
 "metadata": {
  "name": ""
 },
 "nbformat": 3,
 "nbformat_minor": 0,
 "worksheets": [
  {
   "cells": [
    {
     "cell_type": "markdown",
     "metadata": {},
     "source": [
      "How to plot counties and shade them according with a specified color?\n",
      "\n",
      "I forgot that this has been an [old question for me](http://blog.dataunbound.com/2009/09/03/plotting-data-for-counties-on-google-maps-part-i/).\n",
      "\n",
      "\n",
      "\n"
     ]
    },
    {
     "cell_type": "markdown",
     "metadata": {},
     "source": [
      "Where to get county shape files?\n",
      "\n",
      "* A [UScounty shapefile is included in basemap version 1.0.6](https://github.com/matplotlib/basemap/commits/v1.0.6rel/lib/mpl_toolkits/basemap/data/UScounties.shp). Unfortunately, the latest version of basemap provided by enpkg is 1.0.2 (and I've not successfully been able to compile from source on a Mac).\n",
      "\n",
      "* I think it's safe to copy the USCounties files over from version 1.0.6 to your basemap data directory, but I'd rather not add files to that directory.\n",
      "\n",
      "* Alternative:  download files from US Census\n",
      "\n",
      "http://www.census.gov/geo/www/tiger/tgrshp2012/tgrshp2012.html\n",
      "\n",
      "ftp interface: ftp://ftp2.census.gov/geo/tiger/TIGER2012/COUNTY/ -> ftp://ftp2.census.gov/geo/tiger/TIGER2012/COUNTY/tl_2012_us_county.zip\n",
      "\n",
      "I've not added these files to the working-open-data repo because I don't want large data files in the repo if possible."
     ]
    },
    {
     "cell_type": "code",
     "collapsed": false,
     "input": [
      "import numpy as np\n",
      "import matplotlib.pyplot as plt\n",
      "import warnings\n",
      "\n",
      "with warnings.catch_warnings():\n",
      "    warnings.simplefilter(\"ignore\")\n",
      "\n",
      "    from mpl_toolkits.basemap import Basemap"
     ],
     "language": "python",
     "metadata": {},
     "outputs": [],
     "prompt_number": 2
    },
    {
     "cell_type": "code",
     "collapsed": false,
     "input": [
      "# you can figure out where the data directory for basemap is\n",
      "\n",
      "import os\n",
      "import inspect\n",
      "basemap_data_dir = os.path.join(os.path.dirname(inspect.getfile(Basemap)), \"data\")\n",
      "print basemap_data_dir, os.path.exists(os.path.join(basemap_data_dir,\"UScounties.shp\"))"
     ],
     "language": "python",
     "metadata": {},
     "outputs": [
      {
       "output_type": "stream",
       "stream": "stdout",
       "text": [
        "/Users/raymondyee/anaconda/envs/ipython-dev/lib/python2.7/site-packages/mpl_toolkits/basemap/data True\n"
       ]
      }
     ],
     "prompt_number": 3
    },
    {
     "cell_type": "code",
     "collapsed": false,
     "input": [
      "!ls $basemap_data_dir"
     ],
     "language": "python",
     "metadata": {},
     "outputs": [
      {
       "output_type": "stream",
       "stream": "stdout",
       "text": [
        "GL27                 countries_f.dat      epsg                 gshhsmeta_c.dat      lsmask_1.25min_l.bin lsmask_2.5min_i.bin  nad83                proj_outIGNF.dist    riversmeta_i.dat     statesmeta_f.dat     testntv2\r\n",
        "IGNF                 countries_h.dat      esri                 gshhsmeta_f.dat      lsmask_10min_c.bin   lsmask_2.5min_l.bin  ntf_r93.gsb          rivers_c.dat         riversmeta_l.dat     statesmeta_h.dat     testvarious\r\n",
        "README               countries_i.dat      esri.extra           gshhsmeta_h.dat      lsmask_10min_f.bin   lsmask_5min_c.bin    ntv1_can.dat         rivers_f.dat         shadedrelief.jpg     statesmeta_i.dat     tv_out.dist\r\n",
        "UScounties.dbf       countries_l.dat      etopo1.jpg           gshhsmeta_i.dat      lsmask_10min_h.bin   lsmask_5min_f.bin    ntv2_out.dist        rivers_h.dat         states_c.dat         statesmeta_l.dat     world\r\n",
        "UScounties.prj       countriesmeta_c.dat  gshhs_c.dat          gshhsmeta_l.dat      lsmask_10min_i.bin   lsmask_5min_h.bin    nzgd2kgrid0005.gsb   rivers_i.dat         states_f.dat         td_out.dist\r\n",
        "UScounties.shp       countriesmeta_f.dat  gshhs_f.dat          lsmask_1.25min_c.bin lsmask_10min_l.bin   lsmask_5min_i.bin    other.extra          rivers_l.dat         states_h.dat         test27\r\n",
        "UScounties.shx       countriesmeta_h.dat  gshhs_h.dat          lsmask_1.25min_f.bin lsmask_2.5min_c.bin  lsmask_5min_l.bin    pj_out27.dist        riversmeta_c.dat     states_i.dat         test83\r\n",
        "bmng.jpg             countriesmeta_i.dat  gshhs_i.dat          lsmask_1.25min_h.bin lsmask_2.5min_f.bin  nad.lst              pj_out83.dist        riversmeta_f.dat     states_l.dat         testIGNF\r\n",
        "countries_c.dat      countriesmeta_l.dat  gshhs_l.dat          lsmask_1.25min_i.bin lsmask_2.5min_h.bin  nad27                proj_def.dat         riversmeta_h.dat     statesmeta_c.dat     testdatumfile\r\n"
       ]
      }
     ],
     "prompt_number": 4
    },
    {
     "cell_type": "code",
     "collapsed": false,
     "input": [
      "# https://code.google.com/p/pyshp/\n",
      "# pip install pyshp\n",
      "import shapefile\n",
      " \n",
      "# this is my git clone of https://github.com/matplotlib/basemap --> these files will be in the PiCloud basemap_data_dir\n",
      "if os.path.exists(os.path.join(basemap_data_dir,\"UScounties.shp\")):\n",
      "    shpf = shapefile.Reader(os.path.join(basemap_data_dir,\"UScounties\"))\n",
      "else:\n",
      "    # put in your path\n",
      "    #shpf = shapefile.Reader(\"/Users/raymondyee/Dropbox/WwoD13/tl_2012_us_county\")\n",
      "    shpf = shapefile.Reader(\"/Users/raymondyee/C/src/basemap/lib/mpl_toolkits/basemap/data/UScounties\")\n",
      "\n",
      "shapes = shpf.shapes()\n",
      "records = shpf.records()"
     ],
     "language": "python",
     "metadata": {},
     "outputs": [],
     "prompt_number": 6
    },
    {
     "cell_type": "code",
     "collapsed": false,
     "input": [
      "shpf.fields"
     ],
     "language": "python",
     "metadata": {},
     "outputs": [
      {
       "metadata": {},
       "output_type": "pyout",
       "prompt_number": 7,
       "text": [
        "[('DeletionFlag', 'C', 1, 0),\n",
        " ['STATE_FIPS', 'C', 2, 0],\n",
        " ['COUNTY_FIP', 'C', 3, 0],\n",
        " ['FIPS', 'C', 5, 0],\n",
        " ['STATE', 'C', 2, 0],\n",
        " ['NAME', 'C', 25, 0],\n",
        " ['LSAD', 'C', 10, 0]]"
       ]
      }
     ],
     "prompt_number": 7
    },
    {
     "cell_type": "code",
     "collapsed": false,
     "input": [
      "zip([f[0] for f in shpf.fields[1:]], records[0])\n"
     ],
     "language": "python",
     "metadata": {},
     "outputs": [
      {
       "metadata": {},
       "output_type": "pyout",
       "prompt_number": 8,
       "text": [
        "[('STATE_FIPS', '01'),\n",
        " ('COUNTY_FIP', '029'),\n",
        " ('FIPS', '01029'),\n",
        " ('STATE', 'AL'),\n",
        " ('NAME', 'Cleburne'),\n",
        " ('LSAD', 'County')]"
       ]
      }
     ],
     "prompt_number": 8
    },
    {
     "cell_type": "code",
     "collapsed": false,
     "input": [
      "# just CA\n",
      "\n",
      "from itertools import islice, izip\n",
      "len([r for r in islice(records,None) if r[0] == '06'])"
     ],
     "language": "python",
     "metadata": {},
     "outputs": [
      {
       "metadata": {},
       "output_type": "pyout",
       "prompt_number": 9,
       "text": [
        "58"
       ]
      }
     ],
     "prompt_number": 9
    },
    {
     "cell_type": "code",
     "collapsed": false,
     "input": [
      "def zip_filter_by_state(records, shapes, included_states=None):\n",
      "    # by default, no filtering\n",
      "    # included_states is a list of states fips prefixes\n",
      "    for (record, state) in izip(records, shapes):\n",
      "        if record[0] in included_states:\n",
      "            yield (record, state) \n",
      "    "
     ],
     "language": "python",
     "metadata": {},
     "outputs": [],
     "prompt_number": 10
    },
    {
     "cell_type": "code",
     "collapsed": false,
     "input": [
      "list(zip_filter_by_state(records, shapes, ['06']))"
     ],
     "language": "python",
     "metadata": {},
     "outputs": [
      {
       "metadata": {},
       "output_type": "pyout",
       "prompt_number": 11,
       "text": [
        "[(['06', '035', '06035', 'CA', 'Lassen', 'County'],\n",
        "  <shapefile._Shape instance at 0x106f81e60>),\n",
        " (['06', '049', '06049', 'CA', 'Modoc', 'County'],\n",
        "  <shapefile._Shape instance at 0x106f81ef0>),\n",
        " (['06', '075', '06075', 'CA', 'San Francisco', 'County'],\n",
        "  <shapefile._Shape instance at 0x106f81f80>),\n",
        " (['06', '083', '06083', 'CA', 'Santa Barbara', 'County'],\n",
        "  <shapefile._Shape instance at 0x106ff4050>),\n",
        " (['06', '091', '06091', 'CA', 'Sierra', 'County'],\n",
        "  <shapefile._Shape instance at 0x106ff40e0>),\n",
        " (['06', '095', '06095', 'CA', 'Solano', 'County'],\n",
        "  <shapefile._Shape instance at 0x106ff4170>),\n",
        " (['06', '101', '06101', 'CA', 'Sutter', 'County'],\n",
        "  <shapefile._Shape instance at 0x106ff4200>),\n",
        " (['06', '105', '06105', 'CA', 'Trinity', 'County'],\n",
        "  <shapefile._Shape instance at 0x106ff4290>),\n",
        " (['06', '111', '06111', 'CA', 'Ventura', 'County'],\n",
        "  <shapefile._Shape instance at 0x106ff4320>),\n",
        " (['06', '115', '06115', 'CA', 'Yuba', 'County'],\n",
        "  <shapefile._Shape instance at 0x106ff43b0>),\n",
        " (['06', '033', '06033', 'CA', 'Lake', 'County'],\n",
        "  <shapefile._Shape instance at 0x106ff4440>),\n",
        " (['06', '071', '06071', 'CA', 'San Bernardino', 'County'],\n",
        "  <shapefile._Shape instance at 0x106ff44d0>),\n",
        " (['06', '087', '06087', 'CA', 'Santa Cruz', 'County'],\n",
        "  <shapefile._Shape instance at 0x106ff4560>),\n",
        " (['06', '001', '06001', 'CA', 'Alameda', 'County'],\n",
        "  <shapefile._Shape instance at 0x106ff45f0>),\n",
        " (['06', '003', '06003', 'CA', 'Alpine', 'County'],\n",
        "  <shapefile._Shape instance at 0x106ff4680>),\n",
        " (['06', '005', '06005', 'CA', 'Amador', 'County'],\n",
        "  <shapefile._Shape instance at 0x106ff4710>),\n",
        " (['06', '007', '06007', 'CA', 'Butte', 'County'],\n",
        "  <shapefile._Shape instance at 0x106ff47a0>),\n",
        " (['06', '009', '06009', 'CA', 'Calaveras', 'County'],\n",
        "  <shapefile._Shape instance at 0x106ff4830>),\n",
        " (['06', '011', '06011', 'CA', 'Colusa', 'County'],\n",
        "  <shapefile._Shape instance at 0x106ff48c0>),\n",
        " (['06', '013', '06013', 'CA', 'Contra Costa', 'County'],\n",
        "  <shapefile._Shape instance at 0x106ff4950>),\n",
        " (['06', '015', '06015', 'CA', 'Del Norte', 'County'],\n",
        "  <shapefile._Shape instance at 0x106ff49e0>),\n",
        " (['06', '017', '06017', 'CA', 'El Dorado', 'County'],\n",
        "  <shapefile._Shape instance at 0x106ff4a70>),\n",
        " (['06', '019', '06019', 'CA', 'Fresno', 'County'],\n",
        "  <shapefile._Shape instance at 0x106ff4b00>),\n",
        " (['06', '021', '06021', 'CA', 'Glenn', 'County'],\n",
        "  <shapefile._Shape instance at 0x1060ceea8>),\n",
        " (['06', '023', '06023', 'CA', 'Humboldt', 'County'],\n",
        "  <shapefile._Shape instance at 0x105ee8440>),\n",
        " (['06', '025', '06025', 'CA', 'Imperial', 'County'],\n",
        "  <shapefile._Shape instance at 0x105fcc098>),\n",
        " (['06', '027', '06027', 'CA', 'Inyo', 'County'],\n",
        "  <shapefile._Shape instance at 0x105fcc128>),\n",
        " (['06', '029', '06029', 'CA', 'Kern', 'County'],\n",
        "  <shapefile._Shape instance at 0x105fcc1b8>),\n",
        " (['06', '031', '06031', 'CA', 'Kings', 'County'],\n",
        "  <shapefile._Shape instance at 0x105fcc248>),\n",
        " (['06', '037', '06037', 'CA', 'Los Angeles', 'County'],\n",
        "  <shapefile._Shape instance at 0x105fcc2d8>),\n",
        " (['06', '039', '06039', 'CA', 'Madera', 'County'],\n",
        "  <shapefile._Shape instance at 0x105fcc368>),\n",
        " (['06', '041', '06041', 'CA', 'Marin', 'County'],\n",
        "  <shapefile._Shape instance at 0x105fcc3f8>),\n",
        " (['06', '043', '06043', 'CA', 'Mariposa', 'County'],\n",
        "  <shapefile._Shape instance at 0x105fcc488>),\n",
        " (['06', '045', '06045', 'CA', 'Mendocino', 'County'],\n",
        "  <shapefile._Shape instance at 0x105fcc518>),\n",
        " (['06', '047', '06047', 'CA', 'Merced', 'County'],\n",
        "  <shapefile._Shape instance at 0x105fcc5a8>),\n",
        " (['06', '051', '06051', 'CA', 'Mono', 'County'],\n",
        "  <shapefile._Shape instance at 0x105fcc638>),\n",
        " (['06', '053', '06053', 'CA', 'Monterey', 'County'],\n",
        "  <shapefile._Shape instance at 0x105fcc6c8>),\n",
        " (['06', '055', '06055', 'CA', 'Napa', 'County'],\n",
        "  <shapefile._Shape instance at 0x105fcc758>),\n",
        " (['06', '057', '06057', 'CA', 'Nevada', 'County'],\n",
        "  <shapefile._Shape instance at 0x105fcc7e8>),\n",
        " (['06', '059', '06059', 'CA', 'Orange', 'County'],\n",
        "  <shapefile._Shape instance at 0x105fcc878>),\n",
        " (['06', '061', '06061', 'CA', 'Placer', 'County'],\n",
        "  <shapefile._Shape instance at 0x105fcc908>),\n",
        " (['06', '063', '06063', 'CA', 'Plumas', 'County'],\n",
        "  <shapefile._Shape instance at 0x105fcc950>),\n",
        " (['06', '065', '06065', 'CA', 'Riverside', 'County'],\n",
        "  <shapefile._Shape instance at 0x105fccfc8>),\n",
        " (['06', '067', '06067', 'CA', 'Sacramento', 'County'],\n",
        "  <shapefile._Shape instance at 0x1061485a8>),\n",
        " (['06', '069', '06069', 'CA', 'San Benito', 'County'],\n",
        "  <shapefile._Shape instance at 0x106148518>),\n",
        " (['06', '073', '06073', 'CA', 'San Diego', 'County'],\n",
        "  <shapefile._Shape instance at 0x106148488>),\n",
        " (['06', '077', '06077', 'CA', 'San Joaquin', 'County'],\n",
        "  <shapefile._Shape instance at 0x1061483f8>),\n",
        " (['06', '079', '06079', 'CA', 'San Luis Obispo', 'County'],\n",
        "  <shapefile._Shape instance at 0x106148368>),\n",
        " (['06', '081', '06081', 'CA', 'San Mateo', 'County'],\n",
        "  <shapefile._Shape instance at 0x1061482d8>),\n",
        " (['06', '085', '06085', 'CA', 'Santa Clara', 'County'],\n",
        "  <shapefile._Shape instance at 0x106148248>),\n",
        " (['06', '089', '06089', 'CA', 'Shasta', 'County'],\n",
        "  <shapefile._Shape instance at 0x1061481b8>),\n",
        " (['06', '093', '06093', 'CA', 'Siskiyou', 'County'],\n",
        "  <shapefile._Shape instance at 0x106148128>),\n",
        " (['06', '097', '06097', 'CA', 'Sonoma', 'County'],\n",
        "  <shapefile._Shape instance at 0x106148098>),\n",
        " (['06', '099', '06099', 'CA', 'Stanislaus', 'County'],\n",
        "  <shapefile._Shape instance at 0x106148878>),\n",
        " (['06', '103', '06103', 'CA', 'Tehama', 'County'],\n",
        "  <shapefile._Shape instance at 0x1024193f8>),\n",
        " (['06', '107', '06107', 'CA', 'Tulare', 'County'],\n",
        "  <shapefile._Shape instance at 0x105fcd5a8>),\n",
        " (['06', '109', '06109', 'CA', 'Tuolumne', 'County'],\n",
        "  <shapefile._Shape instance at 0x105fcdd40>),\n",
        " (['06', '113', '06113', 'CA', 'Yolo', 'County'],\n",
        "  <shapefile._Shape instance at 0x106ff4bd8>)]"
       ]
      }
     ],
     "prompt_number": 11
    },
    {
     "cell_type": "code",
     "collapsed": false,
     "input": [
      "len(shapes)"
     ],
     "language": "python",
     "metadata": {},
     "outputs": [
      {
       "metadata": {},
       "output_type": "pyout",
       "prompt_number": 14,
       "text": [
        "3221"
       ]
      }
     ],
     "prompt_number": 14
    },
    {
     "cell_type": "code",
     "collapsed": false,
     "input": [
      "# http://www.geophysique.be/2013/02/12/matplotlib-basemap-tutorial-10-shapefiles-unleached-continued/\n",
      "\n",
      "#\n",
      "# BaseMap example by geophysique.be\n",
      "# tutorial 10\n",
      " \n",
      "import os\n",
      "import inspect\n",
      "import numpy as np\n",
      "import matplotlib.pyplot as plt\n",
      "from itertools import islice, izip\n",
      "from mpl_toolkits.basemap import Basemap\n",
      " \n",
      "### PARAMETERS FOR MATPLOTLIB :\n",
      "import matplotlib as mpl\n",
      "mpl.rcParams['font.size'] = 10.\n",
      "mpl.rcParams['font.family'] = 'Comic Sans MS'\n",
      "mpl.rcParams['axes.labelsize'] = 8.\n",
      "mpl.rcParams['xtick.labelsize'] = 6.\n",
      "mpl.rcParams['ytick.labelsize'] = 6.\n",
      " \n",
      "fig = plt.figure(figsize=(11.7,8.3))\n",
      "#Custom adjust of the subplots\n",
      "plt.subplots_adjust(left=0.05,right=0.95,top=0.90,bottom=0.05,wspace=0.15,hspace=0.05)\n",
      "ax = plt.subplot(111)\n",
      "#Let's create a basemap of USA\n",
      "x1 = -180.\n",
      "x2 = -62.\n",
      "y1 = 18.\n",
      "y2 = 68.\n",
      " \n",
      "m = Basemap(resolution='i',projection='merc', llcrnrlat=y1,urcrnrlat=y2,llcrnrlon=x1,urcrnrlon=x2,lat_ts=(y1+y2)/2)\n",
      "m.drawcountries(linewidth=0.5)\n",
      "m.drawcoastlines(linewidth=0.5)\n",
      "m.drawparallels(np.arange(y1,y2,2.),labels=[1,0,0,0],color='black',dashes=[1,0],labelstyle='+/-',linewidth=0.2) # draw parallels\n",
      "m.drawmeridians(np.arange(x1,x2,2.),labels=[0,0,0,1],color='black',dashes=[1,0],labelstyle='+/-',linewidth=0.2) # draw meridians\n",
      " \n",
      "    \n",
      "def zip_filter_by_state(records, shapes, included_states=None):\n",
      "    # by default, no filtering\n",
      "    # included_states is a list of states fips prefixes\n",
      "    for (record, state) in izip(records, shapes):\n",
      "        if record[0] in included_states:\n",
      "            yield (record, state) \n",
      "    \n",
      "    \n",
      "from matplotlib.collections import LineCollection\n",
      "from matplotlib import cm\n",
      "import shapefile \n",
      "\n",
      "basemap_data_dir = os.path.join(os.path.dirname(inspect.getfile(Basemap)), \"data\")\n",
      "\n",
      "# this is my git clone of https://github.com/matplotlib/basemap --> these files will be in the PiCloud basemap_data_dir\n",
      "if os.path.exists(os.path.join(basemap_data_dir,\"UScounties.shp\")):\n",
      "    shpf = shapefile.Reader(os.path.join(basemap_data_dir,\"UScounties\"))\n",
      "else:\n",
      "    # put in your path\n",
      "    #shpf = shapefile.Reader(\"/Users/raymondyee/Dropbox/WwoD13/tl_2012_us_county\")\n",
      "    shpf = shapefile.Reader(\"/Users/raymondyee/C/src/basemap/lib/mpl_toolkits/basemap/data/UScounties\")\n",
      "\n",
      "shapes = shpf.shapes()\n",
      "records = shpf.records()\n",
      " \n",
      "# show only CA and AK (for example)\n",
      "for record, shape in zip_filter_by_state(records, shapes, ['06', '02']):\n",
      "    lons,lats = zip(*shape.points)\n",
      "    data = np.array(m(lons, lats)).T\n",
      " \n",
      "    if len(shape.parts) == 1:\n",
      "        segs = [data,]\n",
      "    else:\n",
      "        segs = []\n",
      "        for i in range(1,len(shape.parts)):\n",
      "            index = shape.parts[i-1]\n",
      "            index2 = shape.parts[i]\n",
      "            segs.append(data[index:index2])\n",
      "        segs.append(data[index2:])\n",
      " \n",
      "    lines = LineCollection(segs,antialiaseds=(1,))\n",
      "    lines.set_facecolors(cm.jet(np.random.rand(1)))\n",
      "    lines.set_edgecolors('k')\n",
      "    lines.set_linewidth(0.1)\n",
      "    ax.add_collection(lines)\n",
      " \n",
      "plt.savefig('tutorial10.png',dpi=300)\n",
      "plt.show()"
     ],
     "language": "python",
     "metadata": {},
     "outputs": [
      {
       "ename": "ValueError",
       "evalue": "All values in the dash list must be positive",
       "output_type": "pyerr",
       "traceback": [
        "\u001b[0;31m---------------------------------------------------------------------------\u001b[0m\n\u001b[0;31mValueError\u001b[0m                                Traceback (most recent call last)",
        "\u001b[0;32m<ipython-input-15-9552f9b15ff9>\u001b[0m in \u001b[0;36m<module>\u001b[0;34m()\u001b[0m\n\u001b[1;32m     83\u001b[0m     \u001b[0max\u001b[0m\u001b[0;34m.\u001b[0m\u001b[0madd_collection\u001b[0m\u001b[0;34m(\u001b[0m\u001b[0mlines\u001b[0m\u001b[0;34m)\u001b[0m\u001b[0;34m\u001b[0m\u001b[0m\n\u001b[1;32m     84\u001b[0m \u001b[0;34m\u001b[0m\u001b[0m\n\u001b[0;32m---> 85\u001b[0;31m \u001b[0mplt\u001b[0m\u001b[0;34m.\u001b[0m\u001b[0msavefig\u001b[0m\u001b[0;34m(\u001b[0m\u001b[0;34m'tutorial10.png'\u001b[0m\u001b[0;34m,\u001b[0m\u001b[0mdpi\u001b[0m\u001b[0;34m=\u001b[0m\u001b[0;36m300\u001b[0m\u001b[0;34m)\u001b[0m\u001b[0;34m\u001b[0m\u001b[0m\n\u001b[0m\u001b[1;32m     86\u001b[0m \u001b[0mplt\u001b[0m\u001b[0;34m.\u001b[0m\u001b[0mshow\u001b[0m\u001b[0;34m(\u001b[0m\u001b[0;34m)\u001b[0m\u001b[0;34m\u001b[0m\u001b[0m\n",
        "\u001b[0;32m/Users/raymondyee/anaconda/envs/ipython-dev/lib/python2.7/site-packages/matplotlib/pyplot.pyc\u001b[0m in \u001b[0;36msavefig\u001b[0;34m(*args, **kwargs)\u001b[0m\n\u001b[1;32m    559\u001b[0m \u001b[0;32mdef\u001b[0m \u001b[0msavefig\u001b[0m\u001b[0;34m(\u001b[0m\u001b[0;34m*\u001b[0m\u001b[0margs\u001b[0m\u001b[0;34m,\u001b[0m \u001b[0;34m**\u001b[0m\u001b[0mkwargs\u001b[0m\u001b[0;34m)\u001b[0m\u001b[0;34m:\u001b[0m\u001b[0;34m\u001b[0m\u001b[0m\n\u001b[1;32m    560\u001b[0m     \u001b[0mfig\u001b[0m \u001b[0;34m=\u001b[0m \u001b[0mgcf\u001b[0m\u001b[0;34m(\u001b[0m\u001b[0;34m)\u001b[0m\u001b[0;34m\u001b[0m\u001b[0m\n\u001b[0;32m--> 561\u001b[0;31m     \u001b[0;32mreturn\u001b[0m \u001b[0mfig\u001b[0m\u001b[0;34m.\u001b[0m\u001b[0msavefig\u001b[0m\u001b[0;34m(\u001b[0m\u001b[0;34m*\u001b[0m\u001b[0margs\u001b[0m\u001b[0;34m,\u001b[0m \u001b[0;34m**\u001b[0m\u001b[0mkwargs\u001b[0m\u001b[0;34m)\u001b[0m\u001b[0;34m\u001b[0m\u001b[0m\n\u001b[0m\u001b[1;32m    562\u001b[0m \u001b[0;34m\u001b[0m\u001b[0m\n\u001b[1;32m    563\u001b[0m \u001b[0;34m\u001b[0m\u001b[0m\n",
        "\u001b[0;32m/Users/raymondyee/anaconda/envs/ipython-dev/lib/python2.7/site-packages/matplotlib/figure.pyc\u001b[0m in \u001b[0;36msavefig\u001b[0;34m(self, *args, **kwargs)\u001b[0m\n\u001b[1;32m   1419\u001b[0m             \u001b[0mself\u001b[0m\u001b[0;34m.\u001b[0m\u001b[0mset_frameon\u001b[0m\u001b[0;34m(\u001b[0m\u001b[0mframeon\u001b[0m\u001b[0;34m)\u001b[0m\u001b[0;34m\u001b[0m\u001b[0m\n\u001b[1;32m   1420\u001b[0m \u001b[0;34m\u001b[0m\u001b[0m\n\u001b[0;32m-> 1421\u001b[0;31m         \u001b[0mself\u001b[0m\u001b[0;34m.\u001b[0m\u001b[0mcanvas\u001b[0m\u001b[0;34m.\u001b[0m\u001b[0mprint_figure\u001b[0m\u001b[0;34m(\u001b[0m\u001b[0;34m*\u001b[0m\u001b[0margs\u001b[0m\u001b[0;34m,\u001b[0m \u001b[0;34m**\u001b[0m\u001b[0mkwargs\u001b[0m\u001b[0;34m)\u001b[0m\u001b[0;34m\u001b[0m\u001b[0m\n\u001b[0m\u001b[1;32m   1422\u001b[0m \u001b[0;34m\u001b[0m\u001b[0m\n\u001b[1;32m   1423\u001b[0m         \u001b[0;32mif\u001b[0m \u001b[0mframeon\u001b[0m\u001b[0;34m:\u001b[0m\u001b[0;34m\u001b[0m\u001b[0m\n",
        "\u001b[0;32m/Users/raymondyee/anaconda/envs/ipython-dev/lib/python2.7/site-packages/matplotlib/backend_bases.pyc\u001b[0m in \u001b[0;36mprint_figure\u001b[0;34m(self, filename, dpi, facecolor, edgecolor, orientation, format, **kwargs)\u001b[0m\n\u001b[1;32m   2218\u001b[0m                 \u001b[0morientation\u001b[0m\u001b[0;34m=\u001b[0m\u001b[0morientation\u001b[0m\u001b[0;34m,\u001b[0m\u001b[0;34m\u001b[0m\u001b[0m\n\u001b[1;32m   2219\u001b[0m                 \u001b[0mbbox_inches_restore\u001b[0m\u001b[0;34m=\u001b[0m\u001b[0m_bbox_inches_restore\u001b[0m\u001b[0;34m,\u001b[0m\u001b[0;34m\u001b[0m\u001b[0m\n\u001b[0;32m-> 2220\u001b[0;31m                 **kwargs)\n\u001b[0m\u001b[1;32m   2221\u001b[0m         \u001b[0;32mfinally\u001b[0m\u001b[0;34m:\u001b[0m\u001b[0;34m\u001b[0m\u001b[0m\n\u001b[1;32m   2222\u001b[0m             \u001b[0;32mif\u001b[0m \u001b[0mbbox_inches\u001b[0m \u001b[0;32mand\u001b[0m \u001b[0mrestore_bbox\u001b[0m\u001b[0;34m:\u001b[0m\u001b[0;34m\u001b[0m\u001b[0m\n",
        "\u001b[0;32m/Users/raymondyee/anaconda/envs/ipython-dev/lib/python2.7/site-packages/matplotlib/backend_bases.pyc\u001b[0m in \u001b[0;36mprint_png\u001b[0;34m(self, *args, **kwargs)\u001b[0m\n\u001b[1;32m   1960\u001b[0m         \u001b[0;32mfrom\u001b[0m \u001b[0mbackends\u001b[0m\u001b[0;34m.\u001b[0m\u001b[0mbackend_agg\u001b[0m \u001b[0;32mimport\u001b[0m \u001b[0mFigureCanvasAgg\u001b[0m  \u001b[0;31m# lazy import\u001b[0m\u001b[0;34m\u001b[0m\u001b[0m\n\u001b[1;32m   1961\u001b[0m         \u001b[0magg\u001b[0m \u001b[0;34m=\u001b[0m \u001b[0mself\u001b[0m\u001b[0;34m.\u001b[0m\u001b[0mswitch_backends\u001b[0m\u001b[0;34m(\u001b[0m\u001b[0mFigureCanvasAgg\u001b[0m\u001b[0;34m)\u001b[0m\u001b[0;34m\u001b[0m\u001b[0m\n\u001b[0;32m-> 1962\u001b[0;31m         \u001b[0;32mreturn\u001b[0m \u001b[0magg\u001b[0m\u001b[0;34m.\u001b[0m\u001b[0mprint_png\u001b[0m\u001b[0;34m(\u001b[0m\u001b[0;34m*\u001b[0m\u001b[0margs\u001b[0m\u001b[0;34m,\u001b[0m \u001b[0;34m**\u001b[0m\u001b[0mkwargs\u001b[0m\u001b[0;34m)\u001b[0m\u001b[0;34m\u001b[0m\u001b[0m\n\u001b[0m\u001b[1;32m   1963\u001b[0m \u001b[0;34m\u001b[0m\u001b[0m\n\u001b[1;32m   1964\u001b[0m     \u001b[0;32mdef\u001b[0m \u001b[0mprint_ps\u001b[0m\u001b[0;34m(\u001b[0m\u001b[0mself\u001b[0m\u001b[0;34m,\u001b[0m \u001b[0;34m*\u001b[0m\u001b[0margs\u001b[0m\u001b[0;34m,\u001b[0m \u001b[0;34m**\u001b[0m\u001b[0mkwargs\u001b[0m\u001b[0;34m)\u001b[0m\u001b[0;34m:\u001b[0m\u001b[0;34m\u001b[0m\u001b[0m\n",
        "\u001b[0;32m/Users/raymondyee/anaconda/envs/ipython-dev/lib/python2.7/site-packages/matplotlib/backends/backend_agg.pyc\u001b[0m in \u001b[0;36mprint_png\u001b[0;34m(self, filename_or_obj, *args, **kwargs)\u001b[0m\n\u001b[1;32m    503\u001b[0m \u001b[0;34m\u001b[0m\u001b[0m\n\u001b[1;32m    504\u001b[0m     \u001b[0;32mdef\u001b[0m \u001b[0mprint_png\u001b[0m\u001b[0;34m(\u001b[0m\u001b[0mself\u001b[0m\u001b[0;34m,\u001b[0m \u001b[0mfilename_or_obj\u001b[0m\u001b[0;34m,\u001b[0m \u001b[0;34m*\u001b[0m\u001b[0margs\u001b[0m\u001b[0;34m,\u001b[0m \u001b[0;34m**\u001b[0m\u001b[0mkwargs\u001b[0m\u001b[0;34m)\u001b[0m\u001b[0;34m:\u001b[0m\u001b[0;34m\u001b[0m\u001b[0m\n\u001b[0;32m--> 505\u001b[0;31m         \u001b[0mFigureCanvasAgg\u001b[0m\u001b[0;34m.\u001b[0m\u001b[0mdraw\u001b[0m\u001b[0;34m(\u001b[0m\u001b[0mself\u001b[0m\u001b[0;34m)\u001b[0m\u001b[0;34m\u001b[0m\u001b[0m\n\u001b[0m\u001b[1;32m    506\u001b[0m         \u001b[0mrenderer\u001b[0m \u001b[0;34m=\u001b[0m \u001b[0mself\u001b[0m\u001b[0;34m.\u001b[0m\u001b[0mget_renderer\u001b[0m\u001b[0;34m(\u001b[0m\u001b[0;34m)\u001b[0m\u001b[0;34m\u001b[0m\u001b[0m\n\u001b[1;32m    507\u001b[0m         \u001b[0moriginal_dpi\u001b[0m \u001b[0;34m=\u001b[0m \u001b[0mrenderer\u001b[0m\u001b[0;34m.\u001b[0m\u001b[0mdpi\u001b[0m\u001b[0;34m\u001b[0m\u001b[0m\n",
        "\u001b[0;32m/Users/raymondyee/anaconda/envs/ipython-dev/lib/python2.7/site-packages/matplotlib/backends/backend_agg.pyc\u001b[0m in \u001b[0;36mdraw\u001b[0;34m(self)\u001b[0m\n\u001b[1;32m    449\u001b[0m \u001b[0;34m\u001b[0m\u001b[0m\n\u001b[1;32m    450\u001b[0m         \u001b[0;32mtry\u001b[0m\u001b[0;34m:\u001b[0m\u001b[0;34m\u001b[0m\u001b[0m\n\u001b[0;32m--> 451\u001b[0;31m             \u001b[0mself\u001b[0m\u001b[0;34m.\u001b[0m\u001b[0mfigure\u001b[0m\u001b[0;34m.\u001b[0m\u001b[0mdraw\u001b[0m\u001b[0;34m(\u001b[0m\u001b[0mself\u001b[0m\u001b[0;34m.\u001b[0m\u001b[0mrenderer\u001b[0m\u001b[0;34m)\u001b[0m\u001b[0;34m\u001b[0m\u001b[0m\n\u001b[0m\u001b[1;32m    452\u001b[0m         \u001b[0;32mfinally\u001b[0m\u001b[0;34m:\u001b[0m\u001b[0;34m\u001b[0m\u001b[0m\n\u001b[1;32m    453\u001b[0m             \u001b[0mRendererAgg\u001b[0m\u001b[0;34m.\u001b[0m\u001b[0mlock\u001b[0m\u001b[0;34m.\u001b[0m\u001b[0mrelease\u001b[0m\u001b[0;34m(\u001b[0m\u001b[0;34m)\u001b[0m\u001b[0;34m\u001b[0m\u001b[0m\n",
        "\u001b[0;32m/Users/raymondyee/anaconda/envs/ipython-dev/lib/python2.7/site-packages/matplotlib/artist.pyc\u001b[0m in \u001b[0;36mdraw_wrapper\u001b[0;34m(artist, renderer, *args, **kwargs)\u001b[0m\n\u001b[1;32m     53\u001b[0m     \u001b[0;32mdef\u001b[0m \u001b[0mdraw_wrapper\u001b[0m\u001b[0;34m(\u001b[0m\u001b[0martist\u001b[0m\u001b[0;34m,\u001b[0m \u001b[0mrenderer\u001b[0m\u001b[0;34m,\u001b[0m \u001b[0;34m*\u001b[0m\u001b[0margs\u001b[0m\u001b[0;34m,\u001b[0m \u001b[0;34m**\u001b[0m\u001b[0mkwargs\u001b[0m\u001b[0;34m)\u001b[0m\u001b[0;34m:\u001b[0m\u001b[0;34m\u001b[0m\u001b[0m\n\u001b[1;32m     54\u001b[0m         \u001b[0mbefore\u001b[0m\u001b[0;34m(\u001b[0m\u001b[0martist\u001b[0m\u001b[0;34m,\u001b[0m \u001b[0mrenderer\u001b[0m\u001b[0;34m)\u001b[0m\u001b[0;34m\u001b[0m\u001b[0m\n\u001b[0;32m---> 55\u001b[0;31m         \u001b[0mdraw\u001b[0m\u001b[0;34m(\u001b[0m\u001b[0martist\u001b[0m\u001b[0;34m,\u001b[0m \u001b[0mrenderer\u001b[0m\u001b[0;34m,\u001b[0m \u001b[0;34m*\u001b[0m\u001b[0margs\u001b[0m\u001b[0;34m,\u001b[0m \u001b[0;34m**\u001b[0m\u001b[0mkwargs\u001b[0m\u001b[0;34m)\u001b[0m\u001b[0;34m\u001b[0m\u001b[0m\n\u001b[0m\u001b[1;32m     56\u001b[0m         \u001b[0mafter\u001b[0m\u001b[0;34m(\u001b[0m\u001b[0martist\u001b[0m\u001b[0;34m,\u001b[0m \u001b[0mrenderer\u001b[0m\u001b[0;34m)\u001b[0m\u001b[0;34m\u001b[0m\u001b[0m\n\u001b[1;32m     57\u001b[0m \u001b[0;34m\u001b[0m\u001b[0m\n",
        "\u001b[0;32m/Users/raymondyee/anaconda/envs/ipython-dev/lib/python2.7/site-packages/matplotlib/figure.pyc\u001b[0m in \u001b[0;36mdraw\u001b[0;34m(self, renderer)\u001b[0m\n\u001b[1;32m   1032\u001b[0m         \u001b[0mdsu\u001b[0m\u001b[0;34m.\u001b[0m\u001b[0msort\u001b[0m\u001b[0;34m(\u001b[0m\u001b[0mkey\u001b[0m\u001b[0;34m=\u001b[0m\u001b[0mitemgetter\u001b[0m\u001b[0;34m(\u001b[0m\u001b[0;36m0\u001b[0m\u001b[0;34m)\u001b[0m\u001b[0;34m)\u001b[0m\u001b[0;34m\u001b[0m\u001b[0m\n\u001b[1;32m   1033\u001b[0m         \u001b[0;32mfor\u001b[0m \u001b[0mzorder\u001b[0m\u001b[0;34m,\u001b[0m \u001b[0ma\u001b[0m\u001b[0;34m,\u001b[0m \u001b[0mfunc\u001b[0m\u001b[0;34m,\u001b[0m \u001b[0margs\u001b[0m \u001b[0;32min\u001b[0m \u001b[0mdsu\u001b[0m\u001b[0;34m:\u001b[0m\u001b[0;34m\u001b[0m\u001b[0m\n\u001b[0;32m-> 1034\u001b[0;31m             \u001b[0mfunc\u001b[0m\u001b[0;34m(\u001b[0m\u001b[0;34m*\u001b[0m\u001b[0margs\u001b[0m\u001b[0;34m)\u001b[0m\u001b[0;34m\u001b[0m\u001b[0m\n\u001b[0m\u001b[1;32m   1035\u001b[0m \u001b[0;34m\u001b[0m\u001b[0m\n\u001b[1;32m   1036\u001b[0m         \u001b[0mrenderer\u001b[0m\u001b[0;34m.\u001b[0m\u001b[0mclose_group\u001b[0m\u001b[0;34m(\u001b[0m\u001b[0;34m'figure'\u001b[0m\u001b[0;34m)\u001b[0m\u001b[0;34m\u001b[0m\u001b[0m\n",
        "\u001b[0;32m/Users/raymondyee/anaconda/envs/ipython-dev/lib/python2.7/site-packages/matplotlib/artist.pyc\u001b[0m in \u001b[0;36mdraw_wrapper\u001b[0;34m(artist, renderer, *args, **kwargs)\u001b[0m\n\u001b[1;32m     53\u001b[0m     \u001b[0;32mdef\u001b[0m \u001b[0mdraw_wrapper\u001b[0m\u001b[0;34m(\u001b[0m\u001b[0martist\u001b[0m\u001b[0;34m,\u001b[0m \u001b[0mrenderer\u001b[0m\u001b[0;34m,\u001b[0m \u001b[0;34m*\u001b[0m\u001b[0margs\u001b[0m\u001b[0;34m,\u001b[0m \u001b[0;34m**\u001b[0m\u001b[0mkwargs\u001b[0m\u001b[0;34m)\u001b[0m\u001b[0;34m:\u001b[0m\u001b[0;34m\u001b[0m\u001b[0m\n\u001b[1;32m     54\u001b[0m         \u001b[0mbefore\u001b[0m\u001b[0;34m(\u001b[0m\u001b[0martist\u001b[0m\u001b[0;34m,\u001b[0m \u001b[0mrenderer\u001b[0m\u001b[0;34m)\u001b[0m\u001b[0;34m\u001b[0m\u001b[0m\n\u001b[0;32m---> 55\u001b[0;31m         \u001b[0mdraw\u001b[0m\u001b[0;34m(\u001b[0m\u001b[0martist\u001b[0m\u001b[0;34m,\u001b[0m \u001b[0mrenderer\u001b[0m\u001b[0;34m,\u001b[0m \u001b[0;34m*\u001b[0m\u001b[0margs\u001b[0m\u001b[0;34m,\u001b[0m \u001b[0;34m**\u001b[0m\u001b[0mkwargs\u001b[0m\u001b[0;34m)\u001b[0m\u001b[0;34m\u001b[0m\u001b[0m\n\u001b[0m\u001b[1;32m     56\u001b[0m         \u001b[0mafter\u001b[0m\u001b[0;34m(\u001b[0m\u001b[0martist\u001b[0m\u001b[0;34m,\u001b[0m \u001b[0mrenderer\u001b[0m\u001b[0;34m)\u001b[0m\u001b[0;34m\u001b[0m\u001b[0m\n\u001b[1;32m     57\u001b[0m \u001b[0;34m\u001b[0m\u001b[0m\n",
        "\u001b[0;32m/Users/raymondyee/anaconda/envs/ipython-dev/lib/python2.7/site-packages/matplotlib/axes.pyc\u001b[0m in \u001b[0;36mdraw\u001b[0;34m(self, renderer, inframe)\u001b[0m\n\u001b[1;32m   2084\u001b[0m \u001b[0;34m\u001b[0m\u001b[0m\n\u001b[1;32m   2085\u001b[0m         \u001b[0;32mfor\u001b[0m \u001b[0mzorder\u001b[0m\u001b[0;34m,\u001b[0m \u001b[0ma\u001b[0m \u001b[0;32min\u001b[0m \u001b[0mdsu\u001b[0m\u001b[0;34m:\u001b[0m\u001b[0;34m\u001b[0m\u001b[0m\n\u001b[0;32m-> 2086\u001b[0;31m             \u001b[0ma\u001b[0m\u001b[0;34m.\u001b[0m\u001b[0mdraw\u001b[0m\u001b[0;34m(\u001b[0m\u001b[0mrenderer\u001b[0m\u001b[0;34m)\u001b[0m\u001b[0;34m\u001b[0m\u001b[0m\n\u001b[0m\u001b[1;32m   2087\u001b[0m \u001b[0;34m\u001b[0m\u001b[0m\n\u001b[1;32m   2088\u001b[0m         \u001b[0mrenderer\u001b[0m\u001b[0;34m.\u001b[0m\u001b[0mclose_group\u001b[0m\u001b[0;34m(\u001b[0m\u001b[0;34m'axes'\u001b[0m\u001b[0;34m)\u001b[0m\u001b[0;34m\u001b[0m\u001b[0m\n",
        "\u001b[0;32m/Users/raymondyee/anaconda/envs/ipython-dev/lib/python2.7/site-packages/matplotlib/artist.pyc\u001b[0m in \u001b[0;36mdraw_wrapper\u001b[0;34m(artist, renderer, *args, **kwargs)\u001b[0m\n\u001b[1;32m     53\u001b[0m     \u001b[0;32mdef\u001b[0m \u001b[0mdraw_wrapper\u001b[0m\u001b[0;34m(\u001b[0m\u001b[0martist\u001b[0m\u001b[0;34m,\u001b[0m \u001b[0mrenderer\u001b[0m\u001b[0;34m,\u001b[0m \u001b[0;34m*\u001b[0m\u001b[0margs\u001b[0m\u001b[0;34m,\u001b[0m \u001b[0;34m**\u001b[0m\u001b[0mkwargs\u001b[0m\u001b[0;34m)\u001b[0m\u001b[0;34m:\u001b[0m\u001b[0;34m\u001b[0m\u001b[0m\n\u001b[1;32m     54\u001b[0m         \u001b[0mbefore\u001b[0m\u001b[0;34m(\u001b[0m\u001b[0martist\u001b[0m\u001b[0;34m,\u001b[0m \u001b[0mrenderer\u001b[0m\u001b[0;34m)\u001b[0m\u001b[0;34m\u001b[0m\u001b[0m\n\u001b[0;32m---> 55\u001b[0;31m         \u001b[0mdraw\u001b[0m\u001b[0;34m(\u001b[0m\u001b[0martist\u001b[0m\u001b[0;34m,\u001b[0m \u001b[0mrenderer\u001b[0m\u001b[0;34m,\u001b[0m \u001b[0;34m*\u001b[0m\u001b[0margs\u001b[0m\u001b[0;34m,\u001b[0m \u001b[0;34m**\u001b[0m\u001b[0mkwargs\u001b[0m\u001b[0;34m)\u001b[0m\u001b[0;34m\u001b[0m\u001b[0m\n\u001b[0m\u001b[1;32m     56\u001b[0m         \u001b[0mafter\u001b[0m\u001b[0;34m(\u001b[0m\u001b[0martist\u001b[0m\u001b[0;34m,\u001b[0m \u001b[0mrenderer\u001b[0m\u001b[0;34m)\u001b[0m\u001b[0;34m\u001b[0m\u001b[0m\n\u001b[1;32m     57\u001b[0m \u001b[0;34m\u001b[0m\u001b[0m\n",
        "\u001b[0;32m/Users/raymondyee/anaconda/envs/ipython-dev/lib/python2.7/site-packages/matplotlib/lines.pyc\u001b[0m in \u001b[0;36mdraw\u001b[0;34m(self, renderer)\u001b[0m\n\u001b[1;32m    560\u001b[0m                         \u001b[0mdrawFunc\u001b[0m\u001b[0;34m(\u001b[0m\u001b[0mpe_renderer\u001b[0m\u001b[0;34m,\u001b[0m \u001b[0mgc\u001b[0m\u001b[0;34m,\u001b[0m \u001b[0mtpath\u001b[0m\u001b[0;34m,\u001b[0m \u001b[0maffine_frozen\u001b[0m\u001b[0;34m)\u001b[0m\u001b[0;34m\u001b[0m\u001b[0m\n\u001b[1;32m    561\u001b[0m                 \u001b[0;32melse\u001b[0m\u001b[0;34m:\u001b[0m\u001b[0;34m\u001b[0m\u001b[0m\n\u001b[0;32m--> 562\u001b[0;31m                     \u001b[0mdrawFunc\u001b[0m\u001b[0;34m(\u001b[0m\u001b[0mrenderer\u001b[0m\u001b[0;34m,\u001b[0m \u001b[0mgc\u001b[0m\u001b[0;34m,\u001b[0m \u001b[0mtpath\u001b[0m\u001b[0;34m,\u001b[0m \u001b[0maffine\u001b[0m\u001b[0;34m.\u001b[0m\u001b[0mfrozen\u001b[0m\u001b[0;34m(\u001b[0m\u001b[0;34m)\u001b[0m\u001b[0;34m)\u001b[0m\u001b[0;34m\u001b[0m\u001b[0m\n\u001b[0m\u001b[1;32m    563\u001b[0m \u001b[0;34m\u001b[0m\u001b[0m\n\u001b[1;32m    564\u001b[0m         \u001b[0;32mif\u001b[0m \u001b[0mself\u001b[0m\u001b[0;34m.\u001b[0m\u001b[0m_marker\u001b[0m\u001b[0;34m:\u001b[0m\u001b[0;34m\u001b[0m\u001b[0m\n",
        "\u001b[0;32m/Users/raymondyee/anaconda/envs/ipython-dev/lib/python2.7/site-packages/matplotlib/lines.pyc\u001b[0m in \u001b[0;36m_draw_lines\u001b[0;34m(self, renderer, gc, path, trans)\u001b[0m\n\u001b[1;32m    936\u001b[0m \u001b[0;34m\u001b[0m\u001b[0m\n\u001b[1;32m    937\u001b[0m     \u001b[0;32mdef\u001b[0m \u001b[0m_draw_lines\u001b[0m\u001b[0;34m(\u001b[0m\u001b[0mself\u001b[0m\u001b[0;34m,\u001b[0m \u001b[0mrenderer\u001b[0m\u001b[0;34m,\u001b[0m \u001b[0mgc\u001b[0m\u001b[0;34m,\u001b[0m \u001b[0mpath\u001b[0m\u001b[0;34m,\u001b[0m \u001b[0mtrans\u001b[0m\u001b[0;34m)\u001b[0m\u001b[0;34m:\u001b[0m\u001b[0;34m\u001b[0m\u001b[0m\n\u001b[0;32m--> 938\u001b[0;31m         \u001b[0mself\u001b[0m\u001b[0;34m.\u001b[0m\u001b[0m_lineFunc\u001b[0m\u001b[0;34m(\u001b[0m\u001b[0mrenderer\u001b[0m\u001b[0;34m,\u001b[0m \u001b[0mgc\u001b[0m\u001b[0;34m,\u001b[0m \u001b[0mpath\u001b[0m\u001b[0;34m,\u001b[0m \u001b[0mtrans\u001b[0m\u001b[0;34m)\u001b[0m\u001b[0;34m\u001b[0m\u001b[0m\n\u001b[0m\u001b[1;32m    939\u001b[0m \u001b[0;34m\u001b[0m\u001b[0m\n\u001b[1;32m    940\u001b[0m     \u001b[0;32mdef\u001b[0m \u001b[0m_draw_steps_pre\u001b[0m\u001b[0;34m(\u001b[0m\u001b[0mself\u001b[0m\u001b[0;34m,\u001b[0m \u001b[0mrenderer\u001b[0m\u001b[0;34m,\u001b[0m \u001b[0mgc\u001b[0m\u001b[0;34m,\u001b[0m \u001b[0mpath\u001b[0m\u001b[0;34m,\u001b[0m \u001b[0mtrans\u001b[0m\u001b[0;34m)\u001b[0m\u001b[0;34m:\u001b[0m\u001b[0;34m\u001b[0m\u001b[0m\n",
        "\u001b[0;32m/Users/raymondyee/anaconda/envs/ipython-dev/lib/python2.7/site-packages/matplotlib/lines.pyc\u001b[0m in \u001b[0;36m_draw_dashed\u001b[0;34m(self, renderer, gc, path, trans)\u001b[0m\n\u001b[1;32m    981\u001b[0m         \u001b[0mgc\u001b[0m\u001b[0;34m.\u001b[0m\u001b[0mset_linestyle\u001b[0m\u001b[0;34m(\u001b[0m\u001b[0;34m'dashed'\u001b[0m\u001b[0;34m)\u001b[0m\u001b[0;34m\u001b[0m\u001b[0m\n\u001b[1;32m    982\u001b[0m         \u001b[0;32mif\u001b[0m \u001b[0mself\u001b[0m\u001b[0;34m.\u001b[0m\u001b[0m_dashSeq\u001b[0m \u001b[0;32mis\u001b[0m \u001b[0;32mnot\u001b[0m \u001b[0mNone\u001b[0m\u001b[0;34m:\u001b[0m\u001b[0;34m\u001b[0m\u001b[0m\n\u001b[0;32m--> 983\u001b[0;31m             \u001b[0mgc\u001b[0m\u001b[0;34m.\u001b[0m\u001b[0mset_dashes\u001b[0m\u001b[0;34m(\u001b[0m\u001b[0;36m0\u001b[0m\u001b[0;34m,\u001b[0m \u001b[0mself\u001b[0m\u001b[0;34m.\u001b[0m\u001b[0m_dashSeq\u001b[0m\u001b[0;34m)\u001b[0m\u001b[0;34m\u001b[0m\u001b[0m\n\u001b[0m\u001b[1;32m    984\u001b[0m \u001b[0;34m\u001b[0m\u001b[0m\n\u001b[1;32m    985\u001b[0m         \u001b[0mrenderer\u001b[0m\u001b[0;34m.\u001b[0m\u001b[0mdraw_path\u001b[0m\u001b[0;34m(\u001b[0m\u001b[0mgc\u001b[0m\u001b[0;34m,\u001b[0m \u001b[0mpath\u001b[0m\u001b[0;34m,\u001b[0m \u001b[0mtrans\u001b[0m\u001b[0;34m)\u001b[0m\u001b[0;34m\u001b[0m\u001b[0m\n",
        "\u001b[0;32m/Users/raymondyee/anaconda/envs/ipython-dev/lib/python2.7/site-packages/matplotlib/backend_bases.pyc\u001b[0m in \u001b[0;36mset_dashes\u001b[0;34m(self, dash_offset, dash_list)\u001b[0m\n\u001b[1;32m    902\u001b[0m             \u001b[0mdl\u001b[0m \u001b[0;34m=\u001b[0m \u001b[0mnp\u001b[0m\u001b[0;34m.\u001b[0m\u001b[0masarray\u001b[0m\u001b[0;34m(\u001b[0m\u001b[0mdash_list\u001b[0m\u001b[0;34m)\u001b[0m\u001b[0;34m\u001b[0m\u001b[0m\n\u001b[1;32m    903\u001b[0m             \u001b[0;32mif\u001b[0m \u001b[0mnp\u001b[0m\u001b[0;34m.\u001b[0m\u001b[0many\u001b[0m\u001b[0;34m(\u001b[0m\u001b[0mdl\u001b[0m \u001b[0;34m<=\u001b[0m \u001b[0;36m0.0\u001b[0m\u001b[0;34m)\u001b[0m\u001b[0;34m:\u001b[0m\u001b[0;34m\u001b[0m\u001b[0m\n\u001b[0;32m--> 904\u001b[0;31m                 \u001b[0;32mraise\u001b[0m \u001b[0mValueError\u001b[0m\u001b[0;34m(\u001b[0m\u001b[0;34m\"All values in the dash list must be positive\"\u001b[0m\u001b[0;34m)\u001b[0m\u001b[0;34m\u001b[0m\u001b[0m\n\u001b[0m\u001b[1;32m    905\u001b[0m         \u001b[0mself\u001b[0m\u001b[0;34m.\u001b[0m\u001b[0m_dashes\u001b[0m \u001b[0;34m=\u001b[0m \u001b[0mdash_offset\u001b[0m\u001b[0;34m,\u001b[0m \u001b[0mdash_list\u001b[0m\u001b[0;34m\u001b[0m\u001b[0m\n\u001b[1;32m    906\u001b[0m \u001b[0;34m\u001b[0m\u001b[0m\n",
        "\u001b[0;31mValueError\u001b[0m: All values in the dash list must be positive"
       ]
      }
     ],
     "prompt_number": 15
    },
    {
     "cell_type": "code",
     "collapsed": false,
     "input": [],
     "language": "python",
     "metadata": {},
     "outputs": []
    }
   ],
   "metadata": {}
  }
 ]
}